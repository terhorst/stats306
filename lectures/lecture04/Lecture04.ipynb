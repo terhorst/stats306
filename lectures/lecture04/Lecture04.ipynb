{
 "cells": [
  {
   "cell_type": "code",
   "execution_count": 2,
   "metadata": {
    "slideshow": {
     "slide_type": "notes"
    }
   },
   "outputs": [
    {
     "data": {
      "text/html": [
       "\n",
       "<style>\n",
       ".rendered_html table, .rendered_html th, .rendered_html tr, .rendered_html td {\n",
       "     font-size: 100%;\n",
       "}\n",
       "body.rise-enabled div.inner_cell>div.input_area {\n",
       "    font-size: 150%;\n",
       "}\n",
       "\n",
       "body.rise-enabled div.output_subarea.output_text.output_result {\n",
       "    font-size: 150%;\n",
       "}\n",
       "body.rise-enabled div.output_subarea.output_text.output_stream.output_stdout {\n",
       "  font-size: 150%;\n",
       "}\n",
       "</style>\n"
      ]
     },
     "metadata": {},
     "output_type": "display_data"
    }
   ],
   "source": [
    "IRdisplay::display_html(\"\n",
    "<style>\n",
    ".rendered_html table, .rendered_html th, .rendered_html tr, .rendered_html td {\n",
    "     font-size: 100%;\n",
    "}\n",
    "body.rise-enabled div.inner_cell>div.input_area {\n",
    "    font-size: 150%;\n",
    "}\n",
    "\n",
    "body.rise-enabled div.output_subarea.output_text.output_result {\n",
    "    font-size: 150%;\n",
    "}\n",
    "body.rise-enabled div.output_subarea.output_text.output_stream.output_stdout {\n",
    "  font-size: 150%;\n",
    "}\n",
    "</style>\n",
    "\")"
   ]
  },
  {
   "cell_type": "markdown",
   "metadata": {
    "slideshow": {
     "slide_type": "slide"
    }
   },
   "source": [
    "# Lecture 04: Data manipulation II\n",
    "\n",
    "<div style=\"border: 1px double black; padding: 10px; margin: 10px\">\n",
    "\n",
    "**In today's lecture we'll answer the following questions:**\n",
    "* What days of the year / week are the busiest for flying?\n",
    "* Who is the best batter in the history of baseball?\n",
    "\n",
    "Along the way, we'll learn how to:\n",
    "* Use [pipes](#Pipes).\n",
    "* [Generate new variables](#Adding-New-Variables) using various transformations.\n",
    "* [Group data and summarize it](#Grouped-Summaries).\n",
    "</div>"
   ]
  },
  {
   "cell_type": "code",
   "execution_count": 3,
   "metadata": {
    "slideshow": {
     "slide_type": "notes"
    }
   },
   "outputs": [
    {
     "name": "stderr",
     "output_type": "stream",
     "text": [
      "Registered S3 method overwritten by 'rvest':\n",
      "  method            from\n",
      "  read_xml.response xml2\n",
      "── \u001b[1mAttaching packages\u001b[22m ─────────────────────────────────────── tidyverse 1.2.1 ──\n",
      "\u001b[32m✔\u001b[39m \u001b[34mggplot2\u001b[39m 3.2.1     \u001b[32m✔\u001b[39m \u001b[34mpurrr  \u001b[39m 0.3.2\n",
      "\u001b[32m✔\u001b[39m \u001b[34mtibble \u001b[39m 2.1.3     \u001b[32m✔\u001b[39m \u001b[34mdplyr  \u001b[39m 0.8.3\n",
      "\u001b[32m✔\u001b[39m \u001b[34mtidyr  \u001b[39m 0.8.3     \u001b[32m✔\u001b[39m \u001b[34mstringr\u001b[39m 1.4.0\n",
      "\u001b[32m✔\u001b[39m \u001b[34mreadr  \u001b[39m 1.3.1     \u001b[32m✔\u001b[39m \u001b[34mforcats\u001b[39m 0.4.0\n",
      "── \u001b[1mConflicts\u001b[22m ────────────────────────────────────────── tidyverse_conflicts() ──\n",
      "\u001b[31m✖\u001b[39m \u001b[34mdplyr\u001b[39m::\u001b[32mfilter()\u001b[39m masks \u001b[34mstats\u001b[39m::filter()\n",
      "\u001b[31m✖\u001b[39m \u001b[34mdplyr\u001b[39m::\u001b[32mlag()\u001b[39m    masks \u001b[34mstats\u001b[39m::lag()\n"
     ]
    }
   ],
   "source": [
    "library(tidyverse)\n",
    "library(nycflights13)\n",
    "options(jupyter.plot_mimetypes = \"image/png\");"
   ]
  },
  {
   "cell_type": "markdown",
   "metadata": {
    "slideshow": {
     "slide_type": "slide"
    }
   },
   "source": [
    "## What days of the year / at what airport are the busiest for flying?\n",
    "\n",
    "Let's think about the table we would want to have in order to answer this question. Ideally,\n",
    "it would look something like this:\n",
    "\n",
    "    # A tibble: 1,095 x 4\n",
    "       month   day airport n_sched_departures\n",
    "       <int> <int> <chr>                <int>\n",
    "     1     1     1 EWR                    305\n",
    "     2     1     1 JFK                    297\n",
    "     3     1     1 LGA                    240\n",
    "     4     1     2 EWR                    350\n",
    "     5     1     2 JFK                    321\n",
    "     6     1     2 LGA                    272\n",
    "     7     1     3 EWR                    336\n",
    "     8     1     3 JFK                    318\n",
    "     9     1     3 LGA                    260\n",
    "    10     1     4 EWR                    339\n",
    "    # … with 1,085 more rows"
   ]
  },
  {
   "cell_type": "markdown",
   "metadata": {
    "slideshow": {
     "slide_type": "notes"
    }
   },
   "source": [
    "The table we are given has ~337k rows, one for each flight. How do we go from the `flights` table to the one shown above?"
   ]
  },
  {
   "cell_type": "markdown",
   "metadata": {
    "slideshow": {
     "slide_type": "slide"
    }
   },
   "source": [
    "## Summaries\n",
    "`summarize()` can be used to summarize entire data frames by collapsing them into single number summaries. The syntax is:\n",
    "```{r}\n",
    "summarize(<grouped tibble>, <new variable> = <formula for new variable>,\n",
    "                            <other new variable> = <other formula>)\n",
    "```"
   ]
  },
  {
   "cell_type": "markdown",
   "metadata": {
    "slideshow": {
     "slide_type": "slide"
    }
   },
   "source": [
    "The most basic use of summarize is to compute statistics over the whole data set:"
   ]
  },
  {
   "cell_type": "code",
   "execution_count": 24,
   "metadata": {
    "slideshow": {
     "slide_type": "-"
    }
   },
   "outputs": [
    {
     "name": "stdout",
     "output_type": "stream",
     "text": [
      "\u001b[38;5;246m# A tibble: 1 x 1\u001b[39m\n",
      "  delay\n",
      "  \u001b[3m\u001b[38;5;246m<dbl>\u001b[39m\u001b[23m\n",
      "\u001b[38;5;250m1\u001b[39m    \u001b[31mNA\u001b[39m\n"
     ]
    }
   ],
   "source": [
    "print(summarize(flights, delay = mean(dep_delay)))"
   ]
  },
  {
   "cell_type": "markdown",
   "metadata": {
    "slideshow": {
     "slide_type": "slide"
    }
   },
   "source": [
    "### Grouping observations\n",
    "`summarize()` is most useful when combined with `group_by()` to group observations before calculating the summary statistic. The `group_by` function tells R how your data are grouped:"
   ]
  },
  {
   "cell_type": "code",
   "execution_count": 27,
   "metadata": {
    "slideshow": {
     "slide_type": "-"
    }
   },
   "outputs": [
    {
     "name": "stdout",
     "output_type": "stream",
     "text": [
      "\u001b[38;5;246m# A tibble: 336,776 x 19\u001b[39m\n",
      "\u001b[38;5;246m# Groups:   year, month, day [365]\u001b[39m\n",
      "    year month   day dep_time sched_dep_time dep_delay arr_time sched_arr_time\n",
      "   \u001b[3m\u001b[38;5;246m<int>\u001b[39m\u001b[23m \u001b[3m\u001b[38;5;246m<int>\u001b[39m\u001b[23m \u001b[3m\u001b[38;5;246m<int>\u001b[39m\u001b[23m    \u001b[3m\u001b[38;5;246m<int>\u001b[39m\u001b[23m          \u001b[3m\u001b[38;5;246m<int>\u001b[39m\u001b[23m     \u001b[3m\u001b[38;5;246m<dbl>\u001b[39m\u001b[23m    \u001b[3m\u001b[38;5;246m<int>\u001b[39m\u001b[23m          \u001b[3m\u001b[38;5;246m<int>\u001b[39m\u001b[23m\n",
      "\u001b[38;5;250m 1\u001b[39m  \u001b[4m2\u001b[24m013     1     1      517            515         2      830            819\n",
      "\u001b[38;5;250m 2\u001b[39m  \u001b[4m2\u001b[24m013     1     1      533            529         4      850            830\n",
      "\u001b[38;5;250m 3\u001b[39m  \u001b[4m2\u001b[24m013     1     1      542            540         2      923            850\n",
      "\u001b[38;5;250m 4\u001b[39m  \u001b[4m2\u001b[24m013     1     1      544            545        -\u001b[31m1\u001b[39m     \u001b[4m1\u001b[24m004           \u001b[4m1\u001b[24m022\n",
      "\u001b[38;5;250m 5\u001b[39m  \u001b[4m2\u001b[24m013     1     1      554            600        -\u001b[31m6\u001b[39m      812            837\n",
      "\u001b[38;5;250m 6\u001b[39m  \u001b[4m2\u001b[24m013     1     1      554            558        -\u001b[31m4\u001b[39m      740            728\n",
      "\u001b[38;5;250m 7\u001b[39m  \u001b[4m2\u001b[24m013     1     1      555            600        -\u001b[31m5\u001b[39m      913            854\n",
      "\u001b[38;5;250m 8\u001b[39m  \u001b[4m2\u001b[24m013     1     1      557            600        -\u001b[31m3\u001b[39m      709            723\n",
      "\u001b[38;5;250m 9\u001b[39m  \u001b[4m2\u001b[24m013     1     1      557            600        -\u001b[31m3\u001b[39m      838            846\n",
      "\u001b[38;5;250m10\u001b[39m  \u001b[4m2\u001b[24m013     1     1      558            600        -\u001b[31m2\u001b[39m      753            745\n",
      "\u001b[38;5;246m# … with 336,766 more rows, and 11 more variables: arr_delay \u001b[3m\u001b[38;5;246m<dbl>\u001b[38;5;246m\u001b[23m,\n",
      "#   carrier \u001b[3m\u001b[38;5;246m<chr>\u001b[38;5;246m\u001b[23m, flight \u001b[3m\u001b[38;5;246m<int>\u001b[38;5;246m\u001b[23m, tailnum \u001b[3m\u001b[38;5;246m<chr>\u001b[38;5;246m\u001b[23m, origin \u001b[3m\u001b[38;5;246m<chr>\u001b[38;5;246m\u001b[23m, dest \u001b[3m\u001b[38;5;246m<chr>\u001b[38;5;246m\u001b[23m,\n",
      "#   air_time \u001b[3m\u001b[38;5;246m<dbl>\u001b[38;5;246m\u001b[23m, distance \u001b[3m\u001b[38;5;246m<dbl>\u001b[38;5;246m\u001b[23m, hour \u001b[3m\u001b[38;5;246m<dbl>\u001b[38;5;246m\u001b[23m, minute \u001b[3m\u001b[38;5;246m<dbl>\u001b[38;5;246m\u001b[23m, time_hour \u001b[3m\u001b[38;5;246m<dttm>\u001b[38;5;246m\u001b[23m\u001b[39m\n"
     ]
    }
   ],
   "source": [
    "print(group_by(flights, year, month, day))"
   ]
  },
  {
   "cell_type": "markdown",
   "metadata": {
    "slideshow": {
     "slide_type": "slide"
    }
   },
   "source": [
    "`summarize()` applies the summary function to each group of data. Remember that it always returns **one row per group**."
   ]
  },
  {
   "cell_type": "code",
   "execution_count": 28,
   "metadata": {
    "slideshow": {
     "slide_type": "-"
    }
   },
   "outputs": [
    {
     "name": "stdout",
     "output_type": "stream",
     "text": [
      "\u001b[38;5;246m# A tibble: 12 x 2\u001b[39m\n",
      "   month mean_dep_delay\n",
      "   \u001b[3m\u001b[38;5;246m<int>\u001b[39m\u001b[23m          \u001b[3m\u001b[38;5;246m<dbl>\u001b[39m\u001b[23m\n",
      "\u001b[38;5;250m 1\u001b[39m     1          10.0 \n",
      "\u001b[38;5;250m 2\u001b[39m     2          10.8 \n",
      "\u001b[38;5;250m 3\u001b[39m     3          13.2 \n",
      "\u001b[38;5;250m 4\u001b[39m     4          13.9 \n",
      "\u001b[38;5;250m 5\u001b[39m     5          13.0 \n",
      "\u001b[38;5;250m 6\u001b[39m     6          20.8 \n",
      "\u001b[38;5;250m 7\u001b[39m     7          21.7 \n",
      "\u001b[38;5;250m 8\u001b[39m     8          12.6 \n",
      "\u001b[38;5;250m 9\u001b[39m     9           6.72\n",
      "\u001b[38;5;250m10\u001b[39m    10           6.24\n",
      "\u001b[38;5;250m11\u001b[39m    11           5.44\n",
      "\u001b[38;5;250m12\u001b[39m    12          16.6 \n"
     ]
    }
   ],
   "source": [
    "print(summarize(group_by(flights, month), mean_dep_delay = mean(dep_delay, na.rm=T)))"
   ]
  },
  {
   "cell_type": "markdown",
   "metadata": {
    "slideshow": {
     "slide_type": "slide"
    }
   },
   "source": [
    "It's as if `summarize()` filtered your data for each group, calculated the summary statistic, and\n",
    "then combined all the results back into one table."
   ]
  },
  {
   "cell_type": "code",
   "execution_count": 29,
   "metadata": {},
   "outputs": [
    {
     "data": {
      "text/html": [
       "10.0366650303969"
      ],
      "text/latex": [
       "10.0366650303969"
      ],
      "text/markdown": [
       "10.0366650303969"
      ],
      "text/plain": [
       "[1] 10.03667"
      ]
     },
     "metadata": {},
     "output_type": "display_data"
    }
   ],
   "source": [
    "df <- filter(flights, month == 1)\n",
    "mean(df$dep_delay, na.rm = T)  # <--- first row of the summary table"
   ]
  },
  {
   "cell_type": "markdown",
   "metadata": {
    "slideshow": {
     "slide_type": "slide"
    }
   },
   "source": [
    "Many summary functions are available:\n",
    "\n",
    "* Center: `mean(), median()`\n",
    "* Spread: `sd(), IQR(), mad()`\n",
    "* Range: `min(), max(), quantile()`\n",
    "* Position: `first(), last(), nth()`\n",
    "* Count: `n(), n_distinct()`\n",
    "* Logical: `any(), all()`"
   ]
  },
  {
   "cell_type": "markdown",
   "metadata": {
    "slideshow": {
     "slide_type": "slide"
    }
   },
   "source": [
    "### Examples\n",
    "The `n()` function calculates the number of rows in each group:"
   ]
  },
  {
   "cell_type": "code",
   "execution_count": 33,
   "metadata": {
    "slideshow": {
     "slide_type": "-"
    }
   },
   "outputs": [
    {
     "name": "stdout",
     "output_type": "stream",
     "text": [
      "\u001b[38;5;246m# A tibble: 12 x 2\u001b[39m\n",
      "   month `n()`\n",
      "   \u001b[3m\u001b[38;5;246m<int>\u001b[39m\u001b[23m \u001b[3m\u001b[38;5;246m<int>\u001b[39m\u001b[23m\n",
      "\u001b[38;5;250m 1\u001b[39m     1 \u001b[4m2\u001b[24m\u001b[4m7\u001b[24m004\n",
      "\u001b[38;5;250m 2\u001b[39m     2 \u001b[4m2\u001b[24m\u001b[4m4\u001b[24m951\n",
      "\u001b[38;5;250m 3\u001b[39m     3 \u001b[4m2\u001b[24m\u001b[4m8\u001b[24m834\n",
      "\u001b[38;5;250m 4\u001b[39m     4 \u001b[4m2\u001b[24m\u001b[4m8\u001b[24m330\n",
      "\u001b[38;5;250m 5\u001b[39m     5 \u001b[4m2\u001b[24m\u001b[4m8\u001b[24m796\n",
      "\u001b[38;5;250m 6\u001b[39m     6 \u001b[4m2\u001b[24m\u001b[4m8\u001b[24m243\n",
      "\u001b[38;5;250m 7\u001b[39m     7 \u001b[4m2\u001b[24m\u001b[4m9\u001b[24m425\n",
      "\u001b[38;5;250m 8\u001b[39m     8 \u001b[4m2\u001b[24m\u001b[4m9\u001b[24m327\n",
      "\u001b[38;5;250m 9\u001b[39m     9 \u001b[4m2\u001b[24m\u001b[4m7\u001b[24m574\n",
      "\u001b[38;5;250m10\u001b[39m    10 \u001b[4m2\u001b[24m\u001b[4m8\u001b[24m889\n",
      "\u001b[38;5;250m11\u001b[39m    11 \u001b[4m2\u001b[24m\u001b[4m7\u001b[24m268\n",
      "\u001b[38;5;250m12\u001b[39m    12 \u001b[4m2\u001b[24m\u001b[4m8\u001b[24m135\n"
     ]
    },
    {
     "data": {
      "text/html": [
       "28135"
      ],
      "text/latex": [
       "28135"
      ],
      "text/markdown": [
       "28135"
      ],
      "text/plain": [
       "[1] 28135"
      ]
     },
     "metadata": {},
     "output_type": "display_data"
    }
   ],
   "source": [
    "print(summarize(group_by(flights, month), n()))\n",
    "nrow(filter(flights, month == 12))"
   ]
  },
  {
   "cell_type": "markdown",
   "metadata": {
    "slideshow": {
     "slide_type": "slide"
    }
   },
   "source": [
    "## Exercise\n",
    "Modify this command to produce the table shown on the first slide. That is, generate a table that has one row for each day of the year and each of the three airports, and a column which tells how many rows there were.\n",
    "\n",
    "Use this table to answer the question: which day of the year is busiest, and at what airport?"
   ]
  },
  {
   "cell_type": "code",
   "execution_count": 21,
   "metadata": {
    "slideshow": {
     "slide_type": "slide"
    }
   },
   "outputs": [],
   "source": [
    "## Solution (your code here)"
   ]
  },
  {
   "cell_type": "markdown",
   "metadata": {
    "slideshow": {
     "slide_type": "slide"
    }
   },
   "source": [
    "Sometimes we want to ask: what was the most extreme value within each group? For example, what was the busiest day at each of the three airports? The `top_n()` function tells us this:"
   ]
  },
  {
   "cell_type": "code",
   "execution_count": 36,
   "metadata": {},
   "outputs": [
    {
     "name": "stderr",
     "output_type": "stream",
     "text": [
      "Selecting by n\n"
     ]
    },
    {
     "data": {
      "text/html": [
       "<table>\n",
       "<caption>A tibble: 5 × 2</caption>\n",
       "<thead>\n",
       "\t<tr><th scope=col>carrier</th><th scope=col>n</th></tr>\n",
       "\t<tr><th scope=col>&lt;chr&gt;</th><th scope=col>&lt;int&gt;</th></tr>\n",
       "</thead>\n",
       "<tbody>\n",
       "\t<tr><td>AA</td><td>32729</td></tr>\n",
       "\t<tr><td>B6</td><td>54635</td></tr>\n",
       "\t<tr><td>DL</td><td>48110</td></tr>\n",
       "\t<tr><td>EV</td><td>54173</td></tr>\n",
       "\t<tr><td>UA</td><td>58665</td></tr>\n",
       "</tbody>\n",
       "</table>\n"
      ],
      "text/latex": [
       "A tibble: 5 × 2\n",
       "\\begin{tabular}{r|ll}\n",
       " carrier & n\\\\\n",
       " <chr> & <int>\\\\\n",
       "\\hline\n",
       "\t AA & 32729\\\\\n",
       "\t B6 & 54635\\\\\n",
       "\t DL & 48110\\\\\n",
       "\t EV & 54173\\\\\n",
       "\t UA & 58665\\\\\n",
       "\\end{tabular}\n"
      ],
      "text/markdown": [
       "\n",
       "A tibble: 5 × 2\n",
       "\n",
       "| carrier &lt;chr&gt; | n &lt;int&gt; |\n",
       "|---|---|\n",
       "| AA | 32729 |\n",
       "| B6 | 54635 |\n",
       "| DL | 48110 |\n",
       "| EV | 54173 |\n",
       "| UA | 58665 |\n",
       "\n"
      ],
      "text/plain": [
       "  carrier n    \n",
       "1 AA      32729\n",
       "2 B6      54635\n",
       "3 DL      48110\n",
       "4 EV      54173\n",
       "5 UA      58665"
      ]
     },
     "metadata": {},
     "output_type": "display_data"
    }
   ],
   "source": [
    "top_n(summarize(group_by(flights, carrier), n = n()), 5)"
   ]
  },
  {
   "cell_type": "markdown",
   "metadata": {
    "slideshow": {
     "slide_type": "slide"
    }
   },
   "source": [
    "#### A shortcut\n",
    "`summarize(n = n())` occurs so often that there is a shortcut for it:"
   ]
  },
  {
   "cell_type": "code",
   "execution_count": 110,
   "metadata": {},
   "outputs": [
    {
     "name": "stderr",
     "output_type": "stream",
     "text": [
      "Selecting by n\n"
     ]
    },
    {
     "data": {
      "text/html": [
       "<table>\n",
       "<caption>A tibble: 5 × 2</caption>\n",
       "<thead>\n",
       "\t<tr><th scope=col>carrier</th><th scope=col>n</th></tr>\n",
       "\t<tr><th scope=col>&lt;chr&gt;</th><th scope=col>&lt;int&gt;</th></tr>\n",
       "</thead>\n",
       "<tbody>\n",
       "\t<tr><td>AA</td><td>32729</td></tr>\n",
       "\t<tr><td>B6</td><td>54635</td></tr>\n",
       "\t<tr><td>DL</td><td>48110</td></tr>\n",
       "\t<tr><td>EV</td><td>54173</td></tr>\n",
       "\t<tr><td>UA</td><td>58665</td></tr>\n",
       "</tbody>\n",
       "</table>\n"
      ],
      "text/latex": [
       "A tibble: 5 × 2\n",
       "\\begin{tabular}{r|ll}\n",
       " carrier & n\\\\\n",
       " <chr> & <int>\\\\\n",
       "\\hline\n",
       "\t AA & 32729\\\\\n",
       "\t B6 & 54635\\\\\n",
       "\t DL & 48110\\\\\n",
       "\t EV & 54173\\\\\n",
       "\t UA & 58665\\\\\n",
       "\\end{tabular}\n"
      ],
      "text/markdown": [
       "\n",
       "A tibble: 5 × 2\n",
       "\n",
       "| carrier &lt;chr&gt; | n &lt;int&gt; |\n",
       "|---|---|\n",
       "| AA | 32729 |\n",
       "| B6 | 54635 |\n",
       "| DL | 48110 |\n",
       "| EV | 54173 |\n",
       "| UA | 58665 |\n",
       "\n"
      ],
      "text/plain": [
       "  carrier n    \n",
       "1 AA      32729\n",
       "2 B6      54635\n",
       "3 DL      48110\n",
       "4 EV      54173\n",
       "5 UA      58665"
      ]
     },
     "metadata": {},
     "output_type": "display_data"
    }
   ],
   "source": [
    "top_n(count(flights, carrier), 5)  # returns the five highest carriers based on `n`"
   ]
  },
  {
   "cell_type": "markdown",
   "metadata": {
    "slideshow": {
     "slide_type": "slide"
    }
   },
   "source": [
    "## Exercise\n",
    "What was the busiest day at each of the three airports (`EWR`, `JFK`, `LGA`)?\n",
    "\n",
    "*Hint*: `count()` by month, day and origin, and then use grouping and `top_n()`."
   ]
  },
  {
   "cell_type": "code",
   "execution_count": 42,
   "metadata": {
    "slideshow": {
     "slide_type": "slide"
    }
   },
   "outputs": [],
   "source": [
    "## Solution"
   ]
  },
  {
   "cell_type": "markdown",
   "metadata": {
    "slideshow": {
     "slide_type": "slide"
    }
   },
   "source": [
    "### Exercise\n",
    "\n",
    "Use `summarize()`, `count()`, `filter()`, `arrange()` and/or `top_n()` to answer:\n",
    "\n",
    "<table class=\"table-condensed\">\n",
    "    <tr><th>Beginner</th><th>Advanced</th></tr>\n",
    "    <tr><td>\n",
    "        Which plane (tail number) flew the most flights in July?\n",
    "        </td>\n",
    "    <td>\n",
    "        How many planes flew at least one flight in January, but none in February?\n",
    "        </td>\n",
    "    </tr>\n",
    "    <tr>\n",
    "<td>\n",
    "</tr>\n",
    "</table>\n",
    "\n",
    "\n",
    "\n",
    "\n"
   ]
  },
  {
   "cell_type": "code",
   "execution_count": null,
   "metadata": {
    "slideshow": {
     "slide_type": "slide"
    }
   },
   "outputs": [],
   "source": [
    "## Solution"
   ]
  },
  {
   "cell_type": "markdown",
   "metadata": {
    "slideshow": {
     "slide_type": "slide"
    }
   },
   "source": [
    "## Pipes\n",
    "Starting now, we will make extensive use of the pipe operator `%>%`. Consider the previous exercise:"
   ]
  },
  {
   "cell_type": "code",
   "execution_count": 43,
   "metadata": {
    "slideshow": {
     "slide_type": "-"
    }
   },
   "outputs": [
    {
     "name": "stderr",
     "output_type": "stream",
     "text": [
      "Selecting by n\n"
     ]
    },
    {
     "data": {
      "text/html": [
       "<table>\n",
       "<caption>A grouped_df: 3 × 4</caption>\n",
       "<thead>\n",
       "\t<tr><th scope=col>month</th><th scope=col>day</th><th scope=col>origin</th><th scope=col>n</th></tr>\n",
       "\t<tr><th scope=col>&lt;int&gt;</th><th scope=col>&lt;int&gt;</th><th scope=col>&lt;chr&gt;</th><th scope=col>&lt;int&gt;</th></tr>\n",
       "</thead>\n",
       "<tbody>\n",
       "\t<tr><td>4</td><td>15</td><td>EWR</td><td>377</td></tr>\n",
       "\t<tr><td>7</td><td>11</td><td>JFK</td><td>332</td></tr>\n",
       "\t<tr><td>9</td><td>13</td><td>LGA</td><td>346</td></tr>\n",
       "</tbody>\n",
       "</table>\n"
      ],
      "text/latex": [
       "A grouped_df: 3 × 4\n",
       "\\begin{tabular}{r|llll}\n",
       " month & day & origin & n\\\\\n",
       " <int> & <int> & <chr> & <int>\\\\\n",
       "\\hline\n",
       "\t 4 & 15 & EWR & 377\\\\\n",
       "\t 7 & 11 & JFK & 332\\\\\n",
       "\t 9 & 13 & LGA & 346\\\\\n",
       "\\end{tabular}\n"
      ],
      "text/markdown": [
       "\n",
       "A grouped_df: 3 × 4\n",
       "\n",
       "| month &lt;int&gt; | day &lt;int&gt; | origin &lt;chr&gt; | n &lt;int&gt; |\n",
       "|---|---|---|---|\n",
       "| 4 | 15 | EWR | 377 |\n",
       "| 7 | 11 | JFK | 332 |\n",
       "| 9 | 13 | LGA | 346 |\n",
       "\n"
      ],
      "text/plain": [
       "  month day origin n  \n",
       "1 4     15  EWR    377\n",
       "2 7     11  JFK    332\n",
       "3 9     13  LGA    346"
      ]
     },
     "metadata": {},
     "output_type": "display_data"
    }
   ],
   "source": [
    "top_n(group_by(summarize(group_by(flights, month, day, origin), n = n()), origin), 1)"
   ]
  },
  {
   "cell_type": "markdown",
   "metadata": {
    "slideshow": {
     "slide_type": "slide"
    }
   },
   "source": [
    "This is not very nice. To figure out what the command is doing you have to work from the inside out, which is not the order in which we are accustomed to reading. A slight improvement might be:"
   ]
  },
  {
   "cell_type": "code",
   "execution_count": 48,
   "metadata": {
    "slideshow": {
     "slide_type": "-"
    }
   },
   "outputs": [
    {
     "name": "stderr",
     "output_type": "stream",
     "text": [
      "Selecting by n\n"
     ]
    },
    {
     "data": {
      "text/html": [
       "<table>\n",
       "<caption>A grouped_df: 3 × 4</caption>\n",
       "<thead>\n",
       "\t<tr><th scope=col>month</th><th scope=col>day</th><th scope=col>origin</th><th scope=col>n</th></tr>\n",
       "\t<tr><th scope=col>&lt;int&gt;</th><th scope=col>&lt;int&gt;</th><th scope=col>&lt;chr&gt;</th><th scope=col>&lt;int&gt;</th></tr>\n",
       "</thead>\n",
       "<tbody>\n",
       "\t<tr><td>4</td><td>15</td><td>EWR</td><td>377</td></tr>\n",
       "\t<tr><td>7</td><td>11</td><td>JFK</td><td>332</td></tr>\n",
       "\t<tr><td>9</td><td>13</td><td>LGA</td><td>346</td></tr>\n",
       "</tbody>\n",
       "</table>\n"
      ],
      "text/latex": [
       "A grouped_df: 3 × 4\n",
       "\\begin{tabular}{r|llll}\n",
       " month & day & origin & n\\\\\n",
       " <int> & <int> & <chr> & <int>\\\\\n",
       "\\hline\n",
       "\t 4 & 15 & EWR & 377\\\\\n",
       "\t 7 & 11 & JFK & 332\\\\\n",
       "\t 9 & 13 & LGA & 346\\\\\n",
       "\\end{tabular}\n"
      ],
      "text/markdown": [
       "\n",
       "A grouped_df: 3 × 4\n",
       "\n",
       "| month &lt;int&gt; | day &lt;int&gt; | origin &lt;chr&gt; | n &lt;int&gt; |\n",
       "|---|---|---|---|\n",
       "| 4 | 15 | EWR | 377 |\n",
       "| 7 | 11 | JFK | 332 |\n",
       "| 9 | 13 | LGA | 346 |\n",
       "\n"
      ],
      "text/plain": [
       "  month day origin n  \n",
       "1 4     15  EWR    377\n",
       "2 7     11  JFK    332\n",
       "3 9     13  LGA    346"
      ]
     },
     "metadata": {},
     "output_type": "display_data"
    }
   ],
   "source": [
    "table1 <- group_by(flights, month, day, origin)\n",
    "table2 <- summarize(table1, n = n())\n",
    "table3 <- group_by(table2, origin)\n",
    "top_n(table3, 1)"
   ]
  },
  {
   "cell_type": "markdown",
   "metadata": {
    "slideshow": {
     "slide_type": "slide"
    }
   },
   "source": [
    "This is better, but now you've created a bunch of useless temporary variables, and it requires a lot of typing. \n",
    "Instead, we are going to use a new operator `%>%` (prounouced \"pipe\"):"
   ]
  },
  {
   "cell_type": "code",
   "execution_count": 49,
   "metadata": {
    "slideshow": {
     "slide_type": "-"
    }
   },
   "outputs": [
    {
     "name": "stderr",
     "output_type": "stream",
     "text": [
      "Selecting by n\n"
     ]
    },
    {
     "data": {
      "text/html": [
       "<table>\n",
       "<caption>A grouped_df: 3 × 4</caption>\n",
       "<thead>\n",
       "\t<tr><th scope=col>month</th><th scope=col>day</th><th scope=col>origin</th><th scope=col>n</th></tr>\n",
       "\t<tr><th scope=col>&lt;int&gt;</th><th scope=col>&lt;int&gt;</th><th scope=col>&lt;chr&gt;</th><th scope=col>&lt;int&gt;</th></tr>\n",
       "</thead>\n",
       "<tbody>\n",
       "\t<tr><td>4</td><td>15</td><td>EWR</td><td>377</td></tr>\n",
       "\t<tr><td>7</td><td>11</td><td>JFK</td><td>332</td></tr>\n",
       "\t<tr><td>9</td><td>13</td><td>LGA</td><td>346</td></tr>\n",
       "</tbody>\n",
       "</table>\n"
      ],
      "text/latex": [
       "A grouped_df: 3 × 4\n",
       "\\begin{tabular}{r|llll}\n",
       " month & day & origin & n\\\\\n",
       " <int> & <int> & <chr> & <int>\\\\\n",
       "\\hline\n",
       "\t 4 & 15 & EWR & 377\\\\\n",
       "\t 7 & 11 & JFK & 332\\\\\n",
       "\t 9 & 13 & LGA & 346\\\\\n",
       "\\end{tabular}\n"
      ],
      "text/markdown": [
       "\n",
       "A grouped_df: 3 × 4\n",
       "\n",
       "| month &lt;int&gt; | day &lt;int&gt; | origin &lt;chr&gt; | n &lt;int&gt; |\n",
       "|---|---|---|---|\n",
       "| 4 | 15 | EWR | 377 |\n",
       "| 7 | 11 | JFK | 332 |\n",
       "| 9 | 13 | LGA | 346 |\n",
       "\n"
      ],
      "text/plain": [
       "  month day origin n  \n",
       "1 4     15  EWR    377\n",
       "2 7     11  JFK    332\n",
       "3 9     13  LGA    346"
      ]
     },
     "metadata": {},
     "output_type": "display_data"
    }
   ],
   "source": [
    "flights %>% \n",
    "    group_by(month, day, origin) %>%\n",
    "    summarize(n = n()) %>%\n",
    "    group_by(origin) %>%\n",
    "    top_n(1)"
   ]
  },
  {
   "cell_type": "markdown",
   "metadata": {
    "slideshow": {
     "slide_type": "notes"
    }
   },
   "source": [
    "This is much better. We can read the command from left to right and know exactly what is going on."
   ]
  },
  {
   "cell_type": "markdown",
   "metadata": {
    "slideshow": {
     "slide_type": "slide"
    }
   },
   "source": [
    "### How `%>%` works\n",
    "Under the hood, `x %>% f(y)` turns into `f(x, y)`, and `x %>% f(y) %>% g(z)` turns into `g(f(x, y), z)` and so on. We can use `%>%` on any function, not just those defined in tidyverse:"
   ]
  },
  {
   "cell_type": "code",
   "execution_count": 50,
   "metadata": {},
   "outputs": [
    {
     "name": "stdout",
     "output_type": "stream",
     "text": [
      "[1] \"hello world\"\n"
     ]
    }
   ],
   "source": [
    "\"hello world\" %>% print()  # prints \"hello world\""
   ]
  },
  {
   "cell_type": "markdown",
   "metadata": {
    "slideshow": {
     "slide_type": "slide"
    }
   },
   "source": [
    "## Adding New Variables\n",
    "The `dplyr`/`tidyverse` package offers the `mutate()` and `transmute()` commands to add new variables to data tibbles. The syntax is:\n",
    "```{r}\n",
    "<tibble> %>% mutate(<new variable> = <formula for new variable>,\n",
    "                    <other new variable> = <other formula>)\n",
    "```\n",
    "This returns a copy of `<tibble>` with the new variables added on. `transmute()` does the same thing as `mutate()` but only keeps the new variables."
   ]
  },
  {
   "cell_type": "markdown",
   "metadata": {
    "slideshow": {
     "slide_type": "notes"
    }
   },
   "source": [
    "New variables can be added using the `mutate()` function. We already have an `air_time` variable. Let us compute the total time for the flight by subtracting the time of departure `dep_time` from time of arrival `arr_time`.\n",
    "\n",
    "We notice something odd though. When we subtract 5h 17m from 8h 30m we should get 3h 13m, i.e. 193 minutes. But instead we get 313 minutes below."
   ]
  },
  {
   "cell_type": "code",
   "execution_count": 87,
   "metadata": {
    "slideshow": {
     "slide_type": "slide"
    }
   },
   "outputs": [
    {
     "data": {
      "text/html": [
       "<table>\n",
       "<caption>A tibble: 1 × 3</caption>\n",
       "<thead>\n",
       "\t<tr><th scope=col>arr_time</th><th scope=col>dep_time</th><th scope=col>total_time</th></tr>\n",
       "\t<tr><th scope=col>&lt;int&gt;</th><th scope=col>&lt;int&gt;</th><th scope=col>&lt;int&gt;</th></tr>\n",
       "</thead>\n",
       "<tbody>\n",
       "\t<tr><td>830</td><td>517</td><td>313</td></tr>\n",
       "</tbody>\n",
       "</table>\n"
      ],
      "text/latex": [
       "A tibble: 1 × 3\n",
       "\\begin{tabular}{r|lll}\n",
       " arr\\_time & dep\\_time & total\\_time\\\\\n",
       " <int> & <int> & <int>\\\\\n",
       "\\hline\n",
       "\t 830 & 517 & 313\\\\\n",
       "\\end{tabular}\n"
      ],
      "text/markdown": [
       "\n",
       "A tibble: 1 × 3\n",
       "\n",
       "| arr_time &lt;int&gt; | dep_time &lt;int&gt; | total_time &lt;int&gt; |\n",
       "|---|---|---|\n",
       "| 830 | 517 | 313 |\n",
       "\n"
      ],
      "text/plain": [
       "  arr_time dep_time total_time\n",
       "1 830      517      313       "
      ]
     },
     "metadata": {},
     "output_type": "display_data"
    }
   ],
   "source": [
    "flights %>% mutate(total_time = arr_time - dep_time) %>% \n",
    "            select(arr_time, dep_time, total_time) %>% \n",
    "            slice(1)"
   ]
  },
  {
   "cell_type": "markdown",
   "metadata": {
    "slideshow": {
     "slide_type": "notes"
    }
   },
   "source": [
    "The issue is that `dep_time` and `arr_time` are in the hour-minute notation, so you cannot add and subtract them like regular numbers. We should first convert these times into the number of minutes elapsed since midnight.\n",
    "\n",
    "We want add to new variables `new_dep` and `new_arr` but we need to write a function first that can do the conversion. The function is given below; we'll learn how it works later in the semester. For now just think of it as a black box that converts times from one format to another."
   ]
  },
  {
   "cell_type": "code",
   "execution_count": 53,
   "metadata": {
    "slideshow": {
     "slide_type": "slide"
    }
   },
   "outputs": [
    {
     "data": {
      "text/html": [
       "60"
      ],
      "text/latex": [
       "60"
      ],
      "text/markdown": [
       "60"
      ],
      "text/plain": [
       "[1] 60"
      ]
     },
     "metadata": {},
     "output_type": "display_data"
    }
   ],
   "source": [
    "hourmin2min <- function(hourmin) {  # minutes after 000=midnight\n",
    "    min <- hourmin %% 100  # modulus\n",
    "    hour <- (hourmin - min) %/% 100  # integer division\n",
    "    return(60*hour + min)\n",
    "} \n",
    "hourmin2min(100)"
   ]
  },
  {
   "cell_type": "markdown",
   "metadata": {
    "slideshow": {
     "slide_type": "slide"
    }
   },
   "source": [
    "Let us test the function on 530. That's 5h 30min, i.e., 330 minutes since midnight."
   ]
  },
  {
   "cell_type": "code",
   "execution_count": 54,
   "metadata": {},
   "outputs": [
    {
     "data": {
      "text/html": [
       "330"
      ],
      "text/latex": [
       "330"
      ],
      "text/markdown": [
       "330"
      ],
      "text/plain": [
       "[1] 330"
      ]
     },
     "metadata": {},
     "output_type": "display_data"
    }
   ],
   "source": [
    "hourmin2min(530)"
   ]
  },
  {
   "cell_type": "markdown",
   "metadata": {
    "slideshow": {
     "slide_type": "slide"
    }
   },
   "source": [
    "Let us now create two new variables obtained from `arr_time` and `dep_time` by converting them into minutes since midnight. In the same command, we can also create a new `total_time` column containing their difference."
   ]
  },
  {
   "cell_type": "code",
   "execution_count": 59,
   "metadata": {},
   "outputs": [
    {
     "name": "stdout",
     "output_type": "stream",
     "text": [
      "\u001b[38;5;246m# A tibble: 336,776 x 22\u001b[39m\n",
      "    year month   day dep_time sched_dep_time dep_delay arr_time sched_arr_time\n",
      "   \u001b[3m\u001b[38;5;246m<int>\u001b[39m\u001b[23m \u001b[3m\u001b[38;5;246m<int>\u001b[39m\u001b[23m \u001b[3m\u001b[38;5;246m<int>\u001b[39m\u001b[23m    \u001b[3m\u001b[38;5;246m<int>\u001b[39m\u001b[23m          \u001b[3m\u001b[38;5;246m<int>\u001b[39m\u001b[23m     \u001b[3m\u001b[38;5;246m<dbl>\u001b[39m\u001b[23m    \u001b[3m\u001b[38;5;246m<int>\u001b[39m\u001b[23m          \u001b[3m\u001b[38;5;246m<int>\u001b[39m\u001b[23m\n",
      "\u001b[38;5;250m 1\u001b[39m  \u001b[4m2\u001b[24m013     1     1      517            515         2      830            819\n",
      "\u001b[38;5;250m 2\u001b[39m  \u001b[4m2\u001b[24m013     1     1      533            529         4      850            830\n",
      "\u001b[38;5;250m 3\u001b[39m  \u001b[4m2\u001b[24m013     1     1      542            540         2      923            850\n",
      "\u001b[38;5;250m 4\u001b[39m  \u001b[4m2\u001b[24m013     1     1      544            545        -\u001b[31m1\u001b[39m     \u001b[4m1\u001b[24m004           \u001b[4m1\u001b[24m022\n",
      "\u001b[38;5;250m 5\u001b[39m  \u001b[4m2\u001b[24m013     1     1      554            600        -\u001b[31m6\u001b[39m      812            837\n",
      "\u001b[38;5;250m 6\u001b[39m  \u001b[4m2\u001b[24m013     1     1      554            558        -\u001b[31m4\u001b[39m      740            728\n",
      "\u001b[38;5;250m 7\u001b[39m  \u001b[4m2\u001b[24m013     1     1      555            600        -\u001b[31m5\u001b[39m      913            854\n",
      "\u001b[38;5;250m 8\u001b[39m  \u001b[4m2\u001b[24m013     1     1      557            600        -\u001b[31m3\u001b[39m      709            723\n",
      "\u001b[38;5;250m 9\u001b[39m  \u001b[4m2\u001b[24m013     1     1      557            600        -\u001b[31m3\u001b[39m      838            846\n",
      "\u001b[38;5;250m10\u001b[39m  \u001b[4m2\u001b[24m013     1     1      558            600        -\u001b[31m2\u001b[39m      753            745\n",
      "\u001b[38;5;246m# … with 336,766 more rows, and 14 more variables: arr_delay \u001b[3m\u001b[38;5;246m<dbl>\u001b[38;5;246m\u001b[23m,\n",
      "#   carrier \u001b[3m\u001b[38;5;246m<chr>\u001b[38;5;246m\u001b[23m, flight \u001b[3m\u001b[38;5;246m<int>\u001b[38;5;246m\u001b[23m, tailnum \u001b[3m\u001b[38;5;246m<chr>\u001b[38;5;246m\u001b[23m, origin \u001b[3m\u001b[38;5;246m<chr>\u001b[38;5;246m\u001b[23m, dest \u001b[3m\u001b[38;5;246m<chr>\u001b[38;5;246m\u001b[23m,\n",
      "#   air_time \u001b[3m\u001b[38;5;246m<dbl>\u001b[38;5;246m\u001b[23m, distance \u001b[3m\u001b[38;5;246m<dbl>\u001b[38;5;246m\u001b[23m, hour \u001b[3m\u001b[38;5;246m<dbl>\u001b[38;5;246m\u001b[23m, minute \u001b[3m\u001b[38;5;246m<dbl>\u001b[38;5;246m\u001b[23m, time_hour \u001b[3m\u001b[38;5;246m<dttm>\u001b[38;5;246m\u001b[23m,\n",
      "#   new_arr \u001b[3m\u001b[38;5;246m<dbl>\u001b[38;5;246m\u001b[23m, new_dep \u001b[3m\u001b[38;5;246m<dbl>\u001b[38;5;246m\u001b[23m, total_time \u001b[3m\u001b[38;5;246m<int>\u001b[38;5;246m\u001b[23m\u001b[39m\n"
     ]
    }
   ],
   "source": [
    "my_flights = mutate(flights, \n",
    "                    new_arr = hourmin2min(arr_time), \n",
    "                    new_dep = hourmin2min(dep_time),\n",
    "                    total_time = arr_time - dep_time\n",
    "                   ) %>% print"
   ]
  },
  {
   "cell_type": "markdown",
   "metadata": {
    "slideshow": {
     "slide_type": "slide"
    }
   },
   "source": [
    "### Exercise\n",
    "\n",
    "There is something weird about <code>total_time</code> when compared to <code>air_time</code>. What is it?"
   ]
  },
  {
   "cell_type": "code",
   "execution_count": 64,
   "metadata": {
    "slideshow": {
     "slide_type": "slide"
    }
   },
   "outputs": [],
   "source": [
    "## Solution"
   ]
  },
  {
   "cell_type": "markdown",
   "metadata": {
    "slideshow": {
     "slide_type": "slide"
    }
   },
   "source": [
    "What would cause a discrepancy of 1500m?"
   ]
  },
  {
   "cell_type": "code",
   "execution_count": null,
   "metadata": {
    "slideshow": {
     "slide_type": "-"
    }
   },
   "outputs": [],
   "source": []
  },
  {
   "cell_type": "markdown",
   "metadata": {
    "slideshow": {
     "slide_type": "slide"
    }
   },
   "source": [
    "## Exercise\n",
    "Add a new variable to `new_total_time` to `my_flights` which contains a \"corrected\" version of `total_time`. Plot the resulting distribution of `new_total_time`."
   ]
  },
  {
   "cell_type": "code",
   "execution_count": 65,
   "metadata": {
    "slideshow": {
     "slide_type": "slide"
    }
   },
   "outputs": [],
   "source": [
    "## Solution"
   ]
  },
  {
   "cell_type": "markdown",
   "metadata": {
    "slideshow": {
     "slide_type": "slide"
    }
   },
   "source": [
    "## Who is the greatest batter of all time?\n",
    "The Lahman dataset contains information on baseball players."
   ]
  },
  {
   "cell_type": "code",
   "execution_count": 69,
   "metadata": {},
   "outputs": [
    {
     "name": "stdout",
     "output_type": "stream",
     "text": [
      "\u001b[38;5;246m# A tibble: 105,861 x 22\u001b[39m\n",
      "   playerID yearID stint teamID lgID      G    AB     R     H   X2B   X3B    HR\n",
      "   \u001b[3m\u001b[38;5;246m<chr>\u001b[39m\u001b[23m     \u001b[3m\u001b[38;5;246m<int>\u001b[39m\u001b[23m \u001b[3m\u001b[38;5;246m<int>\u001b[39m\u001b[23m \u001b[3m\u001b[38;5;246m<fct>\u001b[39m\u001b[23m  \u001b[3m\u001b[38;5;246m<fct>\u001b[39m\u001b[23m \u001b[3m\u001b[38;5;246m<int>\u001b[39m\u001b[23m \u001b[3m\u001b[38;5;246m<int>\u001b[39m\u001b[23m \u001b[3m\u001b[38;5;246m<int>\u001b[39m\u001b[23m \u001b[3m\u001b[38;5;246m<int>\u001b[39m\u001b[23m \u001b[3m\u001b[38;5;246m<int>\u001b[39m\u001b[23m \u001b[3m\u001b[38;5;246m<int>\u001b[39m\u001b[23m \u001b[3m\u001b[38;5;246m<int>\u001b[39m\u001b[23m\n",
      "\u001b[38;5;250m 1\u001b[39m abercda…   \u001b[4m1\u001b[24m871     1 TRO    NA        1     4     0     0     0     0     0\n",
      "\u001b[38;5;250m 2\u001b[39m addybo01   \u001b[4m1\u001b[24m871     1 RC1    NA       25   118    30    32     6     0     0\n",
      "\u001b[38;5;250m 3\u001b[39m allisar…   \u001b[4m1\u001b[24m871     1 CL1    NA       29   137    28    40     4     5     0\n",
      "\u001b[38;5;250m 4\u001b[39m allisdo…   \u001b[4m1\u001b[24m871     1 WS3    NA       27   133    28    44    10     2     2\n",
      "\u001b[38;5;250m 5\u001b[39m ansonca…   \u001b[4m1\u001b[24m871     1 RC1    NA       25   120    29    39    11     3     0\n",
      "\u001b[38;5;250m 6\u001b[39m armstbo…   \u001b[4m1\u001b[24m871     1 FW1    NA       12    49     9    11     2     1     0\n",
      "\u001b[38;5;250m 7\u001b[39m barkeal…   \u001b[4m1\u001b[24m871     1 RC1    NA        1     4     0     1     0     0     0\n",
      "\u001b[38;5;250m 8\u001b[39m barnero…   \u001b[4m1\u001b[24m871     1 BS1    NA       31   157    66    63    10     9     0\n",
      "\u001b[38;5;250m 9\u001b[39m barrebi…   \u001b[4m1\u001b[24m871     1 FW1    NA        1     5     1     1     1     0     0\n",
      "\u001b[38;5;250m10\u001b[39m barrofr…   \u001b[4m1\u001b[24m871     1 BS1    NA       18    86    13    13     2     1     0\n",
      "\u001b[38;5;246m# … with 105,851 more rows, and 10 more variables: RBI \u001b[3m\u001b[38;5;246m<int>\u001b[38;5;246m\u001b[23m, SB \u001b[3m\u001b[38;5;246m<int>\u001b[38;5;246m\u001b[23m,\n",
      "#   CS \u001b[3m\u001b[38;5;246m<int>\u001b[38;5;246m\u001b[23m, BB \u001b[3m\u001b[38;5;246m<int>\u001b[38;5;246m\u001b[23m, SO \u001b[3m\u001b[38;5;246m<int>\u001b[38;5;246m\u001b[23m, IBB \u001b[3m\u001b[38;5;246m<int>\u001b[38;5;246m\u001b[23m, HBP \u001b[3m\u001b[38;5;246m<int>\u001b[38;5;246m\u001b[23m, SH \u001b[3m\u001b[38;5;246m<int>\u001b[38;5;246m\u001b[23m, SF \u001b[3m\u001b[38;5;246m<int>\u001b[38;5;246m\u001b[23m,\n",
      "#   GIDP \u001b[3m\u001b[38;5;246m<int>\u001b[38;5;246m\u001b[23m\u001b[39m\n"
     ]
    }
   ],
   "source": [
    "library(Lahman)\n",
    "bat <- as_tibble(Batting) %>% print"
   ]
  },
  {
   "cell_type": "markdown",
   "metadata": {
    "slideshow": {
     "slide_type": "slide"
    }
   },
   "source": [
    "There is one row per player per year:"
   ]
  },
  {
   "cell_type": "code",
   "execution_count": 79,
   "metadata": {
    "slideshow": {
     "slide_type": "-"
    }
   },
   "outputs": [
    {
     "name": "stdout",
     "output_type": "stream",
     "text": [
      "\u001b[38;5;246m# A tibble: 1 x 22\u001b[39m\n",
      "  playerID yearID stint teamID lgID      G    AB     R     H   X2B   X3B    HR\n",
      "  \u001b[3m\u001b[38;5;246m<chr>\u001b[39m\u001b[23m     \u001b[3m\u001b[38;5;246m<int>\u001b[39m\u001b[23m \u001b[3m\u001b[38;5;246m<int>\u001b[39m\u001b[23m \u001b[3m\u001b[38;5;246m<fct>\u001b[39m\u001b[23m  \u001b[3m\u001b[38;5;246m<fct>\u001b[39m\u001b[23m \u001b[3m\u001b[38;5;246m<int>\u001b[39m\u001b[23m \u001b[3m\u001b[38;5;246m<int>\u001b[39m\u001b[23m \u001b[3m\u001b[38;5;246m<int>\u001b[39m\u001b[23m \u001b[3m\u001b[38;5;246m<int>\u001b[39m\u001b[23m \u001b[3m\u001b[38;5;246m<int>\u001b[39m\u001b[23m \u001b[3m\u001b[38;5;246m<int>\u001b[39m\u001b[23m \u001b[3m\u001b[38;5;246m<int>\u001b[39m\u001b[23m\n",
      "\u001b[38;5;250m1\u001b[39m addybo01   \u001b[4m1\u001b[24m871     1 RC1    NA       25   118    30    32     6     0     0\n",
      "\u001b[38;5;246m# … with 10 more variables: RBI \u001b[3m\u001b[38;5;246m<int>\u001b[38;5;246m\u001b[23m, SB \u001b[3m\u001b[38;5;246m<int>\u001b[38;5;246m\u001b[23m, CS \u001b[3m\u001b[38;5;246m<int>\u001b[38;5;246m\u001b[23m, BB \u001b[3m\u001b[38;5;246m<int>\u001b[38;5;246m\u001b[23m, SO \u001b[3m\u001b[38;5;246m<int>\u001b[38;5;246m\u001b[23m,\n",
      "#   IBB \u001b[3m\u001b[38;5;246m<int>\u001b[38;5;246m\u001b[23m, HBP \u001b[3m\u001b[38;5;246m<int>\u001b[38;5;246m\u001b[23m, SH \u001b[3m\u001b[38;5;246m<int>\u001b[38;5;246m\u001b[23m, SF \u001b[3m\u001b[38;5;246m<int>\u001b[38;5;246m\u001b[23m, GIDP \u001b[3m\u001b[38;5;246m<int>\u001b[38;5;246m\u001b[23m\u001b[39m\n"
     ]
    },
    {
     "data": {
      "text/html": [
       "<table>\n",
       "<caption>A data.frame: 1 × 3</caption>\n",
       "<thead>\n",
       "\t<tr><th></th><th scope=col>playerID</th><th scope=col>nameFirst</th><th scope=col>nameLast</th></tr>\n",
       "\t<tr><th></th><th scope=col>&lt;chr&gt;</th><th scope=col>&lt;chr&gt;</th><th scope=col>&lt;chr&gt;</th></tr>\n",
       "</thead>\n",
       "<tbody>\n",
       "\t<tr><th scope=row>106</th><td>addybo01</td><td>Bob</td><td>Addy</td></tr>\n",
       "</tbody>\n",
       "</table>\n"
      ],
      "text/latex": [
       "A data.frame: 1 × 3\n",
       "\\begin{tabular}{r|lll}\n",
       "  & playerID & nameFirst & nameLast\\\\\n",
       "  & <chr> & <chr> & <chr>\\\\\n",
       "\\hline\n",
       "\t106 & addybo01 & Bob & Addy\\\\\n",
       "\\end{tabular}\n"
      ],
      "text/markdown": [
       "\n",
       "A data.frame: 1 × 3\n",
       "\n",
       "| <!--/--> | playerID &lt;chr&gt; | nameFirst &lt;chr&gt; | nameLast &lt;chr&gt; |\n",
       "|---|---|---|---|\n",
       "| 106 | addybo01 | Bob | Addy |\n",
       "\n"
      ],
      "text/plain": [
       "    playerID nameFirst nameLast\n",
       "106 addybo01 Bob       Addy    "
      ]
     },
     "metadata": {},
     "output_type": "display_data"
    }
   ],
   "source": [
    "bat[2,] %>% print\n",
    "Lahman::playerInfo('addybo01')"
   ]
  },
  {
   "cell_type": "markdown",
   "metadata": {
    "slideshow": {
     "slide_type": "slide"
    }
   },
   "source": [
    "Bob Addy was active in the years 1871-1877. During that time he had $118+51+152+213+310+142+245=1231$ at-bats, and $32+16+54+51+80+40+68=341$ hits. Therefore his career batting average was $341/1241=0.277$."
   ]
  },
  {
   "cell_type": "code",
   "execution_count": 82,
   "metadata": {},
   "outputs": [
    {
     "name": "stdout",
     "output_type": "stream",
     "text": [
      "\u001b[38;5;246m# A tibble: 7 x 22\u001b[39m\n",
      "  playerID yearID stint teamID lgID      G    AB     R     H   X2B   X3B    HR\n",
      "  \u001b[3m\u001b[38;5;246m<chr>\u001b[39m\u001b[23m     \u001b[3m\u001b[38;5;246m<int>\u001b[39m\u001b[23m \u001b[3m\u001b[38;5;246m<int>\u001b[39m\u001b[23m \u001b[3m\u001b[38;5;246m<fct>\u001b[39m\u001b[23m  \u001b[3m\u001b[38;5;246m<fct>\u001b[39m\u001b[23m \u001b[3m\u001b[38;5;246m<int>\u001b[39m\u001b[23m \u001b[3m\u001b[38;5;246m<int>\u001b[39m\u001b[23m \u001b[3m\u001b[38;5;246m<int>\u001b[39m\u001b[23m \u001b[3m\u001b[38;5;246m<int>\u001b[39m\u001b[23m \u001b[3m\u001b[38;5;246m<int>\u001b[39m\u001b[23m \u001b[3m\u001b[38;5;246m<int>\u001b[39m\u001b[23m \u001b[3m\u001b[38;5;246m<int>\u001b[39m\u001b[23m\n",
      "\u001b[38;5;250m1\u001b[39m addybo01   \u001b[4m1\u001b[24m871     1 RC1    NA       25   118    30    32     6     0     0\n",
      "\u001b[38;5;250m2\u001b[39m addybo01   \u001b[4m1\u001b[24m873     1 PH2    NA       10    51    12    16     1     0     0\n",
      "\u001b[38;5;250m3\u001b[39m addybo01   \u001b[4m1\u001b[24m873     2 BS1    NA       31   152    37    54     6     3     1\n",
      "\u001b[38;5;250m4\u001b[39m addybo01   \u001b[4m1\u001b[24m874     1 HR1    NA       50   213    25    51     9     2     0\n",
      "\u001b[38;5;250m5\u001b[39m addybo01   \u001b[4m1\u001b[24m875     1 PH2    NA       69   310    60    80     8     4     0\n",
      "\u001b[38;5;250m6\u001b[39m addybo01   \u001b[4m1\u001b[24m876     1 CHN    NL       32   142    36    40     4     1     0\n",
      "\u001b[38;5;250m7\u001b[39m addybo01   \u001b[4m1\u001b[24m877     1 CN1    NL       57   245    27    68     2     3     0\n",
      "\u001b[38;5;246m# … with 10 more variables: RBI \u001b[3m\u001b[38;5;246m<int>\u001b[38;5;246m\u001b[23m, SB \u001b[3m\u001b[38;5;246m<int>\u001b[38;5;246m\u001b[23m, CS \u001b[3m\u001b[38;5;246m<int>\u001b[38;5;246m\u001b[23m, BB \u001b[3m\u001b[38;5;246m<int>\u001b[38;5;246m\u001b[23m, SO \u001b[3m\u001b[38;5;246m<int>\u001b[38;5;246m\u001b[23m,\n",
      "#   IBB \u001b[3m\u001b[38;5;246m<int>\u001b[38;5;246m\u001b[23m, HBP \u001b[3m\u001b[38;5;246m<int>\u001b[38;5;246m\u001b[23m, SH \u001b[3m\u001b[38;5;246m<int>\u001b[38;5;246m\u001b[23m, SF \u001b[3m\u001b[38;5;246m<int>\u001b[38;5;246m\u001b[23m, GIDP \u001b[3m\u001b[38;5;246m<int>\u001b[38;5;246m\u001b[23m\u001b[39m\n"
     ]
    }
   ],
   "source": [
    "filter(bat, playerID == \"addybo01\") %>% print"
   ]
  },
  {
   "cell_type": "markdown",
   "metadata": {
    "slideshow": {
     "slide_type": "slide"
    }
   },
   "source": [
    "### Exercise\n",
    "By appropriately grouping and summarizing the data, add up all the hits and at-bats for each player across all the years they played, and compute their career batting average. \n",
    "\n",
    "Which player(s) has the highest career batting average?"
   ]
  },
  {
   "cell_type": "code",
   "execution_count": 83,
   "metadata": {
    "slideshow": {
     "slide_type": "slide"
    }
   },
   "outputs": [],
   "source": [
    "## Solution"
   ]
  },
  {
   "cell_type": "markdown",
   "metadata": {
    "slideshow": {
     "slide_type": "slide"
    }
   },
   "source": [
    "### Always include counts\n",
    "It is a good idea to include counts of each group when you do a summary. Some groups may have very low numbers of observations, resulting in high variance for the summary statistics. \n",
    "\n",
    "What happens if we restrict our batting average calculation to players that had at least 100 at-bats?"
   ]
  },
  {
   "cell_type": "code",
   "execution_count": 96,
   "metadata": {
    "slideshow": {
     "slide_type": "slide"
    }
   },
   "outputs": [
    {
     "name": "stderr",
     "output_type": "stream",
     "text": [
      "Selecting by avg\n"
     ]
    },
    {
     "data": {
      "text/html": [
       "<table>\n",
       "<caption>A tibble: 5 × 4</caption>\n",
       "<thead>\n",
       "\t<tr><th scope=col>playerID</th><th scope=col>H</th><th scope=col>AB</th><th scope=col>avg</th></tr>\n",
       "\t<tr><th scope=col>&lt;chr&gt;</th><th scope=col>&lt;int&gt;</th><th scope=col>&lt;int&gt;</th><th scope=col>&lt;dbl&gt;</th></tr>\n",
       "</thead>\n",
       "<tbody>\n",
       "\t<tr><td>barnero01</td><td> 860</td><td> 2391</td><td>0.3596821</td></tr>\n",
       "\t<tr><td>cobbty01 </td><td>4189</td><td>11435</td><td>0.3663314</td></tr>\n",
       "\t<tr><td>hornsro01</td><td>2930</td><td> 8173</td><td>0.3584975</td></tr>\n",
       "\t<tr><td>jacksjo01</td><td>1772</td><td> 4981</td><td>0.3557519</td></tr>\n",
       "\t<tr><td>meyerle01</td><td> 513</td><td> 1443</td><td>0.3555094</td></tr>\n",
       "</tbody>\n",
       "</table>\n"
      ],
      "text/latex": [
       "A tibble: 5 × 4\n",
       "\\begin{tabular}{r|llll}\n",
       " playerID & H & AB & avg\\\\\n",
       " <chr> & <int> & <int> & <dbl>\\\\\n",
       "\\hline\n",
       "\t barnero01 &  860 &  2391 & 0.3596821\\\\\n",
       "\t cobbty01  & 4189 & 11435 & 0.3663314\\\\\n",
       "\t hornsro01 & 2930 &  8173 & 0.3584975\\\\\n",
       "\t jacksjo01 & 1772 &  4981 & 0.3557519\\\\\n",
       "\t meyerle01 &  513 &  1443 & 0.3555094\\\\\n",
       "\\end{tabular}\n"
      ],
      "text/markdown": [
       "\n",
       "A tibble: 5 × 4\n",
       "\n",
       "| playerID &lt;chr&gt; | H &lt;int&gt; | AB &lt;int&gt; | avg &lt;dbl&gt; |\n",
       "|---|---|---|---|\n",
       "| barnero01 |  860 |  2391 | 0.3596821 |\n",
       "| cobbty01  | 4189 | 11435 | 0.3663314 |\n",
       "| hornsro01 | 2930 |  8173 | 0.3584975 |\n",
       "| jacksjo01 | 1772 |  4981 | 0.3557519 |\n",
       "| meyerle01 |  513 |  1443 | 0.3555094 |\n",
       "\n"
      ],
      "text/plain": [
       "  playerID  H    AB    avg      \n",
       "1 barnero01  860  2391 0.3596821\n",
       "2 cobbty01  4189 11435 0.3663314\n",
       "3 hornsro01 2930  8173 0.3584975\n",
       "4 jacksjo01 1772  4981 0.3557519\n",
       "5 meyerle01  513  1443 0.3555094"
      ]
     },
     "metadata": {},
     "output_type": "display_data"
    }
   ],
   "source": [
    "## Solution"
   ]
  },
  {
   "cell_type": "markdown",
   "metadata": {
    "slideshow": {
     "slide_type": "slide"
    }
   },
   "source": [
    "## Exercise\n",
    "Which player had the highest batting average in a single season? After 1920?"
   ]
  },
  {
   "cell_type": "code",
   "execution_count": 109,
   "metadata": {
    "slideshow": {
     "slide_type": "slide"
    }
   },
   "outputs": [],
   "source": [
    "## Solution"
   ]
  }
 ],
 "metadata": {
  "celltoolbar": "Slideshow",
  "kernelspec": {
   "display_name": "R",
   "language": "R",
   "name": "ir"
  },
  "language_info": {
   "codemirror_mode": "r",
   "file_extension": ".r",
   "mimetype": "text/x-r-source",
   "name": "R",
   "pygments_lexer": "r",
   "version": "3.6.1"
  }
 },
 "nbformat": 4,
 "nbformat_minor": 1
}
