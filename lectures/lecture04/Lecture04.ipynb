{
 "cells": [
  {
   "cell_type": "code",
   "execution_count": 1,
   "metadata": {
    "slideshow": {
     "slide_type": "notes"
    }
   },
   "outputs": [
    {
     "data": {
      "text/html": [
       "\n",
       "<style>\n",
       ".rendered_html table, .rendered_html th, .rendered_html tr, .rendered_html td {\n",
       "     font-size: 100%;\n",
       "}\n",
       "body.rise-enabled div.inner_cell>div.input_area {\n",
       "    font-size: 150%;\n",
       "}\n",
       "\n",
       "body.rise-enabled div.output_subarea.output_text.output_result {\n",
       "    font-size: 150%;\n",
       "}\n",
       "body.rise-enabled div.output_subarea.output_text.output_stream.output_stdout {\n",
       "  font-size: 150%;\n",
       "}\n",
       "</style>\n"
      ]
     },
     "metadata": {},
     "output_type": "display_data"
    }
   ],
   "source": [
    "IRdisplay::display_html(\"\n",
    "<style>\n",
    ".rendered_html table, .rendered_html th, .rendered_html tr, .rendered_html td {\n",
    "     font-size: 100%;\n",
    "}\n",
    "body.rise-enabled div.inner_cell>div.input_area {\n",
    "    font-size: 150%;\n",
    "}\n",
    "\n",
    "body.rise-enabled div.output_subarea.output_text.output_result {\n",
    "    font-size: 150%;\n",
    "}\n",
    "body.rise-enabled div.output_subarea.output_text.output_stream.output_stdout {\n",
    "  font-size: 150%;\n",
    "}\n",
    "</style>\n",
    "\")"
   ]
  },
  {
   "cell_type": "markdown",
   "metadata": {
    "slideshow": {
     "slide_type": "slide"
    }
   },
   "source": [
    "# Lecture 04: Data manipulation II\n",
    "\n",
    "<div style=\"border: 1px double black; padding: 10px; margin: 10px\">\n",
    "\n",
    "**In today's lecture we'll answer the following questions:**\n",
    "* What days of the year / week are the busiest for flying?\n",
    "* Who is the best batter in the history of baseball?\n",
    "\n",
    "Along the way, we'll learn how to:\n",
    "* Use [pipes](#Pipes).\n",
    "* [Generate new variables](#Adding-New-Variables) using various transformations.\n",
    "* [Group data and summarize it](#Grouped-Summaries).\n",
    "</div>"
   ]
  },
  {
   "cell_type": "code",
   "execution_count": 2,
   "metadata": {
    "slideshow": {
     "slide_type": "notes"
    }
   },
   "outputs": [
    {
     "name": "stderr",
     "output_type": "stream",
     "text": [
      "── Attaching packages ─────────────────────────────────────── tidyverse 1.2.1 ──\n",
      "✔ ggplot2 3.2.1     ✔ purrr   0.3.2\n",
      "✔ tibble  2.1.3     ✔ dplyr   0.8.3\n",
      "✔ tidyr   0.8.3     ✔ stringr 1.4.0\n",
      "✔ readr   1.3.0     ✔ forcats 0.3.0\n",
      "── Conflicts ────────────────────────────────────────── tidyverse_conflicts() ──\n",
      "✖ dplyr::filter()  masks stats::filter()\n",
      "✖ purrr::flatten() masks jsonlite::flatten()\n",
      "✖ dplyr::lag()     masks stats::lag()\n"
     ]
    }
   ],
   "source": [
    "library(tidyverse)\n",
    "library(nycflights13)\n",
    "options(jupyter.plot_mimetypes = \"image/png\");"
   ]
  },
  {
   "cell_type": "markdown",
   "metadata": {
    "slideshow": {
     "slide_type": "slide"
    }
   },
   "source": [
    "## What days of the year / at what airport are the busiest for flying?\n",
    "\n",
    "Let's think about the table we would want to have in order to answer this question. Ideally,\n",
    "it would look something like this:\n",
    "\n",
    "    # A tibble: 1,095 x 4\n",
    "       month   day airport n_sched_departures\n",
    "       <int> <int> <chr>                <int>\n",
    "     1     1     1 EWR                    305\n",
    "     2     1     1 JFK                    297\n",
    "     3     1     1 LGA                    240\n",
    "     4     1     2 EWR                    350\n",
    "     5     1     2 JFK                    321\n",
    "     6     1     2 LGA                    272\n",
    "     7     1     3 EWR                    336\n",
    "     8     1     3 JFK                    318\n",
    "     9     1     3 LGA                    260\n",
    "    10     1     4 EWR                    339\n",
    "    # … with 1,085 more rows"
   ]
  },
  {
   "cell_type": "markdown",
   "metadata": {
    "slideshow": {
     "slide_type": "notes"
    }
   },
   "source": [
    "The table we are given has ~337k rows, one for each flight. How do we go from the `flights` table to the one shown above?"
   ]
  },
  {
   "cell_type": "markdown",
   "metadata": {
    "slideshow": {
     "slide_type": "slide"
    }
   },
   "source": [
    "## Summaries\n",
    "`summarize()` can be used to summarize entire data frames by collapsing them into single number summaries. The syntax is:\n",
    "```{r}\n",
    "summarize(<grouped tibble>, \n",
    "<new variable> = \n",
    "<formula for new variable>,\n",
    "<other new variable> = <other formula>)\n",
    "```"
   ]
  },
  {
   "cell_type": "markdown",
   "metadata": {
    "slideshow": {
     "slide_type": "slide"
    }
   },
   "source": [
    "The most basic use of summarize is to compute statistics over the whole data set:"
   ]
  },
  {
   "cell_type": "code",
   "execution_count": 29,
   "metadata": {
    "slideshow": {
     "slide_type": "-"
    }
   },
   "outputs": [
    {
     "name": "stdout",
     "output_type": "stream",
     "text": [
      "# A tibble: 1 x 1\n",
      "  delay\n",
      "  <dbl>\n",
      "1  12.6\n"
     ]
    }
   ],
   "source": [
    "tbl <- filter(flights, !is.na(dep_delay))\n",
    "print(summarize(tbl, delay = mean(dep_delay)))"
   ]
  },
  {
   "cell_type": "markdown",
   "metadata": {
    "slideshow": {
     "slide_type": "slide"
    }
   },
   "source": [
    "### Grouping observations\n",
    "`summarize()` is most useful when combined with `group_by()` to group observations before calculating the summary statistic. The `group_by` function tells R how your data are grouped:"
   ]
  },
  {
   "cell_type": "code",
   "execution_count": 42,
   "metadata": {
    "slideshow": {
     "slide_type": "-"
    }
   },
   "outputs": [
    {
     "name": "stdout",
     "output_type": "stream",
     "text": [
      "# A tibble: 12 x 3\n",
      "   month delay total_delay\n",
      "   <int> <dbl>       <dbl>\n",
      " 1     1 10.0       265801\n",
      " 2     2 10.8       256251\n",
      " 3     3 13.2       370001\n",
      " 4     4 13.9       385554\n",
      " 5     5 13.0       366658\n",
      " 6     6 20.8       567729\n",
      " 7     7 21.7       618916\n",
      " 8     8 12.6       363715\n",
      " 9     9  6.72      182327\n",
      "10    10  6.24      178909\n",
      "11    11  5.44      146945\n",
      "12    12 16.6       449394\n"
     ]
    }
   ],
   "source": [
    "tbl <- group_by(flights, month)\n",
    "# print(tbl)\n",
    "tbl1 <- filter(tbl, !is.na(dep_delay))\n",
    "print(summarize(tbl1, delay = mean(dep_delay), \n",
    "                total_delay = sum(dep_delay)))"
   ]
  },
  {
   "cell_type": "markdown",
   "metadata": {
    "slideshow": {
     "slide_type": "slide"
    }
   },
   "source": [
    "`summarize()` applies the summary function to each group of data. Remember that it always returns **one row per group**."
   ]
  },
  {
   "cell_type": "code",
   "execution_count": 5,
   "metadata": {
    "slideshow": {
     "slide_type": "-"
    }
   },
   "outputs": [
    {
     "name": "stdout",
     "output_type": "stream",
     "text": [
      "# A tibble: 12 x 2\n",
      "   month mean_dep_delay\n",
      "   <int>          <dbl>\n",
      " 1     1          10.0 \n",
      " 2     2          10.8 \n",
      " 3     3          13.2 \n",
      " 4     4          13.9 \n",
      " 5     5          13.0 \n",
      " 6     6          20.8 \n",
      " 7     7          21.7 \n",
      " 8     8          12.6 \n",
      " 9     9           6.72\n",
      "10    10           6.24\n",
      "11    11           5.44\n",
      "12    12          16.6 \n"
     ]
    }
   ],
   "source": [
    "print(summarize(group_by(flights, month), mean_dep_delay = mean(dep_delay, na.rm=T)))"
   ]
  },
  {
   "cell_type": "markdown",
   "metadata": {
    "slideshow": {
     "slide_type": "slide"
    }
   },
   "source": [
    "It's as if `summarize()` filtered your data for each group, calculated the summary statistic, and\n",
    "then combined all the results back into one table."
   ]
  },
  {
   "cell_type": "code",
   "execution_count": 45,
   "metadata": {},
   "outputs": [
    {
     "data": {
      "text/plain": [
       "[1] 13.22708"
      ]
     },
     "metadata": {},
     "output_type": "display_data"
    }
   ],
   "source": [
    "df <- filter(flights, month == 3)\n",
    "mean(df$dep_delay, na.rm = T)  # <--- first row of the summary table"
   ]
  },
  {
   "cell_type": "markdown",
   "metadata": {
    "slideshow": {
     "slide_type": "slide"
    }
   },
   "source": [
    "Many summary functions are available:\n",
    "\n",
    "* Center: `mean(), median()`\n",
    "* Spread: `sd(), IQR(), mad()`\n",
    "* Range: `min(), max(), quantile()`\n",
    "* Position: `first(), last(), nth()`\n",
    "* Count: `n(), n_distinct()`\n",
    "* Logical: `any(), all()`"
   ]
  },
  {
   "cell_type": "markdown",
   "metadata": {
    "slideshow": {
     "slide_type": "slide"
    }
   },
   "source": [
    "### Examples\n",
    "The `n()` function calculates the number of rows in each group:"
   ]
  },
  {
   "cell_type": "code",
   "execution_count": 47,
   "metadata": {
    "slideshow": {
     "slide_type": "-"
    }
   },
   "outputs": [
    {
     "name": "stdout",
     "output_type": "stream",
     "text": [
      "# A tibble: 12 x 2\n",
      "   month     n\n",
      "   <int> <int>\n",
      " 1     1 27004\n",
      " 2     2 24951\n",
      " 3     3 28834\n",
      " 4     4 28330\n",
      " 5     5 28796\n",
      " 6     6 28243\n",
      " 7     7 29425\n",
      " 8     8 29327\n",
      " 9     9 27574\n",
      "10    10 28889\n",
      "11    11 27268\n",
      "12    12 28135\n"
     ]
    },
    {
     "data": {
      "text/plain": [
       "[1] 28135"
      ]
     },
     "metadata": {},
     "output_type": "display_data"
    }
   ],
   "source": [
    "# tbl <- group_by(flights, month)\n",
    "print(summarize(tbl, n = n()))\n",
    "nrow(filter(flights, month == 12))"
   ]
  },
  {
   "cell_type": "markdown",
   "metadata": {
    "slideshow": {
     "slide_type": "slide"
    }
   },
   "source": [
    "## Exercise\n",
    "Modify this command to produce the table shown on the first slide. That is, generate a table that has one row for each day of the year and each of the three airports, and a column which tells how many rows there were.\n",
    "\n",
    "Use this table to answer the question: which day of the year is busiest, and at what airport?"
   ]
  },
  {
   "cell_type": "code",
   "execution_count": 65,
   "metadata": {
    "slideshow": {
     "slide_type": "slide"
    }
   },
   "outputs": [
    {
     "data": {
      "text/plain": [
       "  month day origin n_sched_dep\n",
       "1 4     15  EWR    377        \n",
       "2 7     11  JFK    332        \n",
       "3 9     13  LGA    346        "
      ]
     },
     "metadata": {},
     "output_type": "display_data"
    }
   ],
   "source": [
    "tbl <- group_by(flights, month, day, origin) \n",
    "tbl1 <- summarize(tbl, n_sched_dep = n())\n",
    "tbl2 <- arrange(tbl1, desc(n_sched_dep))\n",
    "tbl3 <- group_by(tbl1, origin)\n",
    "top_n(tbl3, 1, n_sched_dep)"
   ]
  },
  {
   "cell_type": "markdown",
   "metadata": {
    "slideshow": {
     "slide_type": "slide"
    }
   },
   "source": [
    "Sometimes we want to ask: what was the most extreme value within each group? For example, what was the busiest day at each of the three airports? The `top_n()` function tells us this:"
   ]
  },
  {
   "cell_type": "code",
   "execution_count": 9,
   "metadata": {},
   "outputs": [
    {
     "name": "stderr",
     "output_type": "stream",
     "text": [
      "Selecting by n\n"
     ]
    },
    {
     "data": {
      "text/plain": [
       "  carrier n    \n",
       "1 AA      32729\n",
       "2 B6      54635\n",
       "3 DL      48110\n",
       "4 EV      54173\n",
       "5 UA      58665"
      ]
     },
     "metadata": {},
     "output_type": "display_data"
    }
   ],
   "source": [
    "top_n(summarize(group_by(flights, carrier), n = n()), 5)"
   ]
  },
  {
   "cell_type": "markdown",
   "metadata": {
    "slideshow": {
     "slide_type": "slide"
    }
   },
   "source": [
    "#### A shortcut\n",
    "`summarize(n = n())` occurs so often that there is a shortcut for it:"
   ]
  },
  {
   "cell_type": "code",
   "execution_count": 66,
   "metadata": {},
   "outputs": [
    {
     "data": {
      "text/plain": [
       "   month n    \n",
       "1   1    27004\n",
       "2   2    24951\n",
       "3   3    28834\n",
       "4   4    28330\n",
       "5   5    28796\n",
       "6   6    28243\n",
       "7   7    29425\n",
       "8   8    29327\n",
       "9   9    27574\n",
       "10 10    28889\n",
       "11 11    27268\n",
       "12 12    28135"
      ]
     },
     "metadata": {},
     "output_type": "display_data"
    }
   ],
   "source": [
    "count(flights, month)"
   ]
  },
  {
   "cell_type": "markdown",
   "metadata": {
    "slideshow": {
     "slide_type": "slide"
    }
   },
   "source": [
    "## Exercise\n",
    "What was the busiest day at each of the three airports (`EWR`, `JFK`, `LGA`)?\n",
    "\n",
    "*Hint*: `count()` by month, day and origin, and then use grouping and `top_n()`."
   ]
  },
  {
   "cell_type": "code",
   "execution_count": 67,
   "metadata": {
    "slideshow": {
     "slide_type": "slide"
    }
   },
   "outputs": [
    {
     "name": "stdout",
     "output_type": "stream",
     "text": [
      "# A tibble: 336,776 x 19\n",
      "    year month   day dep_time sched_dep_time dep_delay arr_time sched_arr_time\n",
      "   <int> <int> <int>    <int>          <int>     <dbl>    <int>          <int>\n",
      " 1  2013     1     1      517            515         2      830            819\n",
      " 2  2013     1     1      533            529         4      850            830\n",
      " 3  2013     1     1      542            540         2      923            850\n",
      " 4  2013     1     1      544            545        -1     1004           1022\n",
      " 5  2013     1     1      554            600        -6      812            837\n",
      " 6  2013     1     1      554            558        -4      740            728\n",
      " 7  2013     1     1      555            600        -5      913            854\n",
      " 8  2013     1     1      557            600        -3      709            723\n",
      " 9  2013     1     1      557            600        -3      838            846\n",
      "10  2013     1     1      558            600        -2      753            745\n",
      "# … with 336,766 more rows, and 11 more variables: arr_delay <dbl>,\n",
      "#   carrier <chr>, flight <int>, tailnum <chr>, origin <chr>, dest <chr>,\n",
      "#   air_time <dbl>, distance <dbl>, hour <dbl>, minute <dbl>, time_hour <dttm>\n"
     ]
    }
   ],
   "source": [
    "print(flights)"
   ]
  },
  {
   "cell_type": "markdown",
   "metadata": {
    "slideshow": {
     "slide_type": "slide"
    }
   },
   "source": [
    "### Exercise\n",
    "\n",
    "Use `summarize()`, `count()`, `filter()`, `arrange()` and/or `top_n()` to answer:\n",
    "\n",
    "<table class=\"table-condensed\">\n",
    "    <tr><th>Beginner</th><th>Advanced</th></tr>\n",
    "    <tr><td>\n",
    "        Which plane (tail number) flew the most flights in July?\n",
    "        </td>\n",
    "    <td>\n",
    "        How many planes flew at least one flight in January, but none in February?\n",
    "        </td>\n",
    "    </tr>\n",
    "    <tr>\n",
    "<td>\n",
    "</tr>\n",
    "</table>\n",
    "\n",
    "\n",
    "\n",
    "\n"
   ]
  },
  {
   "cell_type": "code",
   "execution_count": 79,
   "metadata": {
    "slideshow": {
     "slide_type": "slide"
    }
   },
   "outputs": [
    {
     "data": {
      "text/plain": [
       "  n_per_tail\n",
       "1 3215      "
      ]
     },
     "metadata": {},
     "output_type": "display_data"
    }
   ],
   "source": [
    "tbl0 <- filter(flights, month == 7, !is.na(tailnum))\n",
    "tbl1 <- count(tbl0, tailnum)\n",
    "tbl2 <- summarize(tbl1, n_per_tail = n())\n",
    "arrange(summarize(count(\n",
    "    filter(flights, month == 7, !is.na(tailnum)), tailnum), \n",
    "                  n_per_tail = n()), \n",
    "        desc(n_per_tail))"
   ]
  },
  {
   "cell_type": "markdown",
   "metadata": {
    "slideshow": {
     "slide_type": "slide"
    }
   },
   "source": [
    "## Pipes\n",
    "Starting now, we will make extensive use of the pipe operator `%>%`. Consider the previous exercise:"
   ]
  },
  {
   "cell_type": "code",
   "execution_count": 13,
   "metadata": {
    "slideshow": {
     "slide_type": "-"
    }
   },
   "outputs": [
    {
     "name": "stderr",
     "output_type": "stream",
     "text": [
      "Selecting by n\n"
     ]
    },
    {
     "data": {
      "text/plain": [
       "  month day origin n  \n",
       "1 4     15  EWR    377\n",
       "2 7     11  JFK    332\n",
       "3 9     13  LGA    346"
      ]
     },
     "metadata": {},
     "output_type": "display_data"
    }
   ],
   "source": [
    "top_n(group_by(summarize(group_by(flights, month, day, origin), n = n()), \n",
    "               origin), 1)"
   ]
  },
  {
   "cell_type": "markdown",
   "metadata": {
    "slideshow": {
     "slide_type": "slide"
    }
   },
   "source": [
    "This is not very nice. To figure out what the command is doing you have to work from the inside out, which is not the order in which we are accustomed to reading. A slight improvement might be:"
   ]
  },
  {
   "cell_type": "code",
   "execution_count": 14,
   "metadata": {
    "slideshow": {
     "slide_type": "-"
    }
   },
   "outputs": [
    {
     "name": "stderr",
     "output_type": "stream",
     "text": [
      "Selecting by n\n"
     ]
    },
    {
     "data": {
      "text/plain": [
       "  month day origin n  \n",
       "1 4     15  EWR    377\n",
       "2 7     11  JFK    332\n",
       "3 9     13  LGA    346"
      ]
     },
     "metadata": {},
     "output_type": "display_data"
    }
   ],
   "source": [
    "table1 <- group_by(flights, month, day, origin)\n",
    "table2 <- summarize(table1, n = n())\n",
    "table3 <- group_by(table2, origin)\n",
    "top_n(table3, 1)"
   ]
  },
  {
   "cell_type": "markdown",
   "metadata": {
    "slideshow": {
     "slide_type": "slide"
    }
   },
   "source": [
    "This is better, but now you've created a bunch of useless temporary variables, and it requires a lot of typing. \n",
    "Instead, we are going to use a new operator `%>%` (prounouced \"pipe\"):"
   ]
  },
  {
   "cell_type": "code",
   "execution_count": 15,
   "metadata": {
    "slideshow": {
     "slide_type": "-"
    }
   },
   "outputs": [
    {
     "name": "stderr",
     "output_type": "stream",
     "text": [
      "Selecting by n\n"
     ]
    },
    {
     "data": {
      "text/plain": [
       "  month day origin n  \n",
       "1 4     15  EWR    377\n",
       "2 7     11  JFK    332\n",
       "3 9     13  LGA    346"
      ]
     },
     "metadata": {},
     "output_type": "display_data"
    }
   ],
   "source": [
    "group_by(flights, month, day, origin) %>%\n",
    "    summarize(n = n()) %>%\n",
    "    group_by(origin) %>%\n",
    "    top_n(1)"
   ]
  },
  {
   "cell_type": "markdown",
   "metadata": {
    "slideshow": {
     "slide_type": "notes"
    }
   },
   "source": [
    "This is much better. We can read the command from left to right and know exactly what is going on."
   ]
  },
  {
   "cell_type": "markdown",
   "metadata": {
    "slideshow": {
     "slide_type": "slide"
    }
   },
   "source": [
    "### How `%>%` works\n",
    "Under the hood, `x %>% f(y)` turns into `f(x, y)`, and `x %>% f(y) %>% g(z)` turns into `g(f(x, y), z)` and so on. We can use `%>%` on any function, not just those defined in tidyverse:"
   ]
  },
  {
   "cell_type": "code",
   "execution_count": 16,
   "metadata": {},
   "outputs": [
    {
     "name": "stdout",
     "output_type": "stream",
     "text": [
      "[1] \"hello world\"\n"
     ]
    }
   ],
   "source": [
    "\"hello world\" %>% print()  # prints \"hello world\""
   ]
  },
  {
   "cell_type": "markdown",
   "metadata": {
    "slideshow": {
     "slide_type": "slide"
    }
   },
   "source": [
    "## Adding New Variables\n",
    "The `dplyr`/`tidyverse` package offers the `mutate()` and `transmute()` commands to add new variables to data tibbles. The syntax is:\n",
    "```{r}\n",
    "<tibble> %>% mutate(<new variable> = <formula for new variable>,\n",
    "                    <other new variable> = <other formula>)\n",
    "```\n",
    "This returns a copy of `<tibble>` with the new variables added on. `transmute()` does the same thing as `mutate()` but only keeps the new variables."
   ]
  },
  {
   "cell_type": "markdown",
   "metadata": {
    "slideshow": {
     "slide_type": "notes"
    }
   },
   "source": [
    "New variables can be added using the `mutate()` function. We already have an `air_time` variable. Let us compute the total time for the flight by subtracting the time of departure `dep_time` from time of arrival `arr_time`.\n",
    "\n",
    "We notice something odd though. When we subtract 5h 17m from 8h 30m we should get 3h 13m, i.e. 193 minutes. But instead we get 313 minutes below."
   ]
  },
  {
   "cell_type": "code",
   "execution_count": 82,
   "metadata": {
    "scrolled": true,
    "slideshow": {
     "slide_type": "slide"
    }
   },
   "outputs": [
    {
     "name": "stdout",
     "output_type": "stream",
     "text": [
      "# A tibble: 336,776 x 3\n",
      "   arr_time dep_time total_time\n",
      "      <int>    <int>      <int>\n",
      " 1      830      517        313\n",
      " 2      850      533        317\n",
      " 3      923      542        381\n",
      " 4     1004      544        460\n",
      " 5      812      554        258\n",
      " 6      740      554        186\n",
      " 7      913      555        358\n",
      " 8      709      557        152\n",
      " 9      838      557        281\n",
      "10      753      558        195\n",
      "# … with 336,766 more rows\n"
     ]
    }
   ],
   "source": [
    "flights %>% mutate(total_time = arr_time - dep_time) %>% \n",
    "            select(arr_time, dep_time, total_time) %>% print"
   ]
  },
  {
   "cell_type": "markdown",
   "metadata": {
    "slideshow": {
     "slide_type": "notes"
    }
   },
   "source": [
    "The issue is that `dep_time` and `arr_time` are in the hour-minute notation, so you cannot add and subtract them like regular numbers. We should first convert these times into the number of minutes elapsed since midnight.\n",
    "\n",
    "We want add to new variables `new_dep` and `new_arr` but we need to write a function first that can do the conversion. The function is given below; we'll learn how it works later in the semester. For now just think of it as a black box that converts times from one format to another."
   ]
  },
  {
   "cell_type": "code",
   "execution_count": 85,
   "metadata": {
    "slideshow": {
     "slide_type": "slide"
    }
   },
   "outputs": [
    {
     "data": {
      "text/plain": [
       "[1] 720"
      ]
     },
     "metadata": {},
     "output_type": "display_data"
    }
   ],
   "source": [
    "hourmin2min <- function(hourmin) {  # minutes after 000=midnight\n",
    "    min <- hourmin %% 100  # modulus\n",
    "    hour <- (hourmin - min) %/% 100  # integer division\n",
    "    return(60*hour + min)\n",
    "} \n",
    "\n",
    "hourmin2min(1200)"
   ]
  },
  {
   "cell_type": "markdown",
   "metadata": {
    "slideshow": {
     "slide_type": "slide"
    }
   },
   "source": [
    "Let us test the function on 530. That's 5h 30min, i.e., 330 minutes since midnight."
   ]
  },
  {
   "cell_type": "code",
   "execution_count": 19,
   "metadata": {},
   "outputs": [
    {
     "data": {
      "text/plain": [
       "[1] 330"
      ]
     },
     "metadata": {},
     "output_type": "display_data"
    }
   ],
   "source": [
    "hourmin2min(530)"
   ]
  },
  {
   "cell_type": "markdown",
   "metadata": {
    "slideshow": {
     "slide_type": "slide"
    }
   },
   "source": [
    "Let us now create two new variables obtained from `arr_time` and `dep_time` by converting them into minutes since midnight. In the same command, we can also create a new `total_time` column containing their difference."
   ]
  },
  {
   "cell_type": "code",
   "execution_count": 87,
   "metadata": {},
   "outputs": [
    {
     "name": "stdout",
     "output_type": "stream",
     "text": [
      "# A tibble: 336,776 x 22\n",
      "    year month   day dep_time sched_dep_time dep_delay arr_time sched_arr_time\n",
      "   <int> <int> <int>    <int>          <int>     <dbl>    <int>          <int>\n",
      " 1  2013     1     1      517            515         2      830            819\n",
      " 2  2013     1     1      533            529         4      850            830\n",
      " 3  2013     1     1      542            540         2      923            850\n",
      " 4  2013     1     1      544            545        -1     1004           1022\n",
      " 5  2013     1     1      554            600        -6      812            837\n",
      " 6  2013     1     1      554            558        -4      740            728\n",
      " 7  2013     1     1      555            600        -5      913            854\n",
      " 8  2013     1     1      557            600        -3      709            723\n",
      " 9  2013     1     1      557            600        -3      838            846\n",
      "10  2013     1     1      558            600        -2      753            745\n",
      "# … with 336,766 more rows, and 14 more variables: arr_delay <dbl>,\n",
      "#   carrier <chr>, flight <int>, tailnum <chr>, origin <chr>, dest <chr>,\n",
      "#   air_time <dbl>, distance <dbl>, hour <dbl>, minute <dbl>, time_hour <dttm>,\n",
      "#   new_arr <dbl>, new_dep <dbl>, total_time <dbl>\n"
     ]
    }
   ],
   "source": [
    "my_flights = mutate(flights, \n",
    "                    new_arr = hourmin2min(arr_time), \n",
    "                    new_dep = hourmin2min(dep_time),\n",
    "                    total_time = new_arr - new_dep\n",
    "                   ) %>% print"
   ]
  },
  {
   "cell_type": "markdown",
   "metadata": {
    "slideshow": {
     "slide_type": "slide"
    }
   },
   "source": [
    "### Exercise\n",
    "\n",
    "There is something weird about <code>total_time</code> when compared to <code>air_time</code>. What is it?"
   ]
  },
  {
   "cell_type": "code",
   "execution_count": 88,
   "metadata": {
    "slideshow": {
     "slide_type": "slide"
    }
   },
   "outputs": [
    {
     "name": "stderr",
     "output_type": "stream",
     "text": [
      "Warning message:\n",
      "“Removed 9430 rows containing non-finite values (stat_binhex).”"
     ]
    },
    {
     "data": {
      "image/png": "[encoded data removed]"
     },
     "metadata": {},
     "output_type": "display_data"
    }
   ],
   "source": [
    "ggplot(my_flights) + geom_hex(aes(x=total_time, y=air_time))"
   ]
  },
  {
   "cell_type": "markdown",
   "metadata": {
    "slideshow": {
     "slide_type": "slide"
    }
   },
   "source": [
    "What would cause a discrepancy of 1500m?"
   ]
  },
  {
   "cell_type": "code",
   "execution_count": null,
   "metadata": {
    "slideshow": {
     "slide_type": "-"
    }
   },
   "outputs": [],
   "source": []
  },
  {
   "cell_type": "markdown",
   "metadata": {
    "slideshow": {
     "slide_type": "slide"
    }
   },
   "source": [
    "## Exercise\n",
    "Add a new variable to `new_total_time` to `my_flights` which contains a \"corrected\" version of `total_time`. Plot the resulting distribution of `new_total_time`."
   ]
  },
  {
   "cell_type": "code",
   "execution_count": 102,
   "metadata": {
    "slideshow": {
     "slide_type": "slide"
    }
   },
   "outputs": [
    {
     "name": "stderr",
     "output_type": "stream",
     "text": [
      "Warning message:\n",
      "“Removed 9430 rows containing non-finite values (stat_binhex).”"
     ]
    },
    {
     "data": {
      "image/png": "[encoded data removed]"
     },
     "metadata": {},
     "output_type": "display_data"
    }
   ],
   "source": [
    "my_flights = mutate(flights, \n",
    "                    new_arr = hourmin2min(arr_time), \n",
    "                    new_dep = hourmin2min(dep_time),\n",
    "                    total_time = new_arr - new_dep,\n",
    "                    new_total_time = ifelse(\n",
    "                        total_time < 0,\n",
    "                        total_time + 1440,\n",
    "                        total_time\n",
    "                    )\n",
    "                   )\n",
    "ggplot(my_flights) + geom_hex(aes(x=new_total_time, y=air_time))"
   ]
  },
  {
   "cell_type": "markdown",
   "metadata": {
    "slideshow": {
     "slide_type": "slide"
    }
   },
   "source": [
    "## Who is the greatest batter of all time?\n",
    "The `Lahman` dataset contains information on baseball players."
   ]
  },
  {
   "cell_type": "code",
   "execution_count": 103,
   "metadata": {},
   "outputs": [
    {
     "ename": "ERROR",
     "evalue": "Error in library(Lahman): there is no package called ‘Lahman’\n",
     "output_type": "error",
     "traceback": [
      "Error in library(Lahman): there is no package called ‘Lahman’\nTraceback:\n",
      "1. library(Lahman)",
      "2. stop(txt, domain = NA)"
     ]
    }
   ],
   "source": [
    "library(Lahman)\n",
    "bat <- as_tibble(Batting) %>% print"
   ]
  },
  {
   "cell_type": "markdown",
   "metadata": {
    "slideshow": {
     "slide_type": "slide"
    }
   },
   "source": [
    "There is one row per player per year:"
   ]
  },
  {
   "cell_type": "code",
   "execution_count": null,
   "metadata": {
    "slideshow": {
     "slide_type": "-"
    }
   },
   "outputs": [],
   "source": [
    "bat[2,] %>% print\n",
    "Lahman::playerInfo('addybo01')"
   ]
  },
  {
   "cell_type": "markdown",
   "metadata": {
    "slideshow": {
     "slide_type": "slide"
    }
   },
   "source": [
    "Bob Addy was active in the years 1871-1877. During that time he had $118+51+152+213+310+142+245=1231$ at-bats, and $32+16+54+51+80+40+68=341$ hits. Therefore his career batting average was $341/1241=0.277$."
   ]
  },
  {
   "cell_type": "code",
   "execution_count": null,
   "metadata": {},
   "outputs": [],
   "source": [
    "filter(bat, playerID == \"addybo01\") %>% print"
   ]
  },
  {
   "cell_type": "markdown",
   "metadata": {
    "slideshow": {
     "slide_type": "slide"
    }
   },
   "source": [
    "### Exercise\n",
    "By appropriately grouping and summarizing the data, add up all the hits and at-bats for each player across all the years they played, and compute their career batting average. \n",
    "\n",
    "Which player(s) has the highest career batting average?"
   ]
  },
  {
   "cell_type": "code",
   "execution_count": null,
   "metadata": {
    "slideshow": {
     "slide_type": "slide"
    }
   },
   "outputs": [],
   "source": [
    "## Solution"
   ]
  },
  {
   "cell_type": "markdown",
   "metadata": {
    "slideshow": {
     "slide_type": "slide"
    }
   },
   "source": [
    "### Always include counts\n",
    "It is a good idea to include counts of each group when you do a summary. Some groups may have very low numbers of observations, resulting in high variance for the summary statistics. \n",
    "\n",
    "What happens if we restrict our batting average calculation to players that had at least 100 at-bats?"
   ]
  },
  {
   "cell_type": "code",
   "execution_count": null,
   "metadata": {
    "slideshow": {
     "slide_type": "slide"
    }
   },
   "outputs": [],
   "source": [
    "## Solution"
   ]
  },
  {
   "cell_type": "markdown",
   "metadata": {
    "slideshow": {
     "slide_type": "slide"
    }
   },
   "source": [
    "## Exercise\n",
    "Which player had the highest batting average in a single season? After 1920?"
   ]
  },
  {
   "cell_type": "code",
   "execution_count": null,
   "metadata": {
    "slideshow": {
     "slide_type": "slide"
    }
   },
   "outputs": [],
   "source": [
    "## Solution"
   ]
  }
 ],
 "metadata": {
  "celltoolbar": "Slideshow",
  "kernelspec": {
   "display_name": "R",
   "language": "R",
   "name": "ir"
  },
  "language_info": {
   "codemirror_mode": "r",
   "file_extension": ".r",
   "mimetype": "text/x-r-source",
   "name": "R",
   "pygments_lexer": "r",
   "version": "3.5.2"
  }
 },
 "nbformat": 4,
 "nbformat_minor": 1
}
