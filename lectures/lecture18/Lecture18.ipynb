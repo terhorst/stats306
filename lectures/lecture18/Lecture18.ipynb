{
 "cells": [
  {
   "cell_type": "code",
   "execution_count": 3,
   "metadata": {
    "slideshow": {
     "slide_type": "notes"
    }
   },
   "outputs": [
    {
     "data": {
      "text/html": [
       "\n",
       "<style>\n",
       ".rendered_html table, .rendered_html th, .rendered_html tr, .rendered_html td {\n",
       "     font-size: 100%;\n",
       "}\n",
       "body.rise-enabled div.inner_cell>div.input_area {\n",
       "    font-size: 150%;\n",
       "}\n",
       "\n",
       "body.rise-enabled div.output_subarea.output_text.output_result {\n",
       "    font-size: 150%;\n",
       "}\n",
       "body.rise-enabled div.output_subarea.output_text.output_stream.output_stdout {\n",
       "  font-size: 150%;\n",
       "}\n",
       "</style>\n"
      ]
     },
     "metadata": {},
     "output_type": "display_data"
    }
   ],
   "source": [
    "IRdisplay::display_html(\"\n",
    "<style>\n",
    ".rendered_html table, .rendered_html th, .rendered_html tr, .rendered_html td {\n",
    "     font-size: 100%;\n",
    "}\n",
    "body.rise-enabled div.inner_cell>div.input_area {\n",
    "    font-size: 150%;\n",
    "}\n",
    "\n",
    "body.rise-enabled div.output_subarea.output_text.output_result {\n",
    "    font-size: 150%;\n",
    "}\n",
    "body.rise-enabled div.output_subarea.output_text.output_stream.output_stdout {\n",
    "  font-size: 150%;\n",
    "}\n",
    "</style>\n",
    "\")"
   ]
  },
  {
   "cell_type": "code",
   "execution_count": 4,
   "metadata": {
    "slideshow": {
     "slide_type": "notes"
    }
   },
   "outputs": [
    {
     "name": "stderr",
     "output_type": "stream",
     "text": [
      "── Attaching packages ─────────────────────────────────────── tidyverse 1.2.1 ──\n",
      "✔ ggplot2 3.2.1     ✔ purrr   0.3.2\n",
      "✔ tibble  2.1.3     ✔ dplyr   0.8.3\n",
      "✔ tidyr   0.8.3     ✔ stringr 1.4.0\n",
      "✔ readr   1.3.0     ✔ forcats 0.3.0\n",
      "── Conflicts ────────────────────────────────────────── tidyverse_conflicts() ──\n",
      "✖ dplyr::filter()  masks stats::filter()\n",
      "✖ purrr::flatten() masks jsonlite::flatten()\n",
      "✖ dplyr::lag()     masks stats::lag()\n"
     ]
    }
   ],
   "source": [
    "library(tidyverse)\n",
    "library(nycflights13)"
   ]
  },
  {
   "cell_type": "markdown",
   "metadata": {
    "slideshow": {
     "slide_type": "slide"
    }
   },
   "source": [
    "# Lecture 18: Abstraction & Debugging"
   ]
  },
  {
   "cell_type": "markdown",
   "metadata": {
    "slideshow": {
     "slide_type": "slide"
    }
   },
   "source": [
    "## So, your code does not work.\n",
    "1. What makes you say your code isn't working?\n",
    "2. What did you expect your code to do and why?\n",
    "3. What did your code do instead and how do you know?"
   ]
  },
  {
   "cell_type": "markdown",
   "metadata": {
    "slideshow": {
     "slide_type": "slide"
    }
   },
   "source": [
    "## Examples of some types of bugs\n",
    "Each of the code boxes below features a certain type of bug. We'll see strategies for how to debug each type."
   ]
  },
  {
   "cell_type": "markdown",
   "metadata": {
    "slideshow": {
     "slide_type": "slide"
    }
   },
   "source": [
    "### Syntax error\n",
    "The easiest to debug: your code won't even parse."
   ]
  },
  {
   "cell_type": "code",
   "execution_count": 3,
   "metadata": {},
   "outputs": [
    {
     "ename": "ERROR",
     "evalue": "Error in parse(text = x, srcfile = src): <text>:2:0: unexpected end of input\n1: ggplot(mpg) + geom_bar(aes(x = cty, y = hwy)\n   ^\n",
     "output_type": "error",
     "traceback": [
      "Error in parse(text = x, srcfile = src): <text>:2:0: unexpected end of input\n1: ggplot(mpg) + geom_bar(aes(x = cty, y = hwy)\n   ^\nTraceback:\n"
     ]
    }
   ],
   "source": [
    "ggplot(mpg) + geom_bar(aes(x = cty, y = hwy)"
   ]
  },
  {
   "cell_type": "markdown",
   "metadata": {
    "slideshow": {
     "slide_type": "notes"
    }
   },
   "source": [
    "You can probably look at this example and see immediately where the problem is. But what about the following example?"
   ]
  },
  {
   "cell_type": "code",
   "execution_count": 12,
   "metadata": {
    "slideshow": {
     "slide_type": "slide"
    }
   },
   "outputs": [
    {
     "ename": "ERROR",
     "evalue": "Error in parse(text = x, srcfile = src): <text>:9:1: unexpected 'if'\n8: )\n9: if\n   ^\n",
     "output_type": "error",
     "traceback": [
      "Error in parse(text = x, srcfile = src): <text>:9:1: unexpected 'if'\n8: )\n9: if\n   ^\nTraceback:\n"
     ]
    }
   ],
   "source": [
    "mustart <- model.extract(mf, \"mustart\")\n",
    "etastart <- model.extract(mf, \"etastart\")\n",
    "fit <- eval(call(if (is.function(method)) \"method\" else method, \n",
    "    x = X, y = Y, weights = weights, start = start, etastart = etastart, \n",
    "    mustart = mustart, offset = offset, family = family, \n",
    "    control = control, intercept = attr(mt, \"intercept\" > \n",
    "        0L, singular.ok = singular.ok)\n",
    ")\n",
    "if (length(offset) && attr(mt, \"intercept\") > 0L) {\n",
    "    fit2 <- eval(call(if (is.function(method)) \"method\" else method, \n",
    "        x = X[, \"(Intercept)\", drop = FALSE], y = Y, weights = weights, \n",
    "        offset = offset, family = family, control = control, \n",
    "        intercept = TRUE))\n",
    "    if (!fit2$converged) \n",
    "        warning(\"fitting to calculate the null deviance did not converge -- increase 'maxit'?\")\n",
    "    fit$null.deviance <- fit2$deviance\n",
    "}"
   ]
  },
  {
   "cell_type": "markdown",
   "metadata": {
    "slideshow": {
     "slide_type": "slide"
    }
   },
   "source": [
    "Strategies for debugging syntax errors:\n",
    "- Start at the indicated line. See if you can quickly spot the error.\n",
    "- If not, start deleting things. (Remember, your only goal is to get it to parse.)\n",
    "- Eventually, you'll delete enough code that it will parse. Backtrack."
   ]
  },
  {
   "cell_type": "markdown",
   "metadata": {
    "slideshow": {
     "slide_type": "slide"
    }
   },
   "source": [
    "### Exercise \n",
    "Debug the following syntax error(s):"
   ]
  },
  {
   "cell_type": "code",
   "execution_count": 45,
   "metadata": {},
   "outputs": [
    {
     "ename": "ERROR",
     "evalue": "Error in parse(text = x, srcfile = src): <text>:3:45: unexpected ','\n2: midwest %>% mutate(pop_10k = cut(poptotal / 1e4,\n3:                                  breaks = (0,\n                                               ^\n",
     "output_type": "error",
     "traceback": [
      "Error in parse(text = x, srcfile = src): <text>:3:45: unexpected ','\n2: midwest %>% mutate(pop_10k = cut(poptotal / 1e4,\n3:                                  breaks = (0,\n                                               ^\nTraceback:\n"
     ]
    }
   ],
   "source": [
    "# racial composition of midwest counties\n",
    "midwest %>% mutate(pop_10k = cut(poptotal / 1e4,\n",
    "                                 breaks = (0, 1, 2, 5, 10, 50, 100, Inf))) %>%\n",
    "            select(pop_10k, popwhite:popother) %>%\n",
    "            gather(\"race\", \"population\", -pop_10k) %>%\n",
    "            mutate(race = str_sub(race, 4)) %>%\n",
    "            group_by(pop_10k, race) %>\n",
    "            summarize(n=n(), population = sum(population)) %>%\n",
    "            group_by(pop_10k) %>%\n",
    "            mutate(population = round(population / sum(population), 3)) \n",
    "            spread(race, population)"
   ]
  },
  {
   "cell_type": "markdown",
   "metadata": {
    "slideshow": {
     "slide_type": "slide"
    }
   },
   "source": [
    "### Runtime error\n",
    "The code parses, but crashes when I run it."
   ]
  },
  {
   "cell_type": "markdown",
   "metadata": {
    "slideshow": {
     "slide_type": "slide"
    }
   },
   "source": [
    "Strategies for debugging runtime errors:\n",
    "- Similar to syntax errors: start at the indicated line. See if you can quickly spot the error.\n",
    "- Runtime errors often occur because you have made some assumption about the input that is not true.\n",
    "- Use `print()` statements to how monitor execution progresses."
   ]
  },
  {
   "cell_type": "markdown",
   "metadata": {
    "slideshow": {
     "slide_type": "slide"
    }
   },
   "source": [
    "### Exercise\n",
    "Resolve the runtime errors:"
   ]
  },
  {
   "cell_type": "code",
   "execution_count": 54,
   "metadata": {},
   "outputs": [
    {
     "ename": "ERROR",
     "evalue": "Error in spread(race, population): object 'race' not found\n",
     "output_type": "error",
     "traceback": [
      "Error in spread(race, population): object 'race' not found\nTraceback:\n",
      "1. spread(race, population)"
     ]
    }
   ],
   "source": [
    "# racial composition of midwest counties\n",
    "midwest %>% mutate(pop_10k = cut(poptotal / 1e4,\n",
    "                                 breaks = c(0, 1, 2, 5, 10, 50, 100, Inf))) %>%\n",
    "            select(pop_10k, popwhite:popother) %>%\n",
    "            gather(\"race\", \"population\", -pop_10k) %>%\n",
    "            mutate(race = str_sub(race, 4)) %>%\n",
    "            group_by(pop_10k, race) %>%\n",
    "            summarize(n=n(), population = sum(population)) %>%\n",
    "            group_by(pop_10k) %>%\n",
    "            mutate(population = round(population / sum(population), 3)) +\n",
    "            spread(race, population)"
   ]
  },
  {
   "cell_type": "markdown",
   "metadata": {
    "slideshow": {
     "slide_type": "slide"
    }
   },
   "source": [
    "### Logical errors\n",
    "The program runs and returns an answer, but the answer isn't what I expect."
   ]
  },
  {
   "cell_type": "code",
   "execution_count": 72,
   "metadata": {
    "slideshow": {
     "slide_type": "slide"
    }
   },
   "outputs": [
    {
     "data": {
      "text/plain": [
       "[1] 0.3338335"
      ]
     },
     "metadata": {},
     "output_type": "display_data"
    },
    {
     "data": {
      "text/plain": [
       "[1] 0.4601184"
      ]
     },
     "metadata": {},
     "output_type": "display_data"
    },
    {
     "data": {
      "text/plain": [
       "[1] 0.4596977"
      ]
     },
     "metadata": {},
     "output_type": "display_data"
    }
   ],
   "source": [
    "int01 <- function(f) {\n",
    "    x <- 1:1000 / 1000\n",
    "    sum(mean(f(x)))\n",
    "}\n",
    "int01(function(x) x^2)\n",
    "int01(sin)\n",
    "-(cos(1) - cos(0))"
   ]
  },
  {
   "cell_type": "markdown",
   "metadata": {
    "slideshow": {
     "slide_type": "slide"
    }
   },
   "source": [
    "Strategies for debugging runtime errors:\n",
    "- Use `stop()` to ensure that various assumptions you have made about your program are in fact true.\n",
    "- Use `print()` statements to inspect intermediate variables. \n",
    "- Advanced tools (debuggers) exist."
   ]
  },
  {
   "cell_type": "markdown",
   "metadata": {
    "slideshow": {
     "slide_type": "slide"
    }
   },
   "source": [
    "### Exercise\n",
    "The following function has several types of bugs. Fix them:"
   ]
  },
  {
   "cell_type": "code",
   "execution_count": 51,
   "metadata": {},
   "outputs": [
    {
     "ename": "ERROR",
     "evalue": "Error in parse(text = x, srcfile = src): <text>:7:26: unexpected '{'\n6:     highest_i = \"\"     # index of that column in df\n7:     for (i in 1:ncol(df) {\n                            ^\n",
     "output_type": "error",
     "traceback": [
      "Error in parse(text = x, srcfile = src): <text>:7:26: unexpected '{'\n6:     highest_i = \"\"     # index of that column in df\n7:     for (i in 1:ncol(df) {\n                            ^\nTraceback:\n"
     ]
    }
   ],
   "source": [
    "# given a vector `y` and a data frame `df`, return the name of the\n",
    "# column in `df` which has the highest squared correlation with `y`.\n",
    "# (assume `y` and all columns of `df` are numeric.)\n",
    "most_correlated <- function(y, df) {\n",
    "    highest_corr = na  # highest correlation seen so far\n",
    "    highest_i = \"\"     # index of that column in df\n",
    "    for (i in 1:ncol(df) { # loop over each column of df\n",
    "        col = df$i         # extract i-th column of df\n",
    "        if (cor(col, y)^2 > highest_corr)  # if this correlation exceeds previous high:\n",
    "            highest_cor <- corr(col, y)^2  # set new highest correlation\n",
    "            highest_i <- i                 # store corresponding index\n",
    "    } # end for loop\n",
    "    return(colnames(cor)[[i]])  # return name of most correlated column in df\n",
    "}"
   ]
  },
  {
   "cell_type": "markdown",
   "metadata": {
    "slideshow": {
     "slide_type": "notes"
    }
   },
   "source": [
    "The expected output of the function is:\n",
    "\n",
    "    ### example 1\n",
    "    > y = rnorm(5)\n",
    "    > df <- tibble(x1 = -y, x2 = rnorm(5))\n",
    "    > most_correlated(y, df)\n",
    "    [1] \"x1\"\n",
    "    ### example 2\n",
    "    > most_correlated(mpg$hwy, select(mpg, cty, displ))\n",
    "    [1] \"cty\""
   ]
  },
  {
   "cell_type": "markdown",
   "metadata": {
    "slideshow": {
     "slide_type": "slide"
    }
   },
   "source": [
    "### Advice for seeking help\n",
    "Suppose you absolutely cannot figure out your bug. Fortunately, there are great online resources where people will help you for free!\n",
    "- Slack (this class)\n",
    "- Github (maintained software)\n",
    "- Stackoverflow"
   ]
  },
  {
   "cell_type": "markdown",
   "metadata": {
    "slideshow": {
     "slide_type": "slide"
    }
   },
   "source": [
    "In order to maximize your chance of getting help, it helps to follow a few guidelines:\n",
    "- Be a specific as you can about what you were expecting to happen, what happened, and why this is a bug.\n",
    "- Post the *exact* error message that you get, along with context.\n",
    "- Post a minimal bit of code that someone can use to reproduce your bug."
   ]
  },
  {
   "cell_type": "markdown",
   "metadata": {
    "slideshow": {
     "slide_type": "slide"
    }
   },
   "source": [
    "## Abstraction\n",
    "Why use functions? They let us break down complicated problems into smaller, more manageable subproblems. Complex software is written using this principle."
   ]
  },
  {
   "cell_type": "markdown",
   "metadata": {
    "slideshow": {
     "slide_type": "slide"
    }
   },
   "source": [
    "![example of a stack trace](http://2.bp.blogspot.com/-9nBb0CvqBIg/T2UKV06nD5I/AAAAAAAAAkQ/Pl2Hfj5HUlY/s1600/short-stack.png)"
   ]
  },
  {
   "cell_type": "markdown",
   "metadata": {
    "slideshow": {
     "slide_type": "slide"
    }
   },
   "source": [
    "## The wiki-link game\n",
    "To illustrate how and when to write functions, we will write a program that plays the [wiki-link game](https://en.wikipedia.org/wiki/Wikipedia:Wiki-Link_Game)."
   ]
  },
  {
   "cell_type": "markdown",
   "metadata": {
    "slideshow": {
     "slide_type": "notes"
    }
   },
   "source": [
    "Relative to what we have seen so far, this is advanced. To solve it, we will break the problem into smaller pieces which we can then tackle."
   ]
  },
  {
   "cell_type": "code",
   "execution_count": null,
   "metadata": {
    "slideshow": {
     "slide_type": "slide"
    }
   },
   "outputs": [],
   "source": [
    "play_wiki_link <- function(n) {\n",
    "    # implement\n",
    "}"
   ]
  },
  {
   "cell_type": "code",
   "execution_count": 151,
   "metadata": {
    "slideshow": {
     "slide_type": "slide"
    }
   },
   "outputs": [
    {
     "name": "stdout",
     "output_type": "stream",
     "text": [
      "[1] \"/wiki/Wikipedia:Verifiability\"\n",
      "[1] \"/wiki/Wikipedia:What_%22Ignore_all_rules%22_means#Use_common_sense\"\n",
      "[1] \"/wiki/Wikipedia:Shortcut\"\n",
      "[1] \"/wiki/Wikipedia:Ignore_all_rules\"\n",
      "[1] \"/wiki/Wikipedia:Policies_and_guidelines\"\n",
      "[1] \"/wiki/Wikipedia:Principles\"\n",
      "[1] \"/wiki/Wikipedia:Five_pillars\"\n",
      "[1] \"/wiki/Wikipedia:Wikipedia_is_an_encyclopedia\"\n",
      "[1] \"/wiki/Encyclopedia\"\n",
      "[1] \"/wiki/File:Ringelbergius,_%27Lucubrationes...KYKLOPEDEIA...%27_ed._Basel_1541_original.JPG\"\n",
      "[1] \"short page\"\n"
     ]
    },
    {
     "data": {
      "text/plain": [
       "[1] 11"
      ]
     },
     "metadata": {},
     "output_type": "display_data"
    }
   ],
   "source": [
    "play_wiki_link <- function(n) {\n",
    "    url <- get_random_wiki_url()\n",
    "    stopped <- FALSE\n",
    "    i <- 1\n",
    "    visited <- c(url)\n",
    "    while (TRUE) {\n",
    "        links <- extract_links(url)\n",
    "        if (length(links) < n) {\n",
    "            # short-page ending\n",
    "            print(\"short page\")\n",
    "            break\n",
    "        }\n",
    "        # take the n-th link\n",
    "        chosen_link <- links[n]\n",
    "        # decide how to proceed\n",
    "        if (chosen_link %in% visited) {\n",
    "            # infinite loop ending\n",
    "            print(\"infinite loop\")\n",
    "            break\n",
    "        } \n",
    "        if (empty_link(chosen_link)) {\n",
    "            # red link ending\n",
    "            print(\"empty link\")\n",
    "            break\n",
    "        }\n",
    "        # link is valid\n",
    "        url <- str_c(\"https://en.wikipedia.org\", chosen_link)\n",
    "        print(chosen_link,appendLF=FALSE)\n",
    "        flush.console()\n",
    "        visited <- c(visited, chosen_link)\n",
    "        i <- i + 1\n",
    "        Sys.sleep(.5)\n",
    "    }\n",
    "    i\n",
    "}\n",
    "\n",
    "play_wiki_link(5)"
   ]
  },
  {
   "cell_type": "code",
   "execution_count": null,
   "metadata": {
    "slideshow": {
     "slide_type": "slide"
    }
   },
   "outputs": [],
   "source": [
    "library(httr)\n",
    "get_random_wiki_url <- function() {\n",
    "    # https://en.wikipedia.org/wiki/Special:Random\n",
    "    GET('https://en.wikipedia.org/wiki/Special:Random')$url\n",
    "}\n",
    "get_random_wiki_url()"
   ]
  },
  {
   "cell_type": "code",
   "execution_count": 134,
   "metadata": {
    "slideshow": {
     "slide_type": "slide"
    }
   },
   "outputs": [
    {
     "data": {
      "text/plain": [
       "  [1] \"/wiki/File:Iran_location_map.svg\"               \n",
       "  [2] \"/wiki/Geographic_coordinate_system\"             \n",
       "  [3] \"/wiki/List_of_countries\"                        \n",
       "  [4] \"/wiki/Iran\"                                     \n",
       "  [5] \"/wiki/Provinces_of_Iran\"                        \n",
       "  [6] \"/wiki/Hormozgan_Province\"                       \n",
       "  [7] \"/wiki/Counties_of_Iran\"                         \n",
       "  [8] \"/wiki/Jask_County\"                              \n",
       "  [9] \"/wiki/Bakhsh\"                                   \n",
       " [10] \"/wiki/Central_District_(Jask_County)\"           \n",
       " [11] \"/wiki/Rural_Districts_of_Iran\"                  \n",
       " [12] \"/wiki/Jask_Rural_District\"                      \n",
       " [13] \"/wiki/Time_zone\"                                \n",
       " [14] \"/wiki/UTC%2B3:30\"                               \n",
       " [15] \"/wiki/Iran_Standard_Time\"                       \n",
       " [16] \"/wiki/Daylight_saving_time\"                     \n",
       " [17] \"/wiki/UTC%2B4:30\"                               \n",
       " [18] \"/wiki/Iran_Daylight_Time\"                       \n",
       " [19] \"/wiki/Persian_language\"                         \n",
       " [20] \"/wiki/Romanize\"                                 \n",
       " [21] \"/wiki/Jask_Rural_District\"                      \n",
       " [22] \"/wiki/Central_District_(Jask_County)\"           \n",
       " [23] \"/wiki/Jask_County\"                              \n",
       " [24] \"/wiki/Hormozgan_Province\"                       \n",
       " [25] \"/wiki/Iran\"                                     \n",
       " [26] \"/w/index.php?title=Geygan&action=edit&section=1\"\n",
       " [27] \"/wiki/GEOnet_Names_Server\"                      \n",
       " [28] \"/wiki/Islamic_Republic_of_Iran\"                 \n",
       " [29] \"/wiki/Template:Jask_County\"                     \n",
       " [30] \"/wiki/Template_talk:Jask_County\"                \n",
       " [31] \"/wiki/Iran\"                                     \n",
       " [32] \"/wiki/Jask_County\"                              \n",
       " [33] \"/wiki/Capital_city\"                             \n",
       " [34] \"/wiki/Jask\"                                     \n",
       " [35] \"/wiki/Administrative_divisions_of_Iran\"         \n",
       " [36] \"/wiki/Central_District_(Jask_County)\"           \n",
       " [37] \"/wiki/Jask\"                                     \n",
       " [38] \"/wiki/Rural_Districts_of_Iran\"                  \n",
       " [39] \"/wiki/Gabrik_Rural_District\"                    \n",
       " [40] \"/wiki/Band_Bast,_Hormozgan\"                     \n",
       " [41] \"/wiki/Daski,_Jask\"                              \n",
       " [42] \"/wiki/Dival,_Hormozgan\"                         \n",
       " [43] \"/wiki/Dizu\"                                     \n",
       " [44] \"/wiki/Espatil\"                                  \n",
       " [45] \"/wiki/Gabad\"                                    \n",
       " [46] \"/wiki/Ganjak,_Jask\"                             \n",
       " [47] \"/wiki/Garandu,_Jask\"                            \n",
       " [48] \"/wiki/Hajjiabad,_Jask\"                          \n",
       " [49] \"/wiki/Hangestan\"                                \n",
       " [50] \"/wiki/Hesar,_Hormozgan\"                         \n",
       " [51] \"/wiki/Heyman,_Iran\"                             \n",
       " [52] \"/wiki/Hun,_Iran\"                                \n",
       " [53] \"/wiki/Hushdan\"                                  \n",
       " [54] \"/wiki/Jagin-e_Bala\"                             \n",
       " [55] \"/wiki/Jahla\"                                    \n",
       " [56] \"/wiki/Kaki,_Hormozgan\"                          \n",
       " [57] \"/wiki/Kalari,_Iran\"                             \n",
       " [58] \"/wiki/Kaluan-e_Pain\"                            \n",
       " [59] \"/wiki/Kargi,_Hormozgan\"                         \n",
       " [60] \"/wiki/Karguh\"                                   \n",
       " [61] \"/wiki/Karuch\"                                   \n",
       " [62] \"/wiki/Kiai,_Iran\"                               \n",
       " [63] \"/wiki/Kontaki\"                                  \n",
       " [64] \"/wiki/Lirehi\"                                   \n",
       " [65] \"/wiki/Mishnu\"                                   \n",
       " [66] \"/wiki/Nowruz_Kar\"                               \n",
       " [67] \"/wiki/Par_Kuh,_Hormozgan\"                       \n",
       " [68] \"/wiki/Pishani-ye_Kandeh\"                        \n",
       " [69] \"/wiki/Sar_Tit_Kan\"                              \n",
       " [70] \"/wiki/Shahrak-e_Aliabad,_Hormozgan\"             \n",
       " [71] \"/wiki/Shahrak-e_Gabrik\"                         \n",
       " [72] \"/wiki/Shahrak-e_Mohammadabad\"                   \n",
       " [73] \"/wiki/Shahreni\"                                 \n",
       " [74] \"/wiki/Sirmach\"                                  \n",
       " [75] \"/wiki/Surgalm\"                                  \n",
       " [76] \"/wiki/Tar,_Hormozgan\"                           \n",
       " [77] \"/wiki/Tit_Kan\"                                  \n",
       " [78] \"/wiki/Zabr\"                                     \n",
       " [79] \"/wiki/Ziruki\"                                   \n",
       " [80] \"/wiki/Jask_Rural_District\"                      \n",
       " [81] \"/wiki/Baghan,_Jask\"                             \n",
       " [82] \"/wiki/Bahal,_Iran\"                              \n",
       " [83] \"/wiki/Bahmadi\"                                  \n",
       " [84] \"/wiki/Bareshkan\"                                \n",
       " [85] \"/wiki/Gazdan,_Jask\"                             \n",
       " [86] \"/wiki/Jask-e_Kohneh\"                            \n",
       " [87] \"/wiki/Kahuti,_Iran\"                             \n",
       " [88] \"/wiki/Kheyrabad,_Jask\"                          \n",
       " [89] \"/wiki/Khowshgizu\"                               \n",
       " [90] \"/wiki/Kolombari\"                                \n",
       " [91] \"/wiki/Koveyk\"                                   \n",
       " [92] \"/wiki/Koveyk-e_Bala\"                            \n",
       " [93] \"/wiki/Lafik\"                                    \n",
       " [94] \"/wiki/Negar-e_Bala\"                             \n",
       " [95] \"/wiki/Negar-e_Pain\"                             \n",
       " [96] \"/wiki/Rig,_Jask\"                                \n",
       " [97] \"/wiki/Rigu,_Jask\"                               \n",
       " [98] \"/wiki/Saran-e_Barshaku\"                         \n",
       " [99] \"/wiki/Sul,_Hormozgan\"                           \n",
       "[100] \"/wiki/Tal,_Hormozgan\"                           \n",
       "[101] \"/wiki/Zamin_Lashkari\"                           \n",
       "[102] \"/wiki/Zevadu\"                                   \n",
       "[103] \"/wiki/Kangan_Rural_District\"                    \n",
       "[104] \"/wiki/Aghushk_Khoshk_Kari\"                      \n",
       "[105] \"/wiki/Aghushkash\"                               \n",
       "[106] \"/wiki/Aghushkdal\"                               \n",
       "[107] \"/wiki/Bunji-ye_Karbasi\"                         \n",
       "[108] \"/wiki/Bunji-ye_Maski\"                           \n",
       "[109] \"/wiki/Bunji-ye_Saheli_Latidan\"                  \n",
       "[110] \"/wiki/Garuk-e_Bala\"                             \n",
       "[111] \"/wiki/Garuk-e_Pain\"                             \n",
       "[112] \"/wiki/Gattan-e_Olya\"                            \n",
       "[113] \"/wiki/Gattan-e_Sofla\"                           \n",
       "[114] \"/wiki/Gav_Bandi\"                                \n",
       "[115] \"/wiki/Gavan-e_Pain\"                             \n",
       "[116] \"/wiki/Gazi,_Hormozgan\"                          \n",
       "[117] \"/wiki/Kangan,_Hormozgan\"                        \n",
       "[118] \"/wiki/Machi,_Iran\"                              \n",
       "[119] \"/wiki/Mogh_Jangan\"                              \n",
       "[120] \"/wiki/Mogh_Rahmat\"                              \n",
       "[121] \"/wiki/Mogh-e_Qanbareh-ye_Kuh_Mobarak\"           \n",
       "[122] \"/wiki/Pazard,_Jask\"                             \n",
       "[123] \"/wiki/Rabk\"                                     \n",
       "[124] \"/wiki/Sangari_Mach\"                             \n",
       "[125] \"/wiki/Shambiran\"                                \n",
       "[126] \"/wiki/Shir_Ahan\"                                \n",
       "[127] \"/wiki/Shir_Ahan_Shahr\"                          \n",
       "[128] \"/wiki/Sohran,_Jask\"                             \n",
       "[129] \"/wiki/Sorkh_Kuh,_Hormozgan\"                     \n",
       "[130] \"/wiki/Tambaseyun-e_Kuh_Mobarak\"                 \n",
       "[131] \"/wiki/Lirdaf_District\"                          \n",
       "[132] \"/wiki/Rural_Districts_of_Iran\"                  \n",
       "[133] \"/wiki/Piveshk_Rural_District\"                   \n",
       "[134] \"/wiki/Abkuhi\"                                   \n",
       "[135] \"/wiki/Agi_Band_Bast\"                            \n",
       "[136] \"/wiki/Berag\"                                    \n",
       "[137] \"/wiki/Biahi\"                                    \n",
       "[138] \"/wiki/Chi_Darki\"                                \n",
       "[139] \"/wiki/Ganjak,_Lirdaf\"                           \n",
       "[140] \"/wiki/Getti,_Hormozgan\"                         \n",
       "[141] \"/wiki/Jahelu,_Hormozgan\"                        \n",
       "[142] \"/wiki/Johl_Darak\"                               \n",
       "[143] \"/wiki/Jomehi\"                                   \n",
       "[144] \"/wiki/Kalirak\"                                  \n",
       "[145] \"/wiki/Karbala,_Iran\"                            \n",
       "[146] \"/wiki/Karti\"                                    \n",
       "[147] \"/wiki/Kashi,_Hormozgan\"                         \n",
       "[148] \"/wiki/Kashmir,_Iran\"                            \n",
       "[149] \"/wiki/Ki_Dar-e_Bala\"                            \n",
       "[150] \"/wiki/Ki_Dar-e_Pain\"                            \n",
       "[151] \"/wiki/Kombaki\"                                  \n",
       "[152] \"/wiki/Kormi-ye_Bala\"                            \n",
       "[153] \"/wiki/Kormi-ye_Pain\"                            \n",
       "[154] \"/wiki/Kutak,_Jask\"                              \n",
       "[155] \"/wiki/Lirak\"                                    \n",
       "[156] \"/wiki/Lirdaf\"                                   \n",
       "[157] \"/wiki/Moshkuhi\"                                 \n",
       "[158] \"/wiki/Nogar_Shorq\"                              \n",
       "[159] \"/wiki/Petrowki\"                                 \n",
       "[160] \"/wiki/Piveshk\"                                  \n",
       "[161] \"/wiki/Pochak,_Hormozgan\"                        \n",
       "[162] \"/wiki/Ranaz\"                                    \n",
       "[163] \"/wiki/Rig,_Lirdaf\"                              \n",
       "[164] \"/wiki/Salahu\"                                   \n",
       "[165] \"/wiki/Shayhowli\"                                \n",
       "[166] \"/wiki/Sohroki\"                                  \n",
       "[167] \"/wiki/Taladar-e_Nakhlestan\"                     \n",
       "[168] \"/wiki/Talok\"                                    \n",
       "[169] \"/wiki/Tang_Darhaman\"                            \n",
       "[170] \"/wiki/Taratekan\"                                \n",
       "[171] \"/wiki/Tuganjak\"                                 \n",
       "[172] \"/wiki/Vanak,_Hormozgan\"                         \n",
       "[173] \"/wiki/Zahrikar\"                                 \n",
       "[174] \"/wiki/Surak_Rural_District\"                     \n",
       "[175] \"/wiki/Abd,_Iran\"                                \n",
       "[176] \"/wiki/Alai,_Iran\"                               \n",
       "[177] \"/wiki/Baridi\"                                   \n",
       "[178] \"/wiki/Bunuk\"                                    \n",
       "[179] \"/wiki/Charidaf\"                                 \n",
       "[180] \"/wiki/Chenali\"                                  \n",
       "[181] \"/wiki/Chenali-ye_Bala\"                          \n",
       "[182] \"/wiki/Daski,_Lirdaf\"                            \n",
       "[183] \"/wiki/Gachi,_Hormozgan\"                         \n",
       "[184] \"/wiki/Gapsar\"                                   \n",
       "[185] \"/wiki/Garibord\"                                 \n",
       "[186] \"/wiki/Gashmi\"                                   \n",
       "[187] \"/wiki/Gowhert\"                                  \n",
       "[188] \"/wiki/Gurbuja\"                                  \n",
       "[189] \"/wiki/Gursar\"                                   \n",
       "[190] \"/wiki/Jan_Veri\"                                 \n",
       "[191] \"/wiki/Jarit\"                                    \n",
       "[192] \"/wiki/Kalukai\"                                  \n",
       "[193] \"/wiki/Kheyrabad,_Lirdaf\"                        \n",
       "[194] \"/wiki/Miran_Guri\"                               \n",
       "[195] \"/wiki/Moga,_Iran\"                               \n",
       "[196] \"/wiki/Mohammadabad,_Jask\"                       \n",
       "[197] \"/wiki/Sahtu,_Iran\"                              \n",
       "[198] \"/wiki/Sedij\"                                    \n",
       "[199] \"/wiki/Shadini_Zehi\"                             \n",
       "[200] \"/wiki/Shahri,_Hormozgan\"                        \n",
       "[201] \"/wiki/Sham_Siahan\"                              \n",
       "[202] \"/wiki/Shemshi\"                                  \n",
       "[203] \"/wiki/Sur_Chah-e_Bala\"                          \n",
       "[204] \"/wiki/Sur_Chah-e_Pain\"                          \n",
       "[205] \"/wiki/Tang-e_Daf,_Hormozgan\"                    \n",
       "[206] \"/wiki/Tujidar\"                                  \n",
       "[207] \"/wiki/Zehi\"                                     \n",
       "[208] \"/wiki/Zigadaf\"                                  \n",
       "[209] \"/wiki/Portal:Iran\"                              \n",
       "[210] \"/wiki/File:IranHormozgan.png\"                   \n",
       "[211] \"/wiki/Jask_County\"                              \n",
       "[212] \"/wiki/Wikipedia:Stub\"                           \n",
       "[213] \"/wiki/Template:Jask-geo-stub\"                   \n",
       "[214] \"/wiki/Template_talk:Jask-geo-stub\"              "
      ]
     },
     "metadata": {},
     "output_type": "display_data"
    }
   ],
   "source": [
    "library(xml2)\n",
    "extract_links <- function(url) {\n",
    "    page <- xml2::read_html(url)\n",
    "    xml_find_all(page, \"//div[@id='mw-content-text']//a\") %>% \n",
    "        xml_attr('href') %>% \n",
    "        discard(is.na) %>% \n",
    "        keep(~ any(c(startsWith(., \"/wiki/\"), startsWith(., \"/w/index.php?\"))))\n",
    "}\n",
    "\n",
    "extract_links(get_random_wiki_url())"
   ]
  },
  {
   "cell_type": "code",
   "execution_count": 142,
   "metadata": {
    "slideshow": {
     "slide_type": "slide"
    }
   },
   "outputs": [
    {
     "name": "stdout",
     "output_type": "stream",
     "text": [
      "[1] \"/wiki/File:Ukraine_Volin_highland_en.jpg\"\n",
      "[2] \"/wiki/File:Ukraine_Volin_highland_en.jpg\"\n",
      "[3] \"/wiki/Ukrainian_language\"                \n",
      "[4] \"/wiki/Upland_(geology)\"                  \n",
      "[5] \"/wiki/Western_Ukraine\"                   \n"
     ]
    },
    {
     "data": {
      "text/plain": [
       "[1] FALSE FALSE FALSE FALSE FALSE"
      ]
     },
     "metadata": {},
     "output_type": "display_data"
    }
   ],
   "source": [
    "empty_link <- function(link) {\n",
    "    # is it a red link?\n",
    "    startsWith(link, \"/w/index.php?\")\n",
    "}\n",
    "\n",
    "links <- extract_links(get_random_wiki_url())\n",
    "print(links[1:5])\n",
    "empty_link(links[1:5])"
   ]
  },
  {
   "cell_type": "code",
   "execution_count": null,
   "metadata": {},
   "outputs": [],
   "source": []
  }
 ],
 "metadata": {
  "celltoolbar": "Slideshow",
  "kernelspec": {
   "display_name": "R",
   "language": "R",
   "name": "ir"
  },
  "language_info": {
   "codemirror_mode": "r",
   "file_extension": ".r",
   "mimetype": "text/x-r-source",
   "name": "R",
   "pygments_lexer": "r",
   "version": "3.5.2"
  }
 },
 "nbformat": 4,
 "nbformat_minor": 2
}
