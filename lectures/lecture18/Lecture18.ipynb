{
 "cells": [
  {
   "cell_type": "code",
   "execution_count": null,
   "metadata": {},
   "outputs": [],
   "source": []
  },
  {
   "cell_type": "code",
   "execution_count": 57,
   "metadata": {
    "slideshow": {
     "slide_type": "notes"
    }
   },
   "outputs": [
    {
     "data": {
      "text/html": [
       "\n",
       "<style>\n",
       ".rendered_html table, .rendered_html th, .rendered_html tr, .rendered_html td {\n",
       "     font-size: 100%;\n",
       "}\n",
       "body.rise-enabled div.inner_cell>div.input_area {\n",
       "    font-size: 150%;\n",
       "}\n",
       "\n",
       "body.rise-enabled div.output_subarea.output_text.output_result {\n",
       "    font-size: 150%;\n",
       "}\n",
       "body.rise-enabled div.output_subarea.output_text.output_stream.output_stdout {\n",
       "  font-size: 150%;\n",
       "}\n",
       "</style>\n"
      ]
     },
     "metadata": {},
     "output_type": "display_data"
    }
   ],
   "source": [
    "IRdisplay::display_html(\"\n",
    "<style>\n",
    ".rendered_html table, .rendered_html th, .rendered_html tr, .rendered_html td {\n",
    "     font-size: 100%;\n",
    "}\n",
    "body.rise-enabled div.inner_cell>div.input_area {\n",
    "    font-size: 150%;\n",
    "}\n",
    "\n",
    "body.rise-enabled div.output_subarea.output_text.output_result {\n",
    "    font-size: 150%;\n",
    "}\n",
    "body.rise-enabled div.output_subarea.output_text.output_stream.output_stdout {\n",
    "  font-size: 150%;\n",
    "}\n",
    "</style>\n",
    "\")"
   ]
  },
  {
   "cell_type": "code",
   "execution_count": 58,
   "metadata": {
    "slideshow": {
     "slide_type": "notes"
    }
   },
   "outputs": [],
   "source": [
    "library(tidyverse)\n",
    "library(nycflights13)"
   ]
  },
  {
   "cell_type": "markdown",
   "metadata": {
    "slideshow": {
     "slide_type": "slide"
    }
   },
   "source": [
    "# Lecture 18: Functional programming & applications"
   ]
  },
  {
   "cell_type": "markdown",
   "metadata": {
    "slideshow": {
     "slide_type": "slide"
    }
   },
   "source": [
    "## Review questions\n",
    "A couple of things that came up in OH and on Canvas:"
   ]
  },
  {
   "cell_type": "markdown",
   "metadata": {
    "slideshow": {
     "slide_type": "slide"
    }
   },
   "source": [
    "### `while` vs. `for`\n",
    "There were some questions in OH about `while` versus `for`. We generally use `for`. They are somewhat equivalent:\n",
    "```{r}\n",
    "for (i in 1:n) {\n",
    "    <body>\n",
    "}\n",
    "```\n",
    "is the same as \n",
    "```{r}\n",
    "i = 1\n",
    "while (i <= n) {\n",
    "    <body>\n",
    "    i = i + 1\n",
    "}\n",
    "```"
   ]
  },
  {
   "cell_type": "markdown",
   "metadata": {
    "slideshow": {
     "slide_type": "slide"
    }
   },
   "source": [
    "### Anonymous functions\n",
    "An anonymous function is, literally, a function with no name. Some of the problems on PS8 use this, e.g.:\n",
    "```{r}\n",
    "\n",
    "int01(function(x) x)\n",
    "#     ^^^^^^^^^^^^^^\n",
    "#   anonymous function\n",
    "```\n",
    "You should generally only use these for small, simple functions (max 1 line, no `{}` braces)."
   ]
  },
  {
   "cell_type": "markdown",
   "metadata": {
    "slideshow": {
     "slide_type": "slide"
    }
   },
   "source": [
    "## Iterating over multiple sequences at once\n",
    "Sometimes we want to iterate over multiple sequences. For example, suppose we had a vector `mu` of means and an equal length vector `sigma` of standard deviations. For each pair `mu[[i]],sigma[[i]]` we would like to generate a five standard normal random variable using `rnorm`."
   ]
  },
  {
   "cell_type": "markdown",
   "metadata": {
    "slideshow": {
     "slide_type": "slide"
    }
   },
   "source": [
    "Using `map`, we could accomplish this by"
   ]
  },
  {
   "cell_type": "code",
   "execution_count": 100,
   "metadata": {
    "slideshow": {
     "slide_type": "-"
    }
   },
   "outputs": [
    {
     "data": {
      "text/plain": [
       "[1]  4.675730 10.300802 -8.888945"
      ]
     },
     "metadata": {},
     "output_type": "display_data"
    }
   ],
   "source": [
    "mu = c(5, 10, -3)\n",
    "sigma = c(1, 5, 10)\n",
    "\n",
    "1:3 %>% map_dbl(~ rnorm(\n",
    "    mean = mu[[.]], sd = sigma[[.]], n = 1))"
   ]
  },
  {
   "cell_type": "markdown",
   "metadata": {
    "slideshow": {
     "slide_type": "notes"
    }
   },
   "source": [
    "Because we don't yet know how to `map` over more than one sequence at a time, we are forced to \"hack it\" by iterating over `seq_along(mu)`. This hides the true intent of what we set out to accomplish, which is to perform a map over *pairs* of `(mu[i], sigma[i])`."
   ]
  },
  {
   "cell_type": "markdown",
   "metadata": {
    "slideshow": {
     "slide_type": "slide"
    }
   },
   "source": [
    "To iterate over two sequences at once we have the `map2` command:\n",
    "```{r}\n",
    "map2(seq1, seq2, f, ...)\n",
    "```\n",
    "will call `f(seq1[[i]], seq2[[i]], ...)` for each value of `i`. Indeed, `map2` is equivalent to:\n",
    "```{r}\n",
    "map2 <- function(x, y, f, ...) {\n",
    "  out <- vector(\"list\", length(x))\n",
    "  for (i in seq_along(x)) {\n",
    "    out[[i]] <- f(x[[i]], y[[i]], ...)\n",
    "  }\n",
    "  out\n",
    "}\n",
    "```"
   ]
  },
  {
   "cell_type": "markdown",
   "metadata": {
    "slideshow": {
     "slide_type": "slide"
    }
   },
   "source": [
    "`map2` lets us succinctly rewrite the sampling code given above:"
   ]
  },
  {
   "cell_type": "code",
   "execution_count": 107,
   "metadata": {},
   "outputs": [
    {
     "data": {
      "text/plain": [
       "[1]  6.058483 14.432113 -9.192430"
      ]
     },
     "metadata": {},
     "output_type": "display_data"
    }
   ],
   "source": [
    "map2_dbl(mu, sigma, rnorm, n = 1)"
   ]
  },
  {
   "cell_type": "markdown",
   "metadata": {
    "slideshow": {
     "slide_type": "slide"
    }
   },
   "source": [
    "## Predicates\n",
    "Predicates are functions that allow you to filter out elements of sequences based on a condition. The `keep(f)` command will return a new sequence consisting of each element where `f` evaluates to `TRUE`:"
   ]
  },
  {
   "cell_type": "code",
   "execution_count": 113,
   "metadata": {},
   "outputs": [
    {
     "name": "stdout",
     "output_type": "stream",
     "text": [
      "Classes ‘tbl_df’, ‘tbl’ and 'data.frame':\t234 obs. of  11 variables:\n",
      " $ manufacturer: chr  \"audi\" \"audi\" \"audi\" \"audi\" ...\n",
      " $ model       : chr  \"a4\" \"a4\" \"a4\" \"a4\" ...\n",
      " $ displ       : num  1.8 1.8 2 2 2.8 2.8 3.1 1.8 1.8 2 ...\n",
      " $ year        : int  1999 1999 2008 2008 1999 1999 2008 1999 1999 2008 ...\n",
      " $ cyl         : int  4 4 4 4 6 6 6 4 4 4 ...\n",
      " $ trans       : chr  \"auto(l5)\" \"manual(m5)\" \"manual(m6)\" \"auto(av)\" ...\n",
      " $ drv         : chr  \"f\" \"f\" \"f\" \"f\" ...\n",
      " $ cty         : int  18 21 20 21 16 18 18 18 16 20 ...\n",
      " $ hwy         : int  29 29 31 30 26 26 27 26 25 28 ...\n",
      " $ fl          : chr  \"p\" \"p\" \"p\" \"p\" ...\n",
      " $ class       : chr  \"compact\" \"compact\" \"compact\" \"compact\" ...\n"
     ]
    }
   ],
   "source": [
    "#mpg %>% keep(is.numeric) %>% print\n",
    "#for (col in mpg) {\n",
    "#    print(is.numeric(col))\n",
    "#}\n",
    "str(mpg)"
   ]
  },
  {
   "cell_type": "markdown",
   "metadata": {
    "slideshow": {
     "slide_type": "slide"
    }
   },
   "source": [
    "`discard()` does the opposite of `keep()`:"
   ]
  },
  {
   "cell_type": "code",
   "execution_count": 4,
   "metadata": {},
   "outputs": [
    {
     "name": "stdout",
     "output_type": "stream",
     "text": [
      "# A tibble: 234 x 7\n",
      "   manufacturer model      displ trans      drv   fl    class  \n",
      "   <chr>        <chr>      <dbl> <chr>      <chr> <chr> <chr>  \n",
      " 1 audi         a4           1.8 auto(l5)   f     p     compact\n",
      " 2 audi         a4           1.8 manual(m5) f     p     compact\n",
      " 3 audi         a4           2   manual(m6) f     p     compact\n",
      " 4 audi         a4           2   auto(av)   f     p     compact\n",
      " 5 audi         a4           2.8 auto(l5)   f     p     compact\n",
      " 6 audi         a4           2.8 manual(m5) f     p     compact\n",
      " 7 audi         a4           3.1 auto(av)   f     p     compact\n",
      " 8 audi         a4 quattro   1.8 manual(m5) 4     p     compact\n",
      " 9 audi         a4 quattro   1.8 auto(l5)   4     p     compact\n",
      "10 audi         a4 quattro   2   manual(m6) 4     p     compact\n",
      "# ... with 224 more rows\n"
     ]
    }
   ],
   "source": [
    "mpg %>% discard(is_integer) %>% print"
   ]
  },
  {
   "cell_type": "markdown",
   "metadata": {
    "slideshow": {
     "slide_type": "notes"
    }
   },
   "source": [
    "Again, these examples work because *data frames/tibble are lists*."
   ]
  },
  {
   "cell_type": "markdown",
   "metadata": {
    "slideshow": {
     "slide_type": "slide"
    }
   },
   "source": [
    "`detect(f)` and `detect_index(f)` return the first element (or its index) where `f` evaluates to `TRUE`:"
   ]
  },
  {
   "cell_type": "code",
   "execution_count": 54,
   "metadata": {},
   "outputs": [
    {
     "data": {
      "text/plain": [
       "[1] 2.329436"
      ]
     },
     "metadata": {},
     "output_type": "display_data"
    }
   ],
   "source": [
    "rnorm(1000) %>% detect(~ . > 2)"
   ]
  },
  {
   "cell_type": "code",
   "execution_count": 8,
   "metadata": {},
   "outputs": [
    {
     "data": {
      "text/plain": [
       "[1] 0"
      ]
     },
     "metadata": {},
     "output_type": "display_data"
    }
   ],
   "source": [
    "rnorm(1000) %>% detect_index(~ abs(.) > 10)"
   ]
  },
  {
   "cell_type": "markdown",
   "metadata": {
    "slideshow": {
     "slide_type": "slide"
    }
   },
   "source": [
    "## The `reduce` function\n",
    "The last bit of functional programming we will study is `reduce()`. The reduce function takes a “binary” function (i.e. a function with two primary inputs), and applies it repeatedly to a list until there is only a single element left. This takes a little bit of getting used to, but ends up being very powerful."
   ]
  },
  {
   "cell_type": "markdown",
   "metadata": {
    "slideshow": {
     "slide_type": "slide"
    }
   },
   "source": [
    "Let's take a simple example: summing up numbers. If I wanted to add the numbers 1 through 4 I could of course type `sum(1:4)` and get `10`. Suppose I did not know about sum. I could also write:\n",
    "\n",
    "```{r}\n",
    "> 1 + 2 + 3 + 4\n",
    "[1] 10\n",
    "```"
   ]
  },
  {
   "cell_type": "markdown",
   "metadata": {
    "slideshow": {
     "slide_type": "slide"
    }
   },
   "source": [
    "We can rewrite this sum as \n",
    "```{r}\n",
    "> (((1 + 2) + 3) + 4)\n",
    "[1] 10\n",
    "```\n",
    "If $f(x,y) = x + y$ then we can rewrite this as \n",
    "$$f(\n",
    "f(\n",
    "f(1,2),\n",
    "3),\n",
    "4).\n",
    "$$"
   ]
  },
  {
   "cell_type": "code",
   "execution_count": 118,
   "metadata": {
    "slideshow": {
     "slide_type": "slide"
    }
   },
   "outputs": [
    {
     "data": {
      "text/plain": [
       "[1] 3628800"
      ]
     },
     "metadata": {},
     "output_type": "display_data"
    },
    {
     "data": {
      "text/plain": [
       "[1] 3628800"
      ]
     },
     "metadata": {},
     "output_type": "display_data"
    }
   ],
   "source": [
    "f <- function(x, y) x * y\n",
    "reduce(1:10, f)"
   ]
  },
  {
   "cell_type": "markdown",
   "metadata": {
    "slideshow": {
     "slide_type": "slide"
    }
   },
   "source": [
    "Obviously this is a silly thing to do for computing a simple sum, but the pattern of repeatedly applying a binary function $f(x,y)$, where $y$ is the output from a previous application of the function, actually turns up a lot in programming. The `reduce` function accomplishes this for us:"
   ]
  },
  {
   "cell_type": "code",
   "execution_count": 119,
   "metadata": {
    "slideshow": {
     "slide_type": "slide"
    }
   },
   "outputs": [
    {
     "data": {
      "text/plain": [
       "[1] 10"
      ]
     },
     "metadata": {},
     "output_type": "display_data"
    }
   ],
   "source": [
    "reduce(1:4, `+`)"
   ]
  },
  {
   "cell_type": "markdown",
   "metadata": {},
   "source": [
    "## `accumulate`\n",
    "A closely related variant of `reduce` is `accumulate`. In the above example, instead of returning \n",
    "\n",
    "$$f(1, f(2, f(3, 4)))$$\n",
    "\n",
    "accumulate would return a *vector* containing\n",
    "all of the partially evaluated sums:\n",
    "\n",
    "$$\\texttt{accumulate(f, 1:44)} = (f(1, 2), f(f(1, 2), 3), f(f(f(1, 2), 3), 4))$$"
   ]
  },
  {
   "cell_type": "code",
   "execution_count": 8,
   "metadata": {
    "scrolled": true
   },
   "outputs": [
    {
     "data": {
      "text/plain": [
       "[1]  1  3  6 10"
      ]
     },
     "metadata": {},
     "output_type": "display_data"
    }
   ],
   "source": [
    "1:4 %>% accumulate(`+`)"
   ]
  },
  {
   "cell_type": "markdown",
   "metadata": {
    "slideshow": {
     "slide_type": "slide"
    }
   },
   "source": [
    "### Example\n",
    "Suppose we have a list of vectors $(v_1,\\dots,v_n)$ and we want to find their intersection. Mathematically this equals $$I_n:=\\bigcap_{i=1}^n v_n=v_n\\cap I_{n-1},$$ so we can use reduce to compute it:"
   ]
  },
  {
   "cell_type": "code",
   "execution_count": 11,
   "metadata": {},
   "outputs": [
    {
     "data": {
      "text/plain": [
       "[1]  1  3 10"
      ]
     },
     "metadata": {},
     "output_type": "display_data"
    }
   ],
   "source": [
    "vs = list(\n",
    "  c(1, 3, 5, 6, 10),\n",
    "  c(1, 2, 3, 7, 8, 10),\n",
    "  c(1, 2, 3, 4, 8, 9, 10)\n",
    ")\n",
    "vs %>% reduce(intersect)"
   ]
  },
  {
   "cell_type": "markdown",
   "metadata": {
    "slideshow": {
     "slide_type": "slide"
    }
   },
   "source": [
    "### Exercise\n",
    "Let's say we want to concatenate together a bunch of strings, and because we haven't been coming to lecture we don't know about `str_c`. In fact, we only know about the following function which concatenates just two strings at a time:"
   ]
  },
  {
   "cell_type": "code",
   "execution_count": 14,
   "metadata": {},
   "outputs": [],
   "source": [
    "cat2 = function(x, y, ...) {\n",
    "    paste0(x, y, ...)\n",
    "}"
   ]
  },
  {
   "cell_type": "markdown",
   "metadata": {},
   "source": [
    "Use `cat2` and `reduce` to build a function which will concatenate whole vectors of strings together."
   ]
  },
  {
   "cell_type": "markdown",
   "metadata": {
    "slideshow": {
     "slide_type": "slide"
    }
   },
   "source": [
    "Let's think about what our new function will do. If we pass it the vector `c('a','b','c','d')` we should get back the string `'abcd'`. We could accomplish this using `cat2`:"
   ]
  },
  {
   "cell_type": "code",
   "execution_count": 15,
   "metadata": {},
   "outputs": [
    {
     "data": {
      "text/plain": [
       "[1] \"abcd\""
      ]
     },
     "metadata": {},
     "output_type": "display_data"
    }
   ],
   "source": [
    "v = c('a', 'b', 'c', 'd')\n",
    "cat2(cat2(cat2(v[1], v[2]), v[3]), v[4])"
   ]
  },
  {
   "cell_type": "markdown",
   "metadata": {
    "slideshow": {
     "slide_type": "slide"
    }
   },
   "source": [
    "This pattern suggests how we might use `reduce`:"
   ]
  },
  {
   "cell_type": "code",
   "execution_count": 18,
   "metadata": {},
   "outputs": [
    {
     "data": {
      "text/plain": [
       "[1] \"abcd\""
      ]
     },
     "metadata": {},
     "output_type": "display_data"
    }
   ],
   "source": [
    "v %>% reduce(cat2)"
   ]
  },
  {
   "cell_type": "markdown",
   "metadata": {
    "slideshow": {
     "slide_type": "slide"
    }
   },
   "source": [
    "### Exercise\n",
    "Given a vector $v$, the *cumulative product* of $v$ is a vector $p$ such that $$p_j = \\prod_{i=1}^j v_i.$$\n",
    "For example, the cumulative product of $(1,2,3,4)$ is $(1,2,6,24)$ (i.e. the factorials). \n",
    "\n",
    "Use `accumulate` to write a function `cumprod(v)` that computes the cumulative product."
   ]
  },
  {
   "cell_type": "code",
   "execution_count": 20,
   "metadata": {},
   "outputs": [
    {
     "data": {
      "text/plain": [
       " [1]       1       2       6      24     120     720    5040   40320  362880\n",
       "[10] 3628800"
      ]
     },
     "metadata": {},
     "output_type": "display_data"
    }
   ],
   "source": [
    "1:10 %>% accumulate(~ .x * .y)"
   ]
  },
  {
   "cell_type": "markdown",
   "metadata": {
    "slideshow": {
     "slide_type": "slide"
    }
   },
   "source": [
    "## Closures\n",
    "When we create a function\n",
    "```{r}\n",
    "f = function(x) {\n",
    "    <do somethings with x>\n",
    "}\n",
    "```\n",
    "that function has access to:\n",
    "- all of the variables defined inside the function (its arguments plus whatever other variables we create in the body of the function), *as well as*\n",
    "- all of the variables defined \"outside\" the function."
   ]
  },
  {
   "cell_type": "markdown",
   "metadata": {
    "slideshow": {
     "slide_type": "slide"
    }
   },
   "source": [
    "Example:"
   ]
  },
  {
   "cell_type": "code",
   "execution_count": 121,
   "metadata": {},
   "outputs": [
    {
     "data": {
      "text/plain": [
       "[1] 2"
      ]
     },
     "metadata": {},
     "output_type": "display_data"
    },
    {
     "data": {
      "text/plain": [
       "[1] 3"
      ]
     },
     "metadata": {},
     "output_type": "display_data"
    }
   ],
   "source": [
    "y = 1\n",
    "f = function(x) {\n",
    "    x + y\n",
    "}\n",
    "f(1)\n",
    "y <- 2\n",
    "f(1)"
   ]
  },
  {
   "cell_type": "markdown",
   "metadata": {
    "slideshow": {
     "slide_type": "slide"
    }
   },
   "source": [
    "Now `f` is a function that will add one to its argument:"
   ]
  },
  {
   "cell_type": "code",
   "execution_count": 30,
   "metadata": {},
   "outputs": [
    {
     "data": {
      "text/plain": [
       "[1] 2"
      ]
     },
     "metadata": {},
     "output_type": "display_data"
    }
   ],
   "source": [
    "f(1)"
   ]
  },
  {
   "cell_type": "markdown",
   "metadata": {
    "slideshow": {
     "slide_type": "slide"
    }
   },
   "source": [
    "In fact, we can change the behavior of `f` by changing `y`. Observe:"
   ]
  },
  {
   "cell_type": "code",
   "execution_count": 34,
   "metadata": {},
   "outputs": [
    {
     "data": {
      "text/plain": [
       "[1] 3"
      ]
     },
     "metadata": {},
     "output_type": "display_data"
    }
   ],
   "source": [
    "y = 2\n",
    "f(1)  # now f adds 2 to x"
   ]
  },
  {
   "cell_type": "code",
   "execution_count": 35,
   "metadata": {},
   "outputs": [
    {
     "data": {
      "text/plain": [
       "[1] NA"
      ]
     },
     "metadata": {},
     "output_type": "display_data"
    }
   ],
   "source": [
    "y = NA\n",
    "f(1) "
   ]
  },
  {
   "cell_type": "markdown",
   "metadata": {
    "slideshow": {
     "slide_type": "notes"
    }
   },
   "source": [
    "In this example `f` is what's called a *closure*, because it *encloses* all the variables defined outside of `f`, as well as those defined inside of it."
   ]
  },
  {
   "cell_type": "markdown",
   "metadata": {
    "slideshow": {
     "slide_type": "slide"
    }
   },
   "source": [
    "Closures become useful when we think about creating functions inside of other functions:"
   ]
  },
  {
   "cell_type": "code",
   "execution_count": 47,
   "metadata": {},
   "outputs": [],
   "source": [
    "power = function(exponent) {\n",
    "  function(x) {\n",
    "    x ^ exponent\n",
    "  }\n",
    "}\n",
    "square = power(2)\n",
    "cube = power(3)"
   ]
  },
  {
   "cell_type": "markdown",
   "metadata": {
    "slideshow": {
     "slide_type": "slide"
    }
   },
   "source": [
    "What is `square` now? It's a function:"
   ]
  },
  {
   "cell_type": "code",
   "execution_count": 49,
   "metadata": {},
   "outputs": [
    {
     "data": {
      "text/plain": [
       "[1] 9"
      ]
     },
     "metadata": {},
     "output_type": "display_data"
    },
    {
     "data": {
      "text/plain": [
       "[1] 64"
      ]
     },
     "metadata": {},
     "output_type": "display_data"
    }
   ],
   "source": [
    "square(3)\n",
    "cube(4)"
   ]
  },
  {
   "cell_type": "markdown",
   "metadata": {
    "slideshow": {
     "slide_type": "slide"
    }
   },
   "source": [
    "As we said, `square` is a closure. The list of variables it encloses is called its *environment*. You can look at this list by using the command of that name:"
   ]
  },
  {
   "cell_type": "code",
   "execution_count": 50,
   "metadata": {},
   "outputs": [
    {
     "data": {
      "text/plain": [
       "function(x) {\n",
       "    x ^ exponent\n",
       "  }\n",
       "<environment: 0x7fe8b18b6958>"
      ]
     },
     "metadata": {},
     "output_type": "display_data"
    },
    {
     "data": {
      "text/plain": [
       "$exponent\n",
       "[1] 2\n"
      ]
     },
     "metadata": {},
     "output_type": "display_data"
    }
   ],
   "source": [
    "square\n",
    "as.list(environment(square))"
   ]
  },
  {
   "cell_type": "code",
   "execution_count": 53,
   "metadata": {},
   "outputs": [
    {
     "data": {
      "text/plain": [
       "$exponent\n",
       "[1] 3\n"
      ]
     },
     "metadata": {},
     "output_type": "display_data"
    }
   ],
   "source": [
    "as.list(environment(cube))"
   ]
  },
  {
   "cell_type": "markdown",
   "metadata": {
    "slideshow": {
     "slide_type": "slide"
    }
   },
   "source": [
    "### Memoization\n",
    "A good use for closures is something called *memoization*. Memoization lets you save the results of a function call for future use. This is very useful in combination with recursion."
   ]
  },
  {
   "cell_type": "markdown",
   "metadata": {
    "slideshow": {
     "slide_type": "notes"
    }
   },
   "source": [
    "To implement memoization, we define a list in the enclosing enviroment of the function we wish to memoize. Then, each time we call the function, we check to see if the value is already saved in the list. If so, we return it; otherwise, we do the computation and store it for future use."
   ]
  },
  {
   "cell_type": "markdown",
   "metadata": {
    "slideshow": {
     "slide_type": "slide"
    }
   },
   "source": [
    "Consider the following recursive function:"
   ]
  },
  {
   "cell_type": "code",
   "execution_count": 150,
   "metadata": {
    "slideshow": {
     "slide_type": "slide"
    }
   },
   "outputs": [
    {
     "data": {
      "text/plain": [
       "[1] 2.432902e+18"
      ]
     },
     "metadata": {},
     "output_type": "display_data"
    },
    {
     "data": {
      "text/plain": [
       "[1] 2.432902e+18"
      ]
     },
     "metadata": {},
     "output_type": "display_data"
    }
   ],
   "source": [
    "memo <- vector(\"integer\", 200)\n",
    "f.slow = function(k) {\n",
    "    if (k == 1) return(1)\n",
    "    k * f.slow(k - 1)\n",
    "}\n",
    "\n",
    "f.fast = function(k) {\n",
    "    if (memo[[k]] != 0)\n",
    "        return(memo[[k]])\n",
    "    if (k == 1) \n",
    "       return(1)\n",
    "    answer = k * f.fast(k - 1)\n",
    "    memo[[k]] = answer\n",
    "    return(answer)\n",
    "}\n",
    "f.slow(20)\n",
    "f.fast(20) "
   ]
  },
  {
   "cell_type": "markdown",
   "metadata": {
    "slideshow": {
     "slide_type": "slide"
    }
   },
   "source": [
    "This function is slow to compute for large $k$:"
   ]
  },
  {
   "cell_type": "code",
   "execution_count": 152,
   "metadata": {},
   "outputs": [
    {
     "name": "stdout",
     "output_type": "stream",
     "text": [
      "Unit: microseconds\n",
      "       expr    min     lq      mean  median      uq     max neval\n",
      " f.fast(50) 82.497 85.167 115.50995 95.0325 117.868 659.053   100\n",
      " f.slow(50) 19.460 21.564  25.32479 23.6770  27.921  56.909   100\n"
     ]
    }
   ],
   "source": [
    "library(microbenchmark)\n",
    "microbenchmark(\n",
    "    f.fast(50),\n",
    "    f.slow(50)\n",
    ") %>% print"
   ]
  },
  {
   "cell_type": "markdown",
   "metadata": {
    "slideshow": {
     "slide_type": "slide"
    }
   },
   "source": [
    "To speed up `f` we will memoize it:"
   ]
  },
  {
   "cell_type": "code",
   "execution_count": 24,
   "metadata": {},
   "outputs": [],
   "source": [
    "memo = rep(NA_real_, 100)\n",
    "fmemo = function(k) {\n",
    "    if (is.na(memo[[k]])) {\n",
    "        ret = NA\n",
    "        if (k <= 2) {\n",
    "            ret = 1\n",
    "        } else {\n",
    "            ret = k^2 * fmemo(k - 1) - k * fmemo(k - 2)\n",
    "        }\n",
    "        memo[[k]] <<- ret\n",
    "    }\n",
    "    memo[[k]]\n",
    "}"
   ]
  },
  {
   "cell_type": "markdown",
   "metadata": {
    "slideshow": {
     "slide_type": "notes"
    }
   },
   "source": [
    "Note the use of the `<<-` operator. This is required in order to make assignments to the enclosed variable `memo`."
   ]
  },
  {
   "cell_type": "code",
   "execution_count": 25,
   "metadata": {
    "slideshow": {
     "slide_type": "slide"
    }
   },
   "outputs": [
    {
     "name": "stdout",
     "output_type": "stream",
     "text": [
      "Unit: nanoseconds\n",
      "      expr     min        lq       mean  median        uq     max neval\n",
      "     f(10)   40626   41916.0   45247.92   42941   46218.5   68022   100\n",
      "     f(20) 5050269 5237409.0 5659128.15 5334692 5606398.5 9841770   100\n",
      " fmemo(10)     542     703.5   85840.19     841    2830.5 8390247   100\n",
      " fmemo(20)     566     699.5    2150.37     905    3075.5   20581   100\n"
     ]
    }
   ],
   "source": [
    "library(microbenchmark)\n",
    "microbenchmark(\n",
    "    f(10),\n",
    "    f(20),\n",
    "    fmemo(10),\n",
    "    fmemo(20)\n",
    ") %>% print"
   ]
  },
  {
   "cell_type": "markdown",
   "metadata": {
    "slideshow": {
     "slide_type": "slide"
    }
   },
   "source": [
    "## Application: analyzing cancer expression data\n",
    "Why do we care about functional programming? Here is a real-life example. A *DNA microarray* is a chip that measures the expression levels of different genes. It can be used to diagnose different types of cancer:\n",
    "![genes](https://d9aqs07uebq07.cloudfront.net/content/clinchem/48/8/1170/F2.large.jpg?download=true)"
   ]
  },
  {
   "cell_type": "code",
   "execution_count": 9,
   "metadata": {
    "slideshow": {
     "slide_type": "notes"
    }
   },
   "outputs": [],
   "source": [
    "# ### training data\n",
    "# filename <- paste(\"http://pubs.broadinstitute.org/mpr/projects/\",\n",
    "# \"Global_Cancer_Map/GCM_Training.res\", sep=\"\")\n",
    "# dat0 <- read.delim(filename, sep=\"\\t\", header=FALSE, skip=3, quote=\"\")\n",
    "# tmp <- dat0[,1:290]\n",
    "# tmp <- tmp[, -seq(4, 290, by=2)]\n",
    "# tmp <- tmp[, -(1:2)]\n",
    "# train <- t(tmp)\n",
    "# filename <- paste(\"http://pubs.broadinstitute.org/mpr/projects/\",\n",
    "# \"Global_Cancer_Map/GCM_Training.cls\", sep=\"\")\n",
    "# train.classes <- read.table(filename, skip=2)+1\n",
    "# train.classes <- unlist(train.classes)\n",
    "# ### test data\n",
    "# filename <- paste(\"http://pubs.broadinstitute.org/mpr/projects/\",\n",
    "# \"Global_Cancer_Map/GCM_Test.res\", sep=\"\")\n",
    "# dat0 <- read.delim(filename, sep=\"\\t\", header=FALSE, skip=3, quote=\"\")\n",
    "# tmp <- dat0[,1:110]\n",
    "# tmp <- tmp[, -seq(4, 110, by=2)]\n",
    "# tmp <- tmp[, -(1:2)]\n",
    "# test <- t(tmp)[1:46,]\n",
    "# filename <- paste(\"http://pubs.broadinstitute.org/mpr/projects/\",\n",
    "# \"Global_Cancer_Map/GCM_Test.cls\", sep=\"\")\n",
    "# test.classes <- read.table(filename, skip=2)+1\n",
    "# test.classes <- test.classes[test.classes!=15]\n",
    "# test.classes <- unlist(test.classes)\n",
    "# tr <- as_tibble(train) %>% mutate(class = train.classes, split=\"train\")\n",
    "# ts <- as_tibble(test) %>% mutate(class = test.classes, split=\"test\")\n",
    "# gcm14 <- bind_rows(tr, ts)"
   ]
  },
  {
   "cell_type": "markdown",
   "metadata": {
    "slideshow": {
     "slide_type": "slide"
    }
   },
   "source": [
    "The dataset `gcm14.RData` contains gene expression measurements for 190 patients and 16,063 genes:"
   ]
  },
  {
   "cell_type": "code",
   "execution_count": 29,
   "metadata": {},
   "outputs": [
    {
     "name": "stdout",
     "output_type": "stream",
     "text": [
      "# A tibble: 190 x 16,065\n",
      "   class split    V1    V2    V3    V4    V5    V6    V7    V8    V9   V10   V11\n",
      "   <fct> <chr> <dbl> <dbl> <dbl> <dbl> <dbl> <dbl> <dbl> <dbl> <dbl> <dbl> <dbl>\n",
      " 1 1     train   -73   -69   -48    13   -86  -147   -65   -71   -32   100   -73\n",
      " 2 1     train   -16   -63   -97   -42   -91  -164   -53   -77   -17   122   -64\n",
      " 3 1     train     4   -45  -112   -25   -85  -127    56  -110    81    41   -70\n",
      " 4 1     train   -31  -110   -20   -50  -115  -113   -17   -40   -17    80    -2\n",
      " 5 1     train   -33   -39   -45    14   -56  -106    73   -34    18    64   -35\n",
      " 6 1     train   -37   -90   -75   -46   -45  -129    87   -49    50     3   -80\n",
      " 7 1     train   -18    28    10    30   -56  -200   149   -87    -2    95   -74\n",
      " 8 1     train   -26   -23     2    34   -54   -30   -12   -25    -6    69   -12\n",
      " 9 2     train   -40  -264  -335    18  -163  -208   138  -113    16   -15     2\n",
      "10 2     train    22   -14   -21    26   -42   -38   -60   -39    21    64   -67\n",
      "# ... with 180 more rows, and 16,052 more variables: V12 <dbl>, V13 <dbl>,\n",
      "#   V14 <dbl>, V15 <dbl>, V16 <dbl>, V17 <dbl>, V18 <dbl>, V19 <dbl>,\n",
      "#   V20 <dbl>, V21 <dbl>, V22 <dbl>, V23 <dbl>, V24 <dbl>, V25 <dbl>,\n",
      "#   V26 <dbl>, V27 <dbl>, V28 <dbl>, V29 <dbl>, V30 <dbl>, V31 <dbl>,\n",
      "#   V32 <dbl>, V33 <dbl>, V34 <dbl>, V35 <dbl>, V36 <dbl>, V37 <dbl>,\n",
      "#   V38 <dbl>, V39 <dbl>, V40 <dbl>, V41 <dbl>, V42 <dbl>, V43 <dbl>,\n",
      "#   V44 <dbl>, V45 <dbl>, V46 <dbl>, V47 <dbl>, V48 <dbl>, V49 <dbl>,\n",
      "#   V50 <dbl>, V51 <dbl>, V52 <dbl>, V53 <dbl>, V54 <dbl>, V55 <dbl>,\n",
      "#   V56 <dbl>, V57 <dbl>, V58 <dbl>, V59 <dbl>, V60 <dbl>, V61 <dbl>,\n",
      "#   V62 <dbl>, V63 <dbl>, V64 <dbl>, V65 <dbl>, V66 <dbl>, V67 <dbl>,\n",
      "#   V68 <dbl>, V69 <dbl>, V70 <dbl>, V71 <dbl>, V72 <dbl>, V73 <dbl>,\n",
      "#   V74 <dbl>, V75 <dbl>, V76 <dbl>, V77 <dbl>, V78 <dbl>, V79 <dbl>,\n",
      "#   V80 <dbl>, V81 <dbl>, V82 <dbl>, V83 <dbl>, V84 <dbl>, V85 <dbl>,\n",
      "#   V86 <dbl>, V87 <dbl>, V88 <dbl>, V89 <dbl>, V90 <dbl>, V91 <dbl>,\n",
      "#   V92 <dbl>, V93 <dbl>, V94 <dbl>, V95 <dbl>, V96 <dbl>, V97 <dbl>,\n",
      "#   V98 <dbl>, V99 <dbl>, V100 <dbl>, V101 <dbl>, V102 <dbl>, V103 <dbl>,\n",
      "#   V104 <dbl>, V105 <dbl>, V106 <dbl>, V107 <dbl>, V108 <dbl>, V109 <dbl>,\n",
      "#   V110 <dbl>, V111 <dbl>, …\n"
     ]
    }
   ],
   "source": [
    "load(\"gcm14.RData\")\n",
    "print(gcm14)"
   ]
  },
  {
   "cell_type": "markdown",
   "metadata": {
    "slideshow": {
     "slide_type": "slide"
    }
   },
   "source": [
    "There are 14 different types of cancer represented in this data set:"
   ]
  },
  {
   "cell_type": "code",
   "execution_count": 30,
   "metadata": {},
   "outputs": [
    {
     "data": {
      "text/plain": [
       "   f  n \n",
       "1  1  11\n",
       "2  2  10\n",
       "3  3  11\n",
       "4  4  11\n",
       "5  5  22\n",
       "6  6  11\n",
       "7  7  10\n",
       "8  8  10\n",
       "9  9  30\n",
       "10 10 11\n",
       "11 11 11\n",
       "12 12 11\n",
       "13 13 11\n",
       "14 14 20"
      ]
     },
     "metadata": {},
     "output_type": "display_data"
    }
   ],
   "source": [
    "fct_count(gcm14$class)"
   ]
  },
  {
   "cell_type": "markdown",
   "metadata": {
    "slideshow": {
     "slide_type": "slide"
    }
   },
   "source": [
    "The actual measurements look like:"
   ]
  },
  {
   "cell_type": "code",
   "execution_count": 155,
   "metadata": {},
   "outputs": [
    {
     "name": "stderr",
     "output_type": "stream",
     "text": [
      "`stat_bin()` using `bins = 30`. Pick better value with `binwidth`.\n"
     ]
    },
    {
     "data": {
      "image/png": "[encoded data removed]"
     },
     "metadata": {},
     "output_type": "display_data"
    }
   ],
   "source": [
    "qplot(gcm14$V2200, geom=\"histogram\")"
   ]
  },
  {
   "cell_type": "code",
   "execution_count": 159,
   "metadata": {
    "slideshow": {
     "slide_type": "slide"
    }
   },
   "outputs": [
    {
     "data": {
      "image/png": "[encoded data removed]"
     },
     "metadata": {},
     "output_type": "display_data"
    }
   ],
   "source": [
    "options(repr.plot.width=8, repr.plot.height=6)\n",
    "gcm14 %>% select(1, 2, sample(3:ncol(gcm14), size=100)) %>% \n",
    "    mutate(patientID=row_number()) %>% \n",
    "    gather(key=gene, value=expression, -class, -split, -patientID) %>% \n",
    "    ggplot(aes(x=gene, y=patientID, fill=expression)) + geom_raster() +\n",
    "    scale_fill_distiller(palette = \"RdYlBu\") +\n",
    "    theme(axis.text.x = element_text(angle = 90, hjust = 1),\n",
    "          axis.text.y = element_blank())"
   ]
  },
  {
   "cell_type": "markdown",
   "metadata": {
    "slideshow": {
     "slide_type": "slide"
    }
   },
   "source": [
    "Experts recommend three steps to normalize this data:\n",
    "- Clip values to the interval $[50, 15000]$\n",
    "- Filtering to remove genes with $\\max/\\min \\le 5$ or $\\max − \\min \\le 500$\n",
    "- Transforming by $\\log_{10}$"
   ]
  },
  {
   "cell_type": "code",
   "execution_count": 180,
   "metadata": {
    "slideshow": {
     "slide_type": "slide"
    }
   },
   "outputs": [
    {
     "name": "stdout",
     "output_type": "stream",
     "text": [
      "# A tibble: 190 x 11,131\n",
      "   class split    V7   V10   V15   V16   V20   V23   V35   V36   V37   V38   V39\n",
      "   <fct> <chr> <dbl> <dbl> <dbl> <dbl> <dbl> <dbl> <dbl> <dbl> <dbl> <dbl> <dbl>\n",
      " 1 1     train  1.70  2     1.70  1.74  2.95  1.70  1.70  1.70  1.70  1.70  1.89\n",
      " 2 1     train  1.70  2.09  1.70  1.70  1.70  1.70  1.70  1.70  1.70  1.70  1.70\n",
      " 3 1     train  1.75  1.70  1.70  1.79  1.70  1.70  1.70  1.70  1.80  2.63  2.54\n",
      " 4 1     train  1.70  1.90  2.26  1.99  1.70  1.70  1.70  1.70  1.70  1.70  1.94\n",
      " 5 1     train  1.86  1.81  1.70  1.70  1.70  1.70  1.70  1.70  1.70  2.40  2.06\n",
      " 6 1     train  1.94  1.70  1.70  1.72  1.70  1.70  1.70  1.70  1.70  2.48  2.00\n",
      " 7 1     train  2.17  1.98  1.70  1.70  1.70  1.70  1.70  1.70  1.92  2.39  1.77\n",
      " 8 1     train  1.70  1.84  1.70  1.70  1.70  1.70  1.70  1.70  1.70  1.70  1.70\n",
      " 9 2     train  2.14  1.70  1.70  2.03  1.70  1.70  1.70  1.70  1.88  3.18  1.70\n",
      "10 2     train  1.70  1.81  1.70  1.70  1.70  1.70  1.70  1.70  1.70  1.70  1.70\n",
      "# ... with 180 more rows, and 11,118 more variables: V40 <dbl>, V41 <dbl>,\n",
      "#   V42 <dbl>, V43 <dbl>, V44 <dbl>, V45 <dbl>, V46 <dbl>, V47 <dbl>,\n",
      "#   V48 <dbl>, V49 <dbl>, V50 <dbl>, V51 <dbl>, V52 <dbl>, V53 <dbl>,\n",
      "#   V54 <dbl>, V55 <dbl>, V56 <dbl>, V57 <dbl>, V58 <dbl>, V59 <dbl>,\n",
      "#   V60 <dbl>, V62 <dbl>, V63 <dbl>, V64 <dbl>, V65 <dbl>, V66 <dbl>,\n",
      "#   V67 <dbl>, V68 <dbl>, V70 <dbl>, V71 <dbl>, V72 <dbl>, V73 <dbl>,\n",
      "#   V74 <dbl>, V75 <dbl>, V76 <dbl>, V77 <dbl>, V78 <dbl>, V79 <dbl>,\n",
      "#   V81 <dbl>, V82 <dbl>, V83 <dbl>, V84 <dbl>, V85 <dbl>, V86 <dbl>,\n",
      "#   V87 <dbl>, V88 <dbl>, V89 <dbl>, V91 <dbl>, V93 <dbl>, V94 <dbl>,\n",
      "#   V95 <dbl>, V98 <dbl>, V99 <dbl>, V104 <dbl>, V106 <dbl>, V107 <dbl>,\n",
      "#   V108 <dbl>, V110 <dbl>, V114 <dbl>, V116 <dbl>, V118 <dbl>, V123 <dbl>,\n",
      "#   V124 <dbl>, V125 <dbl>, V126 <dbl>, V127 <dbl>, V129 <dbl>, V130 <dbl>,\n",
      "#   V131 <dbl>, V132 <dbl>, V136 <dbl>, V138 <dbl>, V139 <dbl>, V140 <dbl>,\n",
      "#   V142 <dbl>, V145 <dbl>, V146 <dbl>, V147 <dbl>, V148 <dbl>, V150 <dbl>,\n",
      "#   V151 <dbl>, V152 <dbl>, V153 <dbl>, V154 <dbl>, V155 <dbl>, V157 <dbl>,\n",
      "#   V159 <dbl>, V161 <dbl>, V163 <dbl>, V164 <dbl>, V165 <dbl>, V167 <dbl>,\n",
      "#   V168 <dbl>, V169 <dbl>, V170 <dbl>, V171 <dbl>, V172 <dbl>, V173 <dbl>,\n",
      "#   V174 <dbl>, V175 <dbl>, …\n"
     ]
    }
   ],
   "source": [
    "clip <- function(x) pmax(50, pmin(x, 15000))\n",
    "#for (col in names(gcm14)[3:ncol(gcm14)]) {\n",
    "#    gcm14[[col]] <- clip(gcm14[[col]])\n",
    "#}\n",
    "\n",
    "# predicate <- function(col) {\n",
    "#     if (!is.numeric(col)) return(TRUE)\n",
    "#     M = max(col)\n",
    "#     m = min(col)\n",
    "#     !(M / m <= 5 || M - m < 500)\n",
    "# }\n",
    "\n",
    "# gcm14 <- keep(gcm14, predicate)\n",
    "\n",
    "# gcm14 <- gcm14 %>% mutate_if(is.numeric, log10)\n",
    "gcm14 %>% print"
   ]
  },
  {
   "cell_type": "code",
   "execution_count": 56,
   "metadata": {
    "slideshow": {
     "slide_type": "slide"
    }
   },
   "outputs": [],
   "source": [
    "dat <- gcm14[,3:100] %>% as.matrix  # numerical columns\n",
    "row.order <- hclust(dist(dat))$order # clustering\n",
    "col.order <- hclust(dist(t(dat)))$order"
   ]
  },
  {
   "cell_type": "code",
   "execution_count": 55,
   "metadata": {},
   "outputs": [],
   "source": [
    "row.order"
   ]
  }
 ],
 "metadata": {
  "celltoolbar": "Slideshow",
  "kernelspec": {
   "display_name": "R",
   "language": "R",
   "name": "ir"
  },
  "language_info": {
   "codemirror_mode": "r",
   "file_extension": ".r",
   "mimetype": "text/x-r-source",
   "name": "R",
   "pygments_lexer": "r",
   "version": "3.5.2"
  }
 },
 "nbformat": 4,
 "nbformat_minor": 2
}
