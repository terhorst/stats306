{
 "cells": [
  {
   "cell_type": "markdown",
   "metadata": {
    "slideshow": {
     "slide_type": "slide"
    }
   },
   "source": [
    "# Debugging\n",
    "\n",
    "### When good code turns bad... 🙀 \n"
   ]
  },
  {
   "cell_type": "markdown",
   "metadata": {
    "slideshow": {
     "slide_type": "slide"
    }
   },
   "source": [
    "## So, your code does not work.\n",
    "1. What makes you say your code isn't working?\n",
    "2. What did you expect your code to do and why?\n",
    "3. What did your code do instead and how do you know?"
   ]
  },
  {
   "cell_type": "markdown",
   "metadata": {
    "slideshow": {
     "slide_type": "slide"
    }
   },
   "source": [
    "## Examples of some types of bugs\n",
    "Each of the code boxes below features a certain type of bug. We'll see strategies for how to debug each type."
   ]
  },
  {
   "cell_type": "markdown",
   "metadata": {
    "slideshow": {
     "slide_type": "slide"
    }
   },
   "source": [
    "### Syntax error\n",
    "The easiest to debug: your code won't even parse."
   ]
  },
  {
   "cell_type": "code",
   "execution_count": 3,
   "metadata": {},
   "outputs": [
    {
     "ename": "ERROR",
     "evalue": "Error in parse(text = x, srcfile = src): <text>:2:0: unexpected end of input\n1: ggplot(mpg) + geom_bar(aes(x = cty, y = hwy)\n   ^\n",
     "output_type": "error",
     "traceback": [
      "Error in parse(text = x, srcfile = src): <text>:2:0: unexpected end of input\n1: ggplot(mpg) + geom_bar(aes(x = cty, y = hwy)\n   ^\nTraceback:\n"
     ]
    }
   ],
   "source": [
    "ggplot(mpg) + geom_bar(aes(x = cty, y = hwy)"
   ]
  },
  {
   "cell_type": "markdown",
   "metadata": {
    "slideshow": {
     "slide_type": "notes"
    }
   },
   "source": [
    "You can probably look at this example and see immediately where the problem is. But what about the following example?"
   ]
  },
  {
   "cell_type": "code",
   "execution_count": 13,
   "metadata": {
    "slideshow": {
     "slide_type": "slide"
    }
   },
   "outputs": [
    {
     "ename": "ERROR",
     "evalue": "Error in parse(text = x, srcfile = src): <text>:9:1: unexpected 'if'\n8:     )\n9: if\n   ^\n",
     "output_type": "error",
     "traceback": [
      "Error in parse(text = x, srcfile = src): <text>:9:1: unexpected 'if'\n8:     )\n9: if\n   ^\nTraceback:\n"
     ]
    }
   ],
   "source": [
    "mustart <- model.extract(mf, \"mustart\")\n",
    "etastart <- model.extract(mf, \"etastart\")\n",
    "fit <- eval(call(if (is.function(method)) \"method\" else method, \n",
    "    x = X, y = Y, weights = weights, start = start, etastart = etastart, \n",
    "    mustart = mustart, offset = offset, family = family, \n",
    "    control = control, intercept = attr(mt, \"intercept\" > \n",
    "        0L, singular.ok = singular.ok)\n",
    "    )\n",
    "if (length(offset) && attr(mt, \"intercept\") > 0L) {\n",
    "    fit2 <- eval(call(if (is.function(method)) \"method\" else method, \n",
    "        x = X[, \"(Intercept)\", drop = FALSE], y = Y, weights = weights, \n",
    "        offset = offset, family = family, control = control, \n",
    "        intercept = TRUE))\n",
    "    if (!fit2$converged) \n",
    "        warning(\"fitting to calculate the null deviance did not converge -- increase 'maxit'?\")\n",
    "    fit$null.deviance <- fit2$deviance\n",
    "}"
   ]
  },
  {
   "cell_type": "markdown",
   "metadata": {
    "slideshow": {
     "slide_type": "notes"
    }
   },
   "source": [
    "Strategies for debugging syntax errors:\n",
    "- Start at the indicated line. See if you can quickly spot the error.\n",
    "- If not, start deleting things. (Remember, your only goal is to got it to parse.)\n",
    "- Eventually, you'll delete enough code that it will parse. Backtrack."
   ]
  },
  {
   "cell_type": "markdown",
   "metadata": {
    "slideshow": {
     "slide_type": "slide"
    }
   },
   "source": [
    "### Runtime error\n",
    "The code parses, but crashes when I run it."
   ]
  },
  {
   "cell_type": "code",
   "execution_count": null,
   "metadata": {},
   "outputs": [],
   "source": [
    "find_mode()"
   ]
  },
  {
   "cell_type": "markdown",
   "metadata": {},
   "source": [
    "Strategies for debugging runtime errors:\n",
    "- Similar to syntax errors: start at the indicated line. See if you can quickly spot the error.\n",
    "- Runtime errors often occur because you have made some assumption about the input that is not true.\n",
    "- `print()` statements are your friend."
   ]
  },
  {
   "cell_type": "code",
   "execution_count": 18,
   "metadata": {
    "slideshow": {
     "slide_type": "slide"
    }
   },
   "outputs": [
    {
     "ename": "ERROR",
     "evalue": "Error in filter(df, cty > 30): object 'cty' not found\n",
     "output_type": "error",
     "traceback": [
      "Error in filter(df, cty > 30): object 'cty' not found\nTraceback:\n",
      "1. filter(df, cty > 30)"
     ]
    }
   ],
   "source": [
    "df <- data.frame(a=1:26, b=letters) \n",
    "filter(df, cty > 30)"
   ]
  },
  {
   "cell_type": "markdown",
   "metadata": {
    "slideshow": {
     "slide_type": "slide"
    }
   },
   "source": [
    "### Logical errors\n",
    "The program runs and returns an answer, but the answer isn't what I expect."
   ]
  },
  {
   "cell_type": "code",
   "execution_count": null,
   "metadata": {},
   "outputs": [],
   "source": []
  }
 ],
 "metadata": {
  "celltoolbar": "Slideshow",
  "kernelspec": {
   "display_name": "R",
   "language": "R",
   "name": "ir"
  },
  "language_info": {
   "codemirror_mode": "r",
   "file_extension": ".r",
   "mimetype": "text/x-r-source",
   "name": "R",
   "pygments_lexer": "r",
   "version": "3.5.2"
  }
 },
 "nbformat": 4,
 "nbformat_minor": 2
}
