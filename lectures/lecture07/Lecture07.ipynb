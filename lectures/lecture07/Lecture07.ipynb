{
 "cells": [
  {
   "cell_type": "code",
   "execution_count": 8,
   "metadata": {
    "slideshow": {
     "slide_type": "notes"
    }
   },
   "outputs": [
    {
     "name": "stderr",
     "output_type": "stream",
     "text": [
      "── Attaching packages ─────────────────────────────────────── tidyverse 1.2.1 ──\n",
      "✔ ggplot2 3.2.1     ✔ purrr   0.3.2\n",
      "✔ tibble  2.1.3     ✔ dplyr   0.8.3\n",
      "✔ tidyr   0.8.3     ✔ stringr 1.4.0\n",
      "✔ readr   1.3.0     ✔ forcats 0.3.0\n",
      "── Conflicts ────────────────────────────────────────── tidyverse_conflicts() ──\n",
      "✖ dplyr::filter()  masks stats::filter()\n",
      "✖ purrr::flatten() masks jsonlite::flatten()\n",
      "✖ dplyr::lag()     masks stats::lag()\n"
     ]
    }
   ],
   "source": [
    "library(tidyverse)"
   ]
  },
  {
   "cell_type": "markdown",
   "metadata": {
    "slideshow": {
     "slide_type": "slide"
    }
   },
   "source": [
    "### Review problem\n",
    "I downloaded time series data on a) [per-capita income in Ann Arbor](https://fred.stlouisfed.org/series/ANNA426PCPI) and ii) [the total population of Paraguay](https://data.worldbank.org/indicator/SP.POP.TOTL?locations=PY) and put them in a table `a2i.pp`:"
   ]
  },
  {
   "cell_type": "code",
   "execution_count": 11,
   "metadata": {},
   "outputs": [
    {
     "name": "stdout",
     "output_type": "stream",
     "text": [
      "# A tibble: 48 x 3\n",
      "    year a2.income para.pop\n",
      "   <int>     <int>    <dbl>\n",
      " 1  1969      4679  2412566\n",
      " 2  1970      4640  2474106\n",
      " 3  1971      5085  2535359\n",
      " 4  1972      5538  2596739\n",
      " 5  1973      6084  2659088\n",
      " 6  1974      6313  2723523\n",
      " 7  1975      7100  2790962\n",
      " 8  1976      7916  2861581\n",
      " 9  1977      8807  2935375\n",
      "10  1978      9938  3012829\n",
      "# … with 38 more rows\n"
     ]
    }
   ],
   "source": [
    "load(\"a2pp.RData\")\n",
    "print(a2i.pp)"
   ]
  },
  {
   "cell_type": "markdown",
   "metadata": {},
   "source": [
    "Visualize the joint distribution of income in Ann Arbor and the population of Paraguay, and interpret your findings."
   ]
  },
  {
   "cell_type": "code",
   "execution_count": 84,
   "metadata": {
    "slideshow": {
     "slide_type": "notes"
    }
   },
   "outputs": [],
   "source": [
    "# Code used to create this data:\n",
    "# p.pop <- read_csv(\"API_SP.POP.TOTL_DS2_en_csv_v2_10134466.csv\", skip=4) %>% \n",
    "#         filter(`Country Name` == \"Paraguay1\")  %>% \n",
    "#         select(`1960`:`2017`) %>%  \n",
    "#         gather(key=\"Year\", value=\"para.pop\") %>% mutate(year = as.integer(Year))\n",
    "# a2.income <- read_csv(\"https://fred.stlouisfed.org/graph/fredgraph.csv?chart_type=line&recession_bars=on&log_scales=&bgcolor=%23e1e9f0&graph_bgcolor=%23ffffff&fo=Open+Sans&ts=12&tts=12&txtcolor=%23444444&show_legend=yes&show_axis_titles=yes&drp=0&cosd=1969-01-01&coed=2016-01-01&height=450&stacking=&range=&mode=fred&id=ANNA426PCPI&transformation=lin&nd=1969-01-01&ost=-99999&oet=99999&lsv=&lev=&mma=0&fml=a&fgst=lin&fgsnd=2009-06-01&fq=Annual&fam=avg&vintage_date=&revision_date=&line_color=%234572a7&line_style=solid&lw=2&scale=left&mark_type=none&mw=2&width=1168\") %>%\n",
    "#             mutate(year = as.integer(lubridate::year(DATE)), a2.income = ANNA426PCPI)\n",
    "# a2i.pp <- inner_join(p.pop, a2.income) %>% select(year, a2.income, para.pop)\n",
    "# save(p.pop, a2.income, a2i.pp, file=\"challenge2.RData\")"
   ]
  },
  {
   "cell_type": "code",
   "execution_count": 15,
   "metadata": {
    "slideshow": {
     "slide_type": "slide"
    }
   },
   "outputs": [],
   "source": [
    "## Solution"
   ]
  },
  {
   "cell_type": "markdown",
   "metadata": {
    "slideshow": {
     "slide_type": "slide"
    }
   },
   "source": [
    "# Lecture 08: Tidy data\n",
    "<div style=\"border: 1px double black; padding: 10px; margin: 10px\">\n",
    "\n",
    "**After today's lecture you will:**\n",
    "* Understand what makes [tidy data](#Tidy-data) and why we care\n",
    "* [Gather](#Gather) multiple columns into one\n",
    "* [Spread](#Spread) one column into several\n",
    "* [Separate](#Separate) and [unite](#Unite) columns\n",
    "* Impute [missing values](#Missing-values)\n",
    "</div>\n",
    "\n",
    "\n"
   ]
  },
  {
   "cell_type": "markdown",
   "metadata": {
    "slideshow": {
     "slide_type": "slide"
    }
   },
   "source": [
    "## Tidy data\n",
    "There are many different ways to represent data in a table, but some are better than others.\n",
    "We say that a data table is \"[tidy](http://vita.had.co.nz/papers/tidy-data.pdf)\" if:\n",
    "- Each row represents an observation.\n",
    "- Each column represents a variable.\n",
    "- Each value gets its own cell.\n",
    "- Each different type of data set gets its own table.\n",
    "\n",
    "Data tables which are not tidy are called messy!\n",
    "![http://r4ds.had.co.nz/images/tidy-1.png](http://r4ds.had.co.nz/images/tidy-1.png)"
   ]
  },
  {
   "cell_type": "markdown",
   "metadata": {
    "slideshow": {
     "slide_type": "slide"
    }
   },
   "source": [
    "Every column is a variable: tidy."
   ]
  },
  {
   "cell_type": "code",
   "execution_count": 56,
   "metadata": {
    "slideshow": {
     "slide_type": "-"
    }
   },
   "outputs": [
    {
     "name": "stdout",
     "output_type": "stream",
     "text": [
      "# A tibble: 6 x 4\n",
      "  country      year  cases population\n",
      "  <chr>       <int>  <int>      <int>\n",
      "1 Afghanistan  1999    745   19987071\n",
      "2 Afghanistan  2000   2666   20595360\n",
      "3 Brazil       1999  37737  172006362\n",
      "4 Brazil       2000  80488  174504898\n",
      "5 China        1999 212258 1272915272\n",
      "6 China        2000 213766 1280428583\n"
     ]
    }
   ],
   "source": [
    "print(table1)"
   ]
  },
  {
   "cell_type": "markdown",
   "metadata": {
    "slideshow": {
     "slide_type": "slide"
    }
   },
   "source": [
    "Variables are entries in the type column: messy."
   ]
  },
  {
   "cell_type": "code",
   "execution_count": 6,
   "metadata": {
    "slideshow": {
     "slide_type": "-"
    }
   },
   "outputs": [
    {
     "name": "stdout",
     "output_type": "stream",
     "text": [
      "# A tibble: 12 x 4\n",
      "   country      year type            count\n",
      "   <chr>       <int> <chr>           <int>\n",
      " 1 Afghanistan  1999 cases             745\n",
      " 2 Afghanistan  1999 population   19987071\n",
      " 3 Afghanistan  2000 cases            2666\n",
      " 4 Afghanistan  2000 population   20595360\n",
      " 5 Brazil       1999 cases           37737\n",
      " 6 Brazil       1999 population  172006362\n",
      " 7 Brazil       2000 cases           80488\n",
      " 8 Brazil       2000 population  174504898\n",
      " 9 China        1999 cases          212258\n",
      "10 China        1999 population 1272915272\n",
      "11 China        2000 cases          213766\n",
      "12 China        2000 population 1280428583\n"
     ]
    }
   ],
   "source": [
    "print(table2) # "
   ]
  },
  {
   "cell_type": "markdown",
   "metadata": {
    "slideshow": {
     "slide_type": "slide"
    }
   },
   "source": [
    "The cases and population variables are combined in the rate column: (sort of) messy."
   ]
  },
  {
   "cell_type": "code",
   "execution_count": 59,
   "metadata": {
    "slideshow": {
     "slide_type": "-"
    }
   },
   "outputs": [
    {
     "name": "stdout",
     "output_type": "stream",
     "text": [
      "# A tibble: 6 x 3\n",
      "  country      year rate             \n",
      "* <chr>       <int> <chr>            \n",
      "1 Afghanistan  1999 745/19987071     \n",
      "2 Afghanistan  2000 2666/20595360    \n",
      "3 Brazil       1999 37737/172006362  \n",
      "4 Brazil       2000 80488/174504898  \n",
      "5 China        1999 212258/1272915272\n",
      "6 China        2000 213766/1280428583\n"
     ]
    }
   ],
   "source": [
    "table3 %>% print"
   ]
  },
  {
   "cell_type": "markdown",
   "metadata": {
    "slideshow": {
     "slide_type": "slide"
    }
   },
   "source": [
    "The cases and population variables are in two separate tables. "
   ]
  },
  {
   "cell_type": "code",
   "execution_count": 8,
   "metadata": {
    "slideshow": {
     "slide_type": "-"
    }
   },
   "outputs": [
    {
     "name": "stdout",
     "output_type": "stream",
     "text": [
      "# A tibble: 3 x 3\n",
      "  country     `1999` `2000`\n",
      "* <chr>        <int>  <int>\n",
      "1 Afghanistan    745   2666\n",
      "2 Brazil       37737  80488\n",
      "3 China       212258 213766\n",
      "\n",
      "\n",
      "# A tibble: 3 x 3\n",
      "  country         `1999`     `2000`\n",
      "* <chr>            <int>      <int>\n",
      "1 Afghanistan   19987071   20595360\n",
      "2 Brazil       172006362  174504898\n",
      "3 China       1272915272 1280428583\n"
     ]
    }
   ],
   "source": [
    "print(table4a) # cases in one tibble\n",
    "writeLines(\"\\n\")\n",
    "print(table4b) # population in another one"
   ]
  },
  {
   "cell_type": "markdown",
   "metadata": {
    "slideshow": {
     "slide_type": "slide"
    }
   },
   "source": [
    "Recapping: tidy data means\n",
    "\n",
    "* each observation has its own row\n",
    "* each variable has its own column\n",
    "* each value has its own cell"
   ]
  },
  {
   "cell_type": "markdown",
   "metadata": {
    "slideshow": {
     "slide_type": "slide"
    }
   },
   "source": [
    "## Why we care about tidy data\n",
    "The tools we have learned so far all live in the `tidyverse`. This means that each tool expect to recieve tidy data as input, and, where necessary, returns tidy data as output. You can think of tidy data as a sort of contract that everything in `tidyverse` respects. This makes it possible to string many tidyverse commands together using `%>%`  without having to worry about whether they all work together."
   ]
  },
  {
   "cell_type": "markdown",
   "metadata": {
    "slideshow": {
     "slide_type": "slide"
    }
   },
   "source": [
    "The mutate command expects tidy data and returns tidy data."
   ]
  },
  {
   "cell_type": "code",
   "execution_count": 9,
   "metadata": {
    "slideshow": {
     "slide_type": "-"
    }
   },
   "outputs": [
    {
     "name": "stderr",
     "output_type": "stream",
     "text": [
      "Warning message:\n",
      "“package ‘bindrcpp’ was built under R version 3.4.4”"
     ]
    },
    {
     "data": {
      "text/plain": [
       "  country     year cases  population rate    \n",
       "1 Afghanistan 1999    745   19987071 0.372741\n",
       "2 Afghanistan 2000   2666   20595360 1.294466\n",
       "3 Brazil      1999  37737  172006362 2.193930\n",
       "4 Brazil      2000  80488  174504898 4.612363\n",
       "5 China       1999 212258 1272915272 1.667495\n",
       "6 China       2000 213766 1280428583 1.669488"
      ]
     },
     "metadata": {},
     "output_type": "display_data"
    }
   ],
   "source": [
    "mutate(table1, rate = cases / population * 10000) # rate of cases per 10000 people"
   ]
  },
  {
   "cell_type": "markdown",
   "metadata": {
    "slideshow": {
     "slide_type": "slide"
    }
   },
   "source": [
    "How would we calculate the `rate` variable using `table2`?"
   ]
  },
  {
   "cell_type": "code",
   "execution_count": 10,
   "metadata": {
    "slideshow": {
     "slide_type": "-"
    }
   },
   "outputs": [
    {
     "name": "stdout",
     "output_type": "stream",
     "text": [
      "# A tibble: 12 x 4\n",
      "   country      year type            count\n",
      "   <chr>       <int> <chr>           <int>\n",
      " 1 Afghanistan  1999 cases             745\n",
      " 2 Afghanistan  1999 population   19987071\n",
      " 3 Afghanistan  2000 cases            2666\n",
      " 4 Afghanistan  2000 population   20595360\n",
      " 5 Brazil       1999 cases           37737\n",
      " 6 Brazil       1999 population  172006362\n",
      " 7 Brazil       2000 cases           80488\n",
      " 8 Brazil       2000 population  174504898\n",
      " 9 China        1999 cases          212258\n",
      "10 China        1999 population 1272915272\n",
      "11 China        2000 cases          213766\n",
      "12 China        2000 population 1280428583\n"
     ]
    }
   ],
   "source": [
    "print(table2)\n",
    "# mutate(table2, rate=???)"
   ]
  },
  {
   "cell_type": "markdown",
   "metadata": {
    "slideshow": {
     "slide_type": "slide"
    }
   },
   "source": [
    "Summary commands like `summarize` and `count` also preserve tidy data:"
   ]
  },
  {
   "cell_type": "code",
   "execution_count": 11,
   "metadata": {
    "slideshow": {
     "slide_type": "-"
    }
   },
   "outputs": [
    {
     "data": {
      "text/plain": [
       "  year n     \n",
       "1 1999 250740\n",
       "2 2000 296920"
      ]
     },
     "metadata": {},
     "output_type": "display_data"
    }
   ],
   "source": [
    "count(table1, year, wt = cases) # compute no. of cases for each year"
   ]
  },
  {
   "cell_type": "markdown",
   "metadata": {
    "slideshow": {
     "slide_type": "slide"
    }
   },
   "source": [
    "`ggplot` also expects tidy data:"
   ]
  },
  {
   "cell_type": "code",
   "execution_count": 12,
   "metadata": {
    "slideshow": {
     "slide_type": "-"
    }
   },
   "outputs": [
    {
     "data": {},
     "metadata": {},
     "output_type": "display_data"
    },
    {
     "data": {
      "image/png": "[encoded data removed]"
     },
     "metadata": {},
     "output_type": "display_data"
    }
   ],
   "source": [
    "ggplot(table2, aes(x=year, y=count, color=type)) +\n",
    "    geom_line(aes(group = country)) +\n",
    "    geom_point(aes(color = country)) +\n",
    "    scale_x_continuous(breaks=c(1999, 2000))"
   ]
  },
  {
   "cell_type": "markdown",
   "metadata": {
    "slideshow": {
     "slide_type": "slide"
    }
   },
   "source": [
    "## Creating tidy data\n",
    "If the data is not already tidy, then we might need to some work before we can use the tools in `dplyr`. The package `tidyr` inside `tidyverse` allows one to convert data into the tidy data."
   ]
  },
  {
   "cell_type": "markdown",
   "metadata": {
    "slideshow": {
     "slide_type": "slide"
    }
   },
   "source": [
    "### Gather\n",
    "One common problem in when a variable is spread across multiple columns and we need to gather those columns to create a new pair of variables. For example, consider `table4a` from above:"
   ]
  },
  {
   "cell_type": "code",
   "execution_count": 13,
   "metadata": {
    "slideshow": {
     "slide_type": "notes"
    }
   },
   "outputs": [],
   "source": [
    "# We will learn about spread below.\n",
    "table1_wide <- table1 %>% select(country, year, cases) %>% \n",
    "    spread(key=year, value=cases) "
   ]
  },
  {
   "cell_type": "code",
   "execution_count": 61,
   "metadata": {
    "slideshow": {
     "slide_type": "-"
    }
   },
   "outputs": [
    {
     "data": {
      "text/plain": [
       "  country     1999   2000  \n",
       "1 Afghanistan    745   2666\n",
       "2 Brazil       37737  80488\n",
       "3 China       212258 213766"
      ]
     },
     "metadata": {},
     "output_type": "display_data"
    },
    {
     "data": {
      "text/plain": [
       "  country     year cases  population\n",
       "1 Afghanistan 1999    745   19987071\n",
       "2 Afghanistan 2000   2666   20595360\n",
       "3 Brazil      1999  37737  172006362\n",
       "4 Brazil      2000  80488  174504898\n",
       "5 China       1999 212258 1272915272\n",
       "6 China       2000 213766 1280428583"
      ]
     },
     "metadata": {},
     "output_type": "display_data"
    }
   ],
   "source": [
    "table4a\n",
    "table1"
   ]
  },
  {
   "cell_type": "markdown",
   "metadata": {
    "slideshow": {
     "slide_type": "slide"
    }
   },
   "source": [
    "Here there is a year variable which is spread across two columns. To become tidy, it should get its own `year` column. We want to *gather* the columns of year into a single column.\n",
    "![gather illustration](http://r4ds.had.co.nz/images/tidy-9.png)"
   ]
  },
  {
   "cell_type": "markdown",
   "metadata": {
    "slideshow": {
     "slide_type": "slide"
    }
   },
   "source": [
    "The command to do this is called `gather()`. To use `gather()` we need to specify three things:\n",
    "\n",
    "* which existing columns correspond to values of a variable\n",
    "* what is the name of the variable (the **key**) whose values currently appear as column names.\n",
    "* what is the name of the variable (the **value**) whose values are currently spread over the cells.\n",
    "\n",
    "(When using `gather()`, neither the **key** nor **value** column names currently exist in your data. They are \"destination\" columns in the new table.)"
   ]
  },
  {
   "cell_type": "code",
   "execution_count": 74,
   "metadata": {
    "slideshow": {
     "slide_type": "slide"
    }
   },
   "outputs": [
    {
     "name": "stdout",
     "output_type": "stream",
     "text": [
      "# A tibble: 3 x 3\n",
      "  country     `1999` `2000`\n",
      "* <chr>        <int>  <int>\n",
      "1 Afghanistan    745   2666\n",
      "2 Brazil       37737  80488\n",
      "3 China       212258 213766\n"
     ]
    },
    {
     "data": {
      "text/plain": [
       "  country     1999   year cases \n",
       "1 Afghanistan    745 2000   2666\n",
       "2 Brazil       37737 2000  80488\n",
       "3 China       212258 2000 213766"
      ]
     },
     "metadata": {},
     "output_type": "display_data"
    }
   ],
   "source": [
    "table4a %>% print %>% gather(key = year, value = cases, \"2000\")"
   ]
  },
  {
   "cell_type": "markdown",
   "metadata": {
    "slideshow": {
     "slide_type": "slide"
    }
   },
   "source": [
    "### Exercise\n",
    "Transform `table4b` to tidy format:"
   ]
  },
  {
   "cell_type": "code",
   "execution_count": 16,
   "metadata": {},
   "outputs": [
    {
     "data": {
      "text/plain": [
       "  country     1999       2000      \n",
       "1 Afghanistan   19987071   20595360\n",
       "2 Brazil       172006362  174504898\n",
       "3 China       1272915272 1280428583"
      ]
     },
     "metadata": {},
     "output_type": "display_data"
    }
   ],
   "source": [
    "table4b"
   ]
  },
  {
   "cell_type": "code",
   "execution_count": 77,
   "metadata": {
    "slideshow": {
     "slide_type": "slide"
    }
   },
   "outputs": [
    {
     "data": {
      "text/plain": [
       "  country     year cases     \n",
       "1 Afghanistan 1999   19987071\n",
       "2 Brazil      1999  172006362\n",
       "3 China       1999 1272915272\n",
       "4 Afghanistan 2000   20595360\n",
       "5 Brazil      2000  174504898\n",
       "6 China       2000 1280428583"
      ]
     },
     "metadata": {},
     "output_type": "display_data"
    }
   ],
   "source": [
    "# Solution\n",
    "table4b %>% gather(key = year, value = cases, -country)"
   ]
  },
  {
   "cell_type": "markdown",
   "metadata": {
    "slideshow": {
     "slide_type": "slide"
    }
   },
   "source": [
    "### Separate\n",
    "Sometimes we encounter wide data where there are multiple identifiers in a column name:"
   ]
  },
  {
   "cell_type": "code",
   "execution_count": 5,
   "metadata": {},
   "outputs": [
    {
     "name": "stdout",
     "output_type": "stream",
     "text": [
      "# A tibble: 16 x 4\n",
      "    year type    qtr   value\n",
      "   <dbl> <chr>   <chr> <dbl>\n",
      " 1  2015 profit  q1    1.88 \n",
      " 2  2015 profit  q1    0.592\n",
      " 3  2016 profit  q1    0.921\n",
      " 4  2016 profit  q1    0.17 \n",
      " 5  2015 profit  q2    0.957\n",
      " 6  2015 profit  q2    0.147\n",
      " 7  2016 profit  q2    1.39 \n",
      " 8  2016 profit  q2    0.762\n",
      " 9  2015 revenue q3    1.88 \n",
      "10  2015 revenue q3    0.655\n",
      "11  2016 revenue q3    0.337\n",
      "12  2016 revenue q3    0.588\n",
      "13  2015 revenue q4    2.37 \n",
      "14  2015 revenue q4    0.642\n",
      "15  2016 revenue q4    0.294\n",
      "16  2016 revenue q4    0.566\n"
     ]
    }
   ],
   "source": [
    "stocks <- tibble(\n",
    "  year   = c(2015, 2015, 2016, 2016),\n",
    "  profit_q1 = c(1.881,0.592,0.921,0.170),\n",
    "  profit_q2 = c(0.957,0.147,1.391,0.762),\n",
    "  revenue_q3 = c(1.876,0.655,0.337,0.588),\n",
    "  revenue_q4 = c(2.365,0.642,0.294,0.566))\n",
    "stocks %>% gather(key = pq, value = value, -year) %>% separate(pq, into=c('type', 'qtr')) %>% print"
   ]
  },
  {
   "cell_type": "markdown",
   "metadata": {
    "slideshow": {
     "slide_type": "slide"
    }
   },
   "source": [
    "### Exercise\n",
    "Use `unite()` to get the `stocks` table into the following semi-tidy format:\n",
    "\n",
    "```\n",
    "# A tibble: 16 x 3\n",
    "   year pq        value\n",
    "  <dbl> <chr>     <dbl>\n",
    "1  2015 profit_q1 1.88 \n",
    "2  2015 profit_q1 0.592\n",
    "3  2016 profit_q1 0.921\n",
    "# ... with 13 more rows\n",
    "```"
   ]
  },
  {
   "cell_type": "code",
   "execution_count": 10,
   "metadata": {
    "slideshow": {
     "slide_type": "slide"
    }
   },
   "outputs": [
    {
     "name": "stdout",
     "output_type": "stream",
     "text": [
      "# A tibble: 16 x 3\n",
      "    year pq         value\n",
      "   <dbl> <chr>      <dbl>\n",
      " 1  2015 profit_q1  1.88 \n",
      " 2  2015 profit_q1  0.592\n",
      " 3  2016 profit_q1  0.921\n",
      " 4  2016 profit_q1  0.17 \n",
      " 5  2015 profit_q2  0.957\n",
      " 6  2015 profit_q2  0.147\n",
      " 7  2016 profit_q2  1.39 \n",
      " 8  2016 profit_q2  0.762\n",
      " 9  2015 revenue_q3 1.88 \n",
      "10  2015 revenue_q3 0.655\n",
      "11  2016 revenue_q3 0.337\n",
      "12  2016 revenue_q3 0.588\n",
      "13  2015 revenue_q4 2.37 \n",
      "14  2015 revenue_q4 0.642\n",
      "15  2016 revenue_q4 0.294\n",
      "16  2016 revenue_q4 0.566\n"
     ]
    }
   ],
   "source": [
    "# Solution\n",
    "gather(stocks, key = pq, value = value, -year) %>% print"
   ]
  },
  {
   "cell_type": "markdown",
   "metadata": {
    "slideshow": {
     "slide_type": "slide"
    }
   },
   "source": [
    "To pull apart these two variables we have the `separate()` function. `separate()` takes the name of the column to separate, a separator (in this case `'/'`), and the names of the columns to separate into. Example:"
   ]
  },
  {
   "cell_type": "code",
   "execution_count": 20,
   "metadata": {},
   "outputs": [
    {
     "data": {
      "text/plain": [
       "  country     century year rate             \n",
       "1 Afghanistan 19      99   745/19987071     \n",
       "2 Afghanistan 20      00   2666/20595360    \n",
       "3 Brazil      19      99   37737/172006362  \n",
       "4 Brazil      20      00   80488/174504898  \n",
       "5 China       19      99   212258/1272915272\n",
       "6 China       20      00   213766/1280428583"
      ]
     },
     "metadata": {},
     "output_type": "display_data"
    }
   ],
   "source": [
    "table5"
   ]
  },
  {
   "cell_type": "markdown",
   "metadata": {
    "slideshow": {
     "slide_type": "slide"
    }
   },
   "source": [
    "The `rate` column is really holding two columns of data: `cases` and `population`. To split them up, we can run `separate()`:"
   ]
  },
  {
   "cell_type": "code",
   "execution_count": 90,
   "metadata": {},
   "outputs": [
    {
     "name": "stdout",
     "output_type": "stream",
     "text": [
      "# A tibble: 6 x 5\n",
      "  country     century year  cases  population\n",
      "* <chr>       <chr>   <chr> <chr>  <chr>     \n",
      "1 Afghanistan 19      99    745    19987071  \n",
      "2 Afghanistan 20      00    2666   20595360  \n",
      "3 Brazil      19      99    37737  172006362 \n",
      "4 Brazil      20      00    80488  174504898 \n",
      "5 China       19      99    212258 1272915272\n",
      "6 China       20      00    213766 1280428583\n"
     ]
    }
   ],
   "source": [
    "separate(table5, col = rate, into = c(\"cases\", \"population\"), sep = \"/\") %>% print"
   ]
  },
  {
   "cell_type": "markdown",
   "metadata": {
    "slideshow": {
     "slide_type": "slide"
    }
   },
   "source": [
    "By default, `separate()` has coded `cases` and `population` as strings. To do further analysis we should convert them to numbers using the `convert=TRUE` option:"
   ]
  },
  {
   "cell_type": "code",
   "execution_count": 91,
   "metadata": {},
   "outputs": [
    {
     "name": "stdout",
     "output_type": "stream",
     "text": [
      "# A tibble: 6 x 5\n",
      "  country     century year   cases population\n",
      "* <chr>       <chr>   <chr>  <int>      <int>\n",
      "1 Afghanistan 19      99       745   19987071\n",
      "2 Afghanistan 20      00      2666   20595360\n",
      "3 Brazil      19      99     37737  172006362\n",
      "4 Brazil      20      00     80488  174504898\n",
      "5 China       19      99    212258 1272915272\n",
      "6 China       20      00    213766 1280428583\n"
     ]
    }
   ],
   "source": [
    "separate(table5, col = rate, into = c(\"cases\", \"population\"), \n",
    "         sep = \"/\", convert = TRUE) %>% print"
   ]
  },
  {
   "cell_type": "markdown",
   "metadata": {
    "slideshow": {
     "slide_type": "slide"
    }
   },
   "source": [
    "### Spread\n",
    "Another type of problem is when an observation is scattered across multiple rows."
   ]
  },
  {
   "cell_type": "code",
   "execution_count": 101,
   "metadata": {},
   "outputs": [
    {
     "name": "stdout",
     "output_type": "stream",
     "text": [
      "# A tibble: 12 x 4\n",
      "   country      year type            count\n",
      "   <chr>       <int> <chr>           <int>\n",
      " 1 Afghanistan  1999 cases             745\n",
      " 2 Afghanistan  1999 population   19987071\n",
      " 3 Afghanistan  2000 cases            2666\n",
      " 4 Afghanistan  2000 population   20595360\n",
      " 5 Brazil       1999 cases           37737\n",
      " 6 Brazil       1999 population  172006362\n",
      " 7 Brazil       2000 cases           80488\n",
      " 8 Brazil       2000 population  174504898\n",
      " 9 China        1999 cases          212258\n",
      "10 China        1999 population 1272915272\n",
      "11 China        2000 cases          213766\n",
      "12 China        2000 population 1280428583\n"
     ]
    }
   ],
   "source": [
    "print(table2)"
   ]
  },
  {
   "cell_type": "markdown",
   "metadata": {
    "slideshow": {
     "slide_type": "slide"
    }
   },
   "source": [
    "Here we want to do the opposite of gather: we want to *spread* these rows out into new columns.\n",
    "![spread data](http://r4ds.had.co.nz/images/tidy-8.png)"
   ]
  },
  {
   "cell_type": "markdown",
   "metadata": {
    "slideshow": {
     "slide_type": "slide"
    }
   },
   "source": [
    "We need to specify two things:\n",
    "\n",
    "* which existing column (the **key**) has the variable names as values\n",
    "* which existing column (the **value**) has the values for those variables"
   ]
  },
  {
   "cell_type": "markdown",
   "metadata": {
    "slideshow": {
     "slide_type": "slide"
    }
   },
   "source": [
    "What is the key here? What is the value?"
   ]
  },
  {
   "cell_type": "code",
   "execution_count": 102,
   "metadata": {},
   "outputs": [
    {
     "name": "stdout",
     "output_type": "stream",
     "text": [
      "# A tibble: 12 x 4\n",
      "  country      year type          count\n",
      "  <chr>       <int> <chr>         <int>\n",
      "1 Afghanistan  1999 cases           745\n",
      "2 Afghanistan  1999 population 19987071\n",
      "3 Afghanistan  2000 cases          2666\n",
      "4 Afghanistan  2000 population 20595360\n",
      "5 Brazil       1999 cases         37737\n",
      "# ... with 7 more rows\n"
     ]
    }
   ],
   "source": [
    "print(table2, n=5) "
   ]
  },
  {
   "cell_type": "markdown",
   "metadata": {
    "slideshow": {
     "slide_type": "slide"
    }
   },
   "source": [
    "### Exercise\n",
    "Convert `table2` to tidy format using `spread()`."
   ]
  },
  {
   "cell_type": "code",
   "execution_count": 30,
   "metadata": {
    "slideshow": {
     "slide_type": "slide"
    }
   },
   "outputs": [
    {
     "data": {
      "text/plain": [
       "  country     year cases  population\n",
       "1 Afghanistan 1999    745   19987071\n",
       "2 Afghanistan 2000   2666   20595360\n",
       "3 Brazil      1999  37737  172006362\n",
       "4 Brazil      2000  80488  174504898\n",
       "5 China       1999 212258 1272915272\n",
       "6 China       2000 213766 1280428583"
      ]
     },
     "metadata": {},
     "output_type": "display_data"
    }
   ],
   "source": [
    "# Solution\n",
    "table2 %>% spread(key = type, value = count)"
   ]
  },
  {
   "cell_type": "markdown",
   "metadata": {
    "slideshow": {
     "slide_type": "notes"
    }
   },
   "source": [
    "Remember that:\n",
    "\n",
    "* `gather` tends to make wide tables narrower and longer\n",
    "* `spread` tends to make long tables shorter and wider\n",
    "* `gather` and `spread` are inverses -- each one undos the other."
   ]
  },
  {
   "cell_type": "markdown",
   "metadata": {
    "slideshow": {
     "slide_type": "slide"
    }
   },
   "source": [
    "Sometimes we want to `spread()` data for other reasons. Some tables are more readable if they are put in a non-tidy format. This is often the case with time data."
   ]
  },
  {
   "cell_type": "markdown",
   "metadata": {
    "slideshow": {
     "slide_type": "slide"
    }
   },
   "source": [
    "### Exercise\n",
    "Use `spread()` to put the `year` variable of `table1` into columns (show `population` only):\n",
    "```\n",
    "  country     1999       2000      \n",
    "1 Afghanistan   19987071   20595360\n",
    "2 Brazil       172006362  174504898\n",
    "3 China       1272915272 1280428583\n",
    "```"
   ]
  },
  {
   "cell_type": "code",
   "execution_count": 31,
   "metadata": {
    "slideshow": {
     "slide_type": "slide"
    }
   },
   "outputs": [
    {
     "data": {
      "text/plain": [
       "  country     1999       2000      \n",
       "1 Afghanistan   19987071   20595360\n",
       "2 Brazil       172006362  174504898\n",
       "3 China       1272915272 1280428583"
      ]
     },
     "metadata": {},
     "output_type": "display_data"
    }
   ],
   "source": [
    "# Solution\n",
    "table1 %>% select(country, year, population) %>% \n",
    "    spread(key = year, value = population)"
   ]
  },
  {
   "cell_type": "markdown",
   "metadata": {
    "slideshow": {
     "slide_type": "slide"
    }
   },
   "source": [
    "### Exercise\n",
    "Re-create the following table which shows monthly departures from the three NYC airports:\n",
    "```\n",
    "  origin 1    2    3     4     5     6     7     8     9    10    11   12  \n",
    "1 EWR    9893 9107 10420 10531 10592 10175 10475 10359 9550 10104 9707 9922\n",
    "2 JFK    9161 8421  9697  9218  9397  9472 10023  9983 8908  9143 8710 9146\n",
    "3 LGA    7950 7423  8717  8581  8807  8596  8927  8985 9116  9642 8851 9067\n",
    "```"
   ]
  },
  {
   "cell_type": "code",
   "execution_count": 109,
   "metadata": {
    "slideshow": {
     "slide_type": "slide"
    }
   },
   "outputs": [
    {
     "data": {
      "text/plain": [
       "  origin 1    2    3     4     5     6     7     8     9    10    11   12  \n",
       "1 EWR    9893 9107 10420 10531 10592 10175 10475 10359 9550 10104 9707 9922\n",
       "2 JFK    9161 8421  9697  9218  9397  9472 10023  9983 8908  9143 8710 9146\n",
       "3 LGA    7950 7423  8717  8581  8807  8596  8927  8985 9116  9642 8851 9067"
      ]
     },
     "metadata": {},
     "output_type": "display_data"
    }
   ],
   "source": [
    "flights %>% count(origin, month) %>% spread(key = month, value = n)"
   ]
  },
  {
   "cell_type": "markdown",
   "metadata": {
    "slideshow": {
     "slide_type": "slide"
    }
   },
   "source": [
    "### Exercise\n",
    "Is the table below tidy? If not, how should we tidy it?"
   ]
  },
  {
   "cell_type": "code",
   "execution_count": 30,
   "metadata": {},
   "outputs": [
    {
     "data": {
      "text/plain": [
       "  pregnant male female\n",
       "1 yes      NA   10    \n",
       "2 no       20   12    "
      ]
     },
     "metadata": {},
     "output_type": "display_data"
    }
   ],
   "source": [
    "(preg = tribble(\n",
    "  ~pregnant, ~male, ~female,\n",
    "  \"yes\",     NA,    10,\n",
    "  \"no\",      20,    12\n",
    "))"
   ]
  },
  {
   "cell_type": "markdown",
   "metadata": {
    "slideshow": {
     "slide_type": "slide"
    }
   },
   "source": [
    "### Spreading more than one column\n",
    "Consider the following simple table:"
   ]
  },
  {
   "cell_type": "code",
   "execution_count": 12,
   "metadata": {
    "slideshow": {
     "slide_type": "notes"
    }
   },
   "outputs": [],
   "source": [
    "grades <- tribble(\n",
    "    ~person, ~exam, ~q1, ~q2, ~q3,\n",
    "    \"alice\", \"mt1\", 1, 2, 3.5,\n",
    "    \"alice\", \"mt2\", .5, 2.5, 1.5,\n",
    "    \"bob\", \"mt1\", 0.0, 1.0, 1.5,\n",
    "    \"bob\", \"mt2\", 1.5, 2.5, 2.0\n",
    ")"
   ]
  },
  {
   "cell_type": "code",
   "execution_count": 110,
   "metadata": {},
   "outputs": [
    {
     "name": "stdout",
     "output_type": "stream",
     "text": [
      "# A tibble: 4 x 5\n",
      "  person exam     q1    q2    q3\n",
      "  <chr>  <chr> <dbl> <dbl> <dbl>\n",
      "1 alice  mt1     1     2     3.5\n",
      "2 alice  mt2     0.5   2.5   1.5\n",
      "3 bob    mt1     0     1     1.5\n",
      "4 bob    mt2     1.5   2.5   2  \n"
     ]
    }
   ],
   "source": [
    "print(grades)"
   ]
  },
  {
   "cell_type": "markdown",
   "metadata": {
    "slideshow": {
     "slide_type": "slide"
    }
   },
   "source": [
    "Suppose we want to expand this into multiple columns `mt1.q1`, `mt1.q2`, and so on. How should we use `spread()`?"
   ]
  },
  {
   "cell_type": "code",
   "execution_count": 111,
   "metadata": {
    "slideshow": {
     "slide_type": "fragment"
    }
   },
   "outputs": [
    {
     "data": {
      "text/plain": [
       "  person q2  q3  mt1 mt2\n",
       "1 alice  2.0 3.5  1   NA\n",
       "2 alice  2.5 1.5 NA  0.5\n",
       "3 bob    1.0 1.5  0   NA\n",
       "4 bob    2.5 2.0 NA  1.5"
      ]
     },
     "metadata": {},
     "output_type": "display_data"
    }
   ],
   "source": [
    "grades %>% spread(key=exam, value=q1)"
   ]
  },
  {
   "cell_type": "markdown",
   "metadata": {
    "slideshow": {
     "slide_type": "notes"
    }
   },
   "source": [
    "We have uncovered a limitation of `spread()`. It can only operate on a single key-value pair. (This is on purpose, in order to keep the command simple.)"
   ]
  },
  {
   "cell_type": "markdown",
   "metadata": {
    "slideshow": {
     "slide_type": "slide"
    }
   },
   "source": [
    "### Unite\n",
    "To `spread()` multiple values at once we'll use the `unite()` command to combine them into a single variable. The unite command does the opposite of `separate()`: stick several variables together to form a new variable."
   ]
  },
  {
   "cell_type": "code",
   "execution_count": 118,
   "metadata": {
    "slideshow": {
     "slide_type": "slide"
    }
   },
   "outputs": [
    {
     "data": {
      "text/plain": [
       "  person mt1.q1 mt1.q2 mt1.q3 mt2.q1 mt2.q2 mt2.q3\n",
       "1 alice  1      2      3.5    0.5    2.5    1.5   \n",
       "2 bob    0      1      1.5    1.5    2.5    2     "
      ]
     },
     "metadata": {},
     "output_type": "display_data"
    }
   ],
   "source": [
    "unite(grades, col=\"q\", q1:q3) %>%  spread(key = exam, value = q) %>% \n",
    " separate(mt1, into = c(\"mt1.q1\", \"mt1.q2\", \"mt1.q3\"), sep = \"_\") %>% \n",
    " separate(mt2, into = c(\"mt2.q1\", \"mt2.q2\", \"mt2.q3\"), sep = \"_\")"
   ]
  },
  {
   "cell_type": "markdown",
   "metadata": {
    "slideshow": {
     "slide_type": "notes"
    }
   },
   "source": [
    "`unite()` has taken each of the values q1, q2, q3 and combined them into a single column. Now we can `spread()` the `q` column to obtain:"
   ]
  },
  {
   "cell_type": "code",
   "execution_count": 13,
   "metadata": {
    "slideshow": {
     "slide_type": "slide"
    }
   },
   "outputs": [
    {
     "data": {
      "text/plain": [
       "  person mt1     mt2        \n",
       "1 alice  1_2_3.5 0.5_2.5_1.5\n",
       "2 bob    0_1_1.5 1.5_2.5_2  "
      ]
     },
     "metadata": {},
     "output_type": "display_data"
    }
   ],
   "source": [
    "unite(grades, col=\"q\", q1:q3) %>% spread(key=exam, value=q)"
   ]
  },
  {
   "cell_type": "markdown",
   "metadata": {
    "slideshow": {
     "slide_type": "slide"
    }
   },
   "source": [
    "### Exercise\n",
    "Use `separate()` on this table to complete the exercise and obtain:\n",
    "```\n",
    "  person mt1.q1 mt1.q2 mt1.q3 mt2.q1 mt2.q2 mt2.q3\n",
    "1 alice  1      2      3.5    0.5    2.5    1.5   \n",
    "2 bob    0      1      1.5    1.5    2.5    2     \n",
    "```"
   ]
  },
  {
   "cell_type": "code",
   "execution_count": 20,
   "metadata": {
    "slideshow": {
     "slide_type": "slide"
    }
   },
   "outputs": [
    {
     "data": {
      "text/plain": [
       "  person mt1.q1 mt1.q2 mt1.q3 mt2.q1 mt2.q2 mt2.q3\n",
       "1 alice  1      2      3.5    0.5    2.5    1.5   \n",
       "2 bob    0      1      1.5    1.5    2.5    2     "
      ]
     },
     "metadata": {},
     "output_type": "display_data"
    }
   ],
   "source": [
    "# Solution\n",
    "unite(grades, col=\"q\", q1:q3) %>% spread(key=exam, value=q) %>% \n",
    "    separate(mt1, into = paste0(\"mt1.q\", 1:3), sep=\"_\") %>% \n",
    "    separate(mt2, into = paste0(\"mt2.q\", 1:3), sep=\"_\")"
   ]
  },
  {
   "cell_type": "markdown",
   "metadata": {
    "slideshow": {
     "slide_type": "slide"
    }
   },
   "source": [
    "## Missing Values\n",
    "Missing values can be:\n",
    "\n",
    "* **Explicit** (marked as `NA` in our data); or\n",
    "* **Implicit** (not present in the data)."
   ]
  },
  {
   "cell_type": "code",
   "execution_count": 119,
   "metadata": {
    "slideshow": {
     "slide_type": "slide"
    }
   },
   "outputs": [
    {
     "data": {
      "text/plain": [
       "  year qtr return\n",
       "1 2015 1   1.88  \n",
       "2 2015 2   0.59  \n",
       "3 2015 3   0.35  \n",
       "4 2015 4     NA  \n",
       "5 2016 2   0.92  \n",
       "6 2016 3   0.17  \n",
       "7 2016 4   2.66  "
      ]
     },
     "metadata": {},
     "output_type": "display_data"
    }
   ],
   "source": [
    "(stocks <- tibble(\n",
    "  year   = c(2015, 2015, 2015, 2015, 2016, 2016, 2016),\n",
    "  qtr    = c(   1,    2,    3,    4,    2,    3,    4),\n",
    "  return = c(1.88, 0.59, 0.35,   NA, 0.92, 0.17, 2.66)\n",
    "))"
   ]
  },
  {
   "cell_type": "markdown",
   "metadata": {
    "slideshow": {
     "slide_type": "-"
    }
   },
   "source": [
    "In this example we have one explicitly missing value for the 4th quarter of 2015. Are there any other missing values? Yes, because we do not have an observation for the first quarter of 2016."
   ]
  },
  {
   "cell_type": "markdown",
   "metadata": {
    "slideshow": {
     "slide_type": "slide"
    }
   },
   "source": [
    "The **complete** command makes implicit missing value explicit by considering all combinations of unique values of specified variables."
   ]
  },
  {
   "cell_type": "code",
   "execution_count": 125,
   "metadata": {},
   "outputs": [
    {
     "data": {
      "text/plain": [
       "  year qtr return\n",
       "1 2015 1   1.88  \n",
       "2 2015 2   0.59  \n",
       "3 2015 3   0.35  \n",
       "4 2015 4   0.35  \n",
       "5 2016 2   0.92  \n",
       "6 2016 3   0.17  \n",
       "7 2016 4   2.66  "
      ]
     },
     "metadata": {},
     "output_type": "display_data"
    }
   ],
   "source": [
    "fill(stocks, return)"
   ]
  },
  {
   "cell_type": "markdown",
   "metadata": {
    "slideshow": {
     "slide_type": "slide"
    }
   },
   "source": [
    "The missing values also become explicit if we **spread** the tibble."
   ]
  },
  {
   "cell_type": "code",
   "execution_count": 39,
   "metadata": {},
   "outputs": [
    {
     "data": {
      "text/plain": [
       "  qtr 2015 2016\n",
       "1 1   1.88   NA\n",
       "2 2   0.59 0.92\n",
       "3 3   0.35 0.17\n",
       "4 4     NA 2.66"
      ]
     },
     "metadata": {},
     "output_type": "display_data"
    }
   ],
   "source": [
    "spread(stocks, key = year, value = return)"
   ]
  },
  {
   "cell_type": "markdown",
   "metadata": {
    "slideshow": {
     "slide_type": "slide"
    }
   },
   "source": [
    "**gather** will keep all these explicitly missing values by default."
   ]
  },
  {
   "cell_type": "code",
   "execution_count": 40,
   "metadata": {},
   "outputs": [
    {
     "data": {
      "text/plain": [
       "  qtr year return\n",
       "1 1   2015 1.88  \n",
       "2 2   2015 0.59  \n",
       "3 3   2015 0.35  \n",
       "4 4   2015   NA  \n",
       "5 1   2016   NA  \n",
       "6 2   2016 0.92  \n",
       "7 3   2016 0.17  \n",
       "8 4   2016 2.66  "
      ]
     },
     "metadata": {},
     "output_type": "display_data"
    }
   ],
   "source": [
    "stocks %>%\n",
    "    spread(key = year, value = return) %>%\n",
    "    gather(`2015`, `2016`, key = year, value = return)"
   ]
  },
  {
   "cell_type": "markdown",
   "metadata": {
    "slideshow": {
     "slide_type": "slide"
    }
   },
   "source": [
    "If you don't like the default behavior of **gather**, you can turn off explicit missing values using the `na.rm` argument."
   ]
  },
  {
   "cell_type": "code",
   "execution_count": 41,
   "metadata": {},
   "outputs": [
    {
     "data": {
      "text/plain": [
       "  qtr year return\n",
       "1 1   2015 1.88  \n",
       "2 2   2015 0.59  \n",
       "3 3   2015 0.35  \n",
       "6 2   2016 0.92  \n",
       "7 3   2016 0.17  \n",
       "8 4   2016 2.66  "
      ]
     },
     "metadata": {},
     "output_type": "display_data"
    }
   ],
   "source": [
    "stocks %>%\n",
    "    spread(key = year, value = return) %>%\n",
    "    gather(`2015`, `2016`, key = year, value = return, na.rm = TRUE)"
   ]
  }
 ],
 "metadata": {
  "celltoolbar": "Slideshow",
  "kernelspec": {
   "display_name": "R",
   "language": "R",
   "name": "ir"
  },
  "language_info": {
   "codemirror_mode": "r",
   "file_extension": ".r",
   "mimetype": "text/x-r-source",
   "name": "R",
   "pygments_lexer": "r",
   "version": "3.5.2"
  }
 },
 "nbformat": 4,
 "nbformat_minor": 1
}
