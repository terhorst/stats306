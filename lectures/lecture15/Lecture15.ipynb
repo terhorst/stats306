{
 "cells": [
  {
   "cell_type": "code",
   "execution_count": 13,
   "metadata": {
    "slideshow": {
     "slide_type": "notes"
    }
   },
   "outputs": [
    {
     "data": {
      "text/html": [
       "\n",
       "<style>\n",
       ".rendered_html table, .rendered_html th, .rendered_html tr, .rendered_html td {\n",
       "     font-size: 100%;\n",
       "}\n",
       "body.rise-enabled div.inner_cell>div.input_area {\n",
       "    font-size: 150%;\n",
       "}\n",
       "\n",
       "body.rise-enabled div.output_subarea.output_text.output_result {\n",
       "    font-size: 150%;\n",
       "}\n",
       "body.rise-enabled div.output_subarea.output_text.output_stream.output_stdout {\n",
       "  font-size: 150%;\n",
       "}\n",
       "</style>\n"
      ]
     },
     "metadata": {},
     "output_type": "display_data"
    }
   ],
   "source": [
    "IRdisplay::display_html(\"\n",
    "<style>\n",
    ".rendered_html table, .rendered_html th, .rendered_html tr, .rendered_html td {\n",
    "     font-size: 100%;\n",
    "}\n",
    "body.rise-enabled div.inner_cell>div.input_area {\n",
    "    font-size: 150%;\n",
    "}\n",
    "\n",
    "body.rise-enabled div.output_subarea.output_text.output_result {\n",
    "    font-size: 150%;\n",
    "}\n",
    "body.rise-enabled div.output_subarea.output_text.output_stream.output_stdout {\n",
    "  font-size: 150%;\n",
    "}\n",
    "</style>\n",
    "\")"
   ]
  },
  {
   "cell_type": "code",
   "execution_count": 14,
   "metadata": {
    "slideshow": {
     "slide_type": "notes"
    }
   },
   "outputs": [
    {
     "name": "stderr",
     "output_type": "stream",
     "text": [
      "── Attaching packages ─────────────────────────────────────── tidyverse 1.2.1 ──\n",
      "✔ ggplot2 3.2.1     ✔ purrr   0.3.2\n",
      "✔ tibble  2.1.3     ✔ dplyr   0.8.3\n",
      "✔ tidyr   0.8.3     ✔ stringr 1.4.0\n",
      "✔ readr   1.3.0     ✔ forcats 0.3.0\n",
      "── Conflicts ────────────────────────────────────────── tidyverse_conflicts() ──\n",
      "✖ dplyr::filter()  masks stats::filter()\n",
      "✖ purrr::flatten() masks jsonlite::flatten()\n",
      "✖ dplyr::lag()     masks stats::lag()\n",
      "\n",
      "Attaching package: ‘lubridate’\n",
      "\n",
      "The following object is masked from ‘package:base’:\n",
      "\n",
      "    date\n",
      "\n"
     ]
    }
   ],
   "source": [
    "library(tidyverse)\n",
    "library(lubridate)\n",
    "library(forcats)"
   ]
  },
  {
   "cell_type": "markdown",
   "metadata": {
    "slideshow": {
     "slide_type": "slide"
    }
   },
   "source": [
    "# Lecture 15: More on factors & dates"
   ]
  },
  {
   "cell_type": "markdown",
   "metadata": {
    "slideshow": {
     "slide_type": "slide"
    }
   },
   "source": [
    "## Trump Twitter data\n",
    "We will now use what we have learned in the past two classes to analyze some real data. "
   ]
  },
  {
   "cell_type": "code",
   "execution_count": 15,
   "metadata": {
    "slideshow": {
     "slide_type": "notes"
    }
   },
   "outputs": [],
   "source": [
    "load(\"tt.RData\")  # see tt/load_tweets.ipynb for code that produces this data."
   ]
  },
  {
   "cell_type": "code",
   "execution_count": 16,
   "metadata": {},
   "outputs": [
    {
     "name": "stdout",
     "output_type": "stream",
     "text": [
      "# A tibble: 41,958 x 8\n",
      "   source id_str text  created_at retweet_count in_reply_to_use… favorite_count\n",
      "   <chr>  <chr>  <chr> <chr>              <int> <chr>                     <int>\n",
      " 1 Twitt… 20595… WIsh… Thu Dec 3…           144 <NA>                         42\n",
      " 2 Twitt… 17979… Wish… Thu Dec 2…           109 <NA>                         55\n",
      " 3 Twitt… 15413… Don'… Thu Dec 1…           112 <NA>                         20\n",
      " 4 Twitt… 14785… I'll… Tue Dec 1…           250 <NA>                         37\n",
      " 5 Twitt… 14359… ...T… Mon Dec 1…            12 <NA>                          6\n",
      " 6 Twitt… 14358… Thos… Mon Dec 1…            14 <NA>                          6\n",
      " 7 Twitt… 14356… \"All… Mon Dec 1…            24 <NA>                          8\n",
      " 8 Twitt… 13242… Cong… Fri Dec 1…            44 <NA>                         12\n",
      " 9 Twitt… 12960… Toni… Thu Dec 0…            55 <NA>                          7\n",
      "10 Twitt… 10355… Toni… Thu Dec 0…            24 <NA>                          3\n",
      "# … with 41,948 more rows, and 1 more variable: is_retweet <lgl>\n"
     ]
    }
   ],
   "source": [
    "print(trump_tweets)"
   ]
  },
  {
   "cell_type": "markdown",
   "metadata": {
    "slideshow": {
     "slide_type": "slide"
    }
   },
   "source": [
    "`trump_tweets` is a dataset of all ~~37,169~~ 41,958 Tweets that Donald Trump has sent since 2010."
   ]
  },
  {
   "cell_type": "code",
   "execution_count": 17,
   "metadata": {},
   "outputs": [
    {
     "data": {
      "text/plain": [
       "[1] \"Thu Dec 30 21:42:01 +0000 2010\""
      ]
     },
     "metadata": {},
     "output_type": "display_data"
    }
   ],
   "source": [
    "# print(trump_tweets)\n",
    "trump_tweets$created_at[1]"
   ]
  },
  {
   "cell_type": "markdown",
   "metadata": {
    "slideshow": {
     "slide_type": "slide"
    }
   },
   "source": [
    "### Task #1\n",
    "Each tweet has a timestamp in the `created_at` column. We want to convert this column to a proper date-time object so that we can analyze the time component of these tweets."
   ]
  },
  {
   "cell_type": "code",
   "execution_count": 7,
   "metadata": {
    "slideshow": {
     "slide_type": "slide"
    }
   },
   "outputs": [
    {
     "name": "stdout",
     "output_type": "stream",
     "text": [
      "# A tibble: 37,169 x 9\n",
      "   source id_str text  created_at retweet_count in_reply_to_use… favorite_count\n",
      "   <chr>  <chr>  <chr> <chr>              <int> <chr>                     <int>\n",
      " 1 Twitt… 20595… WIsh… Thu Dec 3…           144 <NA>                         42\n",
      " 2 Twitt… 17979… Wish… Thu Dec 2…           109 <NA>                         55\n",
      " 3 Twitt… 15413… Don'… Thu Dec 1…           112 <NA>                         20\n",
      " 4 Twitt… 14785… I'll… Tue Dec 1…           250 <NA>                         37\n",
      " 5 Twitt… 14359… ...T… Mon Dec 1…            12 <NA>                          6\n",
      " 6 Twitt… 14358… Thos… Mon Dec 1…            14 <NA>                          6\n",
      " 7 Twitt… 14356… \"All… Mon Dec 1…            24 <NA>                          8\n",
      " 8 Twitt… 13242… Cong… Fri Dec 1…            44 <NA>                         12\n",
      " 9 Twitt… 12960… Toni… Thu Dec 0…            55 <NA>                          7\n",
      "10 Twitt… 10355… Toni… Thu Dec 0…            24 <NA>                          3\n",
      "# ... with 37,159 more rows, and 2 more variables: is_retweet <lgl>, dt <dttm>\n"
     ]
    }
   ],
   "source": [
    "trump_tweets2 <- trump_tweets %>% mutate(\n",
    "    dt=str_replace(created_at,\n",
    "    \"\\\\w+ (\\\\w+ \\\\d+) ([\\\\d:]+) \\\\+0000 (\\\\d{4})\",\n",
    "    \"\\\\1 \\\\3 \\\\2\") %>% mdy_hms) %>% print"
   ]
  },
  {
   "attachments": {
    "image.png": {
     "image/png": "[encoded data removed]"
    }
   },
   "cell_type": "markdown",
   "metadata": {
    "slideshow": {
     "slide_type": "slide"
    }
   },
   "source": [
    "### Task #2\n",
    "Plot the number of Tweets that Donald Trump has made for each quarter of the year from 2010 to present.\n",
    "![image.png](attachment:image.png)"
   ]
  },
  {
   "cell_type": "code",
   "execution_count": 18,
   "metadata": {
    "slideshow": {
     "slide_type": "slide"
    }
   },
   "outputs": [],
   "source": [
    "# Solution"
   ]
  },
  {
   "cell_type": "markdown",
   "metadata": {
    "slideshow": {
     "slide_type": "slide"
    }
   },
   "source": [
    "### Task #3\n",
    "Recall that `words` contains common English words. After filtering out these words, and all words that were shorter than six characters, the most common words that the President used in 2018 were:\n",
    "\n",
    "```\n",
    "# A tibble: 11 x 2\n",
    "   words               n\n",
    "   <chr>           <int>\n",
    " 1 american          161\n",
    " 2 border            269\n",
    " 3 collusion         133\n",
    " 4 democrats         291\n",
    " 5 military          183\n",
    " 6 president         356\n",
    " 7 realdonaldtrump   182\n",
    " 8 russia            133\n",
    " 9 security          151\n",
    "10 states            150\n",
    "11 united            150\n",
    "\n",
    "```\n",
    "\n",
    "What about for 2012?"
   ]
  },
  {
   "cell_type": "code",
   "execution_count": 19,
   "metadata": {
    "slideshow": {
     "slide_type": "slide"
    }
   },
   "outputs": [],
   "source": [
    "# Solution"
   ]
  },
  {
   "cell_type": "markdown",
   "metadata": {
    "slideshow": {
     "slide_type": "slide"
    }
   },
   "source": [
    "### Task #4\n",
    "What were the president's favorite #hashtags in 2018? 2012?"
   ]
  },
  {
   "cell_type": "code",
   "execution_count": 20,
   "metadata": {},
   "outputs": [],
   "source": [
    "# Your code here"
   ]
  },
  {
   "cell_type": "markdown",
   "metadata": {
    "slideshow": {
     "slide_type": "slide"
    }
   },
   "source": [
    "### Task #5\n",
    "At what hour of the day (or night) is the Donald Trump most likely to tweet, and how has this changed over time?"
   ]
  },
  {
   "cell_type": "code",
   "execution_count": 21,
   "metadata": {},
   "outputs": [],
   "source": [
    "# Solution"
   ]
  },
  {
   "cell_type": "markdown",
   "metadata": {
    "slideshow": {
     "slide_type": "slide"
    }
   },
   "source": [
    "### Task #6\n",
    "\"Sentiment analysis\" refers to the act of assigning a label such as \"positive\" or \"negative\" to a piece of text. We will perform a simple type of sentiment analysis by assigning a numerical score to certain words in each tweet, using the `sentiments` table:"
   ]
  },
  {
   "cell_type": "code",
   "execution_count": 24,
   "metadata": {},
   "outputs": [
    {
     "data": {
      "text/plain": [
       "  word         sentiment lexicon score\n",
       "1 breathtaking NA        AFINN   5    \n",
       "2 hurrah       NA        AFINN   5    \n",
       "3 outstanding  NA        AFINN   5    \n",
       "4 superb       NA        AFINN   5    \n",
       "5 thrilled     NA        AFINN   5    "
      ]
     },
     "metadata": {},
     "output_type": "display_data"
    }
   ],
   "source": [
    "library(tidytext)\n",
    "sentiments %>% top_n(5, score)"
   ]
  },
  {
   "cell_type": "markdown",
   "metadata": {
    "slideshow": {
     "slide_type": "slide"
    }
   },
   "source": [
    "An example of how this works:"
   ]
  },
  {
   "cell_type": "code",
   "execution_count": 8,
   "metadata": {},
   "outputs": [
    {
     "name": "stderr",
     "output_type": "stream",
     "text": [
      "Joining, by = \"word\"\n"
     ]
    }
   ],
   "source": [
    "trump_sentiments <- trump_tweets2 %>% \n",
    "    mutate(\n",
    "        month = month(dt),\n",
    "        year = year(dt),\n",
    "        word = str_extract_all(str_to_lower(text), \"\\\\b\\\\w+\\\\b\")) %>% \n",
    "    unnest %>% inner_join(sentiments) %>% group_by(year, month, id_str, text) %>% \n",
    "    summarize(s=sum(score)) %>% ungroup  "
   ]
  },
  {
   "cell_type": "markdown",
   "metadata": {
    "slideshow": {
     "slide_type": "slide"
    }
   },
   "source": [
    "Average the sentiment by month for the full data set, and make a plot of the monthly average from 2014 to 2018. \n",
    "\n",
    "President Trump declared his candidacy in June of 2015. Notice anything?"
   ]
  },
  {
   "cell_type": "code",
   "execution_count": 25,
   "metadata": {
    "slideshow": {
     "slide_type": "slide"
    }
   },
   "outputs": [],
   "source": [
    "# Solution"
   ]
  }
 ],
 "metadata": {
  "celltoolbar": "Slideshow",
  "kernelspec": {
   "display_name": "R",
   "language": "R",
   "name": "ir"
  },
  "language_info": {
   "codemirror_mode": "r",
   "file_extension": ".r",
   "mimetype": "text/x-r-source",
   "name": "R",
   "pygments_lexer": "r",
   "version": "3.5.2"
  },
  "toc": {
   "nav_menu": {},
   "number_sections": true,
   "sideBar": true,
   "skip_h1_title": true,
   "toc_cell": false,
   "toc_position": {},
   "toc_section_display": "block",
   "toc_window_display": true
  }
 },
 "nbformat": 4,
 "nbformat_minor": 2
}
