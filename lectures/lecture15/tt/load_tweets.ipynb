{
 "cells": [
  {
   "cell_type": "code",
   "execution_count": 2,
   "metadata": {},
   "outputs": [
    {
     "name": "stderr",
     "output_type": "stream",
     "text": [
      "── Attaching packages ─────────────────────────────────────── tidyverse 1.2.1 ──\n",
      "✔ ggplot2 3.2.1     ✔ purrr   0.3.2\n",
      "✔ tibble  2.1.3     ✔ dplyr   0.8.3\n",
      "✔ tidyr   0.8.3     ✔ stringr 1.4.0\n",
      "✔ readr   1.3.0     ✔ forcats 0.3.0\n",
      "── Conflicts ────────────────────────────────────────── tidyverse_conflicts() ──\n",
      "✖ dplyr::filter()  masks stats::filter()\n",
      "✖ purrr::flatten() masks jsonlite::flatten()\n",
      "✖ dplyr::lag()     masks stats::lag()\n"
     ]
    }
   ],
   "source": [
    "library(jsonlite)\n",
    "library(tidyverse)\n",
    "library(stringr)"
   ]
  },
  {
   "cell_type": "code",
   "execution_count": 10,
   "metadata": {},
   "outputs": [],
   "source": [
    "trump_tweets <- str_c(2010:2019, \".json\") %>% \n",
    "                map_df(~ jsonlite::read_json(path = ., simplifyVector = T)) %>% tbl_df"
   ]
  },
  {
   "cell_type": "code",
   "execution_count": 11,
   "metadata": {},
   "outputs": [],
   "source": [
    "save(trump_tweets, file=\"../tt.RData\")"
   ]
  },
  {
   "cell_type": "code",
   "execution_count": 9,
   "metadata": {},
   "outputs": [
    {
     "name": "stdout",
     "output_type": "stream",
     "text": [
      "# A tibble: 41,958 x 8\n",
      "   source id_str text  created_at retweet_count in_reply_to_use… favorite_count\n",
      "   <chr>  <chr>  <chr> <chr>              <int> <chr>                     <int>\n",
      " 1 Twitt… 20595… WIsh… Thu Dec 3…           144 <NA>                         42\n",
      " 2 Twitt… 17979… Wish… Thu Dec 2…           109 <NA>                         55\n",
      " 3 Twitt… 15413… Don'… Thu Dec 1…           112 <NA>                         20\n",
      " 4 Twitt… 14785… I'll… Tue Dec 1…           250 <NA>                         37\n",
      " 5 Twitt… 14359… ...T… Mon Dec 1…            12 <NA>                          6\n",
      " 6 Twitt… 14358… Thos… Mon Dec 1…            14 <NA>                          6\n",
      " 7 Twitt… 14356… \"All… Mon Dec 1…            24 <NA>                          8\n",
      " 8 Twitt… 13242… Cong… Fri Dec 1…            44 <NA>                         12\n",
      " 9 Twitt… 12960… Toni… Thu Dec 0…            55 <NA>                          7\n",
      "10 Twitt… 10355… Toni… Thu Dec 0…            24 <NA>                          3\n",
      "# … with 41,948 more rows, and 1 more variable: is_retweet <lgl>\n"
     ]
    }
   ],
   "source": [
    "print(trump_tweets)"
   ]
  },
  {
   "cell_type": "code",
   "execution_count": null,
   "metadata": {},
   "outputs": [],
   "source": []
  }
 ],
 "metadata": {
  "kernelspec": {
   "display_name": "R",
   "language": "R",
   "name": "ir"
  },
  "language_info": {
   "codemirror_mode": "r",
   "file_extension": ".r",
   "mimetype": "text/x-r-source",
   "name": "R",
   "pygments_lexer": "r",
   "version": "3.5.2"
  }
 },
 "nbformat": 4,
 "nbformat_minor": 2
}
