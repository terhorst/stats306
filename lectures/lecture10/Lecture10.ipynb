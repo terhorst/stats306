{
 "cells": [
  {
   "cell_type": "code",
   "execution_count": 5,
   "metadata": {
    "scrolled": true,
    "slideshow": {
     "slide_type": "notes"
    }
   },
   "outputs": [],
   "source": [
    "library(tidyverse)\n",
    "library(nycflights13)\n",
    "library(lubridate)"
   ]
  },
  {
   "cell_type": "markdown",
   "metadata": {
    "slideshow": {
     "slide_type": "slide"
    }
   },
   "source": [
    "### Review\n",
    "There are 105 unique destinations in `flights`. How many of these were *not* flown to by a model `A320-232` airplane?"
   ]
  },
  {
   "cell_type": "code",
   "execution_count": 194,
   "metadata": {
    "slideshow": {
     "slide_type": "slide"
    }
   },
   "outputs": [],
   "source": [
    "# Your code here"
   ]
  },
  {
   "cell_type": "markdown",
   "metadata": {
    "slideshow": {
     "slide_type": "slide"
    }
   },
   "source": [
    "# Lecture 10: Importing data\n",
    "\n",
    "<div style=\"border: 1px double black; padding: 10px; margin: 10px\">\n",
    "\n",
    "**After today's lecture you will:**\n",
    "* Understand how to import data from various sources\n",
    "</div>\n"
   ]
  },
  {
   "cell_type": "markdown",
   "metadata": {
    "slideshow": {
     "slide_type": "slide"
    }
   },
   "source": [
    "## Types of data\n",
    "You will encounter data in many different formats. Here are a few of the most common ones:"
   ]
  },
  {
   "cell_type": "markdown",
   "metadata": {
    "slideshow": {
     "slide_type": "slide"
    }
   },
   "source": [
    "### Comma-separated value data\n",
    "Comma-separated value (csv) is one of the most common formats for sharing data. It has the advantage of being human-readable. The disadvantage is that there is no actual standard for reading or writing these files!"
   ]
  },
  {
   "cell_type": "markdown",
   "metadata": {
    "slideshow": {
     "slide_type": "slide"
    }
   },
   "source": [
    "Here's an example of CSV data on heights:\n",
    "    \n",
    "    \"earn\",\"height\",\"sex\",\"ed\",\"age\",\"race\"\n",
    "    50000,74.4244387818035,\"male\",16,45,\"white\"\n",
    "    60000,65.5375428255647,\"female\",16,58,\"white\"\n",
    "    30000,63.6291977374349,\"female\",16,29,\"white\"\n",
    "    50000,63.1085616752971,\"female\",16,91,\"other\"\n",
    "    51000,63.4024835710879,\"female\",17,39,\"white\"\n",
    "    9000,64.3995075440034,\"female\",15,26,\"white\"\n",
    "    \n",
    "The first row (usually) has a *header* giving the column names. Subsequent rows give the actual data. Strings are (usually) quoted."
   ]
  },
  {
   "cell_type": "markdown",
   "metadata": {
    "slideshow": {
     "slide_type": "slide"
    }
   },
   "source": [
    "You might also see these data come in the format:\n",
    "    \n",
    "    earn,height,sex,ed,age,race\n",
    "    50000,74.4244387818035,male,16,45,white\n",
    "    60000,65.5375428255647,female,16,58,white\n",
    "    30000,63.6291977374349,female,16,29,white\n",
    "    50000,63.1085616752971,female,16,91,other\n",
    "    51000,63.4024835710879,female,17,39,white\n",
    "    9000,64.3995075440034,female,15,26,white\n",
    "    \n",
    "No quotes!"
   ]
  },
  {
   "cell_type": "markdown",
   "metadata": {
    "slideshow": {
     "slide_type": "slide"
    }
   },
   "source": [
    "Or even:\n",
    "\n",
    "    50000,74.4244387818035,male,16,45,white\n",
    "    60000,65.5375428255647,female,16,58,white\n",
    "    30000,63.6291977374349,female,16,29,white\n",
    "    50000,63.1085616752971,female,16,91,other\n",
    "    51000,63.4024835710879,female,17,39,white\n",
    "    9000,64.3995075440034,female,15,26,white\n",
    "    \n",
    "No column names!"
   ]
  },
  {
   "cell_type": "markdown",
   "metadata": {
    "slideshow": {
     "slide_type": "notes"
    }
   },
   "source": [
    "The `read_csv` command is designed to read this type of file. Note that this command is part of `tidyverse` and is different from `read.csv` in R! You generally want to use `read_csv` over `read.csv` since:\n",
    "- It is much faster.\n",
    "- It outputs nicely formatted `tibble`s which you can pass into other tidyverse functions."
   ]
  },
  {
   "cell_type": "code",
   "execution_count": 7,
   "metadata": {
    "slideshow": {
     "slide_type": "slide"
    }
   },
   "outputs": [
    {
     "name": "stderr",
     "output_type": "stream",
     "text": [
      "Parsed with column specification:\n",
      "cols(\n",
      "  earn = col_double(),\n",
      "  height = col_double(),\n",
      "  sex = col_character(),\n",
      "  ed = col_double(),\n",
      "  age = col_double(),\n",
      "  race = col_character()\n",
      ")\n"
     ]
    }
   ],
   "source": [
    "heights <- read_csv(\"heights.csv\")"
   ]
  },
  {
   "cell_type": "markdown",
   "metadata": {
    "slideshow": {
     "slide_type": "notes"
    }
   },
   "source": [
    "Here `read_csv` has told us what columns it found, and also what the data types it found for them are. Generally these will be correct but we will see examples later where it guesses wrongly and we have to manually override them."
   ]
  },
  {
   "cell_type": "markdown",
   "metadata": {
    "slideshow": {
     "slide_type": "slide"
    }
   },
   "source": [
    "Here is another version of `heights`, where we are not lucky enough to have a header telling us which columns came from where:"
   ]
  },
  {
   "cell_type": "code",
   "execution_count": 11,
   "metadata": {
    "slideshow": {
     "slide_type": "-"
    }
   },
   "outputs": [
    {
     "name": "stderr",
     "output_type": "stream",
     "text": [
      "Parsed with column specification:\n",
      "cols(\n",
      "  `50000` = col_double(),\n",
      "  `74.4244387818035` = col_double(),\n",
      "  male = col_character(),\n",
      "  `16` = col_double(),\n",
      "  `45` = col_double(),\n",
      "  white = col_character()\n",
      ")\n"
     ]
    },
    {
     "name": "stdout",
     "output_type": "stream",
     "text": [
      "# A tibble: 1,191 x 6\n",
      "   `50000` `74.4244387818035` male    `16`  `45` white   \n",
      "     <dbl>              <dbl> <chr>  <dbl> <dbl> <chr>   \n",
      " 1   60000               65.5 female    16    58 white   \n",
      " 2   30000               63.6 female    16    29 white   \n",
      " 3   50000               63.1 female    16    91 other   \n",
      " 4   51000               63.4 female    17    39 white   \n",
      " 5    9000               64.4 female    15    26 white   \n",
      " 6   29000               61.7 female    12    49 white   \n",
      " 7   32000               72.7 male      17    46 white   \n",
      " 8    2000               72.0 male      15    21 hispanic\n",
      " 9   27000               72.2 male      12    26 white   \n",
      "10    6530               69.5 male      16    65 white   \n",
      "# ... with 1,181 more rows\n"
     ]
    }
   ],
   "source": [
    "read_csv(\"heights_no_hdr.csv\") %>% print"
   ]
  },
  {
   "cell_type": "markdown",
   "metadata": {
    "slideshow": {
     "slide_type": "slide"
    }
   },
   "source": [
    "Now `read_csv()` has erroneously assumed that the first row of data are the header names. To override this behavior we need to specify the column names by hand:"
   ]
  },
  {
   "cell_type": "code",
   "execution_count": 14,
   "metadata": {
    "slideshow": {
     "slide_type": "slide"
    }
   },
   "outputs": [
    {
     "name": "stderr",
     "output_type": "stream",
     "text": [
      "Parsed with column specification:\n",
      "cols(\n",
      "  X1 = col_double(),\n",
      "  X2 = col_double(),\n",
      "  X3 = col_character(),\n",
      "  X4 = col_double(),\n",
      "  X5 = col_double(),\n",
      "  X6 = col_character()\n",
      ")\n"
     ]
    },
    {
     "name": "stdout",
     "output_type": "stream",
     "text": [
      "# A tibble: 1,192 x 6\n",
      "      X1    X2 X3        X4    X5 X6      \n",
      "   <dbl> <dbl> <chr>  <dbl> <dbl> <chr>   \n",
      " 1 50000  74.4 male      16    45 white   \n",
      " 2 60000  65.5 female    16    58 white   \n",
      " 3 30000  63.6 female    16    29 white   \n",
      " 4 50000  63.1 female    16    91 other   \n",
      " 5 51000  63.4 female    17    39 white   \n",
      " 6  9000  64.4 female    15    26 white   \n",
      " 7 29000  61.7 female    12    49 white   \n",
      " 8 32000  72.7 male      17    46 white   \n",
      " 9  2000  72.0 male      15    21 hispanic\n",
      "10 27000  72.2 male      12    26 white   \n",
      "# ... with 1,182 more rows\n"
     ]
    }
   ],
   "source": [
    "read_csv(\"heights_no_hdr.csv\", col_names = F) %>% print"
   ]
  },
  {
   "cell_type": "code",
   "execution_count": 15,
   "metadata": {
    "slideshow": {
     "slide_type": "slide"
    }
   },
   "outputs": [
    {
     "name": "stderr",
     "output_type": "stream",
     "text": [
      "Parsed with column specification:\n",
      "cols(\n",
      "  earn = col_double(),\n",
      "  height = col_double(),\n",
      "  sex = col_character(),\n",
      "  ed = col_double(),\n",
      "  age = col_double(),\n",
      "  race = col_character()\n",
      ")\n"
     ]
    },
    {
     "name": "stdout",
     "output_type": "stream",
     "text": [
      "# A tibble: 1,192 x 6\n",
      "    earn height sex       ed   age race    \n",
      "   <dbl>  <dbl> <chr>  <dbl> <dbl> <chr>   \n",
      " 1 50000   74.4 male      16    45 white   \n",
      " 2 60000   65.5 female    16    58 white   \n",
      " 3 30000   63.6 female    16    29 white   \n",
      " 4 50000   63.1 female    16    91 other   \n",
      " 5 51000   63.4 female    17    39 white   \n",
      " 6  9000   64.4 female    15    26 white   \n",
      " 7 29000   61.7 female    12    49 white   \n",
      " 8 32000   72.7 male      17    46 white   \n",
      " 9  2000   72.0 male      15    21 hispanic\n",
      "10 27000   72.2 male      12    26 white   \n",
      "# ... with 1,182 more rows\n"
     ]
    }
   ],
   "source": [
    "read_csv(\"heights_no_hdr.csv\", col_names = c(\"earn\", \"height\", \"sex\", \"ed\", \"age\", \"race\")) %>% print"
   ]
  },
  {
   "cell_type": "markdown",
   "metadata": {
    "slideshow": {
     "slide_type": "slide"
    }
   },
   "source": [
    "To create short examples illustrating `read_csv`'s behavior, we can specify the contents of a csv file inline."
   ]
  },
  {
   "cell_type": "code",
   "execution_count": 91,
   "metadata": {},
   "outputs": [
    {
     "data": {
      "text/plain": [
       "  a b c\n",
       "1 1 2 3\n",
       "2 4 5 6"
      ]
     },
     "metadata": {},
     "output_type": "display_data"
    }
   ],
   "source": [
    "read_csv(\n",
    "    \"a, b, c\n",
    "     1, 2, 3\n",
    "     4, 5, 6\n",
    "\")"
   ]
  },
  {
   "cell_type": "markdown",
   "metadata": {
    "slideshow": {
     "slide_type": "slide"
    }
   },
   "source": [
    "You might want to skip a few rows in the beginning that have metadata."
   ]
  },
  {
   "cell_type": "code",
   "execution_count": 18,
   "metadata": {},
   "outputs": [
    {
     "data": {
      "text/html": [
       "<table>\n",
       "<thead><tr><th scope=col>a</th><th scope=col>b</th><th scope=col>c</th></tr></thead>\n",
       "<tbody>\n",
       "\t<tr><td>1</td><td>2</td><td>3</td></tr>\n",
       "\t<tr><td>4</td><td>5</td><td>6</td></tr>\n",
       "</tbody>\n",
       "</table>\n"
      ],
      "text/latex": [
       "\\begin{tabular}{r|lll}\n",
       " a & b & c\\\\\n",
       "\\hline\n",
       "\t 1 & 2 & 3\\\\\n",
       "\t 4 & 5 & 6\\\\\n",
       "\\end{tabular}\n"
      ],
      "text/markdown": [
       "\n",
       "a | b | c | \n",
       "|---|---|\n",
       "| 1 | 2 | 3 | \n",
       "| 4 | 5 | 6 | \n",
       "\n",
       "\n"
      ],
      "text/plain": [
       "  a b c\n",
       "1 1 2 3\n",
       "2 4 5 6"
      ]
     },
     "metadata": {},
     "output_type": "display_data"
    }
   ],
   "source": [
    "read_csv(\n",
    "\"First row to skip\n",
    "Second row to skip\n",
    "Third row to skip\n",
    "a, b, c\n",
    "1, 2, 3\n",
    "4, 5, 6\n",
    "\", skip = 3)"
   ]
  },
  {
   "cell_type": "markdown",
   "metadata": {
    "slideshow": {
     "slide_type": "slide"
    }
   },
   "source": [
    "Some CSVs will come with comments, typically in the form of lines prefaced by `#`. You can also skip comments line by specifying a comment character."
   ]
  },
  {
   "cell_type": "code",
   "execution_count": 20,
   "metadata": {},
   "outputs": [
    {
     "data": {
      "text/html": [
       "<table>\n",
       "<thead><tr><th scope=col>a</th><th scope=col>b</th><th scope=col>c</th></tr></thead>\n",
       "<tbody>\n",
       "\t<tr><td>1</td><td>2</td><td>3</td></tr>\n",
       "\t<tr><td>4</td><td>5</td><td>6</td></tr>\n",
       "</tbody>\n",
       "</table>\n"
      ],
      "text/latex": [
       "\\begin{tabular}{r|lll}\n",
       " a & b & c\\\\\n",
       "\\hline\n",
       "\t 1 & 2 & 3\\\\\n",
       "\t 4 & 5 & 6\\\\\n",
       "\\end{tabular}\n"
      ],
      "text/markdown": [
       "\n",
       "a | b | c | \n",
       "|---|---|\n",
       "| 1 | 2 | 3 | \n",
       "| 4 | 5 | 6 | \n",
       "\n",
       "\n"
      ],
      "text/plain": [
       "  a b c\n",
       "1 1 2 3\n",
       "2 4 5 6"
      ]
     },
     "metadata": {},
     "output_type": "display_data"
    }
   ],
   "source": [
    "read_csv(\"\n",
    "# First comment line\n",
    "a, b, c\n",
    "# This separate the header from the data\n",
    "1, 2, 3\n",
    "4, 5, 6\n",
    "# Another comment line\n",
    "\", comment = '#')"
   ]
  },
  {
   "cell_type": "markdown",
   "metadata": {
    "slideshow": {
     "slide_type": "slide"
    }
   },
   "source": [
    "Set `col_names = FALSE` when you don't have column names in the file. The column names are then set to X1, X2, ..."
   ]
  },
  {
   "cell_type": "code",
   "execution_count": 186,
   "metadata": {},
   "outputs": [
    {
     "data": {
      "text/plain": [
       "  X1 X2 X3\n",
       "1 1  2  3 \n",
       "2 4  5  6 "
      ]
     },
     "metadata": {},
     "output_type": "display_data"
    }
   ],
   "source": [
    "read_csv(\"\n",
    "1, 2, 3\n",
    "4, 5, 6\n",
    "\", col_names = FALSE)"
   ]
  },
  {
   "cell_type": "markdown",
   "metadata": {
    "slideshow": {
     "slide_type": "slide"
    }
   },
   "source": [
    "You can specify your own column names."
   ]
  },
  {
   "cell_type": "code",
   "execution_count": 101,
   "metadata": {},
   "outputs": [
    {
     "data": {
      "text/plain": [
       "  a b c\n",
       "1 1 2 3\n",
       "2 4 5 6"
      ]
     },
     "metadata": {},
     "output_type": "display_data"
    }
   ],
   "source": [
    "read_csv(\"\n",
    "1, 2, 3\n",
    "4, 5, 6\n",
    "\", col_names = c(\"a\", \"b\", \"c\"))"
   ]
  },
  {
   "cell_type": "markdown",
   "metadata": {
    "slideshow": {
     "slide_type": "slide"
    }
   },
   "source": [
    "You can specify how missing values are represented in the file."
   ]
  },
  {
   "cell_type": "code",
   "execution_count": 189,
   "metadata": {},
   "outputs": [
    {
     "name": "stdout",
     "output_type": "stream",
     "text": [
      "# A tibble: 2 x 3\n",
      "      a     b     c\n",
      "  <int> <int> <int>\n",
      "1     1     2     3\n",
      "2     4    NA     6\n"
     ]
    }
   ],
   "source": [
    "read_csv(\n",
    "    \"a, b, c\n",
    "     1, 2, 3\n",
    "     4,,6\n",
    "\") %>% print"
   ]
  },
  {
   "cell_type": "code",
   "execution_count": 191,
   "metadata": {},
   "outputs": [
    {
     "name": "stdout",
     "output_type": "stream",
     "text": [
      "# A tibble: 2 x 3\n",
      "      a     b     c\n",
      "  <int> <int> <int>\n",
      "1     1     2     3\n",
      "2     4    NA     6\n"
     ]
    }
   ],
   "source": [
    "read_csv(\n",
    "    \"a, b, c\n",
    "     1, 2, 3\n",
    "     4, ., 6\n",
    "\", na = \".\") %>% print"
   ]
  },
  {
   "cell_type": "markdown",
   "metadata": {
    "slideshow": {
     "slide_type": "slide"
    }
   },
   "source": [
    "You can write a tibble to a csv file using `write_csv()`."
   ]
  },
  {
   "cell_type": "code",
   "execution_count": 193,
   "metadata": {},
   "outputs": [
    {
     "name": "stdout",
     "output_type": "stream",
     "text": [
      "# A tibble: 10 x 3\n",
      "     `1`   `2` `3 space 4`\n",
      "   <int> <dbl>       <dbl>\n",
      " 1     1     1           1\n",
      " 2     2     4           8\n",
      " 3     3     9          27\n",
      " 4     4    16          64\n",
      " 5     5    25         125\n",
      " 6     6    36         216\n",
      " 7     7    49         343\n",
      " 8     8    64         512\n",
      " 9     9    81         729\n",
      "10    10   100        1000\n"
     ]
    }
   ],
   "source": [
    "cubes %>% print\n",
    "write_csv(cubes, \"cubes.csv\")"
   ]
  },
  {
   "cell_type": "code",
   "execution_count": 194,
   "metadata": {
    "slideshow": {
     "slide_type": "slide"
    }
   },
   "outputs": [
    {
     "name": "stdout",
     "output_type": "stream",
     "text": [
      "1,2,3 space 4\n",
      "1,1,1\n",
      "2,4,8\n",
      "3,9,27\n",
      "4,16,64\n",
      "5,25,125\n",
      "6,36,216\n",
      "7,49,343\n",
      "8,64,512\n",
      "9,81,729\n",
      "10,100,1e3\n"
     ]
    }
   ],
   "source": [
    "cat(read_file('cubes.csv'))"
   ]
  },
  {
   "cell_type": "code",
   "execution_count": 196,
   "metadata": {
    "slideshow": {
     "slide_type": "slide"
    }
   },
   "outputs": [
    {
     "name": "stderr",
     "output_type": "stream",
     "text": [
      "Parsed with column specification:\n",
      "cols(\n",
      "  `1` = col_integer(),\n",
      "  `2` = col_integer(),\n",
      "  `3 space 4` = col_double()\n",
      ")\n"
     ]
    },
    {
     "name": "stdout",
     "output_type": "stream",
     "text": [
      "# A tibble: 10 x 3\n",
      "     `1`   `2` `3 space 4`\n",
      "   <int> <int>       <dbl>\n",
      " 1     1     1           1\n",
      " 2     2     4           8\n",
      " 3     3     9          27\n",
      " 4     4    16          64\n",
      " 5     5    25         125\n",
      " 6     6    36         216\n",
      " 7     7    49         343\n",
      " 8     8    64         512\n",
      " 9     9    81         729\n",
      "10    10   100        1000\n"
     ]
    }
   ],
   "source": [
    "cubes2 <- read_csv(\"cubes.csv\")\n",
    "print(cubes2)"
   ]
  },
  {
   "cell_type": "markdown",
   "metadata": {
    "slideshow": {
     "slide_type": "slide"
    }
   },
   "source": [
    "### Fixed-width files\n",
    "Another common data format is called a *fixed-width file*. Each data column gets its own fixed width, in this case five spaces:\n",
    "\n",
    "    a     b     c\n",
    "    10    2     3\n",
    "    4     1.5   3\n",
    "\n",
    "To read this type of data we use the `read_table()` function:"
   ]
  },
  {
   "cell_type": "code",
   "execution_count": 207,
   "metadata": {},
   "outputs": [
    {
     "data": {
      "text/plain": [
       "  a  b   c\n",
       "1 10 2.0 3\n",
       "2  4 1.5 3"
      ]
     },
     "metadata": {},
     "output_type": "display_data"
    }
   ],
   "source": [
    "read_table(\"a     b    c\n",
    "10    2     3\n",
    "4     1.5   3\")"
   ]
  },
  {
   "cell_type": "markdown",
   "metadata": {
    "slideshow": {
     "slide_type": "slide"
    }
   },
   "source": [
    "### Exercise\n",
    "The file `78FG.DAT` contains fixed-width data about fuel economy of cars made in 1978. What was the average fuel economy (gas mileage) for these cars? ([Here](https://github.com/hadley/data-fuel-economy/blob/7464a2defe7dd3ae84957385fa6e4f962b54207b/documentation/data-format.txt#L324) is the documentation for this file format.)"
   ]
  },
  {
   "cell_type": "code",
   "execution_count": 4,
   "metadata": {
    "slideshow": {
     "slide_type": "slide"
    }
   },
   "outputs": [
    {
     "name": "stdout",
     "output_type": "stream",
     "text": [
      " 100  1110 2005    3 18 25 21   500 232     6   1AY 18.4410 25.2715 20.9946               7                        GREMLIN  100  1110 2005    3 20 28 23   457 232     6   1MY 20.0925 27.8862 22.9830               7                        GREMLIN 1010  1110 2005    3 17 21 19   552 258     6   1AY 17.0000 21.3000 18.6987               7                        GREMLIN 1010  1110 2005    3 15 21 17   617 258     6   1MY 14.7000 20.7000 16.9050               7                        GREMLIN  100  1110 2010    4 18 23 20   525 232     6   1AY 18.0656 23.4526 20.1482               7                        PACER  100  1110 2010    4 19 26 22   478 232     6   1MY 19.4237 25.9397 21.8991               7                        PACER 1010  1110 2010    4 16 20 18   584 258     6   1AY 16.5000 19.7000 17.8012               7                        PACER 1010  1110 2010    4 15 21 17   617 258     6   1MY 14.7000 21.0000 16.9942               7                        PACER  100  1110 2015    7 18 23 20   525 232     6   1AY 18.0656 23.4526 20.1482               7                        PACER WAGON  100  1110 2015    7 19 26 22   478 232     6   1MY 19.4237 25.9397 21.8991               7                        PACER WAGON"
     ]
    }
   ],
   "source": [
    "# Your code here\n",
    "cat(readLines(\"78FG.DAT\", 10))"
   ]
  },
  {
   "cell_type": "markdown",
   "metadata": {
    "slideshow": {
     "slide_type": "slide"
    }
   },
   "source": [
    "### How parsing works\n",
    "Sometimes the automatic parsers will fail. To understand why, it's helpful to look at how these functions actually parse data."
   ]
  },
  {
   "cell_type": "markdown",
   "metadata": {
    "slideshow": {
     "slide_type": "slide"
    }
   },
   "source": [
    "The first step is to guess each column type. The parser functions will look at the first few entries of each column and use that to try and guess the column type. The default is 1000 entries and can be controlled with the `guess_max=` option."
   ]
  },
  {
   "cell_type": "code",
   "execution_count": 211,
   "metadata": {
    "slideshow": {
     "slide_type": "-"
    }
   },
   "outputs": [
    {
     "name": "stderr",
     "output_type": "stream",
     "text": [
      "Warning message:\n",
      "“2 parsing failures.\n",
      "row # A tibble: 2 x 5 col     row   col   expected actual         file expected   <int> <chr>      <chr>  <chr>        <chr> actual 1     3     a an integer    's' literal data file 2     3     b an integer    't' literal data\n",
      "”"
     ]
    },
    {
     "data": {
      "text/plain": [
       "  row col expected   actual file        \n",
       "1 3   a   an integer 's'    literal data\n",
       "2 3   b   an integer 't'    literal data"
      ]
     },
     "metadata": {},
     "output_type": "display_data"
    }
   ],
   "source": [
    "tbl = read_csv(\n",
    "\"a, b\n",
    "1, 3\n",
    "2, 4\n",
    "'s', 't'\n",
    "\", guess_max=2\n",
    ")\n",
    "problems(tbl)"
   ]
  },
  {
   "cell_type": "markdown",
   "metadata": {
    "slideshow": {
     "slide_type": "slide"
    }
   },
   "source": [
    "The reason this fails for `guess_max=2` is that it looks at the first two entries, sees integers, and assumes the rest of the column will be integers. Then it calls the `parse_integer()` function on the vector of strings `c(\"1\", \"2\", \"'b'\")`:"
   ]
  },
  {
   "cell_type": "code",
   "execution_count": 221,
   "metadata": {},
   "outputs": [
    {
     "name": "stderr",
     "output_type": "stream",
     "text": [
      "Warning message:\n",
      "“1 parsing failure.\n",
      "row # A tibble: 1 x 4 col     row   col   expected actual expected   <int> <int>      <chr>  <chr> actual 1     3    NA an integer      b\n",
      "”"
     ]
    },
    {
     "data": {
      "text/plain": [
       "[1]  1  2 NA\n",
       "attr(,\"problems\")\n",
       "# A tibble: 1 x 4\n",
       "    row   col   expected actual\n",
       "  <int> <int>      <chr>  <chr>\n",
       "1     3    NA an integer      b"
      ]
     },
     "metadata": {},
     "output_type": "display_data"
    }
   ],
   "source": [
    "# guess_parser(c(\"1.1\", \"2\"))\n",
    "# guess_parser(c(\"1\", \"2\", \"c\"))\n",
    "parse_integer(c(\"1\", \"2\", \"b\"))"
   ]
  },
  {
   "cell_type": "markdown",
   "metadata": {
    "slideshow": {
     "slide_type": "slide"
    }
   },
   "source": [
    "A useful function for figuring out why parsing went wrong is `problems()`:"
   ]
  },
  {
   "cell_type": "code",
   "execution_count": 178,
   "metadata": {},
   "outputs": [
    {
     "name": "stderr",
     "output_type": "stream",
     "text": [
      "Warning message:\n",
      "“2 parsing failures.\n",
      "row # A tibble: 2 x 5 col     row   col   expected actual         file expected   <int> <chr>      <chr>  <chr>        <chr> actual 1     3     a an integer    'b' literal data file 2     3     b an integer    'c' literal data\n",
      "”"
     ]
    },
    {
     "data": {
      "text/plain": [
       "  row col expected   actual file        \n",
       "1 3   a   an integer 'b'    literal data\n",
       "2 3   b   an integer 'c'    literal data"
      ]
     },
     "metadata": {},
     "output_type": "display_data"
    }
   ],
   "source": [
    "tbl = read_csv(\n",
    "\"a, b\n",
    "1, 3\n",
    "2, 4\n",
    "'b', 'c'\n",
    "\", guess_max=2\n",
    ")\n",
    "problems(tbl)"
   ]
  },
  {
   "cell_type": "markdown",
   "metadata": {
    "slideshow": {
     "slide_type": "slide"
    }
   },
   "source": [
    "If you already know what format each column has, rather than hoping it guesses correctly you can simply tell that to R:"
   ]
  },
  {
   "cell_type": "code",
   "execution_count": 214,
   "metadata": {},
   "outputs": [
    {
     "name": "stdout",
     "output_type": "stream",
     "text": [
      "# A tibble: 3 x 2\n",
      "      a     b\n",
      "  <chr> <chr>\n",
      "1     1     3\n",
      "2     2     4\n",
      "3     1     2\n"
     ]
    }
   ],
   "source": [
    "read_csv(\n",
    "\"a, b\n",
    "1, 3\n",
    "2, 4\n",
    "1, 2\n",
    "\",\n",
    "   col_types=list(\n",
    "       a=col_character(),\n",
    "       b=col_character()\n",
    "   )\n",
    ") %>% print"
   ]
  },
  {
   "cell_type": "markdown",
   "metadata": {
    "slideshow": {
     "slide_type": "slide"
    }
   },
   "source": [
    "## Reading data from the Internet\n",
    "These days, it's increasingly common to pull data from online sources. For example, say I wanted to know the population of European countries. This is [easily found](https://en.wikipedia.org/wiki/Demographics_of_Europe#Population_by_country) on Wikipedia. How can I get these data into R and analyze them?"
   ]
  },
  {
   "cell_type": "markdown",
   "metadata": {
    "slideshow": {
     "slide_type": "slide"
    }
   },
   "source": [
    "We will use the package `htmltab` for this purpose."
   ]
  },
  {
   "cell_type": "code",
   "execution_count": 21,
   "metadata": {},
   "outputs": [],
   "source": [
    "library(htmltab)"
   ]
  },
  {
   "cell_type": "markdown",
   "metadata": {
    "slideshow": {
     "slide_type": "-"
    }
   },
   "source": [
    "The syntax of this command is:\n",
    "\n",
    "```\n",
    "htmltab(<url>, <table identifier>)\n",
    "```"
   ]
  },
  {
   "cell_type": "markdown",
   "metadata": {
    "slideshow": {
     "slide_type": "slide"
    }
   },
   "source": [
    "Let's try it with the Wikipedia page above:"
   ]
  },
  {
   "cell_type": "code",
   "execution_count": 173,
   "metadata": {},
   "outputs": [
    {
     "name": "stderr",
     "output_type": "stream",
     "text": [
      "Argument 'which' was left unspecified. Choosing first table.\n"
     ]
    },
    {
     "data": {
      "text/html": [
       "<table>\n",
       "<thead><tr><th></th><th scope=col>AD 1</th><th scope=col>1000</th><th scope=col>1500</th><th scope=col>1600</th><th scope=col>1700</th><th scope=col>1820</th><th scope=col>1913</th><th scope=col>2000</th></tr></thead>\n",
       "<tbody>\n",
       "\t<tr><th scope=row>2</th><td>34 (15%) </td><td>40 (15%) </td><td>78 (18%) </td><td>112 (20%)</td><td>127 (21%)</td><td>224 (21%)</td><td>498 (28%)</td><td>742 (13%)</td></tr>\n",
       "</tbody>\n",
       "</table>\n"
      ],
      "text/latex": [
       "\\begin{tabular}{r|llllllll}\n",
       "  & AD 1 & 1000 & 1500 & 1600 & 1700 & 1820 & 1913 & 2000\\\\\n",
       "\\hline\n",
       "\t2 & 34 (15\\%)  & 40 (15\\%)  & 78 (18\\%)  & 112 (20\\%) & 127 (21\\%) & 224 (21\\%) & 498 (28\\%) & 742 (13\\%)\\\\\n",
       "\\end{tabular}\n"
      ],
      "text/markdown": [
       "\n",
       "| <!--/--> | AD 1 | 1000 | 1500 | 1600 | 1700 | 1820 | 1913 | 2000 | \n",
       "|---|\n",
       "| 2 | 34 (15%)  | 40 (15%)  | 78 (18%)  | 112 (20%) | 127 (21%) | 224 (21%) | 498 (28%) | 742 (13%) | \n",
       "\n",
       "\n"
      ],
      "text/plain": [
       "  AD 1     1000     1500     1600      1700      1820      1913      2000     \n",
       "2 34 (15%) 40 (15%) 78 (18%) 112 (20%) 127 (21%) 224 (21%) 498 (28%) 742 (13%)"
      ]
     },
     "metadata": {},
     "output_type": "display_data"
    }
   ],
   "source": [
    "url <- \"http://en.wikipedia.org/wiki/Demographics_of_Europe#Population_by_country\"\n",
    "htmltab(url)"
   ]
  },
  {
   "cell_type": "markdown",
   "metadata": {
    "slideshow": {
     "slide_type": "notes"
    }
   },
   "source": [
    "This did not produce what we want. The reason is that there are many tables on this page, and by default `htmltab()` just takes the first one it finds. We can pass a number as the second argument in order to take the second, third, etc.:"
   ]
  },
  {
   "cell_type": "code",
   "execution_count": 174,
   "metadata": {
    "slideshow": {
     "slide_type": "slide"
    }
   },
   "outputs": [
    {
     "name": "stdout",
     "output_type": "stream",
     "text": [
      "# A tibble: 60 x 5\n",
      "   `Country/territory`  `Area(km)` Population `Population density(p… Capital    \n",
      " * <chr>                <chr>      <chr>      <chr>                  <chr>      \n",
      " 1 Albania              28,748     3,020,209  105.1                  Tirana     \n",
      " 2 Andorra              468        85,082     181.8                  Andorra la…\n",
      " 3 Armenia              29,743     3,018,854  101.5                  Yerevan    \n",
      " 4 Austria              83,879     8,504,850  101.4                  Vienna     \n",
      " 5 Azerbaijan           86,600     9,754,830  112.6                  Baku       \n",
      " 6 Belarus              207,595    9,475,100  45.6                   Minsk      \n",
      " 7 Belgium              30,528     11,198,638 366.8                  Brussels   \n",
      " 8 Bosnia and Herzegov… 51,197     3,871,643  75.6                   Sarajevo   \n",
      " 9 Bulgaria             110,994    7,364,570  66.4                   Sofia      \n",
      "10 Croatia              56,594     4,284,889  75.7                   Zagreb     \n",
      "# ... with 50 more rows\n"
     ]
    }
   ],
   "source": [
    "europe.pop <- htmltab(url, 2) %>% tbl_df %>% print"
   ]
  },
  {
   "cell_type": "markdown",
   "metadata": {
    "slideshow": {
     "slide_type": "notes"
    }
   },
   "source": [
    "To get `europe.pop` into a usable format we need to do a bit more work:"
   ]
  },
  {
   "cell_type": "code",
   "execution_count": 175,
   "metadata": {
    "slideshow": {
     "slide_type": "slide"
    }
   },
   "outputs": [
    {
     "name": "stdout",
     "output_type": "stream",
     "text": [
      "# A tibble: 10 x 5\n",
      "   `Country/territory` `Area(km)` Population `Population density(per k… Capital \n",
      "   <chr>               <chr>           <dbl> <chr>                      <chr>   \n",
      " 1 France              643,801      67210000 103.7                      Paris   \n",
      " 2 Germany             357,168      80716000 226.0                      Berlin  \n",
      " 3 Italy               301,338      60782668 201.7                      Rome    \n",
      " 4 Poland              312,679      38483957 123.1                      Warsaw  \n",
      " 5 Romania             238,391      19942642 83.7                       Buchare…\n",
      " 6 Russia              17,075,400  143700000 8.5                        Moscow  \n",
      " 7 Spain               504,645      46704314 92.6                       Madrid  \n",
      " 8 Turkey              783,356      79814871 102                        Ankara  \n",
      " 9 Ukraine             603,628      42539010 73.8                       Kiev    \n",
      "10 United Kingdom      243,610      64100000 263.1                      London  \n"
     ]
    },
    {
     "data": {},
     "metadata": {},
     "output_type": "display_data"
    },
    {
     "data": {
      "image/png": "[encoded data removed]",
      "text/plain": [
       "plot without title"
      ]
     },
     "metadata": {},
     "output_type": "display_data"
    }
   ],
   "source": [
    "europe.pop %>% mutate(Population = as.numeric(gsub(\",\", \"\", Population))) %>% \n",
    "    top_n(10, Population) %>% print %>% ggplot + \n",
    "    geom_col(aes(x = `Country/territory`, \n",
    "                 y = Population)) + \n",
    "    coord_flip()"
   ]
  },
  {
   "attachments": {
    "image.png": {
     "image/png": "[encoded data removed]"
    }
   },
   "cell_type": "markdown",
   "metadata": {
    "slideshow": {
     "slide_type": "slide"
    }
   },
   "source": [
    "### Exercise\n",
    "Reproduce the plot!\n",
    "![image.png](attachment:image.png)"
   ]
  },
  {
   "cell_type": "code",
   "execution_count": 79,
   "metadata": {
    "slideshow": {
     "slide_type": "slide"
    }
   },
   "outputs": [],
   "source": [
    "# Your code here"
   ]
  },
  {
   "attachments": {
    "image.png": {
     "image/png": "[encoded data removed]"
    }
   },
   "cell_type": "markdown",
   "metadata": {
    "slideshow": {
     "slide_type": "slide"
    }
   },
   "source": [
    "### Exercise (interactive)\n",
    "![image.png](attachment:image.png)"
   ]
  }
 ],
 "metadata": {
  "celltoolbar": "Slideshow",
  "kernelspec": {
   "display_name": "R",
   "language": "R",
   "name": "ir"
  },
  "language_info": {
   "codemirror_mode": "r",
   "file_extension": ".r",
   "mimetype": "text/x-r-source",
   "name": "R",
   "pygments_lexer": "r",
   "version": "3.6.1"
  }
 },
 "nbformat": 4,
 "nbformat_minor": 2
}
