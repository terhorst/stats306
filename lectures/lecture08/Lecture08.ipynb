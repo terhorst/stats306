{
 "cells": [
  {
   "cell_type": "code",
   "execution_count": 2,
   "metadata": {
    "slideshow": {
     "slide_type": "notes"
    }
   },
   "outputs": [
    {
     "name": "stderr",
     "output_type": "stream",
     "text": [
      "Registered S3 method overwritten by 'rvest':\n",
      "  method            from\n",
      "  read_xml.response xml2\n",
      "── \u001b[1mAttaching packages\u001b[22m ─────────────────────────────────────── tidyverse 1.2.1 ──\n",
      "\u001b[32m✔\u001b[39m \u001b[34mggplot2\u001b[39m 3.2.1     \u001b[32m✔\u001b[39m \u001b[34mpurrr  \u001b[39m 0.3.2\n",
      "\u001b[32m✔\u001b[39m \u001b[34mtibble \u001b[39m 2.1.3     \u001b[32m✔\u001b[39m \u001b[34mdplyr  \u001b[39m 0.8.3\n",
      "\u001b[32m✔\u001b[39m \u001b[34mtidyr  \u001b[39m 0.8.3     \u001b[32m✔\u001b[39m \u001b[34mstringr\u001b[39m 1.4.0\n",
      "\u001b[32m✔\u001b[39m \u001b[34mreadr  \u001b[39m 1.3.1     \u001b[32m✔\u001b[39m \u001b[34mforcats\u001b[39m 0.4.0\n",
      "── \u001b[1mConflicts\u001b[22m ────────────────────────────────────────── tidyverse_conflicts() ──\n",
      "\u001b[31m✖\u001b[39m \u001b[34mdplyr\u001b[39m::\u001b[32mfilter()\u001b[39m masks \u001b[34mstats\u001b[39m::filter()\n",
      "\u001b[31m✖\u001b[39m \u001b[34mdplyr\u001b[39m::\u001b[32mlag()\u001b[39m    masks \u001b[34mstats\u001b[39m::lag()\n"
     ]
    },
    {
     "data": {
      "text/html": [
       "\n",
       "<style>\n",
       ".rendered_html table, .rendered_html th, .rendered_html tr, .rendered_html td {\n",
       "     font-size: 100%;\n",
       "}\n",
       "body.rise-enabled div.inner_cell>div.input_area {\n",
       "    font-size: 150%;\n",
       "}\n",
       "\n",
       "body.rise-enabled div.output_subarea.output_text.output_result {\n",
       "    font-size: 150%;\n",
       "}\n",
       "body.rise-enabled div.output_subarea.output_text.output_stream.output_stdout {\n",
       "  font-size: 150%;\n",
       "}\n",
       "</style>\n"
      ]
     },
     "metadata": {},
     "output_type": "display_data"
    }
   ],
   "source": [
    "library(tidyverse)\n",
    "library(nycflights13)\n",
    "IRdisplay::display_html(\"\n",
    "<style>\n",
    ".rendered_html table, .rendered_html th, .rendered_html tr, .rendered_html td {\n",
    "     font-size: 100%;\n",
    "}\n",
    "body.rise-enabled div.inner_cell>div.input_area {\n",
    "    font-size: 150%;\n",
    "}\n",
    "\n",
    "body.rise-enabled div.output_subarea.output_text.output_result {\n",
    "    font-size: 150%;\n",
    "}\n",
    "body.rise-enabled div.output_subarea.output_text.output_stream.output_stdout {\n",
    "  font-size: 150%;\n",
    "}\n",
    "</style>\n",
    "\")\n",
    "library(tidyverse)"
   ]
  },
  {
   "cell_type": "markdown",
   "metadata": {
    "slideshow": {
     "slide_type": "slide"
    }
   },
   "source": [
    "### Review"
   ]
  },
  {
   "cell_type": "code",
   "execution_count": 28,
   "metadata": {
    "slideshow": {
     "slide_type": "-"
    }
   },
   "outputs": [
    {
     "data": {
      "text/html": [
       "<table>\n",
       "<thead><tr><th scope=col>county</th><th scope=col>stat</th><th scope=col>year</th><th scope=col>val</th></tr></thead>\n",
       "<tbody>\n",
       "\t<tr><td>wayne    </td><td>income   </td><td>2000     </td><td>  40776  </td></tr>\n",
       "\t<tr><td>washtenaw</td><td>income   </td><td>2000     </td><td>  51990  </td></tr>\n",
       "\t<tr><td>wayne    </td><td>pop      </td><td>2000     </td><td>2059000  </td></tr>\n",
       "\t<tr><td>washtenaw</td><td>pop      </td><td>2000     </td><td> 324491  </td></tr>\n",
       "\t<tr><td>wayne    </td><td>income   </td><td>2010     </td><td>  38380  </td></tr>\n",
       "\t<tr><td>washtenaw</td><td>income   </td><td>2010     </td><td>  65500  </td></tr>\n",
       "\t<tr><td>wayne    </td><td>pop      </td><td>2010     </td><td>1815000  </td></tr>\n",
       "\t<tr><td>washtenaw</td><td>pop      </td><td>2010     </td><td> 345515  </td></tr>\n",
       "</tbody>\n",
       "</table>\n"
      ],
      "text/latex": [
       "\\begin{tabular}{r|llll}\n",
       " county & stat & year & val\\\\\n",
       "\\hline\n",
       "\t wayne     & income    & 2000      &   40776  \\\\\n",
       "\t washtenaw & income    & 2000      &   51990  \\\\\n",
       "\t wayne     & pop       & 2000      & 2059000  \\\\\n",
       "\t washtenaw & pop       & 2000      &  324491  \\\\\n",
       "\t wayne     & income    & 2010      &   38380  \\\\\n",
       "\t washtenaw & income    & 2010      &   65500  \\\\\n",
       "\t wayne     & pop       & 2010      & 1815000  \\\\\n",
       "\t washtenaw & pop       & 2010      &  345515  \\\\\n",
       "\\end{tabular}\n"
      ],
      "text/markdown": [
       "\n",
       "county | stat | year | val | \n",
       "|---|---|---|---|---|---|---|---|\n",
       "| wayne     | income    | 2000      |   40776   | \n",
       "| washtenaw | income    | 2000      |   51990   | \n",
       "| wayne     | pop       | 2000      | 2059000   | \n",
       "| washtenaw | pop       | 2000      |  324491   | \n",
       "| wayne     | income    | 2010      |   38380   | \n",
       "| washtenaw | income    | 2010      |   65500   | \n",
       "| wayne     | pop       | 2010      | 1815000   | \n",
       "| washtenaw | pop       | 2010      |  345515   | \n",
       "\n",
       "\n"
      ],
      "text/plain": [
       "  county    stat   year val    \n",
       "1 wayne     income 2000   40776\n",
       "2 washtenaw income 2000   51990\n",
       "3 wayne     pop    2000 2059000\n",
       "4 washtenaw pop    2000  324491\n",
       "5 wayne     income 2010   38380\n",
       "6 washtenaw income 2010   65500\n",
       "7 wayne     pop    2010 1815000\n",
       "8 washtenaw pop    2010  345515"
      ]
     },
     "metadata": {},
     "output_type": "display_data"
    }
   ],
   "source": [
    "load(\"mi_census.RData\"); mi_census"
   ]
  },
  {
   "cell_type": "markdown",
   "metadata": {
    "slideshow": {
     "slide_type": "slide"
    }
   },
   "source": [
    "Reshape the table to obtain:\n",
    "<table>\n",
    "    <tr><th>Beginner</th><th>Advanced</th></tr>\n",
    "    <td>\n",
    "       <table>\n",
    "<thead><tr><th scope=\"col\">county</th><th scope=\"col\">stat</th><th scope=\"col\">2000</th><th scope=\"col\">2010</th></tr></thead>\n",
    "<tbody>\n",
    "\t<tr><td>washtenaw</td><td>income   </td><td>  51990  </td><td>  65500  </td></tr>\n",
    "\t<tr><td>washtenaw</td><td>pop      </td><td> 324491  </td><td> 345515  </td></tr>\n",
    "\t<tr><td>wayne    </td><td>income   </td><td>  40776  </td><td>  38380  </td></tr>\n",
    "\t<tr><td>wayne    </td><td>pop      </td><td>2059000  </td><td>1815000  </td></tr>\n",
    "</tbody>\n",
    "</table>\n",
    "    </td>\n",
    "    <td>\n",
    "    <table>\n",
    "<thead><tr><th scope=\"col\">county</th><th scope=\"col\">income_2000</th><th scope=\"col\">population_2000</th><th scope=\"col\">income_2010</th><th scope=\"col\">population_2010</th></tr></thead>\n",
    "<tbody>\n",
    "\t<tr><td>wayne    </td><td>40776    </td><td>2059000  </td><td>38380    </td><td>1815000  </td></tr>\n",
    "\t<tr><td>washtenaw</td><td>51990    </td><td> 324491  </td><td>65500    </td><td> 345515  </td></tr>\n",
    "</tbody>\n",
    "</table>\n",
    "    </td>\n",
    "    </tr>\n",
    "    </table>"
   ]
  },
  {
   "cell_type": "code",
   "execution_count": 1,
   "metadata": {
    "slideshow": {
     "slide_type": "slide"
    }
   },
   "outputs": [],
   "source": [
    "## Solution"
   ]
  },
  {
   "cell_type": "markdown",
   "metadata": {
    "slideshow": {
     "slide_type": "slide"
    }
   },
   "source": [
    "# Lecture 09: Relational Data\n",
    "<div style=\"border: 1px double black; padding: 10px; margin: 10px\">\n",
    "\n",
    "**After today's lecture you will understand:**\n",
    "* [Keys](#Keys)\n",
    "* Different types of [relations](#Relations) between tables\n",
    "* [Commands for joining related tables together](#Outer-joins)\n",
    "</div>\n"
   ]
  },
  {
   "cell_type": "markdown",
   "metadata": {
    "slideshow": {
     "slide_type": "slide"
    }
   },
   "source": [
    "We have already spent a lot of time analyzing the `flights` table. In fact, there are four other tables in `nycflights13` that contain related information about these flights:"
   ]
  },
  {
   "cell_type": "code",
   "execution_count": 120,
   "metadata": {
    "slideshow": {
     "slide_type": "slide"
    }
   },
   "outputs": [
    {
     "name": "stdout",
     "output_type": "stream",
     "text": [
      "# A tibble: 16 x 2\n",
      "   carrier                        name\n",
      "     <chr>                       <chr>\n",
      " 1      9E           Endeavor Air Inc.\n",
      " 2      AA      American Airlines Inc.\n",
      " 3      AS        Alaska Airlines Inc.\n",
      " 4      B6             JetBlue Airways\n",
      " 5      DL        Delta Air Lines Inc.\n",
      " 6      EV    ExpressJet Airlines Inc.\n",
      " 7      F9      Frontier Airlines Inc.\n",
      " 8      FL AirTran Airways Corporation\n",
      " 9      HA      Hawaiian Airlines Inc.\n",
      "10      MQ                   Envoy Air\n",
      "11      OO       SkyWest Airlines Inc.\n",
      "12      UA       United Air Lines Inc.\n",
      "13      US             US Airways Inc.\n",
      "14      VX              Virgin America\n",
      "15      WN      Southwest Airlines Co.\n",
      "16      YV          Mesa Airlines Inc.\n"
     ]
    }
   ],
   "source": [
    "print(airlines)"
   ]
  },
  {
   "cell_type": "code",
   "execution_count": 121,
   "metadata": {
    "slideshow": {
     "slide_type": "slide"
    }
   },
   "outputs": [
    {
     "name": "stderr",
     "output_type": "stream",
     "text": [
      "Warning message:\n",
      "“package ‘bindrcpp’ was built under R version 3.4.4”"
     ]
    },
    {
     "data": {
      "text/plain": [
       "  faa name                   lat      lon       alt tz dst tzone           \n",
       "1 DTW Detroit Metro Wayne Co 42.21244 -83.35339 645 -5 A   America/New_York"
      ]
     },
     "metadata": {},
     "output_type": "display_data"
    }
   ],
   "source": [
    "airports %>% filter(faa == \"DTW\")"
   ]
  },
  {
   "cell_type": "code",
   "execution_count": 122,
   "metadata": {
    "slideshow": {
     "slide_type": "slide"
    }
   },
   "outputs": [
    {
     "name": "stdout",
     "output_type": "stream",
     "text": [
      "# A tibble: 3,322 x 9\n",
      "   tailnum  year                    type     manufacturer     model engines\n",
      "     <chr> <int>                   <chr>            <chr>     <chr>   <int>\n",
      " 1  N10156  2004 Fixed wing multi engine          EMBRAER EMB-145XR       2\n",
      " 2  N102UW  1998 Fixed wing multi engine AIRBUS INDUSTRIE  A320-214       2\n",
      " 3  N103US  1999 Fixed wing multi engine AIRBUS INDUSTRIE  A320-214       2\n",
      " 4  N104UW  1999 Fixed wing multi engine AIRBUS INDUSTRIE  A320-214       2\n",
      " 5  N10575  2002 Fixed wing multi engine          EMBRAER EMB-145LR       2\n",
      " 6  N105UW  1999 Fixed wing multi engine AIRBUS INDUSTRIE  A320-214       2\n",
      " 7  N107US  1999 Fixed wing multi engine AIRBUS INDUSTRIE  A320-214       2\n",
      " 8  N108UW  1999 Fixed wing multi engine AIRBUS INDUSTRIE  A320-214       2\n",
      " 9  N109UW  1999 Fixed wing multi engine AIRBUS INDUSTRIE  A320-214       2\n",
      "10  N110UW  1999 Fixed wing multi engine AIRBUS INDUSTRIE  A320-214       2\n",
      "# ... with 3,312 more rows, and 3 more variables: seats <int>, speed <int>,\n",
      "#   engine <chr>\n"
     ]
    }
   ],
   "source": [
    "print(planes)"
   ]
  },
  {
   "cell_type": "code",
   "execution_count": 123,
   "metadata": {
    "slideshow": {
     "slide_type": "slide"
    }
   },
   "outputs": [
    {
     "name": "stdout",
     "output_type": "stream",
     "text": [
      "# A tibble: 26,130 x 15\n",
      "   origin  year month   day  hour  temp  dewp humid wind_dir wind_speed\n",
      "    <chr> <dbl> <dbl> <int> <int> <dbl> <dbl> <dbl>    <dbl>      <dbl>\n",
      " 1    EWR  2013     1     1     0 37.04 21.92 53.97      230   10.35702\n",
      " 2    EWR  2013     1     1     1 37.04 21.92 53.97      230   13.80936\n",
      " 3    EWR  2013     1     1     2 37.94 21.92 52.09      230   12.65858\n",
      " 4    EWR  2013     1     1     3 37.94 23.00 54.51      230   13.80936\n",
      " 5    EWR  2013     1     1     4 37.94 24.08 57.04      240   14.96014\n",
      " 6    EWR  2013     1     1     6 39.02 26.06 59.37      270   10.35702\n",
      " 7    EWR  2013     1     1     7 39.02 26.96 61.63      250    8.05546\n",
      " 8    EWR  2013     1     1     8 39.02 28.04 64.43      240   11.50780\n",
      " 9    EWR  2013     1     1     9 39.92 28.04 62.21      250   12.65858\n",
      "10    EWR  2013     1     1    10 39.02 28.04 64.43      260   12.65858\n",
      "# ... with 26,120 more rows, and 5 more variables: wind_gust <dbl>,\n",
      "#   precip <dbl>, pressure <dbl>, visib <dbl>, time_hour <dttm>\n"
     ]
    }
   ],
   "source": [
    "print(weather)"
   ]
  },
  {
   "cell_type": "markdown",
   "metadata": {
    "slideshow": {
     "slide_type": "slide"
    }
   },
   "source": [
    "Together these four tables form a *relational database*. The relationships can be graphed like so:\n",
    "![table relationships](http://r4ds.had.co.nz/diagrams/relational-nycflights.png)"
   ]
  },
  {
   "cell_type": "markdown",
   "metadata": {
    "slideshow": {
     "slide_type": "notes"
    }
   },
   "source": [
    "The particular relationships in this database are:\n",
    "- `flights` connects to `planes` via `tailnum`.\n",
    "- `flights` connects to `airlines` via `carrier`.\n",
    "- `flights` connects to `airports` twice: via `origin` and `dest`.\n",
    "- `flights` connects to `weather` via `origin` (the location), and `year`, `month`, `day` and `hour`."
   ]
  },
  {
   "cell_type": "markdown",
   "metadata": {
    "slideshow": {
     "slide_type": "notes"
    }
   },
   "source": [
    "## Keys\n",
    "The \"key\" to understanding relational databases is... keys. \n",
    "\n"
   ]
  },
  {
   "cell_type": "markdown",
   "metadata": {
    "slideshow": {
     "slide_type": "slide"
    }
   },
   "source": [
    "### Primary Key\n",
    "A *primary key* is a variable (or set of variables) that uniquely identifies an observation in its own table: there is **at most** one row in the table that corresponds to any setting of the columns which comprise the key."
   ]
  },
  {
   "cell_type": "markdown",
   "metadata": {
    "slideshow": {
     "slide_type": "slide"
    }
   },
   "source": [
    "In the `planes` table, each airplane is identified by its `tailnum`:"
   ]
  },
  {
   "cell_type": "code",
   "execution_count": 39,
   "metadata": {},
   "outputs": [
    {
     "name": "stdout",
     "output_type": "stream",
     "text": [
      "# A tibble: 3,322 x 9\n",
      "   tailnum  year type          manufacturer   model  engines seats speed engine \n",
      "   <chr>   <int> <chr>         <chr>          <chr>    <int> <int> <int> <chr>  \n",
      " 1 N10156   2004 Fixed wing m… EMBRAER        EMB-1…       2    55    NA Turbo-…\n",
      " 2 N102UW   1998 Fixed wing m… AIRBUS INDUST… A320-…       2   182    NA Turbo-…\n",
      " 3 N103US   1999 Fixed wing m… AIRBUS INDUST… A320-…       2   182    NA Turbo-…\n",
      " 4 N104UW   1999 Fixed wing m… AIRBUS INDUST… A320-…       2   182    NA Turbo-…\n",
      " 5 N10575   2002 Fixed wing m… EMBRAER        EMB-1…       2    55    NA Turbo-…\n",
      " 6 N105UW   1999 Fixed wing m… AIRBUS INDUST… A320-…       2   182    NA Turbo-…\n",
      " 7 N107US   1999 Fixed wing m… AIRBUS INDUST… A320-…       2   182    NA Turbo-…\n",
      " 8 N108UW   1999 Fixed wing m… AIRBUS INDUST… A320-…       2   182    NA Turbo-…\n",
      " 9 N109UW   1999 Fixed wing m… AIRBUS INDUST… A320-…       2   182    NA Turbo-…\n",
      "10 N110UW   1999 Fixed wing m… AIRBUS INDUST… A320-…       2   182    NA Turbo-…\n",
      "# ... with 3,312 more rows\n"
     ]
    }
   ],
   "source": [
    "print(planes)"
   ]
  },
  {
   "cell_type": "markdown",
   "metadata": {
    "slideshow": {
     "slide_type": "slide"
    }
   },
   "source": [
    "The tail number of an airplane is assigned by a government agency and is unique: no two planes can have the same tail number. Thus, `tailnum` should be a primary key in this table. \n",
    "\n",
    "To check that one or more variables constitutes a primary key, we can group by those variables and then check that the number of distinct values equals the number of rows in the data set:"
   ]
  },
  {
   "cell_type": "code",
   "execution_count": 12,
   "metadata": {},
   "outputs": [
    {
     "data": {
      "text/plain": [
       "  n    nd  \n",
       "1 3322 3322"
      ]
     },
     "metadata": {},
     "output_type": "display_data"
    }
   ],
   "source": [
    "# planes %>% print\n",
    "planes %>% summarize(n = n(), nd = n_distinct(tailnum))"
   ]
  },
  {
   "cell_type": "markdown",
   "metadata": {
    "slideshow": {
     "slide_type": "slide"
    }
   },
   "source": [
    "Compare with `flights`, where tailnum does *not* uniquely identify each row. (There are many flights present for the same airplane.)"
   ]
  },
  {
   "cell_type": "code",
   "execution_count": 13,
   "metadata": {},
   "outputs": [
    {
     "data": {
      "text/plain": [
       "[1] 4044"
      ]
     },
     "metadata": {},
     "output_type": "display_data"
    }
   ],
   "source": [
    "flights %>% distinct(tailnum) %>% nrow"
   ]
  },
  {
   "cell_type": "markdown",
   "metadata": {
    "slideshow": {
     "slide_type": "slide"
    }
   },
   "source": [
    "What is the primary key for the `flights` table?"
   ]
  },
  {
   "cell_type": "code",
   "execution_count": 19,
   "metadata": {},
   "outputs": [
    {
     "name": "stdout",
     "output_type": "stream",
     "text": [
      "# A tibble: 0 x 19\n",
      "# Groups:   time_hour, dep_time, tailnum [0]\n",
      "# ... with 19 variables: year <int>, month <int>, day <int>, dep_time <int>,\n",
      "#   sched_dep_time <int>, dep_delay <dbl>, arr_time <int>,\n",
      "#   sched_arr_time <int>, arr_delay <dbl>, carrier <chr>, flight <int>,\n",
      "#   tailnum <chr>, origin <chr>, dest <chr>, air_time <dbl>, distance <dbl>,\n",
      "#   hour <dbl>, minute <dbl>, time_hour <dttm>\n"
     ]
    }
   ],
   "source": [
    "flights %>% filter(!is.na(dep_time)) %>% \n",
    "    group_by(time_hour, dep_time, tailnum) %>% filter(n() > 1) %>% print"
   ]
  },
  {
   "cell_type": "markdown",
   "metadata": {
    "slideshow": {
     "slide_type": "slide"
    }
   },
   "source": [
    "We might guess that `year`, `month`, `day`, and `tailnum` are sufficient to identify each row in `flights`, but this is not true:"
   ]
  },
  {
   "cell_type": "code",
   "execution_count": 128,
   "metadata": {
    "slideshow": {
     "slide_type": "-"
    }
   },
   "outputs": [
    {
     "data": {
      "text/plain": [
       "  n      nd    \n",
       "1 336776 251727"
      ]
     },
     "metadata": {},
     "output_type": "display_data"
    }
   ],
   "source": [
    "flights %>% summarize(n=n(), nd=n_distinct(year, month, day, tailnum))"
   ]
  },
  {
   "cell_type": "markdown",
   "metadata": {
    "slideshow": {
     "slide_type": "slide"
    }
   },
   "source": [
    "In fact, even restricting to the exact *minute* that an airplane departed is not sufficient:"
   ]
  },
  {
   "cell_type": "code",
   "execution_count": 129,
   "metadata": {
    "slideshow": {
     "slide_type": "-"
    }
   },
   "outputs": [
    {
     "data": {
      "text/plain": [
       "  n      nd    \n",
       "1 336776 336367"
      ]
     },
     "metadata": {},
     "output_type": "display_data"
    }
   ],
   "source": [
    "flights %>% summarize(n=n(), nd=n_distinct(tailnum, time_hour, minute))"
   ]
  },
  {
   "cell_type": "markdown",
   "metadata": {
    "slideshow": {
     "slide_type": "slide"
    }
   },
   "source": [
    "This says that there are certain airplanes that are marked as having departed more than once in the same year, month, day, hour and minute. We can inspect these rows as follows:"
   ]
  },
  {
   "cell_type": "code",
   "execution_count": 6,
   "metadata": {
    "slideshow": {
     "slide_type": "-"
    }
   },
   "outputs": [
    {
     "name": "stdout",
     "output_type": "stream",
     "text": [
      "# A tibble: 298 x 4\n",
      "# Groups:   tailnum, time_hour, minute [298]\n",
      "   tailnum time_hour           minute     n\n",
      "   <chr>   <dttm>               <dbl> <int>\n",
      " 1 N11119  2013-06-10 16:00:00     55     2\n",
      " 2 N11192  2013-08-26 08:00:00     30     2\n",
      " 3 N12563  2013-02-04 16:00:00     19     2\n",
      " 4 N12564  2013-01-13 20:00:00      0     2\n",
      " 5 N12900  2013-07-10 21:00:00     29     2\n",
      " 6 N13969  2013-01-28 07:00:00     59     2\n",
      " 7 N14148  2013-03-12 06:00:00     30     2\n",
      " 8 N14558  2013-04-19 13:00:00     29     2\n",
      " 9 N14916  2013-02-11 13:00:00     15     2\n",
      "10 N14974  2013-07-26 06:00:00     30     2\n",
      "# ... with 288 more rows\n"
     ]
    }
   ],
   "source": [
    "group_by(flights, tailnum, time_hour, minute) %>% count %>% filter(n>1) %>% arrange(tailnum, time_hour) %>% print"
   ]
  },
  {
   "cell_type": "markdown",
   "metadata": {
    "slideshow": {
     "slide_type": "notes"
    }
   },
   "source": [
    "These likely indicate rounding or data entry errors."
   ]
  },
  {
   "cell_type": "markdown",
   "metadata": {
    "slideshow": {
     "slide_type": "slide"
    }
   },
   "source": [
    "### Exercise\n",
    "What constitutes a primary key in the `mpg` table?"
   ]
  },
  {
   "cell_type": "code",
   "execution_count": 35,
   "metadata": {
    "slideshow": {
     "slide_type": "slide"
    }
   },
   "outputs": [
    {
     "data": {
      "text/plain": [
       "  n   nd \n",
       "1 234 234"
      ]
     },
     "metadata": {},
     "output_type": "display_data"
    }
   ],
   "source": [
    "mpg %>% mutate( k= row_number()) %>% summarize(n = n(), nd = n_distinct(k))"
   ]
  },
  {
   "cell_type": "markdown",
   "metadata": {
    "slideshow": {
     "slide_type": "slide"
    }
   },
   "source": [
    "## Relations\n",
    "A primary key and the corresponding foreign key in another table form a *relation*. Relations come in several forms:\n",
    "- *One-to-many*. (Most common). For example, each flight has one plane, but each plane has many flights. \n",
    "- *Many-to-many*: For example, each airline flies to many airports; each airport hosts many airlines.\n",
    "- *One-to-one*. Each row in one table corresponds uniquely to a row in a second table. This is relatively uncommon because you could just as easily combine the two tables into one."
   ]
  },
  {
   "cell_type": "code",
   "execution_count": 135,
   "metadata": {
    "slideshow": {
     "slide_type": "notes"
    }
   },
   "outputs": [],
   "source": [
    "x = tribble(\n",
    "  ~key, ~val_x,\n",
    "     1, \"x1\",\n",
    "     2, \"x2\",\n",
    "     3, \"x3\"\n",
    ")\n",
    "y = tribble(\n",
    "  ~key, ~val_y,\n",
    "     1, \"y1\",\n",
    "     2, \"y2\",\n",
    "     4, \"y3\"\n",
    ")"
   ]
  },
  {
   "cell_type": "markdown",
   "metadata": {
    "slideshow": {
     "slide_type": "slide"
    }
   },
   "source": []
  },
  {
   "cell_type": "markdown",
   "metadata": {
    "slideshow": {
     "slide_type": "slide"
    }
   },
   "source": [
    "## Joins\n",
    "Joins are the way the we combine or \"merge\" two data tables based on keys.\n",
    "To understand how joins work we'll study these two simple tables:\n",
    "![simple tables](http://r4ds.had.co.nz/diagrams/join-setup.png)"
   ]
  },
  {
   "cell_type": "code",
   "execution_count": 136,
   "metadata": {},
   "outputs": [
    {
     "data": {
      "text/plain": [
       "  key val_x\n",
       "1 1   x1   \n",
       "2 2   x2   \n",
       "3 3   x3   "
      ]
     },
     "metadata": {},
     "output_type": "display_data"
    },
    {
     "data": {
      "text/plain": [
       "  key val_y\n",
       "1 1   y1   \n",
       "2 2   y2   \n",
       "3 4   y3   "
      ]
     },
     "metadata": {},
     "output_type": "display_data"
    }
   ],
   "source": [
    "x\n",
    "y"
   ]
  },
  {
   "cell_type": "markdown",
   "metadata": {
    "slideshow": {
     "slide_type": "slide"
    }
   },
   "source": [
    "The first column of each table is called `key` and serves as the primary key: each row has a different value of `key`. \n",
    "\n",
    "Let's image all the possible ways we could join together these two tables. Each intersecting line represents a potential match; there are 3 observations in each table for a total of $3^2=9$ intersections.\n",
    "![possible joins](http://r4ds.had.co.nz/diagrams/join-setup2.png)"
   ]
  },
  {
   "cell_type": "markdown",
   "metadata": {
    "slideshow": {
     "slide_type": "slide"
    }
   },
   "source": [
    "Matches will be indicated with dots:\n",
    "![match example](http://r4ds.had.co.nz/diagrams/join-inner.png)"
   ]
  },
  {
   "cell_type": "markdown",
   "metadata": {
    "slideshow": {
     "slide_type": "slide"
    }
   },
   "source": [
    "### Inner joins\n",
    "Inner joins match a pair of observations whenever their keys are equal:\n",
    "![match example](http://r4ds.had.co.nz/diagrams/join-inner.png)"
   ]
  },
  {
   "cell_type": "code",
   "execution_count": 137,
   "metadata": {
    "slideshow": {
     "slide_type": "-"
    }
   },
   "outputs": [
    {
     "data": {
      "text/plain": [
       "  key val_x val_y\n",
       "1 1   x1    y1   \n",
       "2 2   x2    y2   "
      ]
     },
     "metadata": {},
     "output_type": "display_data"
    }
   ],
   "source": [
    "x %>% inner_join(y, by = \"key\")"
   ]
  },
  {
   "cell_type": "markdown",
   "metadata": {
    "slideshow": {
     "slide_type": "notes"
    }
   },
   "source": [
    "Note that there is no row for `key=3` or `key=4`: with an inner join, unmatched rows are not included in the result. For this reason, we do not as often use inner joins for data analysis since you can easily lose observations."
   ]
  },
  {
   "cell_type": "markdown",
   "metadata": {
    "slideshow": {
     "slide_type": "slide"
    }
   },
   "source": [
    "### Outer joins\n",
    "An outer join keeps observations that appear in at least one of the tables. There are three types of outer joins:\n",
    "- A left join keeps all observations in x.\n",
    "- A right join keeps all observations in y.\n",
    "- A full join keeps all observations in x and y."
   ]
  },
  {
   "cell_type": "markdown",
   "metadata": {
    "slideshow": {
     "slide_type": "slide"
    }
   },
   "source": [
    "![outer join](http://r4ds.had.co.nz/diagrams/join-outer.png)"
   ]
  },
  {
   "cell_type": "markdown",
   "metadata": {
    "slideshow": {
     "slide_type": "slide"
    }
   },
   "source": [
    "Left joins are the most common. Use them to look up data in another table, but preserve your original observations when there in cases where the other table does not have a match."
   ]
  },
  {
   "cell_type": "markdown",
   "metadata": {
    "slideshow": {
     "slide_type": "slide"
    }
   },
   "source": [
    "### Example\n",
    "The `flights` table has a `carrier` column which is a two-letter code for the airline. The `airlines` table maps these code to recognizable airline names. You can combine the `airlines` and `flights` data frames with `left_join()`:"
   ]
  },
  {
   "cell_type": "code",
   "execution_count": 53,
   "metadata": {
    "slideshow": {
     "slide_type": "slide"
    }
   },
   "outputs": [
    {
     "data": {
      "text/plain": [
       "   name                        n    \n",
       "1  AirTran Airways Corporation  3260\n",
       "2  Alaska Airlines Inc.          714\n",
       "3  American Airlines Inc.      32729\n",
       "4  Delta Air Lines Inc.        48110\n",
       "5  Endeavor Air Inc.           18460\n",
       "6  Envoy Air                   26397\n",
       "7  ExpressJet Airlines Inc.    54173\n",
       "8  Frontier Airlines Inc.        685\n",
       "9  Hawaiian Airlines Inc.        342\n",
       "10 JetBlue Airways             54635\n",
       "11 Mesa Airlines Inc.            601\n",
       "12 SkyWest Airlines Inc.          32\n",
       "13 Southwest Airlines Co.      12275\n",
       "14 United Air Lines Inc.       58665\n",
       "15 US Airways Inc.             20536\n",
       "16 Virgin America               5162"
      ]
     },
     "metadata": {},
     "output_type": "display_data"
    }
   ],
   "source": [
    "left_join(flights, airlines, by=\"carrier\") %>% \n",
    "    select(year, month, day, tailnum, carrier, name) %>% count(name)"
   ]
  },
  {
   "cell_type": "markdown",
   "metadata": {
    "slideshow": {
     "slide_type": "slide"
    }
   },
   "source": [
    "### Exercise\n",
    "Use `left_join()` to determine:\n",
    "<table>\n",
    "    <tr><th>Beginner</th><th>Advanced</th></tr>\n",
    "    <tr>\n",
    "        <td>The number of flights operated by Envoy Air.</td>\n",
    "        <td>The number of flights that departed in sub-zero conditions (<code>temp < 0</code>) in 2013.</td>\n",
    "    </tr>\n",
    "    </table>"
   ]
  },
  {
   "cell_type": "code",
   "execution_count": 49,
   "metadata": {
    "slideshow": {
     "slide_type": "slide"
    }
   },
   "outputs": [
    {
     "name": "stderr",
     "output_type": "stream",
     "text": [
      "Joining, by = c(\"year\", \"month\", \"day\", \"origin\", \"hour\", \"time_hour\")\n"
     ]
    },
    {
     "data": {
      "text/plain": [
       "      year month day dep_time sched_dep_time dep_delay arr_time sched_arr_time\n",
       "1     2013 1     2    42      2359           43        518       442          \n",
       "2     2013 1     2   458       500           -2        703       650          \n",
       "3     2013 1     2   512       515           -3        809       819          \n",
       "4     2013 1     2   535       540           -5        831       850          \n",
       "5     2013 1     2   536       529            7        840       828          \n",
       "6     2013 1     2   539       545           -6        959      1022          \n",
       "7     2013 1     2   554       600           -6        845       901          \n",
       "8     2013 1     2   554       600           -6        841       851          \n",
       "9     2013 1     2   554       600           -6        909       858          \n",
       "10    2013 1     2   555       600           -5        931       910          \n",
       "11    2013 1     2   555       600           -5        856       856          \n",
       "12    2013 1     2   555       600           -5        750       757          \n",
       "13    2013 1     2   556       600           -4        724       723          \n",
       "14    2013 1     2   556       600           -4        837       837          \n",
       "15    2013 1     2   557       605           -8        832       823          \n",
       "16    2013 1     2   558       600           -2        838       815          \n",
       "17    2013 1     2   558       600           -2        916       931          \n",
       "18    2013 1     2   559       601           -2        809       901          \n",
       "19    2013 1     2   559       600           -1        906       907          \n",
       "20    2013 1     2   600       600            0        814       749          \n",
       "21    2013 1     2   600       605           -5        751       818          \n",
       "22    2013 1     2   600       600            0        819       815          \n",
       "23    2013 1     2   600       600            0        846       846          \n",
       "24    2013 1     2   600       600            0        737       725          \n",
       "25    2013 1     2   600       605           -5        748       805          \n",
       "26    2013 1     2   600       600            0        747       735          \n",
       "27    2013 1     2   602       600            2        646       659          \n",
       "28    2013 1     2   603       600            3        733       745          \n",
       "29    2013 1     2   603       559            4        912       916          \n",
       "30    2013 1     2   605       600            5        851       935          \n",
       "⋮     ⋮    ⋮     ⋮   ⋮        ⋮              ⋮         ⋮        ⋮             \n",
       "30823 2013 3     22  1221     1157            24       1513     1450          \n",
       "30824 2013 3     22  1337     1145           112       1643     1451          \n",
       "30825 2013 3     22  1508      959           309       1630     1124          \n",
       "30826 2013 3     22    NA      600            NA         NA      724          \n",
       "30827 2013 3     22    NA      900            NA         NA     1020          \n",
       "30828 2013 3     22    NA     1100            NA         NA     1215          \n",
       "30829 2013 3     23   756      801            -5        858      908          \n",
       "30830 2013 3     23   756      800            -4       1048     1116          \n",
       "30831 2013 3     23   804      810            -6        912      925          \n",
       "30832 2013 3     23   807      815            -8        959     1015          \n",
       "30833 2013 3     23   808      813            -5       1005     1018          \n",
       "30834 2013 3     23   808      816            -8        911      930          \n",
       "30835 2013 3     23   817      812             5        917      925          \n",
       "30836 2013 3     23   818      822            -4       1055     1054          \n",
       "30837 2013 3     23   828      830            -2       1209     1139          \n",
       "30838 2013 3     23   830      830             0       1140     1150          \n",
       "      arr_delay carrier ⋯ time_hour           temp  dewp  humid wind_dir\n",
       "1      36       B6      ⋯ 2013-01-02 23:00:00 30.92 12.02 44.92 310     \n",
       "2      13       US      ⋯ 2013-01-02 05:00:00 26.96 10.94 50.34 310     \n",
       "3     -10       UA      ⋯ 2013-01-02 05:00:00 26.96 10.94 50.34 310     \n",
       "4     -19       AA      ⋯ 2013-01-02 05:00:00 26.06  8.06 45.93 320     \n",
       "5      12       UA      ⋯ 2013-01-02 05:00:00 26.96 10.94 50.34 320     \n",
       "6     -23       B6      ⋯ 2013-01-02 05:00:00 26.06  8.06 45.93 320     \n",
       "7     -16       B6      ⋯ 2013-01-02 06:00:00 26.06  8.06 45.93 330     \n",
       "8     -10       B6      ⋯ 2013-01-02 06:00:00 26.06  8.06 45.93 330     \n",
       "9      11       B6      ⋯ 2013-01-02 06:00:00 26.96 12.92 54.95 310     \n",
       "10     21       AA      ⋯ 2013-01-02 06:00:00 26.96 12.92 54.95 310     \n",
       "11      0       B6      ⋯ 2013-01-02 06:00:00 26.06  8.06 45.93 330     \n",
       "12     -7       DL      ⋯ 2013-01-02 06:00:00 26.96 12.92 54.95 310     \n",
       "13      1       EV      ⋯ 2013-01-02 06:00:00 26.96 12.92 54.95 310     \n",
       "14      0       DL      ⋯ 2013-01-02 06:00:00 26.96 12.92 54.95 310     \n",
       "15      9       DL      ⋯ 2013-01-02 06:00:00 26.96 12.92 54.95 310     \n",
       "16     23       FL      ⋯ 2013-01-02 06:00:00 26.96 12.92 54.95 310     \n",
       "17    -15       UA      ⋯ 2013-01-02 06:00:00 26.06  8.06 45.93 330     \n",
       "18    -52       UA      ⋯ 2013-01-02 06:00:00 26.06 10.94 52.25 330     \n",
       "19     -1       UA      ⋯ 2013-01-02 06:00:00 26.06 10.94 52.25 330     \n",
       "20     25       EV      ⋯ 2013-01-02 06:00:00 26.06 10.94 52.25 330     \n",
       "21    -27       EV      ⋯ 2013-01-02 06:00:00 26.06 10.94 52.25 330     \n",
       "22      4       9E      ⋯ 2013-01-02 06:00:00 26.06 10.94 52.25 330     \n",
       "23      0       B6      ⋯ 2013-01-02 06:00:00 26.06  8.06 45.93 330     \n",
       "24     12       WN      ⋯ 2013-01-02 06:00:00 26.96 12.92 54.95 310     \n",
       "25    -17       MQ      ⋯ 2013-01-02 06:00:00 26.96 12.92 54.95 310     \n",
       "26     12       UA      ⋯ 2013-01-02 06:00:00 26.96 12.92 54.95 310     \n",
       "27    -13       US      ⋯ 2013-01-02 06:00:00 26.96 12.92 54.95 310     \n",
       "28    -12       AA      ⋯ 2013-01-02 06:00:00 26.96 12.92 54.95 310     \n",
       "29     -4       UA      ⋯ 2013-01-02 05:00:00 26.96 10.94 50.34 310     \n",
       "30    -44       UA      ⋯ 2013-01-02 06:00:00 26.06 10.94 52.25 330     \n",
       "⋮     ⋮         ⋮       ⋱ ⋮                   ⋮     ⋮     ⋮     ⋮       \n",
       "30823  23       B6      ⋯ 2013-03-22 11:00:00 30.02 17.06 58.08 280     \n",
       "30824 112       DL      ⋯ 2013-03-22 11:00:00 30.92 15.98 53.44 290     \n",
       "30825 306       EV      ⋯ 2013-03-22 09:00:00 30.02 15.08 53.29 280     \n",
       "30826  NA       EV      ⋯ 2013-03-22 06:00:00 30.92 12.02 44.92 290     \n",
       "30827  NA       US      ⋯ 2013-03-22 09:00:00 30.02 15.08 53.29 280     \n",
       "30828  NA       MQ      ⋯ 2013-03-22 11:00:00 30.02 17.06 58.08 280     \n",
       "30829 -10       EV      ⋯ 2013-03-23 08:00:00 30.02 19.94 65.72 220     \n",
       "30830 -28       B6      ⋯ 2013-03-23 08:00:00 30.02 19.94 65.72 220     \n",
       "30831 -13       EV      ⋯ 2013-03-23 08:00:00 30.02 19.94 65.72 220     \n",
       "30832 -16       US      ⋯ 2013-03-23 08:00:00 30.02 19.94 65.72 220     \n",
       "30833 -13       EV      ⋯ 2013-03-23 08:00:00 30.02 19.94 65.72 220     \n",
       "30834 -19       EV      ⋯ 2013-03-23 08:00:00 30.02 19.94 65.72 220     \n",
       "30835  -8       B6      ⋯ 2013-03-23 08:00:00 30.02 19.94 65.72 220     \n",
       "30836   1       EV      ⋯ 2013-03-23 08:00:00 30.02 19.94 65.72 220     \n",
       "30837  30       UA      ⋯ 2013-03-23 08:00:00 30.02 19.94 65.72 220     \n",
       "30838 -10       UA      ⋯ 2013-03-23 08:00:00 30.02 19.94 65.72 220     \n",
       "      wind_speed wind_gust precip pressure visib\n",
       "1     13.80936   15.89154  0      1020.6   10   \n",
       "2     14.96014   17.21583  0      1016.3   10   \n",
       "3     14.96014   17.21583  0      1016.3   10   \n",
       "4     18.41248   21.18871  0      1016.1   10   \n",
       "5     16.11092   18.54012  0      1016.2   10   \n",
       "6     18.41248   21.18871  0      1016.1   10   \n",
       "7     19.56326   22.51301  0      1016.4   10   \n",
       "8     19.56326   22.51301  0      1016.4   10   \n",
       "9     17.26170   19.86442  0      1016.2   10   \n",
       "10    17.26170   19.86442  0      1016.2   10   \n",
       "11    19.56326   22.51301  0      1016.4   10   \n",
       "12    17.26170   19.86442  0      1016.2   10   \n",
       "13    17.26170   19.86442  0      1016.2   10   \n",
       "14    17.26170   19.86442  0      1016.2   10   \n",
       "15    17.26170   19.86442  0      1016.2   10   \n",
       "16    17.26170   19.86442  0      1016.2   10   \n",
       "17    19.56326   22.51301  0      1016.4   10   \n",
       "18    12.65858   14.56724  0      1016.3   10   \n",
       "19    12.65858   14.56724  0      1016.3   10   \n",
       "20    12.65858   14.56724  0      1016.3   10   \n",
       "21    12.65858   14.56724  0      1016.3   10   \n",
       "22    12.65858   14.56724  0      1016.3   10   \n",
       "23    19.56326   22.51301  0      1016.4   10   \n",
       "24    17.26170   19.86442  0      1016.2   10   \n",
       "25    17.26170   19.86442  0      1016.2   10   \n",
       "26    17.26170   19.86442  0      1016.2   10   \n",
       "27    17.26170   19.86442  0      1016.2   10   \n",
       "28    17.26170   19.86442  0      1016.2   10   \n",
       "29    14.96014   17.21583  0      1016.3   10   \n",
       "30    12.65858   14.56724  0      1016.3   10   \n",
       "⋮     ⋮          ⋮         ⋮      ⋮        ⋮    \n",
       "30823 12.65858   14.567241 0      1009.0   10   \n",
       "30824 13.80936   15.891535 0      1008.4   10   \n",
       "30825 10.35702   11.918651 0      1007.0   10   \n",
       "30826 13.80936   15.891535 0      1007.3   10   \n",
       "30827 10.35702   11.918651 0      1007.0   10   \n",
       "30828 12.65858   14.567241 0      1009.0   10   \n",
       "30829  8.05546    9.270062 0      1011.4   10   \n",
       "30830  8.05546    9.270062 0      1011.4   10   \n",
       "30831  8.05546    9.270062 0      1011.4   10   \n",
       "30832  8.05546    9.270062 0      1011.4   10   \n",
       "30833  8.05546    9.270062 0      1011.4   10   \n",
       "30834  8.05546    9.270062 0      1011.4   10   \n",
       "30835  8.05546    9.270062 0      1011.4   10   \n",
       "30836  8.05546    9.270062 0      1011.4   10   \n",
       "30837  8.05546    9.270062 0      1011.4   10   \n",
       "30838  8.05546    9.270062 0      1011.4   10   \n",
       " [ reached getOption(\"max.print\") -- omitted 14 rows ]"
      ]
     },
     "metadata": {},
     "output_type": "display_data"
    }
   ],
   "source": [
    "flights %>% left_join(weather) %>% filter(!is.na(temp)) %>% filter(temp < 32)"
   ]
  },
  {
   "cell_type": "markdown",
   "metadata": {
    "slideshow": {
     "slide_type": "notes"
    }
   },
   "source": [
    "### Duplicate keys\n",
    "Although we have defined keys in terms of uniqueness, it's not required that a key be unique. There are several possibilities:"
   ]
  },
  {
   "cell_type": "markdown",
   "metadata": {
    "slideshow": {
     "slide_type": "slide"
    }
   },
   "source": [
    "##### One table has duplicate keys\n",
    "This is useful when you want to add in additional information as there is typically a one-to-many relationship.\n",
    "![duplicate keys](http://r4ds.had.co.nz/diagrams/join-one-to-many.png)"
   ]
  },
  {
   "cell_type": "markdown",
   "metadata": {
    "slideshow": {
     "slide_type": "notes"
    }
   },
   "source": [
    "In fact, we already saw an example of this above when we joined `planes` to `flights`: each plane belongs to potentially many flights."
   ]
  },
  {
   "cell_type": "markdown",
   "metadata": {
    "slideshow": {
     "slide_type": "slide"
    }
   },
   "source": [
    "### Exercise\n",
    "Reproduce the table:\n",
    "<table>\n",
    "    <tr><th>Beginner</th><th>Advanced</th></tr>\n",
    "    <tr>\n",
    "        <td>The number of flights flown by each carrier:\n",
    "        <table>\n",
    "<thead><tr><th scope=\"col\">name</th><th scope=\"col\">n</th></tr></thead>\n",
    "<tbody>\n",
    "\t<tr><td>United Air Lines Inc.      </td><td>58665                      </td></tr>\n",
    "\t<tr><td>JetBlue Airways            </td><td>54635                      </td></tr>\n",
    "\t<tr><td>ExpressJet Airlines Inc.   </td><td>54173                      </td></tr>\n",
    "\t<tr><td>&#8942;  </td><td>&#8942;</td></tr>\n",
    "</tbody>\n",
    "</table>\n",
    "        </td>\n",
    "        <td>The most common model of airplane used by each carrier:\n",
    "            \n",
    "<table>\n",
    "<thead><tr><th scope=\"col\">name</th><th scope=\"col\">model</th><th scope=\"col\">n</th></tr></thead>\n",
    "<tbody>\n",
    "\t<tr><td>JetBlue Airways            </td><td>A320-232                   </td><td>34063                      </td></tr>\n",
    "\t<tr><td>ExpressJet Airlines Inc.   </td><td>EMB-145LR                  </td><td>28027                      </td></tr>\n",
    "\t<tr><td>United Air Lines Inc.      </td><td>737-824                    </td><td>13809                      </td></tr>\n",
    "\t<tr><td>&#8942;  </td><td>&#8942;</td><td>&#8942;</td></tr>\n",
    "</tbody>\n",
    "</table>\n",
    "</td>\n",
    "    </tr>\n",
    "    </table>"
   ]
  },
  {
   "cell_type": "code",
   "execution_count": 10,
   "metadata": {
    "slideshow": {
     "slide_type": "slide"
    }
   },
   "outputs": [
    {
     "name": "stderr",
     "output_type": "stream",
     "text": [
      "Joining, by = \"carrier\"\n",
      "Joining, by = c(\"year\", \"tailnum\")\n"
     ]
    },
    {
     "data": {
      "text/plain": [
       "       year month day dep_time sched_dep_time dep_delay arr_time sched_arr_time\n",
       "1      2013 1     1   517      515             2         830      819          \n",
       "2      2013 1     1   533      529             4         850      830          \n",
       "3      2013 1     1   542      540             2         923      850          \n",
       "4      2013 1     1   544      545            -1        1004     1022          \n",
       "5      2013 1     1   554      600            -6         812      837          \n",
       "6      2013 1     1   554      558            -4         740      728          \n",
       "7      2013 1     1   555      600            -5         913      854          \n",
       "8      2013 1     1   557      600            -3         709      723          \n",
       "9      2013 1     1   557      600            -3         838      846          \n",
       "10     2013 1     1   558      600            -2         753      745          \n",
       "11     2013 1     1   558      600            -2         849      851          \n",
       "12     2013 1     1   558      600            -2         853      856          \n",
       "13     2013 1     1   558      600            -2         924      917          \n",
       "14     2013 1     1   558      600            -2         923      937          \n",
       "15     2013 1     1   559      600            -1         941      910          \n",
       "16     2013 1     1   559      559             0         702      706          \n",
       "17     2013 1     1   559      600            -1         854      902          \n",
       "18     2013 1     1   600      600             0         851      858          \n",
       "19     2013 1     1   600      600             0         837      825          \n",
       "20     2013 1     1   601      600             1         844      850          \n",
       "21     2013 1     1   602      610            -8         812      820          \n",
       "22     2013 1     1   602      605            -3         821      805          \n",
       "23     2013 1     1   606      610            -4         858      910          \n",
       "24     2013 1     1   606      610            -4         837      845          \n",
       "25     2013 1     1   607      607             0         858      915          \n",
       "26     2013 1     1   608      600             8         807      735          \n",
       "27     2013 1     1   611      600            11         945      931          \n",
       "28     2013 1     1   613      610             3         925      921          \n",
       "29     2013 1     1   615      615             0        1039     1100          \n",
       "30     2013 1     1   615      615             0         833      842          \n",
       "⋮      ⋮    ⋮     ⋮   ⋮        ⋮              ⋮         ⋮        ⋮             \n",
       "336747 2013 9     30  2123     2125            -2       2223     2247          \n",
       "336748 2013 9     30  2127     2129            -2       2314     2323          \n",
       "336749 2013 9     30  2128     2130            -2       2328     2359          \n",
       "336750 2013 9     30  2129     2059            30       2230     2232          \n",
       "336751 2013 9     30  2131     2140            -9       2225     2255          \n",
       "336752 2013 9     30  2140     2140             0         10       40          \n",
       "336753 2013 9     30  2142     2129            13       2250     2239          \n",
       "336754 2013 9     30  2145     2145             0        115      140          \n",
       "336755 2013 9     30  2147     2137            10         30       27          \n",
       "336756 2013 9     30  2149     2156            -7       2245     2308          \n",
       "336757 2013 9     30  2150     2159            -9       2250     2306          \n",
       "336758 2013 9     30  2159     1845           194       2344     2030          \n",
       "336759 2013 9     30  2203     2205            -2       2339     2331          \n",
       "336760 2013 9     30  2207     2140            27       2257     2250          \n",
       "336761 2013 9     30  2211     2059            72       2339     2242          \n",
       "336762 2013 9     30  2231     2245           -14       2335     2356          \n",
       "       arr_delay carrier ⋯ minute time_hour           name                    \n",
       "1       11       UA      ⋯ 15     2013-01-01 05:00:00 United Air Lines Inc.   \n",
       "2       20       UA      ⋯ 29     2013-01-01 05:00:00 United Air Lines Inc.   \n",
       "3       33       AA      ⋯ 40     2013-01-01 05:00:00 American Airlines Inc.  \n",
       "4      -18       B6      ⋯ 45     2013-01-01 05:00:00 JetBlue Airways         \n",
       "5      -25       DL      ⋯  0     2013-01-01 06:00:00 Delta Air Lines Inc.    \n",
       "6       12       UA      ⋯ 58     2013-01-01 05:00:00 United Air Lines Inc.   \n",
       "7       19       B6      ⋯  0     2013-01-01 06:00:00 JetBlue Airways         \n",
       "8      -14       EV      ⋯  0     2013-01-01 06:00:00 ExpressJet Airlines Inc.\n",
       "9       -8       B6      ⋯  0     2013-01-01 06:00:00 JetBlue Airways         \n",
       "10       8       AA      ⋯  0     2013-01-01 06:00:00 American Airlines Inc.  \n",
       "11      -2       B6      ⋯  0     2013-01-01 06:00:00 JetBlue Airways         \n",
       "12      -3       B6      ⋯  0     2013-01-01 06:00:00 JetBlue Airways         \n",
       "13       7       UA      ⋯  0     2013-01-01 06:00:00 United Air Lines Inc.   \n",
       "14     -14       UA      ⋯  0     2013-01-01 06:00:00 United Air Lines Inc.   \n",
       "15      31       AA      ⋯  0     2013-01-01 06:00:00 American Airlines Inc.  \n",
       "16      -4       B6      ⋯ 59     2013-01-01 05:00:00 JetBlue Airways         \n",
       "17      -8       UA      ⋯  0     2013-01-01 06:00:00 United Air Lines Inc.   \n",
       "18      -7       B6      ⋯  0     2013-01-01 06:00:00 JetBlue Airways         \n",
       "19      12       MQ      ⋯  0     2013-01-01 06:00:00 Envoy Air               \n",
       "20      -6       B6      ⋯  0     2013-01-01 06:00:00 JetBlue Airways         \n",
       "21      -8       DL      ⋯ 10     2013-01-01 06:00:00 Delta Air Lines Inc.    \n",
       "22      16       MQ      ⋯  5     2013-01-01 06:00:00 Envoy Air               \n",
       "23     -12       AA      ⋯ 10     2013-01-01 06:00:00 American Airlines Inc.  \n",
       "24      -8       DL      ⋯ 10     2013-01-01 06:00:00 Delta Air Lines Inc.    \n",
       "25     -17       UA      ⋯  7     2013-01-01 06:00:00 United Air Lines Inc.   \n",
       "26      32       MQ      ⋯  0     2013-01-01 06:00:00 Envoy Air               \n",
       "27      14       UA      ⋯  0     2013-01-01 06:00:00 United Air Lines Inc.   \n",
       "28       4       B6      ⋯ 10     2013-01-01 06:00:00 JetBlue Airways         \n",
       "29     -21       B6      ⋯ 15     2013-01-01 06:00:00 JetBlue Airways         \n",
       "30      -9       DL      ⋯ 15     2013-01-01 06:00:00 Delta Air Lines Inc.    \n",
       "⋮      ⋮         ⋮       ⋱ ⋮      ⋮                   ⋮                       \n",
       "336747 -24       EV      ⋯ 25     2013-09-30 21:00:00 ExpressJet Airlines Inc.\n",
       "336748  -9       EV      ⋯ 29     2013-09-30 21:00:00 ExpressJet Airlines Inc.\n",
       "336749 -31       B6      ⋯ 30     2013-09-30 21:00:00 JetBlue Airways         \n",
       "336750  -2       EV      ⋯ 59     2013-09-30 20:00:00 ExpressJet Airlines Inc.\n",
       "336751 -30       MQ      ⋯ 40     2013-09-30 21:00:00 Envoy Air               \n",
       "336752 -30       AA      ⋯ 40     2013-09-30 21:00:00 American Airlines Inc.  \n",
       "336753  11       EV      ⋯ 29     2013-09-30 21:00:00 ExpressJet Airlines Inc.\n",
       "336754 -25       B6      ⋯ 45     2013-09-30 21:00:00 JetBlue Airways         \n",
       "336755   3       B6      ⋯ 37     2013-09-30 21:00:00 JetBlue Airways         \n",
       "336756 -23       UA      ⋯ 56     2013-09-30 21:00:00 United Air Lines Inc.   \n",
       "336757 -16       EV      ⋯ 59     2013-09-30 21:00:00 ExpressJet Airlines Inc.\n",
       "336758 194       9E      ⋯ 45     2013-09-30 18:00:00 Endeavor Air Inc.       \n",
       "336759   8       EV      ⋯  5     2013-09-30 22:00:00 ExpressJet Airlines Inc.\n",
       "336760   7       MQ      ⋯ 40     2013-09-30 21:00:00 Envoy Air               \n",
       "336761  57       EV      ⋯ 59     2013-09-30 20:00:00 ExpressJet Airlines Inc.\n",
       "336762 -21       B6      ⋯ 45     2013-09-30 22:00:00 JetBlue Airways         \n",
       "       type                    manufacturer model           engines seats speed\n",
       "1      NA                      NA           NA              NA      NA    NA   \n",
       "2      NA                      NA           NA              NA      NA    NA   \n",
       "3      NA                      NA           NA              NA      NA    NA   \n",
       "4      NA                      NA           NA              NA      NA    NA   \n",
       "5      NA                      NA           NA              NA      NA    NA   \n",
       "6      NA                      NA           NA              NA      NA    NA   \n",
       "7      NA                      NA           NA              NA      NA    NA   \n",
       "8      NA                      NA           NA              NA      NA    NA   \n",
       "9      NA                      NA           NA              NA      NA    NA   \n",
       "10     NA                      NA           NA              NA      NA    NA   \n",
       "11     NA                      NA           NA              NA      NA    NA   \n",
       "12     NA                      NA           NA              NA      NA    NA   \n",
       "13     NA                      NA           NA              NA      NA    NA   \n",
       "14     NA                      NA           NA              NA      NA    NA   \n",
       "15     NA                      NA           NA              NA      NA    NA   \n",
       "16     NA                      NA           NA              NA      NA    NA   \n",
       "17     NA                      NA           NA              NA      NA    NA   \n",
       "18     NA                      NA           NA              NA      NA    NA   \n",
       "19     NA                      NA           NA              NA      NA    NA   \n",
       "20     NA                      NA           NA              NA      NA    NA   \n",
       "21     NA                      NA           NA              NA      NA    NA   \n",
       "22     NA                      NA           NA              NA      NA    NA   \n",
       "23     NA                      NA           NA              NA      NA    NA   \n",
       "24     NA                      NA           NA              NA      NA    NA   \n",
       "25     NA                      NA           NA              NA      NA    NA   \n",
       "26     NA                      NA           NA              NA      NA    NA   \n",
       "27     NA                      NA           NA              NA      NA    NA   \n",
       "28     NA                      NA           NA              NA      NA    NA   \n",
       "29     NA                      NA           NA              NA      NA    NA   \n",
       "30     NA                      NA           NA              NA      NA    NA   \n",
       "⋮      ⋮                       ⋮            ⋮               ⋮       ⋮     ⋮    \n",
       "336747 NA                      NA           NA              NA      NA    NA   \n",
       "336748 NA                      NA           NA              NA      NA    NA   \n",
       "336749 NA                      NA           NA              NA      NA    NA   \n",
       "336750 NA                      NA           NA              NA      NA    NA   \n",
       "336751 NA                      NA           NA              NA      NA    NA   \n",
       "336752 NA                      NA           NA              NA      NA    NA   \n",
       "336753 NA                      NA           NA              NA      NA    NA   \n",
       "336754 NA                      NA           NA              NA      NA    NA   \n",
       "336755 NA                      NA           NA              NA      NA    NA   \n",
       "336756 NA                      NA           NA              NA      NA    NA   \n",
       "336757 NA                      NA           NA              NA      NA    NA   \n",
       "336758 NA                      NA           NA              NA      NA    NA   \n",
       "336759 NA                      NA           NA              NA      NA    NA   \n",
       "336760 NA                      NA           NA              NA      NA    NA   \n",
       "336761 NA                      NA           NA              NA      NA    NA   \n",
       "336762 NA                      NA           NA              NA      NA    NA   \n",
       "       engine   \n",
       "1      NA       \n",
       "2      NA       \n",
       "3      NA       \n",
       "4      NA       \n",
       "5      NA       \n",
       "6      NA       \n",
       "7      NA       \n",
       "8      NA       \n",
       "9      NA       \n",
       "10     NA       \n",
       "11     NA       \n",
       "12     NA       \n",
       "13     NA       \n",
       "14     NA       \n",
       "15     NA       \n",
       "16     NA       \n",
       "17     NA       \n",
       "18     NA       \n",
       "19     NA       \n",
       "20     NA       \n",
       "21     NA       \n",
       "22     NA       \n",
       "23     NA       \n",
       "24     NA       \n",
       "25     NA       \n",
       "26     NA       \n",
       "27     NA       \n",
       "28     NA       \n",
       "29     NA       \n",
       "30     NA       \n",
       "⋮      ⋮        \n",
       "336747 NA       \n",
       "336748 NA       \n",
       "336749 NA       \n",
       "336750 NA       \n",
       "336751 NA       \n",
       "336752 NA       \n",
       "336753 NA       \n",
       "336754 NA       \n",
       "336755 NA       \n",
       "336756 NA       \n",
       "336757 NA       \n",
       "336758 NA       \n",
       "336759 NA       \n",
       "336760 NA       \n",
       "336761 NA       \n",
       "336762 NA       \n",
       " [ reached getOption(\"max.print\") -- omitted 14 rows ]"
      ]
     },
     "metadata": {},
     "output_type": "display_data"
    }
   ],
   "source": [
    "flights %>% left_join(airlines) %>% left_join(planes)"
   ]
  },
  {
   "cell_type": "markdown",
   "metadata": {
    "slideshow": {
     "slide_type": "slide"
    }
   },
   "source": [
    "##### Both tables have duplicate keys\n",
    "This represents a many-to-many join and is usually an error since they key does not uniquely identify observations in either table. Joining duplicated keys results in the Cartesian product of all the possible matches:\n",
    "![cartesian](http://r4ds.had.co.nz/diagrams/join-many-to-many.png)"
   ]
  },
  {
   "cell_type": "markdown",
   "metadata": {
    "slideshow": {
     "slide_type": "slide"
    }
   },
   "source": [
    "Be careful when doing many-to-many merges. It's very easy to generate huge tables by accident and crash R.\n",
    "### Exercise\n",
    "To understand what the weather conditions were when each flight departed, I will join the weather table to the first 100 rows of the flights table using the command\n",
    "\n",
    "```\n",
    "flights %>% slice(1:100) %>% left_join(weather, by=c(\"origin\", \"hour\"))\n",
    "```\n",
    "\n",
    "1.  How many rows *should* the resulting table have?\n",
    "2.  How many rows *does* the resulting table have?"
   ]
  },
  {
   "cell_type": "code",
   "execution_count": 78,
   "metadata": {
    "slideshow": {
     "slide_type": "slide"
    }
   },
   "outputs": [],
   "source": [
    "flights %>% left_join(weather, by=c(\"origin\", \"hour\"))"
   ]
  },
  {
   "cell_type": "markdown",
   "metadata": {
    "slideshow": {
     "slide_type": "slide"
    }
   },
   "source": [
    "### Defining the key columns\n",
    "When we do a join using `left_join()`, R take as the key whatever column names the two tables have in common:"
   ]
  },
  {
   "cell_type": "code",
   "execution_count": 15,
   "metadata": {},
   "outputs": [
    {
     "name": "stdout",
     "output_type": "stream",
     "text": [
      "# A tibble: 284,170 x 27\n",
      "   year.x month   day dep_time sched_dep_time dep_delay arr_time sched_arr_time\n",
      "    <int> <int> <int>    <int>          <int>     <dbl>    <int>          <int>\n",
      " 1   2013     1     1      517            515         2      830            819\n",
      " 2   2013     1     1      533            529         4      850            830\n",
      " 3   2013     1     1      542            540         2      923            850\n",
      " 4   2013     1     1      544            545        -1     1004           1022\n",
      " 5   2013     1     1      554            600        -6      812            837\n",
      " 6   2013     1     1      554            558        -4      740            728\n",
      " 7   2013     1     1      555            600        -5      913            854\n",
      " 8   2013     1     1      557            600        -3      709            723\n",
      " 9   2013     1     1      557            600        -3      838            846\n",
      "10   2013     1     1      558            600        -2      849            851\n",
      "# ... with 284,160 more rows, and 19 more variables: arr_delay <dbl>,\n",
      "#   carrier <chr>, flight <int>, tailnum <chr>, origin <chr>, dest <chr>,\n",
      "#   air_time <dbl>, distance <dbl>, hour <dbl>, minute <dbl>, time_hour <dttm>,\n",
      "#   year.y <int>, type <chr>, manufacturer <chr>, model <chr>, engines <int>,\n",
      "#   seats <int>, speed <int>, engine <chr>\n"
     ]
    }
   ],
   "source": [
    "a <- left_join(flights, planes, by = \"tailnum\" ) %>% filter(!is.na(model)) %>% print"
   ]
  },
  {
   "cell_type": "markdown",
   "metadata": {
    "slideshow": {
     "slide_type": "notes"
    }
   },
   "source": [
    "This is called a *natural join*. If the key column(s) are named differently in the two tables, we must specify the mapping between the two using the `key=` parameter."
   ]
  },
  {
   "cell_type": "markdown",
   "metadata": {
    "slideshow": {
     "slide_type": "slide"
    }
   },
   "source": [
    "Consider joining `airports` to `flights`:\n",
    "```\n",
    "> left_join(flights, airports)\n",
    "Error: `by` required, because the data sources have no common variables\n",
    "Traceback:\n",
    "\n",
    "1. left_join(flights, airports)\n",
    "2. left_join.tbl_df(flights, airports)\n",
    "3. common_by(by, x, y)\n",
    "4. common_by.NULL(by, x, y)\n",
    "5. bad_args(\"by\", \"required, because the data sources have no common variables\")\n",
    "6. glubort(fmt_args(args), ..., .envir = .envir)\n",
    "7. .abort(text)\n",
    "```"
   ]
  },
  {
   "cell_type": "markdown",
   "metadata": {
    "slideshow": {
     "slide_type": "notes"
    }
   },
   "source": [
    "This has produced an error, because airports and flights do not have any columns in common. Indeed, the three digit FAA code is called `faa` in `airports`, but appears as either `origin` or `dest` in `flights`. To fix the error, we must specify which of `origin` or `dest` should be matched:"
   ]
  },
  {
   "cell_type": "code",
   "execution_count": 21,
   "metadata": {
    "slideshow": {
     "slide_type": "slide"
    }
   },
   "outputs": [
    {
     "data": {
      "text/plain": [
       "       origin dest name               \n",
       "1      EWR    IAH  Newark Liberty Intl\n",
       "2      LGA    IAH  La Guardia         \n",
       "3      JFK    MIA  John F Kennedy Intl\n",
       "4      JFK    BQN  John F Kennedy Intl\n",
       "5      LGA    ATL  La Guardia         \n",
       "6      EWR    ORD  Newark Liberty Intl\n",
       "7      EWR    FLL  Newark Liberty Intl\n",
       "8      LGA    IAD  La Guardia         \n",
       "9      JFK    MCO  John F Kennedy Intl\n",
       "10     LGA    ORD  La Guardia         \n",
       "11     JFK    PBI  John F Kennedy Intl\n",
       "12     JFK    TPA  John F Kennedy Intl\n",
       "13     JFK    LAX  John F Kennedy Intl\n",
       "14     EWR    SFO  Newark Liberty Intl\n",
       "15     LGA    DFW  La Guardia         \n",
       "16     JFK    BOS  John F Kennedy Intl\n",
       "17     EWR    LAS  Newark Liberty Intl\n",
       "18     LGA    FLL  La Guardia         \n",
       "19     LGA    ATL  La Guardia         \n",
       "20     EWR    PBI  Newark Liberty Intl\n",
       "21     LGA    MSP  La Guardia         \n",
       "22     LGA    DTW  La Guardia         \n",
       "23     EWR    MIA  Newark Liberty Intl\n",
       "24     JFK    ATL  John F Kennedy Intl\n",
       "25     EWR    MIA  Newark Liberty Intl\n",
       "26     EWR    ORD  Newark Liberty Intl\n",
       "27     JFK    SFO  John F Kennedy Intl\n",
       "28     JFK    RSW  John F Kennedy Intl\n",
       "29     JFK    SJU  John F Kennedy Intl\n",
       "30     EWR    ATL  Newark Liberty Intl\n",
       "⋮      ⋮      ⋮    ⋮                  \n",
       "336747 LGA    CHO  La Guardia         \n",
       "336748 EWR    CLT  Newark Liberty Intl\n",
       "336749 JFK    DEN  John F Kennedy Intl\n",
       "336750 LGA    RIC  La Guardia         \n",
       "336751 JFK    DCA  John F Kennedy Intl\n",
       "336752 JFK    LAX  John F Kennedy Intl\n",
       "336753 EWR    PWM  Newark Liberty Intl\n",
       "336754 JFK    SJU  John F Kennedy Intl\n",
       "336755 LGA    FLL  La Guardia         \n",
       "336756 EWR    BOS  Newark Liberty Intl\n",
       "336757 EWR    MHT  Newark Liberty Intl\n",
       "336758 JFK    BUF  John F Kennedy Intl\n",
       "336759 LGA    BGR  La Guardia         \n",
       "336760 LGA    BNA  La Guardia         \n",
       "336761 EWR    STL  Newark Liberty Intl\n",
       "336762 JFK    PWM  John F Kennedy Intl\n",
       "336763 EWR    SFO  Newark Liberty Intl\n",
       "336764 JFK    MCO  John F Kennedy Intl\n",
       "336765 JFK    BTV  John F Kennedy Intl\n",
       "336766 JFK    SYR  John F Kennedy Intl\n",
       "336767 JFK    BUF  John F Kennedy Intl\n",
       "336768 JFK    ROC  John F Kennedy Intl\n",
       "336769 JFK    BOS  John F Kennedy Intl\n",
       "336770 JFK    PSE  John F Kennedy Intl\n",
       "336771 LGA    BNA  La Guardia         \n",
       "336772 JFK    DCA  John F Kennedy Intl\n",
       "336773 LGA    SYR  La Guardia         \n",
       "336774 LGA    BNA  La Guardia         \n",
       "336775 LGA    CLE  La Guardia         \n",
       "336776 LGA    RDU  La Guardia         "
      ]
     },
     "metadata": {},
     "output_type": "display_data"
    }
   ],
   "source": [
    "left_join(flights, airports, by = c(\"origin\" = \"faa\")) %>% select(origin, dest, name)"
   ]
  }
 ],
 "metadata": {
  "celltoolbar": "Slideshow",
  "kernelspec": {
   "display_name": "R",
   "language": "R",
   "name": "ir"
  },
  "language_info": {
   "codemirror_mode": "r",
   "file_extension": ".r",
   "mimetype": "text/x-r-source",
   "name": "R",
   "pygments_lexer": "r",
   "version": "3.6.1"
  }
 },
 "nbformat": 4,
 "nbformat_minor": 2
}
