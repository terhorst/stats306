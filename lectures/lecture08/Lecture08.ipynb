{
 "cells": [
  {
   "cell_type": "code",
   "execution_count": 1,
   "metadata": {
    "slideshow": {
     "slide_type": "notes"
    }
   },
   "outputs": [
    {
     "name": "stderr",
     "output_type": "stream",
     "text": [
      "── Attaching packages ─────────────────────────────────────── tidyverse 1.2.1 ──\n",
      "✔ ggplot2 3.2.1     ✔ purrr   0.3.2\n",
      "✔ tibble  2.1.3     ✔ dplyr   0.8.3\n",
      "✔ tidyr   0.8.3     ✔ stringr 1.4.0\n",
      "✔ readr   1.3.0     ✔ forcats 0.3.0\n",
      "── Conflicts ────────────────────────────────────────── tidyverse_conflicts() ──\n",
      "✖ dplyr::filter()  masks stats::filter()\n",
      "✖ purrr::flatten() masks jsonlite::flatten()\n",
      "✖ dplyr::lag()     masks stats::lag()\n"
     ]
    },
    {
     "data": {
      "text/html": [
       "\n",
       "<style>\n",
       ".rendered_html table, .rendered_html th, .rendered_html tr, .rendered_html td {\n",
       "     font-size: 100%;\n",
       "}\n",
       "body.rise-enabled div.inner_cell>div.input_area {\n",
       "    font-size: 150%;\n",
       "}\n",
       "\n",
       "body.rise-enabled div.output_subarea.output_text.output_result {\n",
       "    font-size: 150%;\n",
       "}\n",
       "body.rise-enabled div.output_subarea.output_text.output_stream.output_stdout {\n",
       "  font-size: 150%;\n",
       "}\n",
       "</style>\n"
      ]
     },
     "metadata": {},
     "output_type": "display_data"
    }
   ],
   "source": [
    "library(tidyverse)\n",
    "library(nycflights13)\n",
    "IRdisplay::display_html(\"\n",
    "<style>\n",
    ".rendered_html table, .rendered_html th, .rendered_html tr, .rendered_html td {\n",
    "     font-size: 100%;\n",
    "}\n",
    "body.rise-enabled div.inner_cell>div.input_area {\n",
    "    font-size: 150%;\n",
    "}\n",
    "\n",
    "body.rise-enabled div.output_subarea.output_text.output_result {\n",
    "    font-size: 150%;\n",
    "}\n",
    "body.rise-enabled div.output_subarea.output_text.output_stream.output_stdout {\n",
    "  font-size: 150%;\n",
    "}\n",
    "</style>\n",
    "\")\n",
    "library(tidyverse)"
   ]
  },
  {
   "cell_type": "markdown",
   "metadata": {
    "slideshow": {
     "slide_type": "slide"
    }
   },
   "source": [
    "### Review"
   ]
  },
  {
   "cell_type": "code",
   "execution_count": 28,
   "metadata": {
    "slideshow": {
     "slide_type": "-"
    }
   },
   "outputs": [],
   "source": [
    "load(\"mi_census.RData\")"
   ]
  },
  {
   "cell_type": "markdown",
   "metadata": {
    "slideshow": {
     "slide_type": "slide"
    }
   },
   "source": [
    "Reshape the table to obtain:\n",
    "<table>\n",
    "    <tr><th>Beginner</th><th>Advanced</th></tr>\n",
    "    <td>\n",
    "       <table>\n",
    "<thead><tr><th scope=\"col\">county</th><th scope=\"col\">stat</th><th scope=\"col\">2000</th><th scope=\"col\">2010</th></tr></thead>\n",
    "<tbody>\n",
    "\t<tr><td>washtenaw</td><td>income   </td><td>  51990  </td><td>  65500  </td></tr>\n",
    "\t<tr><td>washtenaw</td><td>pop      </td><td> 324491  </td><td> 345515  </td></tr>\n",
    "\t<tr><td>wayne    </td><td>income   </td><td>  40776  </td><td>  38380  </td></tr>\n",
    "\t<tr><td>wayne    </td><td>pop      </td><td>2059000  </td><td>1815000  </td></tr>\n",
    "</tbody>\n",
    "</table>\n",
    "    </td>\n",
    "    <td>\n",
    "    <table>\n",
    "<thead><tr><th scope=\"col\">county</th><th scope=\"col\">income_2000</th><th scope=\"col\">population_2000</th><th scope=\"col\">income_2010</th><th scope=\"col\">population_2010</th></tr></thead>\n",
    "<tbody>\n",
    "\t<tr><td>wayne    </td><td>40776    </td><td>2059000  </td><td>38380    </td><td>1815000  </td></tr>\n",
    "\t<tr><td>washtenaw</td><td>51990    </td><td> 324491  </td><td>65500    </td><td> 345515  </td></tr>\n",
    "</tbody>\n",
    "</table>\n",
    "    </td>\n",
    "    </tr>\n",
    "    </table>"
   ]
  },
  {
   "cell_type": "code",
   "execution_count": 29,
   "metadata": {
    "slideshow": {
     "slide_type": "slide"
    }
   },
   "outputs": [
    {
     "data": {
      "text/plain": [
       "  county    stat   2000    2010   \n",
       "1 washtenaw income   51990   65500\n",
       "2 washtenaw pop     324491  345515\n",
       "3 wayne     income   40776   38380\n",
       "4 wayne     pop    2059000 1815000"
      ]
     },
     "metadata": {},
     "output_type": "display_data"
    }
   ],
   "source": [
    "spread(mi_census, key=year, value=val)"
   ]
  },
  {
   "cell_type": "markdown",
   "metadata": {
    "slideshow": {
     "slide_type": "slide"
    }
   },
   "source": [
    "# Lecture 09: Relational Data\n",
    "<div style=\"border: 1px double black; padding: 10px; margin: 10px\">\n",
    "\n",
    "**After today's lecture you will understand:**\n",
    "* [Keys](#Keys)\n",
    "* Different types of [relations](#Relations) between tables\n",
    "* [Commands for joining related tables together](#Outer-joins)\n",
    "</div>\n"
   ]
  },
  {
   "cell_type": "markdown",
   "metadata": {
    "slideshow": {
     "slide_type": "slide"
    }
   },
   "source": [
    "We have already spent a lot of time analyzing the `flights` table. In fact, there are four other tables in `nycflights13` that contain related information about these flights:"
   ]
  },
  {
   "cell_type": "code",
   "execution_count": 4,
   "metadata": {
    "slideshow": {
     "slide_type": "slide"
    }
   },
   "outputs": [
    {
     "name": "stdout",
     "output_type": "stream",
     "text": [
      "# A tibble: 16 x 2\n",
      "   carrier name                       \n",
      "   <chr>   <chr>                      \n",
      " 1 9E      Endeavor Air Inc.          \n",
      " 2 AA      American Airlines Inc.     \n",
      " 3 AS      Alaska Airlines Inc.       \n",
      " 4 B6      JetBlue Airways            \n",
      " 5 DL      Delta Air Lines Inc.       \n",
      " 6 EV      ExpressJet Airlines Inc.   \n",
      " 7 F9      Frontier Airlines Inc.     \n",
      " 8 FL      AirTran Airways Corporation\n",
      " 9 HA      Hawaiian Airlines Inc.     \n",
      "10 MQ      Envoy Air                  \n",
      "11 OO      SkyWest Airlines Inc.      \n",
      "12 UA      United Air Lines Inc.      \n",
      "13 US      US Airways Inc.            \n",
      "14 VX      Virgin America             \n",
      "15 WN      Southwest Airlines Co.     \n",
      "16 YV      Mesa Airlines Inc.         \n"
     ]
    }
   ],
   "source": [
    "print(airlines)"
   ]
  },
  {
   "cell_type": "code",
   "execution_count": 5,
   "metadata": {
    "slideshow": {
     "slide_type": "slide"
    }
   },
   "outputs": [
    {
     "data": {
      "text/plain": [
       "  faa name                   lat      lon       alt tz dst tzone           \n",
       "1 DTW Detroit Metro Wayne Co 42.21244 -83.35339 645 -5 A   America/New_York"
      ]
     },
     "metadata": {},
     "output_type": "display_data"
    }
   ],
   "source": [
    "airports %>% filter(faa == \"DTW\")"
   ]
  },
  {
   "cell_type": "code",
   "execution_count": 6,
   "metadata": {
    "slideshow": {
     "slide_type": "slide"
    }
   },
   "outputs": [
    {
     "name": "stdout",
     "output_type": "stream",
     "text": [
      "# A tibble: 3,322 x 9\n",
      "   tailnum  year type          manufacturer   model  engines seats speed engine \n",
      "   <chr>   <int> <chr>         <chr>          <chr>    <int> <int> <int> <chr>  \n",
      " 1 N10156   2004 Fixed wing m… EMBRAER        EMB-1…       2    55    NA Turbo-…\n",
      " 2 N102UW   1998 Fixed wing m… AIRBUS INDUST… A320-…       2   182    NA Turbo-…\n",
      " 3 N103US   1999 Fixed wing m… AIRBUS INDUST… A320-…       2   182    NA Turbo-…\n",
      " 4 N104UW   1999 Fixed wing m… AIRBUS INDUST… A320-…       2   182    NA Turbo-…\n",
      " 5 N10575   2002 Fixed wing m… EMBRAER        EMB-1…       2    55    NA Turbo-…\n",
      " 6 N105UW   1999 Fixed wing m… AIRBUS INDUST… A320-…       2   182    NA Turbo-…\n",
      " 7 N107US   1999 Fixed wing m… AIRBUS INDUST… A320-…       2   182    NA Turbo-…\n",
      " 8 N108UW   1999 Fixed wing m… AIRBUS INDUST… A320-…       2   182    NA Turbo-…\n",
      " 9 N109UW   1999 Fixed wing m… AIRBUS INDUST… A320-…       2   182    NA Turbo-…\n",
      "10 N110UW   1999 Fixed wing m… AIRBUS INDUST… A320-…       2   182    NA Turbo-…\n",
      "# … with 3,312 more rows\n"
     ]
    }
   ],
   "source": [
    "print(planes)"
   ]
  },
  {
   "cell_type": "code",
   "execution_count": 7,
   "metadata": {
    "slideshow": {
     "slide_type": "slide"
    }
   },
   "outputs": [
    {
     "name": "stdout",
     "output_type": "stream",
     "text": [
      "# A tibble: 26,115 x 15\n",
      "   origin  year month   day  hour  temp  dewp humid wind_dir wind_speed\n",
      "   <chr>  <dbl> <dbl> <int> <int> <dbl> <dbl> <dbl>    <dbl>      <dbl>\n",
      " 1 EWR     2013     1     1     1  39.0  26.1  59.4      270      10.4 \n",
      " 2 EWR     2013     1     1     2  39.0  27.0  61.6      250       8.06\n",
      " 3 EWR     2013     1     1     3  39.0  28.0  64.4      240      11.5 \n",
      " 4 EWR     2013     1     1     4  39.9  28.0  62.2      250      12.7 \n",
      " 5 EWR     2013     1     1     5  39.0  28.0  64.4      260      12.7 \n",
      " 6 EWR     2013     1     1     6  37.9  28.0  67.2      240      11.5 \n",
      " 7 EWR     2013     1     1     7  39.0  28.0  64.4      240      15.0 \n",
      " 8 EWR     2013     1     1     8  39.9  28.0  62.2      250      10.4 \n",
      " 9 EWR     2013     1     1     9  39.9  28.0  62.2      260      15.0 \n",
      "10 EWR     2013     1     1    10  41    28.0  59.6      260      13.8 \n",
      "# … with 26,105 more rows, and 5 more variables: wind_gust <dbl>, precip <dbl>,\n",
      "#   pressure <dbl>, visib <dbl>, time_hour <dttm>\n"
     ]
    }
   ],
   "source": [
    "print(weather)"
   ]
  },
  {
   "cell_type": "markdown",
   "metadata": {
    "slideshow": {
     "slide_type": "slide"
    }
   },
   "source": [
    "Together these four tables form a *relational database*. The relationships can be graphed like so:\n",
    "![table relationships](http://r4ds.had.co.nz/diagrams/relational-nycflights.png)"
   ]
  },
  {
   "cell_type": "markdown",
   "metadata": {
    "slideshow": {
     "slide_type": "notes"
    }
   },
   "source": [
    "The particular relationships in this database are:\n",
    "- `flights` connects to `planes` via `tailnum`.\n",
    "- `flights` connects to `airlines` via `carrier`.\n",
    "- `flights` connects to `airports` twice: via `origin` and `dest`.\n",
    "- `flights` connects to `weather` via `origin` (the location), and `year`, `month`, `day` and `hour`."
   ]
  },
  {
   "cell_type": "markdown",
   "metadata": {
    "slideshow": {
     "slide_type": "notes"
    }
   },
   "source": [
    "## Keys\n",
    "The \"key\" to understanding relational databases is... keys. \n",
    "\n"
   ]
  },
  {
   "cell_type": "markdown",
   "metadata": {
    "slideshow": {
     "slide_type": "slide"
    }
   },
   "source": [
    "### Primary Key\n",
    "A *primary key* is a variable (or set of variables) that uniquely identifies an observation in its own table: there is **at most** one row in the table that corresponds to any setting of the columns which comprise the key."
   ]
  },
  {
   "cell_type": "markdown",
   "metadata": {
    "slideshow": {
     "slide_type": "slide"
    }
   },
   "source": [
    "In the `planes` table, each airplane is identified by its `tailnum`:"
   ]
  },
  {
   "cell_type": "code",
   "execution_count": 8,
   "metadata": {},
   "outputs": [
    {
     "name": "stdout",
     "output_type": "stream",
     "text": [
      "# A tibble: 3,322 x 9\n",
      "   tailnum  year type          manufacturer   model  engines seats speed engine \n",
      "   <chr>   <int> <chr>         <chr>          <chr>    <int> <int> <int> <chr>  \n",
      " 1 N10156   2004 Fixed wing m… EMBRAER        EMB-1…       2    55    NA Turbo-…\n",
      " 2 N102UW   1998 Fixed wing m… AIRBUS INDUST… A320-…       2   182    NA Turbo-…\n",
      " 3 N103US   1999 Fixed wing m… AIRBUS INDUST… A320-…       2   182    NA Turbo-…\n",
      " 4 N104UW   1999 Fixed wing m… AIRBUS INDUST… A320-…       2   182    NA Turbo-…\n",
      " 5 N10575   2002 Fixed wing m… EMBRAER        EMB-1…       2    55    NA Turbo-…\n",
      " 6 N105UW   1999 Fixed wing m… AIRBUS INDUST… A320-…       2   182    NA Turbo-…\n",
      " 7 N107US   1999 Fixed wing m… AIRBUS INDUST… A320-…       2   182    NA Turbo-…\n",
      " 8 N108UW   1999 Fixed wing m… AIRBUS INDUST… A320-…       2   182    NA Turbo-…\n",
      " 9 N109UW   1999 Fixed wing m… AIRBUS INDUST… A320-…       2   182    NA Turbo-…\n",
      "10 N110UW   1999 Fixed wing m… AIRBUS INDUST… A320-…       2   182    NA Turbo-…\n",
      "# … with 3,312 more rows\n"
     ]
    }
   ],
   "source": [
    "print(planes)"
   ]
  },
  {
   "cell_type": "markdown",
   "metadata": {
    "slideshow": {
     "slide_type": "slide"
    }
   },
   "source": [
    "The tail number of an airplane is assigned by a government agency and is unique: no two planes can have the same tail number. Thus, `tailnum` should be a primary key in this table. \n",
    "\n",
    "To check that one or more variables constitutes a primary key, we can group by those variables and then check that the number of distinct values equals the number of rows in the data set:"
   ]
  },
  {
   "cell_type": "code",
   "execution_count": 30,
   "metadata": {},
   "outputs": [
    {
     "data": {
      "text/plain": [
       "  n    nd  \n",
       "1 3322 3322"
      ]
     },
     "metadata": {},
     "output_type": "display_data"
    }
   ],
   "source": [
    "# planes %>% print\n",
    "planes %>% summarize(n = n(), nd = n_distinct(tailnum))"
   ]
  },
  {
   "cell_type": "markdown",
   "metadata": {
    "slideshow": {
     "slide_type": "slide"
    }
   },
   "source": [
    "Compare with `flights`, where tailnum does *not* uniquely identify each row. (There are many flights present for the same airplane.)"
   ]
  },
  {
   "cell_type": "code",
   "execution_count": 31,
   "metadata": {},
   "outputs": [
    {
     "name": "stdout",
     "output_type": "stream",
     "text": [
      "# A tibble: 4,044 x 1\n",
      "   tailnum\n",
      "   <chr>  \n",
      " 1 N14228 \n",
      " 2 N24211 \n",
      " 3 N619AA \n",
      " 4 N804JB \n",
      " 5 N668DN \n",
      " 6 N39463 \n",
      " 7 N516JB \n",
      " 8 N829AS \n",
      " 9 N593JB \n",
      "10 N3ALAA \n",
      "# … with 4,034 more rows\n"
     ]
    }
   ],
   "source": [
    "distinct(flights, tailnum) %>% print"
   ]
  },
  {
   "cell_type": "markdown",
   "metadata": {
    "slideshow": {
     "slide_type": "slide"
    }
   },
   "source": [
    "What is the primary key for the `flights` table?"
   ]
  },
  {
   "cell_type": "code",
   "execution_count": 39,
   "metadata": {},
   "outputs": [
    {
     "data": {
      "text/plain": [
       "    year month day dep_time tailnum n \n",
       "1   2013 1      2  NA       NA       2\n",
       "2   2013 1      3  NA       NA       2\n",
       "3   2013 1      4  NA       NA       2\n",
       "4   2013 1      5  NA       NA       1\n",
       "5   2013 1      7  NA       NA       1\n",
       "6   2013 1      8  NA       NA       1\n",
       "7   2013 1      9  NA       NA       2\n",
       "8   2013 1     10  NA       NA       2\n",
       "9   2013 1     11  NA       NA       1\n",
       "10  2013 1     12  NA       NA       2\n",
       "11  2013 1     13  NA       NA       7\n",
       "12  2013 1     14  NA       NA       1\n",
       "13  2013 1     15  NA       NA       2\n",
       "14  2013 1     16  NA       NA      24\n",
       "15  2013 1     17  NA       NA       4\n",
       "16  2013 1     18  NA       NA       3\n",
       "17  2013 1     19  NA       NA       1\n",
       "18  2013 1     20  NA       NA       1\n",
       "19  2013 1     21  NA       NA       5\n",
       "20  2013 1     22  NA       NA       3\n",
       "21  2013 1     23  NA       NA       4\n",
       "22  2013 1     24  NA       NA       4\n",
       "23  2013 1     25  NA       NA      16\n",
       "24  2013 1     26  NA       NA       2\n",
       "25  2013 1     27  NA       NA       6\n",
       "26  2013 1     28  NA       NA       8\n",
       "27  2013 1     29  NA       NA       5\n",
       "28  2013 1     30  NA       NA      25\n",
       "29  2013 1     31  NA       NA      18\n",
       "30  2013 2      1  NA       NA       1\n",
       "⋮   ⋮    ⋮     ⋮   ⋮        ⋮       ⋮ \n",
       "287 2013 11    20  NA       NA       1\n",
       "288 2013 11    21  NA       NA       2\n",
       "289 2013 11    22  NA       NA       2\n",
       "290 2013 11    23  NA       NA       1\n",
       "291 2013 11    24  NA       NA       2\n",
       "292 2013 11    25  NA       NA       3\n",
       "293 2013 11    26  NA       NA       2\n",
       "294 2013 11    27  NA       NA       9\n",
       "295 2013 12     1  NA       NA       3\n",
       "296 2013 12     4  NA       NA       3\n",
       "297 2013 12     5  NA       NA      37\n",
       "298 2013 12     6  NA       NA      10\n",
       "299 2013 12     7  NA       NA       4\n",
       "300 2013 12     8  NA       NA      17\n",
       "301 2013 12     9  NA       NA      12\n",
       "302 2013 12    10  NA       NA      55\n",
       "303 2013 12    11  NA       NA       4\n",
       "304 2013 12    12  NA       NA       3\n",
       "305 2013 12    13  NA       NA       2\n",
       "306 2013 12    14  NA       NA      38\n",
       "307 2013 12    15  NA       NA      21\n",
       "308 2013 12    16  NA       NA       1\n",
       "309 2013 12    17  NA       NA      27\n",
       "310 2013 12    19  NA       NA       1\n",
       "311 2013 12    20  NA       NA       3\n",
       "312 2013 12    21  NA       NA       2\n",
       "313 2013 12    23  NA       NA      10\n",
       "314 2013 12    29  NA       NA       2\n",
       "315 2013 12    30  NA       NA       4\n",
       "316 2013 12    31  NA       NA      11"
      ]
     },
     "metadata": {},
     "output_type": "display_data"
    }
   ],
   "source": [
    "flights %>% filter(is.na(tailnum)) %>% count(year, month, day, dep_time, tailnum) "
   ]
  },
  {
   "cell_type": "markdown",
   "metadata": {
    "slideshow": {
     "slide_type": "slide"
    }
   },
   "source": [
    "We might guess that `year`, `month`, `day`, and `tailnum` are sufficient to identify each row in `flights`, but this is not true:"
   ]
  },
  {
   "cell_type": "code",
   "execution_count": 12,
   "metadata": {
    "slideshow": {
     "slide_type": "-"
    }
   },
   "outputs": [
    {
     "data": {
      "text/plain": [
       "  n      nd    \n",
       "1 336776 251727"
      ]
     },
     "metadata": {},
     "output_type": "display_data"
    }
   ],
   "source": [
    "flights %>% summarize(n=n(), nd=n_distinct(year, month, day, tailnum))"
   ]
  },
  {
   "cell_type": "markdown",
   "metadata": {
    "slideshow": {
     "slide_type": "slide"
    }
   },
   "source": [
    "In fact, even restricting to the exact *minute* that an airplane departed is not sufficient:"
   ]
  },
  {
   "cell_type": "code",
   "execution_count": 13,
   "metadata": {
    "slideshow": {
     "slide_type": "-"
    }
   },
   "outputs": [
    {
     "data": {
      "text/plain": [
       "  n      nd    \n",
       "1 336776 336367"
      ]
     },
     "metadata": {},
     "output_type": "display_data"
    }
   ],
   "source": [
    "flights %>% summarize(n=n(), nd=n_distinct(tailnum, time_hour, minute))"
   ]
  },
  {
   "cell_type": "markdown",
   "metadata": {
    "slideshow": {
     "slide_type": "slide"
    }
   },
   "source": [
    "This says that there are certain airplanes that are marked as having departed more than once in the same year, month, day, hour and minute. We can inspect these rows as follows:"
   ]
  },
  {
   "cell_type": "code",
   "execution_count": 14,
   "metadata": {
    "slideshow": {
     "slide_type": "-"
    }
   },
   "outputs": [
    {
     "name": "stdout",
     "output_type": "stream",
     "text": [
      "# A tibble: 298 x 4\n",
      "# Groups:   tailnum, time_hour, minute [298]\n",
      "   tailnum time_hour           minute     n\n",
      "   <chr>   <dttm>               <dbl> <int>\n",
      " 1 N11119  2013-06-10 16:00:00     55     2\n",
      " 2 N11192  2013-08-26 08:00:00     30     2\n",
      " 3 N12563  2013-02-04 16:00:00     19     2\n",
      " 4 N12564  2013-01-13 20:00:00      0     2\n",
      " 5 N12900  2013-07-10 21:00:00     29     2\n",
      " 6 N13969  2013-01-28 07:00:00     59     2\n",
      " 7 N14148  2013-03-12 06:00:00     30     2\n",
      " 8 N14558  2013-04-19 13:00:00     29     2\n",
      " 9 N14916  2013-02-11 13:00:00     15     2\n",
      "10 N14974  2013-07-26 06:00:00     30     2\n",
      "# … with 288 more rows\n"
     ]
    }
   ],
   "source": [
    "group_by(flights, tailnum, time_hour, minute) %>% count %>% filter(n>1) %>% arrange(tailnum, time_hour) %>% print"
   ]
  },
  {
   "cell_type": "markdown",
   "metadata": {
    "slideshow": {
     "slide_type": "notes"
    }
   },
   "source": [
    "These likely indicate rounding or data entry errors."
   ]
  },
  {
   "cell_type": "markdown",
   "metadata": {
    "slideshow": {
     "slide_type": "slide"
    }
   },
   "source": [
    "### Exercise\n",
    "What constitutes a primary key in the `mpg` table?"
   ]
  },
  {
   "cell_type": "code",
   "execution_count": 55,
   "metadata": {
    "slideshow": {
     "slide_type": "slide"
    }
   },
   "outputs": [
    {
     "name": "stdout",
     "output_type": "stream",
     "text": [
      "# A tibble: 234 x 12\n",
      "   manufacturer model      displ  year   cyl trans      drv     cty   hwy fl   \n",
      "   <chr>        <chr>      <dbl> <int> <int> <chr>      <chr> <int> <int> <chr>\n",
      " 1 audi         a4           1.8  1999     4 auto(l5)   f        18    29 p    \n",
      " 2 audi         a4           1.8  1999     4 manual(m5) f        21    29 p    \n",
      " 3 audi         a4           2    2008     4 manual(m6) f        20    31 p    \n",
      " 4 audi         a4           2    2008     4 auto(av)   f        21    30 p    \n",
      " 5 audi         a4           2.8  1999     6 auto(l5)   f        16    26 p    \n",
      " 6 audi         a4           2.8  1999     6 manual(m5) f        18    26 p    \n",
      " 7 audi         a4           3.1  2008     6 auto(av)   f        18    27 p    \n",
      " 8 audi         a4 quattro   1.8  1999     4 manual(m5) 4        18    26 p    \n",
      " 9 audi         a4 quattro   1.8  1999     4 auto(l5)   4        16    25 p    \n",
      "10 audi         a4 quattro   2    2008     4 manual(m6) 4        20    28 p    \n",
      "   class       k\n",
      "   <chr>   <int>\n",
      " 1 compact     1\n",
      " 2 compact     2\n",
      " 3 compact     3\n",
      " 4 compact     4\n",
      " 5 compact     5\n",
      " 6 compact     6\n",
      " 7 compact     7\n",
      " 8 compact     8\n",
      " 9 compact     9\n",
      "10 compact    10\n",
      "# … with 224 more rows\n"
     ]
    }
   ],
   "source": [
    "mpg %>% mutate(k = row_number()) %>% print(width=Inf)"
   ]
  },
  {
   "cell_type": "markdown",
   "metadata": {
    "slideshow": {
     "slide_type": "slide"
    }
   },
   "source": [
    "## Relations\n",
    "A primary key and the corresponding foreign key in another table form a *relation*. Relations come in several forms:\n",
    "- *One-to-many*. (Most common). For example, each flight has one plane, but each plane has many flights. \n",
    "- *Many-to-many*: For example, each airline flies to many airports; each airport hosts many airlines.\n",
    "- *One-to-one*. Each row in one table corresponds uniquely to a row in a second table. This is relatively uncommon because you could just as easily combine the two tables into one."
   ]
  },
  {
   "cell_type": "code",
   "execution_count": 16,
   "metadata": {
    "slideshow": {
     "slide_type": "notes"
    }
   },
   "outputs": [],
   "source": [
    "x = tribble(\n",
    "  ~key, ~val_x,\n",
    "     1, \"x1\",\n",
    "     2, \"x2\",\n",
    "     3, \"x3\"\n",
    ")\n",
    "y = tribble(\n",
    "  ~key, ~val_y,\n",
    "     1, \"y1\",\n",
    "     2, \"y2\",\n",
    "     4, \"y3\"\n",
    ")"
   ]
  },
  {
   "cell_type": "markdown",
   "metadata": {
    "slideshow": {
     "slide_type": "slide"
    }
   },
   "source": []
  },
  {
   "cell_type": "markdown",
   "metadata": {
    "slideshow": {
     "slide_type": "slide"
    }
   },
   "source": [
    "## Joins\n",
    "Joins are the way the we combine or \"merge\" two data tables based on keys.\n",
    "To understand how joins work we'll study these two simple tables:\n",
    "![simple tables](http://r4ds.had.co.nz/diagrams/join-setup.png)"
   ]
  },
  {
   "cell_type": "code",
   "execution_count": 56,
   "metadata": {},
   "outputs": [
    {
     "data": {
      "text/plain": [
       "  key val_x\n",
       "1 1   x1   \n",
       "2 2   x2   \n",
       "3 3   x3   "
      ]
     },
     "metadata": {},
     "output_type": "display_data"
    },
    {
     "data": {
      "text/plain": [
       "  key val_y\n",
       "1 1   y1   \n",
       "2 2   y2   \n",
       "3 4   y3   "
      ]
     },
     "metadata": {},
     "output_type": "display_data"
    }
   ],
   "source": [
    "x\n",
    "y"
   ]
  },
  {
   "cell_type": "markdown",
   "metadata": {
    "slideshow": {
     "slide_type": "slide"
    }
   },
   "source": [
    "The first column of each table is called `key` and serves as the primary key: each row has a different value of `key`. \n",
    "\n",
    "Let's image all the possible ways we could join together these two tables. Each intersecting line represents a potential match; there are 3 observations in each table for a total of $3^2=9$ intersections.\n",
    "![possible joins](http://r4ds.had.co.nz/diagrams/join-setup2.png)"
   ]
  },
  {
   "cell_type": "markdown",
   "metadata": {
    "slideshow": {
     "slide_type": "slide"
    }
   },
   "source": [
    "Matches will be indicated with dots:\n",
    "![match example](http://r4ds.had.co.nz/diagrams/join-inner.png)"
   ]
  },
  {
   "cell_type": "markdown",
   "metadata": {
    "slideshow": {
     "slide_type": "slide"
    }
   },
   "source": [
    "### Inner joins\n",
    "Inner joins match a pair of observations whenever their keys are equal:\n",
    "![match example](http://r4ds.had.co.nz/diagrams/join-inner.png)"
   ]
  },
  {
   "cell_type": "code",
   "execution_count": 58,
   "metadata": {
    "slideshow": {
     "slide_type": "-"
    }
   },
   "outputs": [
    {
     "name": "stderr",
     "output_type": "stream",
     "text": [
      "Joining, by = \"key\"\n"
     ]
    },
    {
     "data": {
      "text/plain": [
       "  key val_x val_y\n",
       "1 1   x1    y1   \n",
       "2 2   x2    y2   "
      ]
     },
     "metadata": {},
     "output_type": "display_data"
    }
   ],
   "source": [
    "x %>% inner_join(y, by = \"key\")"
   ]
  },
  {
   "cell_type": "markdown",
   "metadata": {
    "slideshow": {
     "slide_type": "notes"
    }
   },
   "source": [
    "Note that there is no row for `key=3` or `key=4`: with an inner join, unmatched rows are not included in the result. For this reason, we do not as often use inner joins for data analysis since you can easily lose observations."
   ]
  },
  {
   "cell_type": "markdown",
   "metadata": {
    "slideshow": {
     "slide_type": "slide"
    }
   },
   "source": [
    "### Outer joins\n",
    "An outer join keeps observations that appear in at least one of the tables. There are three types of outer joins:\n",
    "- A left join keeps all observations in x.\n",
    "- A right join keeps all observations in y.\n",
    "- A full join keeps all observations in x and y."
   ]
  },
  {
   "cell_type": "markdown",
   "metadata": {
    "slideshow": {
     "slide_type": "slide"
    }
   },
   "source": [
    "![outer join](http://r4ds.had.co.nz/diagrams/join-outer.png)"
   ]
  },
  {
   "cell_type": "markdown",
   "metadata": {
    "slideshow": {
     "slide_type": "slide"
    }
   },
   "source": [
    "Left joins are the most common. Use them to look up data in another table, but preserve your original observations when there in cases where the other table does not have a match."
   ]
  },
  {
   "cell_type": "markdown",
   "metadata": {
    "slideshow": {
     "slide_type": "slide"
    }
   },
   "source": [
    "### Example\n",
    "The `flights` table has a `carrier` column which is a two-letter code for the airline. The `airlines` table maps these code to recognizable airline names. You can combine the `airlines` and `flights` data frames with `left_join()`:"
   ]
  },
  {
   "cell_type": "code",
   "execution_count": 65,
   "metadata": {
    "slideshow": {
     "slide_type": "slide"
    }
   },
   "outputs": [
    {
     "name": "stderr",
     "output_type": "stream",
     "text": [
      "Joining, by = \"carrier\"\n"
     ]
    },
    {
     "data": {
      "text/plain": [
       "   name                        n    \n",
       "1  AirTran Airways Corporation  3260\n",
       "2  Alaska Airlines Inc.          714\n",
       "3  American Airlines Inc.      32729\n",
       "4  Delta Air Lines Inc.        48110\n",
       "5  Endeavor Air Inc.           18460\n",
       "6  Envoy Air                   26397\n",
       "7  ExpressJet Airlines Inc.    54173\n",
       "8  Frontier Airlines Inc.        685\n",
       "9  Hawaiian Airlines Inc.        342\n",
       "10 JetBlue Airways             54635\n",
       "11 Mesa Airlines Inc.            601\n",
       "12 SkyWest Airlines Inc.          32\n",
       "13 Southwest Airlines Co.      12275\n",
       "14 United Air Lines Inc.       58665\n",
       "15 US Airways Inc.             20536\n",
       "16 Virgin America               5162"
      ]
     },
     "metadata": {},
     "output_type": "display_data"
    }
   ],
   "source": [
    "left_join(flights, airlines) %>% count(name)\n",
    "    #select(year, month, day, tailnum, carrier, name) %>% \n",
    "    "
   ]
  },
  {
   "cell_type": "markdown",
   "metadata": {
    "slideshow": {
     "slide_type": "slide"
    }
   },
   "source": [
    "### Exercise\n",
    "Use `left_join()` to determine:\n",
    "<table>\n",
    "    <tr><th>Beginner</th><th>Advanced</th></tr>\n",
    "    <tr>\n",
    "        <td>The number of flights operated by Envoy Air.</td>\n",
    "        <td>The number of flights that departed in sub-zero conditions (<code>temp < 0</code>) in 2013.</td>\n",
    "    </tr>\n",
    "    </table>"
   ]
  },
  {
   "cell_type": "code",
   "execution_count": 72,
   "metadata": {
    "slideshow": {
     "slide_type": "slide"
    }
   },
   "outputs": [
    {
     "name": "stderr",
     "output_type": "stream",
     "text": [
      "Joining, by = c(\"year\", \"month\", \"day\", \"origin\", \"hour\", \"time_hour\")\n"
     ]
    },
    {
     "name": "stdout",
     "output_type": "stream",
     "text": [
      "# A tibble: 25,844 x 28\n",
      "    year month   day dep_time sched_dep_time dep_delay arr_time sched_arr_time\n",
      "   <dbl> <dbl> <int>    <int>          <int>     <dbl>    <int>          <int>\n",
      " 1  2013     1     1     2055           2100        -5     2350           2355\n",
      " 2  2013     1     1     2056           2100        -4     2337           2343\n",
      " 3  2013     1     1     2056           2100        -4     2240           2235\n",
      " 4  2013     1     1     2057           2100        -3     2237           2220\n",
      " 5  2013     1     1     2058           2100        -2     2342           2317\n",
      " 6  2013     1     1     2058           2100        -2     2235           2230\n",
      " 7  2013     1     1     2058           2100        -2        8           2359\n",
      " 8  2013     1     1     2100           2100         0     2307           2250\n",
      " 9  2013     1     1     2102           2108        -6      146            158\n",
      "10  2013     1     1     2103           2110        -7     2345             17\n",
      "# … with 25,834 more rows, and 20 more variables: arr_delay <dbl>,\n",
      "#   carrier <chr>, flight <int>, tailnum <chr>, origin <chr>, dest <chr>,\n",
      "#   air_time <dbl>, distance <dbl>, hour <dbl>, minute <dbl>, time_hour <dttm>,\n",
      "#   temp <dbl>, dewp <dbl>, humid <dbl>, wind_dir <dbl>, wind_speed <dbl>,\n",
      "#   wind_gust <dbl>, precip <dbl>, pressure <dbl>, visib <dbl>\n"
     ]
    }
   ],
   "source": [
    "## Solution\n",
    "# Beginner\n",
    "# count(flights, carrier) %>% \n",
    "#     left_join(airlines, by = \"carrier\") %>% \n",
    "#     filter(name == \"Envoy Air\")\n",
    "\n",
    "flights %>% left_join(weather) %>% filter(temp < 32, !is.na(temp)) %>% print"
   ]
  },
  {
   "cell_type": "markdown",
   "metadata": {
    "slideshow": {
     "slide_type": "notes"
    }
   },
   "source": [
    "### Duplicate keys\n",
    "Although we have defined keys in terms of uniqueness, it's not required that a key be unique. There are several possibilities:"
   ]
  },
  {
   "cell_type": "markdown",
   "metadata": {
    "slideshow": {
     "slide_type": "slide"
    }
   },
   "source": [
    "##### One table has duplicate keys\n",
    "This is useful when you want to add in additional information as there is typically a one-to-many relationship.\n",
    "![duplicate keys](http://r4ds.had.co.nz/diagrams/join-one-to-many.png)"
   ]
  },
  {
   "cell_type": "markdown",
   "metadata": {
    "slideshow": {
     "slide_type": "notes"
    }
   },
   "source": [
    "In fact, we already saw an example of this above when we joined `planes` to `flights`: each plane belongs to potentially many flights."
   ]
  },
  {
   "cell_type": "markdown",
   "metadata": {
    "slideshow": {
     "slide_type": "slide"
    }
   },
   "source": [
    "### Exercise\n",
    "Reproduce the table:\n",
    "<table>\n",
    "    <tr><th>Beginner</th><th>Advanced</th></tr>\n",
    "    <tr>\n",
    "        <td>The number of flights flown by each carrier:\n",
    "        <table>\n",
    "<thead><tr><th scope=\"col\">name</th><th scope=\"col\">n</th></tr></thead>\n",
    "<tbody>\n",
    "\t<tr><td>United Air Lines Inc.      </td><td>58665                      </td></tr>\n",
    "\t<tr><td>JetBlue Airways            </td><td>54635                      </td></tr>\n",
    "\t<tr><td>ExpressJet Airlines Inc.   </td><td>54173                      </td></tr>\n",
    "\t<tr><td>&#8942;  </td><td>&#8942;</td></tr>\n",
    "</tbody>\n",
    "</table>\n",
    "        </td>\n",
    "        <td>The most common model of airplane used by each carrier:\n",
    "            \n",
    "<table>\n",
    "<thead><tr><th scope=\"col\">name</th><th scope=\"col\">model</th><th scope=\"col\">n</th></tr></thead>\n",
    "<tbody>\n",
    "\t<tr><td>JetBlue Airways            </td><td>A320-232                   </td><td>34063                      </td></tr>\n",
    "\t<tr><td>ExpressJet Airlines Inc.   </td><td>EMB-145LR                  </td><td>28027                      </td></tr>\n",
    "\t<tr><td>United Air Lines Inc.      </td><td>737-824                    </td><td>13809                      </td></tr>\n",
    "\t<tr><td>&#8942;  </td><td>&#8942;</td><td>&#8942;</td></tr>\n",
    "</tbody>\n",
    "</table>\n",
    "</td>\n",
    "    </tr>\n",
    "    </table>"
   ]
  },
  {
   "cell_type": "code",
   "execution_count": 21,
   "metadata": {
    "slideshow": {
     "slide_type": "slide"
    }
   },
   "outputs": [
    {
     "name": "stderr",
     "output_type": "stream",
     "text": [
      "Joining, by = \"carrier\"\n",
      "Joining, by = c(\"year\", \"tailnum\")\n"
     ]
    },
    {
     "data": {
      "text/plain": [
       "       year month day dep_time sched_dep_time dep_delay arr_time sched_arr_time\n",
       "1      2013 1     1   517      515             2         830      819          \n",
       "2      2013 1     1   533      529             4         850      830          \n",
       "3      2013 1     1   542      540             2         923      850          \n",
       "4      2013 1     1   544      545            -1        1004     1022          \n",
       "5      2013 1     1   554      600            -6         812      837          \n",
       "6      2013 1     1   554      558            -4         740      728          \n",
       "7      2013 1     1   555      600            -5         913      854          \n",
       "8      2013 1     1   557      600            -3         709      723          \n",
       "9      2013 1     1   557      600            -3         838      846          \n",
       "10     2013 1     1   558      600            -2         753      745          \n",
       "11     2013 1     1   558      600            -2         849      851          \n",
       "12     2013 1     1   558      600            -2         853      856          \n",
       "13     2013 1     1   558      600            -2         924      917          \n",
       "14     2013 1     1   558      600            -2         923      937          \n",
       "15     2013 1     1   559      600            -1         941      910          \n",
       "16     2013 1     1   559      559             0         702      706          \n",
       "17     2013 1     1   559      600            -1         854      902          \n",
       "18     2013 1     1   600      600             0         851      858          \n",
       "19     2013 1     1   600      600             0         837      825          \n",
       "20     2013 1     1   601      600             1         844      850          \n",
       "21     2013 1     1   602      610            -8         812      820          \n",
       "22     2013 1     1   602      605            -3         821      805          \n",
       "23     2013 1     1   606      610            -4         858      910          \n",
       "24     2013 1     1   606      610            -4         837      845          \n",
       "25     2013 1     1   607      607             0         858      915          \n",
       "26     2013 1     1   608      600             8         807      735          \n",
       "27     2013 1     1   611      600            11         945      931          \n",
       "28     2013 1     1   613      610             3         925      921          \n",
       "29     2013 1     1   615      615             0        1039     1100          \n",
       "30     2013 1     1   615      615             0         833      842          \n",
       "⋮      ⋮    ⋮     ⋮   ⋮        ⋮              ⋮         ⋮        ⋮             \n",
       "336747 2013 9     30  2123     2125            -2       2223     2247          \n",
       "336748 2013 9     30  2127     2129            -2       2314     2323          \n",
       "336749 2013 9     30  2128     2130            -2       2328     2359          \n",
       "336750 2013 9     30  2129     2059            30       2230     2232          \n",
       "336751 2013 9     30  2131     2140            -9       2225     2255          \n",
       "336752 2013 9     30  2140     2140             0         10       40          \n",
       "336753 2013 9     30  2142     2129            13       2250     2239          \n",
       "336754 2013 9     30  2145     2145             0        115      140          \n",
       "336755 2013 9     30  2147     2137            10         30       27          \n",
       "336756 2013 9     30  2149     2156            -7       2245     2308          \n",
       "336757 2013 9     30  2150     2159            -9       2250     2306          \n",
       "336758 2013 9     30  2159     1845           194       2344     2030          \n",
       "336759 2013 9     30  2203     2205            -2       2339     2331          \n",
       "336760 2013 9     30  2207     2140            27       2257     2250          \n",
       "336761 2013 9     30  2211     2059            72       2339     2242          \n",
       "336762 2013 9     30  2231     2245           -14       2335     2356          \n",
       "       arr_delay carrier ⋯ minute time_hour           name                    \n",
       "1       11       UA      ⋯ 15     2013-01-01 05:00:00 United Air Lines Inc.   \n",
       "2       20       UA      ⋯ 29     2013-01-01 05:00:00 United Air Lines Inc.   \n",
       "3       33       AA      ⋯ 40     2013-01-01 05:00:00 American Airlines Inc.  \n",
       "4      -18       B6      ⋯ 45     2013-01-01 05:00:00 JetBlue Airways         \n",
       "5      -25       DL      ⋯  0     2013-01-01 06:00:00 Delta Air Lines Inc.    \n",
       "6       12       UA      ⋯ 58     2013-01-01 05:00:00 United Air Lines Inc.   \n",
       "7       19       B6      ⋯  0     2013-01-01 06:00:00 JetBlue Airways         \n",
       "8      -14       EV      ⋯  0     2013-01-01 06:00:00 ExpressJet Airlines Inc.\n",
       "9       -8       B6      ⋯  0     2013-01-01 06:00:00 JetBlue Airways         \n",
       "10       8       AA      ⋯  0     2013-01-01 06:00:00 American Airlines Inc.  \n",
       "11      -2       B6      ⋯  0     2013-01-01 06:00:00 JetBlue Airways         \n",
       "12      -3       B6      ⋯  0     2013-01-01 06:00:00 JetBlue Airways         \n",
       "13       7       UA      ⋯  0     2013-01-01 06:00:00 United Air Lines Inc.   \n",
       "14     -14       UA      ⋯  0     2013-01-01 06:00:00 United Air Lines Inc.   \n",
       "15      31       AA      ⋯  0     2013-01-01 06:00:00 American Airlines Inc.  \n",
       "16      -4       B6      ⋯ 59     2013-01-01 05:00:00 JetBlue Airways         \n",
       "17      -8       UA      ⋯  0     2013-01-01 06:00:00 United Air Lines Inc.   \n",
       "18      -7       B6      ⋯  0     2013-01-01 06:00:00 JetBlue Airways         \n",
       "19      12       MQ      ⋯  0     2013-01-01 06:00:00 Envoy Air               \n",
       "20      -6       B6      ⋯  0     2013-01-01 06:00:00 JetBlue Airways         \n",
       "21      -8       DL      ⋯ 10     2013-01-01 06:00:00 Delta Air Lines Inc.    \n",
       "22      16       MQ      ⋯  5     2013-01-01 06:00:00 Envoy Air               \n",
       "23     -12       AA      ⋯ 10     2013-01-01 06:00:00 American Airlines Inc.  \n",
       "24      -8       DL      ⋯ 10     2013-01-01 06:00:00 Delta Air Lines Inc.    \n",
       "25     -17       UA      ⋯  7     2013-01-01 06:00:00 United Air Lines Inc.   \n",
       "26      32       MQ      ⋯  0     2013-01-01 06:00:00 Envoy Air               \n",
       "27      14       UA      ⋯  0     2013-01-01 06:00:00 United Air Lines Inc.   \n",
       "28       4       B6      ⋯ 10     2013-01-01 06:00:00 JetBlue Airways         \n",
       "29     -21       B6      ⋯ 15     2013-01-01 06:00:00 JetBlue Airways         \n",
       "30      -9       DL      ⋯ 15     2013-01-01 06:00:00 Delta Air Lines Inc.    \n",
       "⋮      ⋮         ⋮       ⋱ ⋮      ⋮                   ⋮                       \n",
       "336747 -24       EV      ⋯ 25     2013-09-30 21:00:00 ExpressJet Airlines Inc.\n",
       "336748  -9       EV      ⋯ 29     2013-09-30 21:00:00 ExpressJet Airlines Inc.\n",
       "336749 -31       B6      ⋯ 30     2013-09-30 21:00:00 JetBlue Airways         \n",
       "336750  -2       EV      ⋯ 59     2013-09-30 20:00:00 ExpressJet Airlines Inc.\n",
       "336751 -30       MQ      ⋯ 40     2013-09-30 21:00:00 Envoy Air               \n",
       "336752 -30       AA      ⋯ 40     2013-09-30 21:00:00 American Airlines Inc.  \n",
       "336753  11       EV      ⋯ 29     2013-09-30 21:00:00 ExpressJet Airlines Inc.\n",
       "336754 -25       B6      ⋯ 45     2013-09-30 21:00:00 JetBlue Airways         \n",
       "336755   3       B6      ⋯ 37     2013-09-30 21:00:00 JetBlue Airways         \n",
       "336756 -23       UA      ⋯ 56     2013-09-30 21:00:00 United Air Lines Inc.   \n",
       "336757 -16       EV      ⋯ 59     2013-09-30 21:00:00 ExpressJet Airlines Inc.\n",
       "336758 194       9E      ⋯ 45     2013-09-30 18:00:00 Endeavor Air Inc.       \n",
       "336759   8       EV      ⋯  5     2013-09-30 22:00:00 ExpressJet Airlines Inc.\n",
       "336760   7       MQ      ⋯ 40     2013-09-30 21:00:00 Envoy Air               \n",
       "336761  57       EV      ⋯ 59     2013-09-30 20:00:00 ExpressJet Airlines Inc.\n",
       "336762 -21       B6      ⋯ 45     2013-09-30 22:00:00 JetBlue Airways         \n",
       "       type                    manufacturer model           engines seats speed\n",
       "1      NA                      NA           NA              NA      NA    NA   \n",
       "2      NA                      NA           NA              NA      NA    NA   \n",
       "3      NA                      NA           NA              NA      NA    NA   \n",
       "4      NA                      NA           NA              NA      NA    NA   \n",
       "5      NA                      NA           NA              NA      NA    NA   \n",
       "6      NA                      NA           NA              NA      NA    NA   \n",
       "7      NA                      NA           NA              NA      NA    NA   \n",
       "8      NA                      NA           NA              NA      NA    NA   \n",
       "9      NA                      NA           NA              NA      NA    NA   \n",
       "10     NA                      NA           NA              NA      NA    NA   \n",
       "11     NA                      NA           NA              NA      NA    NA   \n",
       "12     NA                      NA           NA              NA      NA    NA   \n",
       "13     NA                      NA           NA              NA      NA    NA   \n",
       "14     NA                      NA           NA              NA      NA    NA   \n",
       "15     NA                      NA           NA              NA      NA    NA   \n",
       "16     NA                      NA           NA              NA      NA    NA   \n",
       "17     NA                      NA           NA              NA      NA    NA   \n",
       "18     NA                      NA           NA              NA      NA    NA   \n",
       "19     NA                      NA           NA              NA      NA    NA   \n",
       "20     NA                      NA           NA              NA      NA    NA   \n",
       "21     NA                      NA           NA              NA      NA    NA   \n",
       "22     NA                      NA           NA              NA      NA    NA   \n",
       "23     NA                      NA           NA              NA      NA    NA   \n",
       "24     NA                      NA           NA              NA      NA    NA   \n",
       "25     NA                      NA           NA              NA      NA    NA   \n",
       "26     NA                      NA           NA              NA      NA    NA   \n",
       "27     NA                      NA           NA              NA      NA    NA   \n",
       "28     NA                      NA           NA              NA      NA    NA   \n",
       "29     NA                      NA           NA              NA      NA    NA   \n",
       "30     NA                      NA           NA              NA      NA    NA   \n",
       "⋮      ⋮                       ⋮            ⋮               ⋮       ⋮     ⋮    \n",
       "336747 NA                      NA           NA              NA      NA    NA   \n",
       "336748 NA                      NA           NA              NA      NA    NA   \n",
       "336749 NA                      NA           NA              NA      NA    NA   \n",
       "336750 NA                      NA           NA              NA      NA    NA   \n",
       "336751 NA                      NA           NA              NA      NA    NA   \n",
       "336752 NA                      NA           NA              NA      NA    NA   \n",
       "336753 NA                      NA           NA              NA      NA    NA   \n",
       "336754 NA                      NA           NA              NA      NA    NA   \n",
       "336755 NA                      NA           NA              NA      NA    NA   \n",
       "336756 NA                      NA           NA              NA      NA    NA   \n",
       "336757 NA                      NA           NA              NA      NA    NA   \n",
       "336758 NA                      NA           NA              NA      NA    NA   \n",
       "336759 NA                      NA           NA              NA      NA    NA   \n",
       "336760 NA                      NA           NA              NA      NA    NA   \n",
       "336761 NA                      NA           NA              NA      NA    NA   \n",
       "336762 NA                      NA           NA              NA      NA    NA   \n",
       "       engine   \n",
       "1      NA       \n",
       "2      NA       \n",
       "3      NA       \n",
       "4      NA       \n",
       "5      NA       \n",
       "6      NA       \n",
       "7      NA       \n",
       "8      NA       \n",
       "9      NA       \n",
       "10     NA       \n",
       "11     NA       \n",
       "12     NA       \n",
       "13     NA       \n",
       "14     NA       \n",
       "15     NA       \n",
       "16     NA       \n",
       "17     NA       \n",
       "18     NA       \n",
       "19     NA       \n",
       "20     NA       \n",
       "21     NA       \n",
       "22     NA       \n",
       "23     NA       \n",
       "24     NA       \n",
       "25     NA       \n",
       "26     NA       \n",
       "27     NA       \n",
       "28     NA       \n",
       "29     NA       \n",
       "30     NA       \n",
       "⋮      ⋮        \n",
       "336747 NA       \n",
       "336748 NA       \n",
       "336749 NA       \n",
       "336750 NA       \n",
       "336751 NA       \n",
       "336752 NA       \n",
       "336753 NA       \n",
       "336754 NA       \n",
       "336755 NA       \n",
       "336756 NA       \n",
       "336757 NA       \n",
       "336758 NA       \n",
       "336759 NA       \n",
       "336760 NA       \n",
       "336761 NA       \n",
       "336762 NA       \n",
       " [ reached getOption(\"max.print\") -- omitted 14 rows ]"
      ]
     },
     "metadata": {},
     "output_type": "display_data"
    }
   ],
   "source": [
    "flights %>% left_join(airlines) %>% left_join(planes)"
   ]
  },
  {
   "cell_type": "markdown",
   "metadata": {
    "slideshow": {
     "slide_type": "slide"
    }
   },
   "source": [
    "##### Both tables have duplicate keys\n",
    "This represents a many-to-many join and is usually an error since they key does not uniquely identify observations in either table. Joining duplicated keys results in the Cartesian product of all the possible matches:\n",
    "![cartesian](http://r4ds.had.co.nz/diagrams/join-many-to-many.png)"
   ]
  },
  {
   "cell_type": "markdown",
   "metadata": {
    "slideshow": {
     "slide_type": "slide"
    }
   },
   "source": [
    "Be careful when doing many-to-many merges. It's very easy to generate huge tables by accident and crash R.\n",
    "### Exercise\n",
    "To understand what the weather conditions were when each flight departed, I will join the weather table to the first 100 rows of the flights table using the command\n",
    "\n",
    "```\n",
    "flights %>% slice(1:100) %>% left_join(weather, by=c(\"origin\", \"hour\"))\n",
    "```\n",
    "\n",
    "1.  How many rows *should* the resulting table have?\n",
    "2.  How many rows *does* the resulting table have?"
   ]
  },
  {
   "cell_type": "code",
   "execution_count": 75,
   "metadata": {
    "slideshow": {
     "slide_type": "slide"
    }
   },
   "outputs": [
    {
     "name": "stdout",
     "output_type": "stream",
     "text": [
      "# A tibble: 36,344 x 32\n",
      "   year.x month.x day.x dep_time sched_dep_time dep_delay arr_time\n",
      "    <int>   <int> <int>    <int>          <int>     <dbl>    <int>\n",
      " 1   2013       1     1      517            515         2      830\n",
      " 2   2013       1     1      517            515         2      830\n",
      " 3   2013       1     1      517            515         2      830\n",
      " 4   2013       1     1      517            515         2      830\n",
      " 5   2013       1     1      517            515         2      830\n",
      " 6   2013       1     1      517            515         2      830\n",
      " 7   2013       1     1      517            515         2      830\n",
      " 8   2013       1     1      517            515         2      830\n",
      " 9   2013       1     1      517            515         2      830\n",
      "10   2013       1     1      517            515         2      830\n",
      "# … with 36,334 more rows, and 25 more variables: sched_arr_time <int>,\n",
      "#   arr_delay <dbl>, carrier <chr>, flight <int>, tailnum <chr>, origin <chr>,\n",
      "#   dest <chr>, air_time <dbl>, distance <dbl>, hour <dbl>, minute <dbl>,\n",
      "#   time_hour.x <dttm>, year.y <dbl>, month.y <dbl>, day.y <int>, temp <dbl>,\n",
      "#   dewp <dbl>, humid <dbl>, wind_dir <dbl>, wind_speed <dbl>, wind_gust <dbl>,\n",
      "#   precip <dbl>, pressure <dbl>, visib <dbl>, time_hour.y <dttm>\n"
     ]
    }
   ],
   "source": [
    "flights %>% slice(1:100) %>% left_join(weather, by=c(\"origin\", \"hour\")) %>% print"
   ]
  },
  {
   "cell_type": "markdown",
   "metadata": {
    "slideshow": {
     "slide_type": "slide"
    }
   },
   "source": [
    "### Defining the key columns\n",
    "When we do a join using `left_join()`, R take as the key whatever column names the two tables have in common:"
   ]
  },
  {
   "cell_type": "code",
   "execution_count": 86,
   "metadata": {},
   "outputs": [
    {
     "name": "stderr",
     "output_type": "stream",
     "text": [
      "Joining, by = c(\"year\", \"tailnum\")\n"
     ]
    },
    {
     "name": "stdout",
     "output_type": "stream",
     "text": [
      "# A tibble: 336,776 x 26\n",
      "    year month   day dep_time sched_dep_time dep_delay arr_time sched_arr_time\n",
      "   <int> <int> <int>    <int>          <int>     <dbl>    <int>          <int>\n",
      " 1  2013     1     1      517            515         2      830            819\n",
      " 2  2013     1     1      533            529         4      850            830\n",
      " 3  2013     1     1      542            540         2      923            850\n",
      " 4  2013     1     1      544            545        -1     1004           1022\n",
      " 5  2013     1     1      554            600        -6      812            837\n",
      " 6  2013     1     1      554            558        -4      740            728\n",
      " 7  2013     1     1      555            600        -5      913            854\n",
      " 8  2013     1     1      557            600        -3      709            723\n",
      " 9  2013     1     1      557            600        -3      838            846\n",
      "10  2013     1     1      558            600        -2      753            745\n",
      "# … with 336,766 more rows, and 18 more variables: arr_delay <dbl>,\n",
      "#   carrier <chr>, flight <int>, tailnum <chr>, origin <chr>, dest <chr>,\n",
      "#   air_time <dbl>, distance <dbl>, hour <dbl>, minute <dbl>, time_hour <dttm>,\n",
      "#   type <chr>, manufacturer <chr>, model <chr>, engines <int>, seats <int>,\n",
      "#   speed <int>, engine <chr>\n"
     ]
    }
   ],
   "source": [
    "left_join(flights, planes) %>% print\n",
    "   # select(year, month, day, origin, type, tailnum, manufacturer) %>% \n",
    "   # print"
   ]
  },
  {
   "cell_type": "markdown",
   "metadata": {
    "slideshow": {
     "slide_type": "notes"
    }
   },
   "source": [
    "This is called a *natural join*. If the key column(s) are named differently in the two tables, we must specify the mapping between the two using the `key=` parameter."
   ]
  },
  {
   "cell_type": "markdown",
   "metadata": {
    "slideshow": {
     "slide_type": "slide"
    }
   },
   "source": [
    "Consider joining `airports` to `flights`:\n",
    "```\n",
    "> left_join(flights, airports)\n",
    "Error: `by` required, because the data sources have no common variables\n",
    "Traceback:\n",
    "\n",
    "1. left_join(flights, airports)\n",
    "2. left_join.tbl_df(flights, airports)\n",
    "3. common_by(by, x, y)\n",
    "4. common_by.NULL(by, x, y)\n",
    "5. bad_args(\"by\", \"required, because the data sources have no common variables\")\n",
    "6. glubort(fmt_args(args), ..., .envir = .envir)\n",
    "7. .abort(text)\n",
    "```"
   ]
  },
  {
   "cell_type": "markdown",
   "metadata": {
    "slideshow": {
     "slide_type": "notes"
    }
   },
   "source": [
    "This has produced an error, because airports and flights do not have any columns in common. Indeed, the three digit FAA code is called `faa` in `airports`, but appears as either `origin` or `dest` in `flights`. To fix the error, we must specify which of `origin` or `dest` should be matched:"
   ]
  },
  {
   "cell_type": "code",
   "execution_count": 95,
   "metadata": {
    "slideshow": {
     "slide_type": "slide"
    }
   },
   "outputs": [],
   "source": [
    "# flights_loc <- left_join(flights, airports, by = c(\"origin\" = \"faa\")) %>% \n",
    "#    left_join(airports, by = c(\"dest\" = \"faa\"))"
   ]
  },
  {
   "cell_type": "code",
   "execution_count": 105,
   "metadata": {},
   "outputs": [
    {
     "name": "stderr",
     "output_type": "stream",
     "text": [
      "Warning message:\n",
      "“Removed 7 rows containing missing values (geom_segment).”"
     ]
    },
    {
     "data": {
      "image/png": "[encoded data removed]"
     },
     "metadata": {},
     "output_type": "display_data"
    }
   ],
   "source": []
  }
 ],
 "metadata": {
  "celltoolbar": "Slideshow",
  "kernelspec": {
   "display_name": "R",
   "language": "R",
   "name": "ir"
  },
  "language_info": {
   "codemirror_mode": "r",
   "file_extension": ".r",
   "mimetype": "text/x-r-source",
   "name": "R",
   "pygments_lexer": "r",
   "version": "3.5.2"
  }
 },
 "nbformat": 4,
 "nbformat_minor": 2
}
