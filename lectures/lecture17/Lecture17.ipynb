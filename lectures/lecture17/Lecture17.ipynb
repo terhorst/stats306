{
 "cells": [
  {
   "cell_type": "code",
   "execution_count": 1,
   "metadata": {
    "slideshow": {
     "slide_type": "notes"
    }
   },
   "outputs": [
    {
     "name": "stderr",
     "output_type": "stream",
     "text": [
      "── Attaching packages ─────────────────────────────────────── tidyverse 1.2.1 ──\n",
      "✔ ggplot2 2.2.1     ✔ purrr   0.2.4\n",
      "✔ tibble  1.4.2     ✔ dplyr   0.7.4\n",
      "✔ tidyr   0.8.0     ✔ stringr 1.3.0\n",
      "✔ readr   1.1.1     ✔ forcats 0.3.0\n",
      "── Conflicts ────────────────────────────────────────── tidyverse_conflicts() ──\n",
      "✖ dplyr::filter()  masks stats::filter()\n",
      "✖ purrr::flatten() masks jsonlite::flatten()\n",
      "✖ dplyr::lag()     masks stats::lag()\n"
     ]
    }
   ],
   "source": [
    "library(tidyverse)\n",
    "library(nycflights13)"
   ]
  },
  {
   "cell_type": "markdown",
   "metadata": {
    "slideshow": {
     "slide_type": "slide"
    }
   },
   "source": [
    "# Lecture 17: Vectors, lists, iteration & FP\n",
    "In this lecture we'll learn about:\n",
    "- [Atomic vectors](#Atomic-vectors), or what we have been calling vectors up to this point.\n",
    "- [Lists](#Lists), a.k.a. recursive vectors.\n",
    "- [Iteration](#Iteration): `for`/`while` loops.\n",
    "- [Functional programming](#Functional-programming) (FP): functions that operate on other functions."
   ]
  },
  {
   "cell_type": "markdown",
   "metadata": {
    "slideshow": {
     "slide_type": "slide"
    }
   },
   "source": [
    "## Atomic vectors\n",
    "Vectors are sequences of data elements in R. So far we have exclusively studied *atomic* vectors, which are sequences of elements that all have the same type. The two most important properties of a vector are its *type* and its *length*:"
   ]
  },
  {
   "cell_type": "code",
   "execution_count": 2,
   "metadata": {},
   "outputs": [
    {
     "data": {
      "text/plain": [
       "[1] 1 2 3"
      ]
     },
     "metadata": {},
     "output_type": "display_data"
    },
    {
     "data": {
      "text/plain": [
       "[1] \"integer\""
      ]
     },
     "metadata": {},
     "output_type": "display_data"
    },
    {
     "data": {
      "text/plain": [
       "[1] 3"
      ]
     },
     "metadata": {},
     "output_type": "display_data"
    }
   ],
   "source": [
    "(x = 1:3)  # atomic vector of integers\n",
    "typeof(x)\n",
    "length(x)"
   ]
  },
  {
   "cell_type": "code",
   "execution_count": 3,
   "metadata": {},
   "outputs": [
    {
     "data": {
      "text/plain": [
       "[1] \"a\" \"b\" \"c\""
      ]
     },
     "metadata": {},
     "output_type": "display_data"
    },
    {
     "data": {
      "text/plain": [
       "[1] \"character\""
      ]
     },
     "metadata": {},
     "output_type": "display_data"
    },
    {
     "data": {
      "text/plain": [
       "[1] 3"
      ]
     },
     "metadata": {},
     "output_type": "display_data"
    }
   ],
   "source": [
    "(x = c('a', 'b', 'c'))  # atomic vector of characters\n",
    "typeof(x)\n",
    "length(x)"
   ]
  },
  {
   "cell_type": "markdown",
   "metadata": {
    "slideshow": {
     "slide_type": "slide"
    }
   },
   "source": [
    "A single data element is called a *scalar.* An important thing to realize is that, to R, there is no distinction between scalars and vectors -- a scalar is simply an atomic vector of length one."
   ]
  },
  {
   "cell_type": "code",
   "execution_count": 4,
   "metadata": {},
   "outputs": [
    {
     "data": {
      "text/plain": [
       "[1] 1"
      ]
     },
     "metadata": {},
     "output_type": "display_data"
    },
    {
     "data": {
      "text/plain": [
       "[1] 1"
      ]
     },
     "metadata": {},
     "output_type": "display_data"
    }
   ],
   "source": [
    "1     # scalar\n",
    "c(1)  # vector"
   ]
  },
  {
   "cell_type": "markdown",
   "metadata": {
    "slideshow": {
     "slide_type": "slide"
    }
   },
   "source": [
    "### Types of atomic vectors\n",
    "The most important types of atomic vector are logical, numeric, and character."
   ]
  },
  {
   "cell_type": "markdown",
   "metadata": {
    "slideshow": {
     "slide_type": "slide"
    }
   },
   "source": [
    "Logical vectors hold the values `TRUE`, `FALSE` and `NA`."
   ]
  },
  {
   "cell_type": "code",
   "execution_count": 5,
   "metadata": {},
   "outputs": [
    {
     "data": {
      "text/plain": [
       "[1]  TRUE  TRUE FALSE    NA"
      ]
     },
     "metadata": {},
     "output_type": "display_data"
    },
    {
     "data": {
      "text/plain": [
       "[1] \"logical\""
      ]
     },
     "metadata": {},
     "output_type": "display_data"
    },
    {
     "data": {
      "text/plain": [
       "[1] \"logical\""
      ]
     },
     "metadata": {},
     "output_type": "display_data"
    }
   ],
   "source": [
    "(x = c(TRUE, TRUE, FALSE, NA))\n",
    "typeof(x)\n",
    "typeof(NA)"
   ]
  },
  {
   "cell_type": "markdown",
   "metadata": {
    "slideshow": {
     "slide_type": "slide"
    }
   },
   "source": [
    "Numeric vectors hold integers or doubles. By default, if you enter a number in R it is stored as a double:"
   ]
  },
  {
   "cell_type": "code",
   "execution_count": 1,
   "metadata": {},
   "outputs": [
    {
     "data": {
      "text/plain": [
       "[1] \"double\""
      ]
     },
     "metadata": {},
     "output_type": "display_data"
    }
   ],
   "source": [
    "typeof(1)"
   ]
  },
  {
   "cell_type": "markdown",
   "metadata": {},
   "source": [
    "If you want to explicitly store integers, attach a capital `L` to the number:"
   ]
  },
  {
   "cell_type": "code",
   "execution_count": 2,
   "metadata": {},
   "outputs": [
    {
     "data": {
      "text/plain": [
       "[1] \"integer\""
      ]
     },
     "metadata": {},
     "output_type": "display_data"
    }
   ],
   "source": [
    "typeof(1L)"
   ]
  },
  {
   "cell_type": "markdown",
   "metadata": {
    "slideshow": {
     "slide_type": "slide"
    }
   },
   "source": [
    "### Names\n",
    "\n",
    "It is possible to assign names to each entry of a vector:"
   ]
  },
  {
   "cell_type": "code",
   "execution_count": 3,
   "metadata": {},
   "outputs": [
    {
     "data": {
      "text/plain": [
       "a b c \n",
       "1 2 3 "
      ]
     },
     "metadata": {},
     "output_type": "display_data"
    },
    {
     "data": {
      "text/plain": [
       "[1] \"a\" \"b\" \"c\""
      ]
     },
     "metadata": {},
     "output_type": "display_data"
    },
    {
     "data": {
      "text/plain": [
       "a \n",
       "1 "
      ]
     },
     "metadata": {},
     "output_type": "display_data"
    }
   ],
   "source": [
    "(v = c(a=1, b=2, c=3))\n",
    "names(v)\n",
    "v[\"a\"]"
   ]
  },
  {
   "cell_type": "markdown",
   "metadata": {
    "slideshow": {
     "slide_type": "slide"
    }
   },
   "source": [
    "## Lists\n",
    "Lists are another type of sequence data type found in R. Unlike atomic vectors, lists can hold objects of multiple types:"
   ]
  },
  {
   "cell_type": "code",
   "execution_count": 1,
   "metadata": {},
   "outputs": [
    {
     "data": {
      "text/plain": [
       "[[1]]\n",
       "[1] \"a\"\n",
       "\n",
       "[[2]]\n",
       "[1] 1\n",
       "\n",
       "[[3]]\n",
       "[1] FALSE\n",
       "\n",
       "[[4]]\n",
       "[1] 3.141593\n",
       "\n",
       "[[5]]\n",
       "[[5]][[1]]\n",
       "[1] 1 2 3\n",
       "\n"
      ]
     },
     "metadata": {},
     "output_type": "display_data"
    }
   ],
   "source": [
    "# c(1, 2, 3, \"a\")\n",
    "(x = list('a', 1L, FALSE, pi, list(1:3)))"
   ]
  },
  {
   "cell_type": "markdown",
   "metadata": {
    "slideshow": {
     "slide_type": "notes"
    }
   },
   "source": [
    "As the printout suggests, you can think of a list as a \"vector of vectors\". For this reason, they are sometimes referred to as \"recursive vectors\"."
   ]
  },
  {
   "cell_type": "markdown",
   "metadata": {
    "slideshow": {
     "slide_type": "slide"
    }
   },
   "source": [
    "The `str` command will print out the **str**ucture of a vector:"
   ]
  },
  {
   "cell_type": "code",
   "execution_count": 12,
   "metadata": {},
   "outputs": [
    {
     "name": "stdout",
     "output_type": "stream",
     "text": [
      "List of 5\n",
      " $ : chr \"a\"\n",
      " $ : int 1\n",
      " $ : logi FALSE\n",
      " $ : num 3.14\n",
      " $ :List of 1\n",
      "  ..$ : int [1:3] 1 2 3\n"
     ]
    }
   ],
   "source": [
    "str(x) "
   ]
  },
  {
   "cell_type": "markdown",
   "metadata": {
    "slideshow": {
     "slide_type": "slide"
    }
   },
   "source": [
    "Just like atomic vectors, you can name each individual entry of a list:"
   ]
  },
  {
   "cell_type": "code",
   "execution_count": 13,
   "metadata": {},
   "outputs": [
    {
     "name": "stdout",
     "output_type": "stream",
     "text": [
      "List of 3\n",
      " $ a: num 1\n",
      " $ b: num 2\n",
      " $ c: num 3\n"
     ]
    },
    {
     "data": {
      "text/plain": [
       "[1] \"a\" \"b\" \"c\""
      ]
     },
     "metadata": {},
     "output_type": "display_data"
    }
   ],
   "source": [
    "x_named <- list(a = 1, b = 2, c = 3)\n",
    "str(x_named)\n",
    "names(x_named)"
   ]
  },
  {
   "cell_type": "markdown",
   "metadata": {
    "slideshow": {
     "slide_type": "slide"
    }
   },
   "source": [
    "### Sub-setting lists\n",
    "Subsetting lists is a little more complex than subsetting atomic vectors. We will use the following example list:"
   ]
  },
  {
   "cell_type": "code",
   "execution_count": 4,
   "metadata": {},
   "outputs": [
    {
     "name": "stdout",
     "output_type": "stream",
     "text": [
      "List of 4\n",
      " $ a: int [1:3] 1 2 3\n",
      " $ b: chr \"a string\"\n",
      " $ c: num 3.14\n",
      " $ d:List of 2\n",
      "  ..$ : num -1\n",
      "  ..$ : num -5\n"
     ]
    }
   ],
   "source": [
    "str(a <- list(a = 1:3, b = \"a string\", c = pi, d = list(-1, -5)))"
   ]
  },
  {
   "cell_type": "markdown",
   "metadata": {
    "slideshow": {
     "slide_type": "slide"
    }
   },
   "source": [
    "#### `[]`\n",
    "The `[]` operator extracts a sub-list. That is, the return type will always be a list:"
   ]
  },
  {
   "cell_type": "code",
   "execution_count": 6,
   "metadata": {},
   "outputs": [
    {
     "name": "stdout",
     "output_type": "stream",
     "text": [
      "List of 5\n",
      " $ : chr \"a\"\n",
      " $ : int 1\n",
      " $ : logi FALSE\n",
      " $ : num 3.14\n",
      " $ :List of 1\n",
      "  ..$ : int [1:3] 1 2 3\n",
      "List of 1\n",
      " $ : chr \"a\"\n",
      " chr \"a\"\n"
     ]
    }
   ],
   "source": [
    "str(x)\n",
    "str(x[1])\n",
    "str(x[[1]])"
   ]
  },
  {
   "cell_type": "markdown",
   "metadata": {
    "slideshow": {
     "slide_type": "slide"
    }
   },
   "source": [
    "As with atomic vectors, the single brackets accept integer, logical and character vectors:"
   ]
  },
  {
   "cell_type": "code",
   "execution_count": 16,
   "metadata": {},
   "outputs": [
    {
     "name": "stdout",
     "output_type": "stream",
     "text": [
      "List of 3\n",
      " $ a: int [1:3] 1 2 3\n",
      " $ c: num 3.14\n",
      " $ d:List of 2\n",
      "  ..$ : num -1\n",
      "  ..$ : num -5\n"
     ]
    }
   ],
   "source": [
    "# str(a[c(1,2,4)])\n",
    "# str(a[c('a', 'd')])\n",
    "str(a[c(TRUE, FALSE, TRUE)])  # what happened here?"
   ]
  },
  {
   "cell_type": "markdown",
   "metadata": {
    "slideshow": {
     "slide_type": "slide"
    }
   },
   "source": [
    "#### `[[]]`\n",
    "The double-brackets will extract a single component from the list:"
   ]
  },
  {
   "cell_type": "code",
   "execution_count": 17,
   "metadata": {},
   "outputs": [
    {
     "name": "stdout",
     "output_type": "stream",
     "text": [
      "List of 4\n",
      " $ a: int [1:3] 1 2 3\n",
      " $ b: chr \"a string\"\n",
      " $ c: num 3.14\n",
      " $ d:List of 2\n",
      "  ..$ : num -1\n",
      "  ..$ : num -5\n"
     ]
    },
    {
     "data": {
      "text/plain": [
       "[[1]]\n",
       "[1] -1\n",
       "\n",
       "[[2]]\n",
       "[1] -5\n"
      ]
     },
     "metadata": {},
     "output_type": "display_data"
    }
   ],
   "source": [
    "str(a)\n",
    "a[[\"d\"]]"
   ]
  },
  {
   "cell_type": "markdown",
   "metadata": {
    "slideshow": {
     "slide_type": "slide"
    }
   },
   "source": [
    "You can also pass an integer vector to `[[]]`. This will index into successive levels of the list:"
   ]
  },
  {
   "cell_type": "code",
   "execution_count": 5,
   "metadata": {
    "slideshow": {
     "slide_type": "-"
    }
   },
   "outputs": [
    {
     "name": "stdout",
     "output_type": "stream",
     "text": [
      "List of 4\n",
      " $ a: int [1:3] 1 2 3\n",
      " $ b: chr \"a string\"\n",
      " $ c: num 3.14\n",
      " $ d:List of 2\n",
      "  ..$ : num -1\n",
      "  ..$ : num -5\n"
     ]
    },
    {
     "data": {
      "text/plain": [
       "[1] -5"
      ]
     },
     "metadata": {},
     "output_type": "display_data"
    }
   ],
   "source": [
    "# str(a)\n",
    "# a[[4]]\n",
    "str(a)\n",
    "a[[c(4,2)]]  "
   ]
  },
  {
   "cell_type": "markdown",
   "metadata": {
    "slideshow": {
     "slide_type": "slide"
    }
   },
   "source": [
    "### Data frames are lists\n",
    "Many data types in R are actually lists plus some additional attributes. For example, tibbles and data frames are both lists:"
   ]
  },
  {
   "cell_type": "code",
   "execution_count": 10,
   "metadata": {},
   "outputs": [
    {
     "name": "stdout",
     "output_type": "stream",
     "text": [
      "Classes ‘tbl_df’, ‘tbl’ and 'data.frame':\t234 obs. of  11 variables:\n",
      " $ manufacturer: chr  \"audi\" \"audi\" \"audi\" \"audi\" ...\n",
      " $ model       : chr  \"a4\" \"a4\" \"a4\" \"a4\" ...\n",
      " $ displ       : num  1.8 1.8 2 2 2.8 2.8 3.1 1.8 1.8 2 ...\n",
      " $ year        : int  1999 1999 2008 2008 1999 1999 2008 1999 1999 2008 ...\n",
      " $ cyl         : int  4 4 4 4 6 6 6 4 4 4 ...\n",
      " $ trans       : chr  \"auto(l5)\" \"manual(m5)\" \"manual(m6)\" \"auto(av)\" ...\n",
      " $ drv         : chr  \"f\" \"f\" \"f\" \"f\" ...\n",
      " $ cty         : int  18 21 20 21 16 18 18 18 16 20 ...\n",
      " $ hwy         : int  29 29 31 30 26 26 27 26 25 28 ...\n",
      " $ fl          : chr  \"p\" \"p\" \"p\" \"p\" ...\n",
      " $ class       : chr  \"compact\" \"compact\" \"compact\" \"compact\" ...\n"
     ]
    }
   ],
   "source": [
    "str(mpg)"
   ]
  },
  {
   "cell_type": "markdown",
   "metadata": {
    "slideshow": {
     "slide_type": "slide"
    }
   },
   "source": [
    "The `names()` of a tibble/data frame correspond to columns. This means we can use the list indexing methods shown above to access columns:"
   ]
  },
  {
   "cell_type": "code",
   "execution_count": 11,
   "metadata": {},
   "outputs": [
    {
     "data": {
      "text/plain": [
       " [1] \"manufacturer\" \"model\"        \"displ\"        \"year\"         \"cyl\"         \n",
       " [6] \"trans\"        \"drv\"          \"cty\"          \"hwy\"          \"fl\"          \n",
       "[11] \"class\"       "
      ]
     },
     "metadata": {},
     "output_type": "display_data"
    }
   ],
   "source": [
    "names(mpg)"
   ]
  },
  {
   "cell_type": "markdown",
   "metadata": {
    "slideshow": {
     "slide_type": "slide"
    }
   },
   "source": [
    "Note that the *class* of a tibble is different from the *type*:"
   ]
  },
  {
   "cell_type": "code",
   "execution_count": 21,
   "metadata": {},
   "outputs": [
    {
     "data": {
      "text/plain": [
       "$names\n",
       "character(0)\n",
       "\n",
       "$row.names\n",
       "integer(0)\n",
       "\n",
       "$class\n",
       "[1] \"tbl_df\"     \"tbl\"        \"data.frame\"\n"
      ]
     },
     "metadata": {},
     "output_type": "display_data"
    }
   ],
   "source": [
    "# class(tibble())\n",
    "attributes(tibble())"
   ]
  },
  {
   "cell_type": "markdown",
   "metadata": {
    "slideshow": {
     "slide_type": "slide"
    }
   },
   "source": [
    "### Classes vs. types\n",
    "Classes and types are not the same. Class is an attribute that R checks in order to know how to call certain functions (e.g. `print`) when presented with an object. Changing the class will change the way that R handles the object:"
   ]
  },
  {
   "cell_type": "code",
   "execution_count": 22,
   "metadata": {
    "slideshow": {
     "slide_type": "-"
    }
   },
   "outputs": [
    {
     "name": "stdout",
     "output_type": "stream",
     "text": [
      "function (x, df1, df2, ncp, log = FALSE) \n",
      "{\n",
      "    if (missing(ncp)) \n",
      "        .Call(C_df, x, df1, df2, log)\n",
      "    else .Call(C_dnf, x, df1, df2, ncp, log)\n",
      "}\n",
      "<bytecode: 0x7fdd72b64d78>\n",
      "<environment: namespace:stats>\n"
     ]
    },
    {
     "data": {
      "text/plain": [
       "NULL"
      ]
     },
     "metadata": {},
     "output_type": "display_data"
    }
   ],
   "source": [
    "df %>% print\n",
    "attributes(df)"
   ]
  },
  {
   "cell_type": "code",
   "execution_count": 23,
   "metadata": {
    "slideshow": {
     "slide_type": "slide"
    }
   },
   "outputs": [
    {
     "name": "stdout",
     "output_type": "stream",
     "text": [
      "function (x, df1, df2, ncp, log = FALSE) \n",
      "{\n",
      "    if (missing(ncp)) \n",
      "        .Call(C_df, x, df1, df2, log)\n",
      "    else .Call(C_dnf, x, df1, df2, ncp, log)\n",
      "}\n",
      "<bytecode: 0x7fdd72b64d78>\n",
      "<environment: namespace:stats>\n"
     ]
    }
   ],
   "source": [
    "# attr(df, \"class\") = NULL\n",
    "# attributes(df)\n",
    "print(df)"
   ]
  },
  {
   "cell_type": "markdown",
   "metadata": {
    "slideshow": {
     "slide_type": "slide"
    }
   },
   "source": [
    "## Iteration\n",
    "Iteration means, roughly, \"running the same piece of code repeatedly\". There are many ways to perform iteration in R. The one you have probably heard of is the *for loop*:\n",
    "```{r}\n",
    "for (<index> in <vector>) {\n",
    "    [do something for each value of <index>]\n",
    "}\n",
    "```"
   ]
  },
  {
   "cell_type": "markdown",
   "metadata": {
    "slideshow": {
     "slide_type": "slide"
    }
   },
   "source": [
    "For example, suppose we wanted to compute the median for each column of the following tibble:"
   ]
  },
  {
   "cell_type": "code",
   "execution_count": 13,
   "metadata": {},
   "outputs": [
    {
     "data": {
      "text/plain": [
       "   a          b           c           d          \n",
       "1  -0.6264538  1.51178117  0.91897737  1.35867955\n",
       "2   0.1836433  0.38984324  0.78213630 -0.10278773\n",
       "3  -0.8356286 -0.62124058  0.07456498  0.38767161\n",
       "4   1.5952808 -2.21469989 -1.98935170 -0.05380504\n",
       "5   0.3295078  1.12493092  0.61982575 -1.37705956\n",
       "6  -0.8204684 -0.04493361 -0.05612874 -0.41499456\n",
       "7   0.4874291 -0.01619026 -0.15579551 -0.39428995\n",
       "8   0.7383247  0.94383621 -1.47075238 -0.05931340\n",
       "9   0.5757814  0.82122120 -0.47815006  1.10002537\n",
       "10 -0.3053884  0.59390132  0.41794156  0.76317575"
      ]
     },
     "metadata": {},
     "output_type": "display_data"
    }
   ],
   "source": [
    "set.seed(1)\n",
    "df = tibble(\n",
    "  a = rnorm(10),\n",
    "  b = rnorm(10),\n",
    "  c = rnorm(10),\n",
    "  d = rnorm(10)\n",
    ")\n",
    "df"
   ]
  },
  {
   "cell_type": "markdown",
   "metadata": {
    "slideshow": {
     "slide_type": "slide"
    }
   },
   "source": [
    "One option is to repeatedly write out the call `median` for each column:"
   ]
  },
  {
   "cell_type": "code",
   "execution_count": 16,
   "metadata": {},
   "outputs": [
    {
     "data": {
      "text/plain": [
       "[1] 0.2565755"
      ]
     },
     "metadata": {},
     "output_type": "display_data"
    },
    {
     "data": {
      "text/plain": [
       "[1] 0.4918723"
      ]
     },
     "metadata": {},
     "output_type": "display_data"
    },
    {
     "data": {
      "text/plain": [
       "[1] 0.009218122"
      ]
     },
     "metadata": {},
     "output_type": "display_data"
    },
    {
     "data": {
      "text/plain": [
       "[1] -0.05655922"
      ]
     },
     "metadata": {},
     "output_type": "display_data"
    }
   ],
   "source": [
    "median(df$a)\n",
    "median(df$b)\n",
    "median(df$c)\n",
    "median(df$d)"
   ]
  },
  {
   "cell_type": "markdown",
   "metadata": {
    "slideshow": {
     "slide_type": "slide"
    }
   },
   "source": [
    "But this involves too much repetition, and we argued last lecture that repetition is generally a bad idea when coding. Instead, we can use a for loop to \"loop over\" each column of `df` and grab the median:"
   ]
  },
  {
   "cell_type": "code",
   "execution_count": 17,
   "metadata": {},
   "outputs": [
    {
     "data": {
      "text/plain": [
       "[1]  0.256575548  0.491872279  0.009218122 -0.056559219"
      ]
     },
     "metadata": {},
     "output_type": "display_data"
    }
   ],
   "source": [
    "output = vector(\"double\", 4)\n",
    "i = 1\n",
    "for (column in df) {  # iterate over the column vectors in mpg\n",
    "    output[[i]] = median(column)\n",
    "    i = i + 1\n",
    "}\n",
    "output"
   ]
  },
  {
   "cell_type": "markdown",
   "metadata": {
    "slideshow": {
     "slide_type": "notes"
    }
   },
   "source": [
    "Again, this works because data frames are *lists*, and each element of the list is one column:"
   ]
  },
  {
   "cell_type": "code",
   "execution_count": 22,
   "metadata": {
    "slideshow": {
     "slide_type": "notes"
    }
   },
   "outputs": [
    {
     "name": "stdout",
     "output_type": "stream",
     "text": [
      "Classes ‘tbl_df’, ‘tbl’ and 'data.frame':\t10 obs. of  4 variables:\n",
      " $ a: num  -0.626 0.184 -0.836 1.595 0.33 ...\n",
      " $ b: num  1.512 0.39 -0.621 -2.215 1.125 ...\n",
      " $ c: num  0.919 0.7821 0.0746 -1.9894 0.6198 ...\n",
      " $ d: num  1.3587 -0.1028 0.3877 -0.0538 -1.3771 ...\n"
     ]
    }
   ],
   "source": [
    "str(df)"
   ]
  },
  {
   "cell_type": "markdown",
   "metadata": {
    "slideshow": {
     "slide_type": "notes"
    }
   },
   "source": [
    "The for loop should have three components:\n",
    "1. The *output*, in this case a vector with one entry per column of `df`.\n",
    "2. The *sequence* of values along which we will iterate. Here we are using `seq_along(df)`, which generates a sequence of numbers from one up to `ncol(df)`. (This relies on the fact that a `data.frame` is really a list with one entry per column of data.)\n",
    "3. The *body*, which is the piece of code that gets executed in each iteration of the loop. In the example above, the body first runs `output[[1]] = median(df[[1]])`, then `output[[2]] = median(df[[2]])`, etc., on up to `i=4`."
   ]
  },
  {
   "cell_type": "markdown",
   "metadata": {
    "slideshow": {
     "slide_type": "slide"
    }
   },
   "source": [
    "### Unknown output length\n",
    "In each of the examples above we \"pre-allocated\" the `output` vector before running the `for` loop. Sometimes you may not know in advance how much output will be generated. For example, the following code draws three random numbers between 0 and 100, and for each number appends that many randomly normal entries to `output`:"
   ]
  },
  {
   "cell_type": "code",
   "execution_count": 21,
   "metadata": {
    "slideshow": {
     "slide_type": "slide"
    }
   },
   "outputs": [
    {
     "name": "stdout",
     "output_type": "stream",
     "text": [
      " num(0) \n"
     ]
    },
    {
     "data": {
      "text/plain": [
       "[1]  0.256575548  0.491872279  0.009218122 -0.056559219"
      ]
     },
     "metadata": {},
     "output_type": "display_data"
    }
   ],
   "source": [
    "output = double()\n",
    "str(output)\n",
    "\n",
    "for (column in df) {\n",
    "  output = c(output, median(column))\n",
    "}\n",
    "\n",
    "output"
   ]
  },
  {
   "cell_type": "markdown",
   "metadata": {
    "slideshow": {
     "slide_type": "notes"
    }
   },
   "source": [
    "This code works perfectly well, but it turns out to be inefficient. The reason is that each time we append to `output` via the command `output = c(output, rnorm(n, means[[i]]))`, R ends up having to copy all of the data from the previous iterations. \n",
    "\n",
    "A more efficient option is to store the results of each iteration in a list, and then concatenate all the entries of the list together after the for loop terminates:"
   ]
  },
  {
   "cell_type": "code",
   "execution_count": 24,
   "metadata": {
    "slideshow": {
     "slide_type": "slide"
    }
   },
   "outputs": [
    {
     "name": "stdout",
     "output_type": "stream",
     "text": [
      "List of 3\n",
      " $ : num [1:96] 0.886 -0.619 2.206 -0.255 -1.424 ...\n",
      " $ : num [1:34] 1.353 1.55 -0.134 2.462 1.702 ...\n",
      " $ : num [1:53] 3.78 2.13 2.77 2.96 1.95 ...\n"
     ]
    }
   ],
   "source": [
    "means = c(0, 1, 2)\n",
    "out = vector(\"list\", length(means))\n",
    "# str(out)\n",
    "for (i in seq_along(means)) {\n",
    "  n = sample(100, 1)\n",
    "  out[[i]] <- rnorm(n, means[[i]])\n",
    "}\n",
    "str(out)"
   ]
  },
  {
   "cell_type": "code",
   "execution_count": 25,
   "metadata": {},
   "outputs": [
    {
     "name": "stdout",
     "output_type": "stream",
     "text": [
      " num [1:183] 0.886 -0.619 2.206 -0.255 -1.424 ...\n"
     ]
    }
   ],
   "source": [
    "str(unlist(out))"
   ]
  },
  {
   "cell_type": "markdown",
   "metadata": {
    "slideshow": {
     "slide_type": "notes"
    }
   },
   "source": [
    "To convince you that this is actually more efficient, we will run a *benchmark* of the two methods. I will wrap the two approaches in functions called `f1` and `f2`, and then use the `microbenchmark` library to test which one runs faster."
   ]
  },
  {
   "cell_type": "code",
   "execution_count": 24,
   "metadata": {
    "slideshow": {
     "slide_type": "slide"
    }
   },
   "outputs": [],
   "source": [
    "f1 = function(n) { \n",
    "    means = 1:n\n",
    "    output = double()\n",
    "    for (i in seq_along(means)) {\n",
    "        n = sample(100, 1)\n",
    "        output = c(output, rnorm(n, means[[i]]))\n",
    "    }\n",
    "    output \n",
    "}\n",
    "\n",
    "f2 = function(n) { \n",
    "    means = 1:n\n",
    "    out = vector(\"list\", length(means))\n",
    "    for (i in seq_along(means)) {\n",
    "        n = sample(100, 1)\n",
    "        out[[i]] <- rnorm(n, means[[i]])\n",
    "    }\n",
    "    unlist(out)\n",
    "}"
   ]
  },
  {
   "cell_type": "code",
   "execution_count": 25,
   "metadata": {
    "slideshow": {
     "slide_type": "slide"
    }
   },
   "outputs": [
    {
     "name": "stdout",
     "output_type": "stream",
     "text": [
      "Unit: milliseconds\n",
      "     expr       min        lq      mean    median        uq       max neval\n",
      " f1(1000) 195.83217 209.59086 217.06143 214.90491 220.71452 286.14273   100\n",
      " f2(1000)  12.34576  13.44235  15.18829  14.06635  16.11333  26.77189   100\n"
     ]
    }
   ],
   "source": [
    "microbenchmark(\n",
    "    f1(1000),\n",
    "    f2(1000)\n",
    ") %>% print"
   ]
  },
  {
   "cell_type": "markdown",
   "metadata": {
    "slideshow": {
     "slide_type": "slide"
    }
   },
   "source": [
    "## Down with `for` loops\n",
    "We don't use for loops that often in R because of vectorization. For example, \n",
    "```{r}\n",
    "output <- 0\n",
    "v <- 1:100\n",
    "for (i in v) {\n",
    "    output <- output + i\n",
    "}\n",
    "```\n",
    "is exactly equivalent to\n",
    "```{r}\n",
    "output = sum(1:100).\n",
    "```\n",
    "The latter is both faster and more concise."
   ]
  },
  {
   "cell_type": "markdown",
   "metadata": {
    "slideshow": {
     "slide_type": "slide"
    }
   },
   "source": [
    "### Exercise\n",
    "Eliminate the for loops in each of the following commands by using functions that work with vectors."
   ]
  },
  {
   "cell_type": "markdown",
   "metadata": {
    "slideshow": {
     "slide_type": "slide"
    }
   },
   "source": [
    "#### Function 1\n",
    "```{r}\n",
    "# Function 1\n",
    "out <- \"\"\n",
    "for (x in letters) {\n",
    "  out <- stringr::str_c(out, x)\n",
    "}\n",
    "```"
   ]
  },
  {
   "cell_type": "code",
   "execution_count": 34,
   "metadata": {
    "slideshow": {
     "slide_type": "slide"
    }
   },
   "outputs": [
    {
     "data": {
      "text/plain": [
       "[1] \"hello\""
      ]
     },
     "metadata": {},
     "output_type": "display_data"
    }
   ],
   "source": [
    "letters = c(\"h\", \"e\", \"l\", \"l\", \"o\")\n",
    "out <- \"\"\n",
    "for (x in letters) {\n",
    "  out <- stringr::str_c(out, x)\n",
    "}\n",
    "\n",
    "str_c(letters, collapse=\"\")"
   ]
  },
  {
   "cell_type": "markdown",
   "metadata": {
    "slideshow": {
     "slide_type": "slide"
    }
   },
   "source": [
    "#### Function 2\n",
    "```{r}\n",
    "x <- sample(100)\n",
    "sd <- 0\n",
    "for (i in seq_along(x)) {\n",
    "  sd <- sd + (x[i] - mean(x)) ^ 2\n",
    "}\n",
    "sd <- sqrt(sd / (length(x) - 1))\n",
    "```"
   ]
  },
  {
   "cell_type": "code",
   "execution_count": 74,
   "metadata": {
    "slideshow": {
     "slide_type": "slide"
    }
   },
   "outputs": [
    {
     "data": {
      "text/plain": [
       "[1] 29.01149"
      ]
     },
     "metadata": {},
     "output_type": "display_data"
    }
   ],
   "source": [
    "x <- sample(100)"
   ]
  },
  {
   "cell_type": "markdown",
   "metadata": {
    "slideshow": {
     "slide_type": "slide"
    }
   },
   "source": [
    "#### Function 3\n",
    "```{r}\n",
    "x <- runif(100)\n",
    "out <- vector(\"numeric\", length(x))\n",
    "out[1] <- x[1]\n",
    "for (i in 2:length(x)) {\n",
    "  out[i] <- out[i - 1] + x[i]\n",
    "}\n",
    "```"
   ]
  },
  {
   "cell_type": "code",
   "execution_count": 82,
   "metadata": {
    "slideshow": {
     "slide_type": "slide"
    }
   },
   "outputs": [
    {
     "data": {
      "text/plain": [
       "[1]  1  3  6 10 15"
      ]
     },
     "metadata": {},
     "output_type": "display_data"
    }
   ],
   "source": [
    "x <- 1:5\n",
    "out <- vector(\"numeric\", length(x))\n",
    "out[1] <- x[1]\n",
    "for (i in 2:length(x)) {\n",
    "  out[i] <- out[i - 1] + x[i]\n",
    "}\n",
    "out"
   ]
  },
  {
   "cell_type": "markdown",
   "metadata": {
    "slideshow": {
     "slide_type": "slide"
    }
   },
   "source": [
    "### While loops\n",
    "In some cases you don't even know how long is the sequence over which you are iterating. Here it is not possible to use a `for` loop; instead you must use a `while` loop:\n",
    "```{r}\n",
    "while (<condition>) {\n",
    "    <body>\n",
    "}\n",
    "```\n",
    "The `while` loop will continue running until `<condition>` returns `FALSE`."
   ]
  },
  {
   "cell_type": "markdown",
   "metadata": {
    "slideshow": {
     "slide_type": "slide"
    }
   },
   "source": [
    "Here's an example of how we would use a `while` loop. The following command counts the number of heads and tails encountered in tosses of a fair coin until the third head is encountered:"
   ]
  },
  {
   "cell_type": "code",
   "execution_count": 83,
   "metadata": {},
   "outputs": [
    {
     "name": "stdout",
     "output_type": "stream",
     "text": [
      "[1] 0\n",
      "[1] 1\n",
      "[1] 2\n",
      "[1] 3\n",
      "[1] 4\n"
     ]
    }
   ],
   "source": [
    "n_head = 0\n",
    "n_tail = 0\n",
    "while (n_head < 3) {\n",
    "    if (runif(1) < .5) {\n",
    "        n_head = n_head + 1\n",
    "    }\n",
    "    else {\n",
    "        n_tail = n_tail + 1\n",
    "    }\n",
    "}\n",
    "n_head + n_tail"
   ]
  },
  {
   "cell_type": "markdown",
   "metadata": {
    "slideshow": {
     "slide_type": "notes"
    }
   },
   "source": [
    "(Bonus question: what is the distribution of `n_head + n_tail`?)\n",
    "\n",
    "`while` loops are used mainly in random simulations. They don't come up a lot in data analysis. Still, it's useful to know about them."
   ]
  },
  {
   "cell_type": "markdown",
   "metadata": {
    "slideshow": {
     "slide_type": "slide"
    }
   },
   "source": [
    "## Functional programming\n",
    "R is a *functional programming language*, which means, loosely, that functions are treated just like any other data. In particular, they can be passed to other functions. As we will see, this means that most `for` loop type iterations can be replaced by cleaner, functional constructs."
   ]
  },
  {
   "cell_type": "markdown",
   "metadata": {
    "slideshow": {
     "slide_type": "slide"
    }
   },
   "source": [
    "### Example\n",
    "In the following series of examples, we'll see how the need to write extensible code naturally leads to ideas from functional programming (FP). Above we've seen several examples of functions that apply the `mean` or `median` function to each column of a tibble:"
   ]
  },
  {
   "cell_type": "code",
   "execution_count": 89,
   "metadata": {
    "slideshow": {
     "slide_type": "slide"
    }
   },
   "outputs": [
    {
     "data": {
      "text/plain": [
       "          a           b           c           d \n",
       " 0.29844653 -0.16719745 -0.22495208  0.06152709 "
      ]
     },
     "metadata": {},
     "output_type": "display_data"
    }
   ],
   "source": [
    "df = tibble(\n",
    "  a = rnorm(10),\n",
    "  b = rnorm(10),\n",
    "  c = rnorm(10),\n",
    "  d = rnorm(10)\n",
    ")\n",
    "\n",
    "map_dbl(df, median)"
   ]
  },
  {
   "cell_type": "markdown",
   "metadata": {
    "slideshow": {
     "slide_type": "slide"
    }
   },
   "source": [
    "As we have already used this code (or a close variant) on several occasions, it makes sense to extract it out to a function:"
   ]
  },
  {
   "cell_type": "code",
   "execution_count": 107,
   "metadata": {},
   "outputs": [
    {
     "data": {
      "text/plain": [
       "[1] -1.0133680 -0.3669334  0.5447563  0.5410659"
      ]
     },
     "metadata": {},
     "output_type": "display_data"
    }
   ],
   "source": [
    "col_median = function(df) {\n",
    "  output = vector(\"double\", length(df))\n",
    "  for (i in seq_along(df)) {\n",
    "    output[i] = median(df[[i]])\n",
    "  }\n",
    "  output\n",
    "}\n",
    "df %>% col_median"
   ]
  },
  {
   "cell_type": "markdown",
   "metadata": {
    "slideshow": {
     "slide_type": "notes"
    }
   },
   "source": [
    "The function `col_mean` could just as easily be used to compute the `median` or `rescale01` of each column. Indeed, we would only need to change a single function call in the body of the for loop:\n",
    "```{r}\n",
    "output[i] = mean(df[[i]])\n",
    "```\n",
    "So it makes sense to generalize `col_mean` to a new function that takes as parameters a data frame `df` as well as a function `f` to apply to each column:"
   ]
  },
  {
   "cell_type": "code",
   "execution_count": 109,
   "metadata": {},
   "outputs": [
    {
     "data": {
      "text/plain": [
       "[1] -1.0133680 -0.3669334  0.5447563  0.5410659"
      ]
     },
     "metadata": {},
     "output_type": "display_data"
    },
    {
     "data": {
      "text/plain": [
       "[1] -0.89112177 -0.05322987  0.17340362  0.23718822"
      ]
     },
     "metadata": {},
     "output_type": "display_data"
    }
   ],
   "source": [
    "df %>% col_summary(median)\n",
    "df %>% col_summary(mean)"
   ]
  },
  {
   "cell_type": "markdown",
   "metadata": {
    "slideshow": {
     "slide_type": "slide"
    }
   },
   "source": [
    "Notice how much more elegant and readable `df %>% col_summary(median)` is compared to\n",
    "```{r}\n",
    "output <- vector(\"double\", length(df))\n",
    "for (i in seq_along(df)) {\n",
    "  output[[i]] <- median(df[[i]])\n",
    "}\n",
    "output\n",
    "```\n",
    "If you understand why the former is preferable, you understand the Zen of Functional Programming!"
   ]
  },
  {
   "cell_type": "markdown",
   "metadata": {
    "slideshow": {
     "slide_type": "slide"
    }
   },
   "source": [
    "## map functions\n",
    "The pattern of looping over a sequence, doing something to each element and saving the results turns out to be extremely common in data analysis (and FP more generally). It even has a name: \"map\"."
   ]
  },
  {
   "cell_type": "code",
   "execution_count": 40,
   "metadata": {},
   "outputs": [],
   "source": [
    "my_map <- function(sequence, f) {\n",
    "    output <- vector(\"double\", length(sequence))\n",
    "    for (i in seq_along(sequence)) {\n",
    "      output[[i]] <- f(sequence[[i]])\n",
    "    }\n",
    "    output\n",
    "}"
   ]
  },
  {
   "cell_type": "markdown",
   "metadata": {
    "slideshow": {
     "slide_type": "notes"
    }
   },
   "source": [
    "There is a set of functions in `tidyverse` designed to help you map over data as easily as possible:\n",
    "- `map()` makes a list.\n",
    "- `map_lgl()` makes a logical vector.\n",
    "- `map_int()` makes an integer vector.\n",
    "- `map_dbl()` makes a double vector.\n",
    "- `map_chr()` makes a character vector.\n",
    "\n",
    "In most cases we will be able to replace `for` loops with calls to these functions, leading to simpler and more readable code."
   ]
  },
  {
   "cell_type": "markdown",
   "metadata": {
    "slideshow": {
     "slide_type": "slide"
    }
   },
   "source": [
    "### Example\n",
    "How would we write `col_summary` using one of the `map` functions?"
   ]
  },
  {
   "cell_type": "code",
   "execution_count": 87,
   "metadata": {},
   "outputs": [
    {
     "data": {
      "text/plain": [
       "$a\n",
       "[1] -0.2273326\n",
       "\n",
       "$b\n",
       "[1] 0.1522355\n",
       "\n",
       "$c\n",
       "[1] -0.01169011\n",
       "\n",
       "$d\n",
       "[1] 0.3793291\n"
      ]
     },
     "metadata": {},
     "output_type": "display_data"
    }
   ],
   "source": [
    "map(df, median) "
   ]
  },
  {
   "cell_type": "markdown",
   "metadata": {
    "slideshow": {
     "slide_type": "slide"
    }
   },
   "source": [
    "Compared to `col_summary`, the `map_` functions have a few advantages. One, we can forward additional arguments to the called function:"
   ]
  },
  {
   "cell_type": "code",
   "execution_count": 100,
   "metadata": {},
   "outputs": [
    {
     "data": {
      "text/plain": [
       "$a\n",
       " [1]  2.1289245  1.1335186  2.3426244  0.8213127  2.2352025  1.6259569\n",
       " [7]  0.3724203  1.4633745  1.0540450 -0.2042667\n",
       "\n",
       "$b\n",
       " [1] 1.0814166 1.0280644 1.6227892 0.3707177 0.3610537 0.3566992 0.7521503\n",
       " [8] 0.9134548 0.2628666 1.7586692\n",
       "\n",
       "$c\n",
       " [1]  0.4294020  0.8463695  1.2913790  2.3401299  2.7705159  0.2151814\n",
       " [7] -0.6498635  0.2327141  2.7080294  0.7037264\n",
       "\n",
       "$d\n",
       " [1]  1.6204469  2.5109334 -0.6421845  2.3781724  0.6023911  1.0469591\n",
       " [7]  0.4692006  1.0760951  1.0404753  1.7033792\n"
      ]
     },
     "metadata": {},
     "output_type": "display_data"
    }
   ],
   "source": [
    "# str(df)\n",
    "map(df, function(x) x + 1)"
   ]
  },
  {
   "cell_type": "markdown",
   "metadata": {
    "slideshow": {
     "slide_type": "slide"
    }
   },
   "source": [
    "Two, names are preserved:"
   ]
  },
  {
   "cell_type": "code",
   "execution_count": 45,
   "metadata": {},
   "outputs": [
    {
     "data": {
      "text/plain": [
       "  a   b   c \n",
       "2.0 3.0 3.5 "
      ]
     },
     "metadata": {},
     "output_type": "display_data"
    }
   ],
   "source": [
    "x = list(a=1, b=2, c=c(2, 3))\n",
    "map_dbl(x, function(x) mean(x + 1))"
   ]
  },
  {
   "cell_type": "markdown",
   "metadata": {
    "slideshow": {
     "slide_type": "slide"
    }
   },
   "source": [
    "Three, the `map_` functions allow for some handy shortcuts in addition to taking actual function values. If you pass a *formula* instead of a function, R will convert every instance of `.` to the current list element:"
   ]
  },
  {
   "cell_type": "code",
   "execution_count": 105,
   "metadata": {},
   "outputs": [
    {
     "data": {
      "text/plain": [
       "$a\n",
       " [1]  2.1289245  1.1335186  2.3426244  0.8213127  2.2352025  1.6259569\n",
       " [7]  0.3724203  1.4633745  1.0540450 -0.2042667\n",
       "\n",
       "$b\n",
       " [1] 1.0814166 1.0280644 1.6227892 0.3707177 0.3610537 0.3566992 0.7521503\n",
       " [8] 0.9134548 0.2628666 1.7586692\n",
       "\n",
       "$c\n",
       " [1]  0.4294020  0.8463695  1.2913790  2.3401299  2.7705159  0.2151814\n",
       " [7] -0.6498635  0.2327141  2.7080294  0.7037264\n",
       "\n",
       "$d\n",
       " [1]  1.6204469  2.5109334 -0.6421845  2.3781724  0.6023911  1.0469591\n",
       " [7]  0.4692006  1.0760951  1.0404753  1.7033792\n"
      ]
     },
     "metadata": {},
     "output_type": "display_data"
    },
    {
     "data": {
      "text/plain": [
       "$a\n",
       " [1]  2.1289245  1.1335186  2.3426244  0.8213127  2.2352025  1.6259569\n",
       " [7]  0.3724203  1.4633745  1.0540450 -0.2042667\n",
       "\n",
       "$b\n",
       " [1] 1.0814166 1.0280644 1.6227892 0.3707177 0.3610537 0.3566992 0.7521503\n",
       " [8] 0.9134548 0.2628666 1.7586692\n",
       "\n",
       "$c\n",
       " [1]  0.4294020  0.8463695  1.2913790  2.3401299  2.7705159  0.2151814\n",
       " [7] -0.6498635  0.2327141  2.7080294  0.7037264\n",
       "\n",
       "$d\n",
       " [1]  1.6204469  2.5109334 -0.6421845  2.3781724  0.6023911  1.0469591\n",
       " [7]  0.4692006  1.0760951  1.0404753  1.7033792\n"
      ]
     },
     "metadata": {},
     "output_type": "display_data"
    }
   ],
   "source": [
    "map(df, function(.) 1 + .)\n",
    "df %>% map(~ 1 + .)"
   ]
  },
  {
   "cell_type": "markdown",
   "metadata": {
    "slideshow": {
     "slide_type": "slide"
    }
   },
   "source": [
    "If you supply a string to a map function, R will extract the attribute with that name from each list element:"
   ]
  },
  {
   "cell_type": "code",
   "execution_count": 47,
   "metadata": {},
   "outputs": [
    {
     "data": {
      "text/plain": [
       "$a\n",
       "[1] 1\n",
       "\n",
       "$b\n",
       "[1] 5\n",
       "\n",
       "$d\n",
       "[1] 8\n"
      ]
     },
     "metadata": {},
     "output_type": "display_data"
    }
   ],
   "source": [
    "list(a=list(a=1, b=2), b=list(a=5, b=3), d=list(a=8, b=4)) %>% map(\"a\")"
   ]
  },
  {
   "cell_type": "markdown",
   "metadata": {
    "slideshow": {
     "slide_type": "slide"
    }
   },
   "source": [
    "Similarly, an integer will extract the value at that index for each list element:"
   ]
  },
  {
   "cell_type": "code",
   "execution_count": 48,
   "metadata": {},
   "outputs": [
    {
     "data": {
      "text/plain": [
       "$a\n",
       "[1] 2\n",
       "\n",
       "$b\n",
       "[1] 3\n",
       "\n",
       "$d\n",
       "[1] 4\n"
      ]
     },
     "metadata": {},
     "output_type": "display_data"
    }
   ],
   "source": [
    "list(a=list(a=1, b=2), b=list(a=1, b=3), d=list(a=1, b=4)) %>% map(2)"
   ]
  },
  {
   "cell_type": "markdown",
   "metadata": {
    "slideshow": {
     "slide_type": "slide"
    }
   },
   "source": [
    "### map-like functions in base R\n",
    "Base R has the `apply` functions which also perform mapping. The `map_` functions in `tidyverse` have a better interface and should generally be preferred. However, because the `apply` functions are so common, we will briefly go over them here."
   ]
  },
  {
   "cell_type": "markdown",
   "metadata": {
    "slideshow": {
     "slide_type": "slide"
    }
   },
   "source": [
    "The `lapply()` function is identical to `map()`, but it does not allow for some of the convenience shortcuts that we reviewed above."
   ]
  },
  {
   "cell_type": "code",
   "execution_count": 49,
   "metadata": {},
   "outputs": [
    {
     "data": {
      "text/plain": [
       "$a\n",
       "[1] 1\n",
       "\n",
       "$b\n",
       "[1] 1\n",
       "\n",
       "$d\n",
       "[1] 1\n"
      ]
     },
     "metadata": {},
     "output_type": "display_data"
    },
    {
     "data": {
      "text/plain": [
       "$a\n",
       "[1] 1\n",
       "\n",
       "$b\n",
       "[1] 1\n",
       "\n",
       "$d\n",
       "[1] 1\n"
      ]
     },
     "metadata": {},
     "output_type": "display_data"
    }
   ],
   "source": [
    "lst = list(a=list(a=1, b=2), b=list(a=1, b=3), d=list(a=1, b=4))\n",
    "map(lst, \"a\")\n",
    "# lapply(lst, \"a\")  # error\n",
    "lapply(lst, function(x) x$a)"
   ]
  },
  {
   "cell_type": "markdown",
   "metadata": {
    "slideshow": {
     "slide_type": "slide"
    }
   },
   "source": [
    "`sapply` is a wrapper around `lapply` that applies some simplifications to the output. I avoid `sapply` because I can never remember what are its rules for simplifying. Consider this example from the book:"
   ]
  },
  {
   "cell_type": "code",
   "execution_count": 108,
   "metadata": {},
   "outputs": [
    {
     "data": {
      "text/plain": [
       "[[1]]\n",
       "[1] 0.91\n",
       "\n",
       "[[2]]\n",
       "[1] 0.90 0.94\n",
       "\n",
       "[[3]]\n",
       "numeric(0)\n"
      ]
     },
     "metadata": {},
     "output_type": "display_data"
    }
   ],
   "source": [
    "x1 <- list(\n",
    "  c(0.27, 0.37, 0.57, 0.91, 0.20),\n",
    "  c(0.90, 0.94, 0.66, 0.63, 0.06), \n",
    "  c(0.21, 0.18, 0.69, 0.38, 0.77)\n",
    ")\n",
    "x2 <- list(\n",
    "  c(0.50, 0.72, 0.99, 0.38, 0.78), \n",
    "  c(0.93, 0.21, 0.65, 0.13, 0.27), \n",
    "  c(0.39, 0.01, 0.38, 0.87, 0.34)\n",
    ")\n",
    "threshold <- function(x, cutoff = 0.8) x[x > cutoff]\n",
    "lapply(x1, threshold)"
   ]
  },
  {
   "cell_type": "markdown",
   "metadata": {
    "slideshow": {
     "slide_type": "slide"
    }
   },
   "source": [
    "Can somebody explain to me why "
   ]
  },
  {
   "cell_type": "code",
   "execution_count": 111,
   "metadata": {},
   "outputs": [
    {
     "name": "stdout",
     "output_type": "stream",
     "text": [
      "List of 3\n",
      " $ : num 0.91\n",
      " $ : num [1:2] 0.9 0.94\n",
      " $ : num(0) \n"
     ]
    }
   ],
   "source": [
    "x1 %>% sapply(threshold) %>% str()"
   ]
  },
  {
   "cell_type": "markdown",
   "metadata": {},
   "source": [
    "but "
   ]
  },
  {
   "cell_type": "code",
   "execution_count": 110,
   "metadata": {},
   "outputs": [
    {
     "name": "stdout",
     "output_type": "stream",
     "text": [
      " num [1:3] 0.99 0.93 0.87\n"
     ]
    }
   ],
   "source": [
    "x2 %>% sapply(threshold) %>% str()"
   ]
  },
  {
   "cell_type": "markdown",
   "metadata": {},
   "source": [
    "??"
   ]
  }
 ],
 "metadata": {
  "celltoolbar": "Slideshow",
  "kernelspec": {
   "display_name": "R",
   "language": "R",
   "name": "ir"
  },
  "language_info": {
   "codemirror_mode": "r",
   "file_extension": ".r",
   "mimetype": "text/x-r-source",
   "name": "R",
   "pygments_lexer": "r",
   "version": "3.5.2"
  }
 },
 "nbformat": 4,
 "nbformat_minor": 2
}
