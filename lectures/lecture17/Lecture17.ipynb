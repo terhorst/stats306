{
 "cells": [
  {
   "cell_type": "code",
   "execution_count": 26,
   "metadata": {
    "slideshow": {
     "slide_type": "notes"
    }
   },
   "outputs": [],
   "source": [
    "library(tidyverse)\n",
    "library(nycflights13)"
   ]
  },
  {
   "cell_type": "markdown",
   "metadata": {
    "slideshow": {
     "slide_type": "slide"
    }
   },
   "source": [
    "# Lecture 17: Vectors, lists, iteration & FP\n",
    "In this lecture we'll learn about:\n",
    "- [Atomic vectors](#Atomic-vectors), or what we have been calling vectors up to this point.\n",
    "- [Lists](#Lists), a.k.a. recursive vectors.\n",
    "- [Iteration](#Iteration): `for`/`while` loops.\n",
    "- [Functional programming](#Functional-programming) (FP): functions that operate on other functions."
   ]
  },
  {
   "cell_type": "markdown",
   "metadata": {
    "slideshow": {
     "slide_type": "slide"
    }
   },
   "source": [
    "## Atomic vectors\n",
    "Vectors are sequences of data elements in R. So far we have exclusively studied *atomic* vectors, which are sequences of elements that all have the same type. The two most important properties of a vector are its *type* and its *length*:"
   ]
  },
  {
   "cell_type": "code",
   "execution_count": 29,
   "metadata": {},
   "outputs": [
    {
     "data": {
      "text/plain": [
       "[1] 1 2 3"
      ]
     },
     "metadata": {},
     "output_type": "display_data"
    },
    {
     "data": {
      "text/plain": [
       "[1] \"integer\""
      ]
     },
     "metadata": {},
     "output_type": "display_data"
    },
    {
     "data": {
      "text/plain": [
       "[1] 3"
      ]
     },
     "metadata": {},
     "output_type": "display_data"
    }
   ],
   "source": [
    "(x = 1:3)  # atomic vector of integers\n",
    "typeof(x)\n",
    "length(x)"
   ]
  },
  {
   "cell_type": "code",
   "execution_count": 28,
   "metadata": {},
   "outputs": [
    {
     "data": {
      "text/plain": [
       "[1] \"a\" \"b\" \"c\""
      ]
     },
     "metadata": {},
     "output_type": "display_data"
    },
    {
     "data": {
      "text/plain": [
       "[1] \"character\""
      ]
     },
     "metadata": {},
     "output_type": "display_data"
    },
    {
     "data": {
      "text/plain": [
       "[1] 3"
      ]
     },
     "metadata": {},
     "output_type": "display_data"
    }
   ],
   "source": [
    "(x = c('a', 'b', 'c'))  # atomic vector of characters\n",
    "typeof(x)\n",
    "length(x)"
   ]
  },
  {
   "cell_type": "markdown",
   "metadata": {
    "slideshow": {
     "slide_type": "slide"
    }
   },
   "source": [
    "A single data element is called a *scalar.* An important thing to realize is that, to R, there is no distinction between scalars and vectors -- a scalar is simply an atomic vector of length one."
   ]
  },
  {
   "cell_type": "code",
   "execution_count": 4,
   "metadata": {},
   "outputs": [
    {
     "data": {
      "text/plain": [
       "[1] 1"
      ]
     },
     "metadata": {},
     "output_type": "display_data"
    },
    {
     "data": {
      "text/plain": [
       "[1] 1"
      ]
     },
     "metadata": {},
     "output_type": "display_data"
    }
   ],
   "source": [
    "1     # scalar\n",
    "c(1)  # vector"
   ]
  },
  {
   "cell_type": "markdown",
   "metadata": {
    "slideshow": {
     "slide_type": "slide"
    }
   },
   "source": [
    "### Types of atomic vectors\n",
    "The most important types of atomic vector are logical, numeric, and character."
   ]
  },
  {
   "cell_type": "markdown",
   "metadata": {
    "slideshow": {
     "slide_type": "slide"
    }
   },
   "source": [
    "Logical vectors hold the values `TRUE`, `FALSE` and `NA`."
   ]
  },
  {
   "cell_type": "code",
   "execution_count": 5,
   "metadata": {},
   "outputs": [
    {
     "data": {
      "text/plain": [
       "[1]  TRUE  TRUE FALSE    NA"
      ]
     },
     "metadata": {},
     "output_type": "display_data"
    },
    {
     "data": {
      "text/plain": [
       "[1] \"logical\""
      ]
     },
     "metadata": {},
     "output_type": "display_data"
    },
    {
     "data": {
      "text/plain": [
       "[1] \"logical\""
      ]
     },
     "metadata": {},
     "output_type": "display_data"
    }
   ],
   "source": [
    "(x = c(TRUE, TRUE, FALSE, NA))\n",
    "typeof(x)\n",
    "typeof(NA)"
   ]
  },
  {
   "cell_type": "markdown",
   "metadata": {
    "slideshow": {
     "slide_type": "slide"
    }
   },
   "source": [
    "Numeric vectors hold integers or doubles. By default, if you enter a number in R it is stored as a double:"
   ]
  },
  {
   "cell_type": "code",
   "execution_count": 30,
   "metadata": {},
   "outputs": [
    {
     "data": {
      "text/plain": [
       "[1] \"double\""
      ]
     },
     "metadata": {},
     "output_type": "display_data"
    }
   ],
   "source": [
    "typeof(1.12)"
   ]
  },
  {
   "cell_type": "markdown",
   "metadata": {},
   "source": [
    "If you want to explicitly store integers, attach a capital `L` to the number:"
   ]
  },
  {
   "cell_type": "code",
   "execution_count": 31,
   "metadata": {},
   "outputs": [
    {
     "data": {
      "text/plain": [
       "[1] \"integer\""
      ]
     },
     "metadata": {},
     "output_type": "display_data"
    }
   ],
   "source": [
    "typeof(as.integer(1))"
   ]
  },
  {
   "cell_type": "markdown",
   "metadata": {
    "slideshow": {
     "slide_type": "slide"
    }
   },
   "source": [
    "### Names\n",
    "\n",
    "It is possible to assign names to each entry of a vector:"
   ]
  },
  {
   "cell_type": "code",
   "execution_count": 45,
   "metadata": {},
   "outputs": [
    {
     "data": {
      "text/plain": [
       "a b c \n",
       "1 2 3 "
      ]
     },
     "metadata": {},
     "output_type": "display_data"
    },
    {
     "data": {
      "text/plain": [
       "[1] \"a\" \"b\" \"c\""
      ]
     },
     "metadata": {},
     "output_type": "display_data"
    },
    {
     "data": {
      "text/plain": [
       "stats \n",
       "    1 "
      ]
     },
     "metadata": {},
     "output_type": "display_data"
    },
    {
     "data": {
      "text/plain": [
       "stats \n",
       "    1 "
      ]
     },
     "metadata": {},
     "output_type": "display_data"
    }
   ],
   "source": [
    "(v = c(a=1, b=2, c=3))\n",
    "# c(a=1, b=2, stats306=3) == c(1, 2, 3)\n",
    "names(v)\n",
    "names(v) <- c(\"stats\", 'ds', 'cs')\n",
    "\n",
    "v[\"stats\"]\n",
    "v[1]"
   ]
  },
  {
   "cell_type": "markdown",
   "metadata": {
    "slideshow": {
     "slide_type": "slide"
    }
   },
   "source": [
    "## Lists\n",
    "Lists are another type of sequence data type found in R. Unlike atomic vectors, lists can hold objects of multiple types:"
   ]
  },
  {
   "cell_type": "code",
   "execution_count": 44,
   "metadata": {},
   "outputs": [
    {
     "data": {
      "text/plain": [
       "[[1]]\n",
       "[1] \"a\"\n",
       "\n",
       "[[2]]\n",
       "[1] 1\n",
       "\n",
       "[[3]]\n",
       "[1] FALSE\n",
       "\n",
       "[[4]]\n",
       "[1] 3.141593\n",
       "\n",
       "[[5]]\n",
       "[[5]][[1]]\n",
       "[1] 1 2 3\n",
       "\n"
      ]
     },
     "metadata": {},
     "output_type": "display_data"
    }
   ],
   "source": [
    "# list(1, 2, 3, \"a\") %>% str\n",
    "x = list('a', 1L, FALSE, pi, list(1:3))\n",
    "x"
   ]
  },
  {
   "cell_type": "markdown",
   "metadata": {
    "slideshow": {
     "slide_type": "notes"
    }
   },
   "source": [
    "As the printout suggests, you can think of a list as a \"vector of vectors\". For this reason, they are sometimes referred to as \"recursive vectors\"."
   ]
  },
  {
   "cell_type": "markdown",
   "metadata": {
    "slideshow": {
     "slide_type": "slide"
    }
   },
   "source": [
    "The `str` command will print out the **str**ucture of a vector:"
   ]
  },
  {
   "cell_type": "code",
   "execution_count": 12,
   "metadata": {},
   "outputs": [
    {
     "name": "stdout",
     "output_type": "stream",
     "text": [
      "List of 5\n",
      " $ : chr \"a\"\n",
      " $ : int 1\n",
      " $ : logi FALSE\n",
      " $ : num 3.14\n",
      " $ :List of 1\n",
      "  ..$ : int [1:3] 1 2 3\n"
     ]
    }
   ],
   "source": [
    "str(x) "
   ]
  },
  {
   "cell_type": "markdown",
   "metadata": {
    "slideshow": {
     "slide_type": "slide"
    }
   },
   "source": [
    "Just like atomic vectors, you can name each individual entry of a list:"
   ]
  },
  {
   "cell_type": "code",
   "execution_count": 13,
   "metadata": {},
   "outputs": [
    {
     "name": "stdout",
     "output_type": "stream",
     "text": [
      "List of 3\n",
      " $ a: num 1\n",
      " $ b: num 2\n",
      " $ c: num 3\n"
     ]
    },
    {
     "data": {
      "text/plain": [
       "[1] \"a\" \"b\" \"c\""
      ]
     },
     "metadata": {},
     "output_type": "display_data"
    }
   ],
   "source": [
    "x_named <- list(a = 1, b = 2, c = 3)\n",
    "str(x_named)\n",
    "names(x_named)"
   ]
  },
  {
   "cell_type": "markdown",
   "metadata": {
    "slideshow": {
     "slide_type": "slide"
    }
   },
   "source": [
    "### Sub-setting lists\n",
    "Subsetting lists is a little more complex than subsetting atomic vectors. We will use the following example list:"
   ]
  },
  {
   "cell_type": "code",
   "execution_count": 47,
   "metadata": {},
   "outputs": [
    {
     "name": "stdout",
     "output_type": "stream",
     "text": [
      "List of 4\n",
      " $ a: int [1:3] 1 2 3\n",
      " $ b: chr \"a string\"\n",
      " $ c: num 3.14\n",
      " $ d:List of 2\n",
      "  ..$ : num -1\n",
      "  ..$ : num -5\n"
     ]
    }
   ],
   "source": [
    "str(example_list <- list(a = 1:3, b = \"a string\", c = pi, d = list(-1, -5)))"
   ]
  },
  {
   "cell_type": "markdown",
   "metadata": {
    "slideshow": {
     "slide_type": "slide"
    }
   },
   "source": [
    "#### `[]`\n",
    "The `[]` operator extracts a sub-list. That is, the return type will always be a list:"
   ]
  },
  {
   "cell_type": "code",
   "execution_count": 52,
   "metadata": {},
   "outputs": [
    {
     "name": "stdout",
     "output_type": "stream",
     "text": [
      " int [1:3] 1 2 3\n"
     ]
    }
   ],
   "source": [
    "# example_v <- 1:3\n",
    "# str(example_list)\n",
    "# example_v[1]\n",
    "# str(example_list[1])\n",
    "str(example_list[[1]])"
   ]
  },
  {
   "cell_type": "markdown",
   "metadata": {
    "slideshow": {
     "slide_type": "slide"
    }
   },
   "source": [
    "As with atomic vectors, the single brackets accept integer, logical and character vectors:"
   ]
  },
  {
   "cell_type": "code",
   "execution_count": 66,
   "metadata": {},
   "outputs": [
    {
     "name": "stdout",
     "output_type": "stream",
     "text": [
      "List of 4\n",
      " $ a: int [1:3] 1 2 3\n",
      " $ b: chr \"a string\"\n",
      " $ c: num 3.14\n",
      " $ d:List of 2\n",
      "  ..$ : num -1\n",
      "  ..$ : num -5\n",
      "List of 3\n",
      " $ a: int [1:3] 1 2 3\n",
      " $ b: chr \"a string\"\n",
      " $ d:List of 2\n",
      "  ..$ : num -1\n",
      "  ..$ : num -5\n"
     ]
    }
   ],
   "source": [
    "str(example_list)\n",
    "# example_list[c(1,2,4)]\n",
    "# str(example_list[c('a', 'd')])\n",
    "# str(example_list[c(TRUE, TRUE, FALSE, TRUE)])  # what happened here?\n",
    "str(example_list[-3])"
   ]
  },
  {
   "cell_type": "markdown",
   "metadata": {
    "slideshow": {
     "slide_type": "slide"
    }
   },
   "source": [
    "#### `[[]]`\n",
    "The double-brackets will extract a single component from the list:"
   ]
  },
  {
   "cell_type": "code",
   "execution_count": 61,
   "metadata": {},
   "outputs": [
    {
     "name": "stdout",
     "output_type": "stream",
     "text": [
      "List of 4\n",
      " $ a: int [1:3] 1 2 3\n",
      " $ b: chr \"a string\"\n",
      " $ c: num 3.14\n",
      " $ d:List of 2\n",
      "  ..$ : num -1\n",
      "  ..$ : num -5\n"
     ]
    },
    {
     "data": {
      "text/plain": [
       "[[1]]\n",
       "[1] -1\n",
       "\n",
       "[[2]]\n",
       "[1] -5\n"
      ]
     },
     "metadata": {},
     "output_type": "display_data"
    }
   ],
   "source": [
    "str(example_list)\n",
    "example_list[[\"d\"]]"
   ]
  },
  {
   "cell_type": "markdown",
   "metadata": {
    "slideshow": {
     "slide_type": "slide"
    }
   },
   "source": [
    "You can also pass an integer vector to `[[]]`. This will index into successive levels of the list:"
   ]
  },
  {
   "cell_type": "code",
   "execution_count": 69,
   "metadata": {
    "slideshow": {
     "slide_type": "-"
    }
   },
   "outputs": [
    {
     "name": "stdout",
     "output_type": "stream",
     "text": [
      "List of 4\n",
      " $ a: int [1:3] 1 2 3\n",
      " $ b: chr \"a string\"\n",
      " $ c: num 3.14\n",
      " $ d:List of 2\n",
      "  ..$ : num -1\n",
      "  ..$ : num -5\n"
     ]
    },
    {
     "data": {
      "text/plain": [
       "[1] -5"
      ]
     },
     "metadata": {},
     "output_type": "display_data"
    }
   ],
   "source": [
    "str(example_list)\n",
    "example_list[[c(4,2)]]"
   ]
  },
  {
   "cell_type": "markdown",
   "metadata": {
    "slideshow": {
     "slide_type": "slide"
    }
   },
   "source": [
    "### Data frames are lists\n",
    "Many data types in R are actually lists plus some additional attributes. For example, tibbles and data frames are both lists:"
   ]
  },
  {
   "cell_type": "code",
   "execution_count": 83,
   "metadata": {},
   "outputs": [
    {
     "data": {
      "text/plain": [
       "[1] \"a string\""
      ]
     },
     "metadata": {},
     "output_type": "display_data"
    }
   ],
   "source": [
    "# typeof(mpg)\n",
    "# mpg$model\n",
    "example_list$b"
   ]
  },
  {
   "cell_type": "markdown",
   "metadata": {
    "slideshow": {
     "slide_type": "slide"
    }
   },
   "source": [
    "The `names()` of a tibble/data frame correspond to columns. This means we can use the list indexing methods shown above to access columns:"
   ]
  },
  {
   "cell_type": "code",
   "execution_count": 84,
   "metadata": {},
   "outputs": [
    {
     "data": {
      "text/plain": [
       " [1] \"manufacturer\" \"model\"        \"displ\"        \"year\"         \"cyl\"         \n",
       " [6] \"trans\"        \"drv\"          \"cty\"          \"hwy\"          \"fl\"          \n",
       "[11] \"class\"       "
      ]
     },
     "metadata": {},
     "output_type": "display_data"
    }
   ],
   "source": [
    "names(mpg)"
   ]
  },
  {
   "cell_type": "markdown",
   "metadata": {
    "slideshow": {
     "slide_type": "slide"
    }
   },
   "source": [
    "Note that the *class* of a tibble is different from the *type*:"
   ]
  },
  {
   "cell_type": "code",
   "execution_count": 98,
   "metadata": {},
   "outputs": [
    {
     "name": "stdout",
     "output_type": "stream",
     "text": [
      "   manufacturer               model displ year cyl      trans drv cty hwy fl\n",
      "1          audi                  a4   1.8 1999   4   auto(l5)   f  18  29  p\n",
      "2          audi                  a4   1.8 1999   4 manual(m5)   f  21  29  p\n",
      "3          audi                  a4   2.0 2008   4 manual(m6)   f  20  31  p\n",
      "4          audi                  a4   2.0 2008   4   auto(av)   f  21  30  p\n",
      "5          audi                  a4   2.8 1999   6   auto(l5)   f  16  26  p\n",
      "6          audi                  a4   2.8 1999   6 manual(m5)   f  18  26  p\n",
      "7          audi                  a4   3.1 2008   6   auto(av)   f  18  27  p\n",
      "8          audi          a4 quattro   1.8 1999   4 manual(m5)   4  18  26  p\n",
      "9          audi          a4 quattro   1.8 1999   4   auto(l5)   4  16  25  p\n",
      "10         audi          a4 quattro   2.0 2008   4 manual(m6)   4  20  28  p\n",
      "11         audi          a4 quattro   2.0 2008   4   auto(s6)   4  19  27  p\n",
      "12         audi          a4 quattro   2.8 1999   6   auto(l5)   4  15  25  p\n",
      "13         audi          a4 quattro   2.8 1999   6 manual(m5)   4  17  25  p\n",
      "14         audi          a4 quattro   3.1 2008   6   auto(s6)   4  17  25  p\n",
      "15         audi          a4 quattro   3.1 2008   6 manual(m6)   4  15  25  p\n",
      "16         audi          a6 quattro   2.8 1999   6   auto(l5)   4  15  24  p\n",
      "17         audi          a6 quattro   3.1 2008   6   auto(s6)   4  17  25  p\n",
      "18         audi          a6 quattro   4.2 2008   8   auto(s6)   4  16  23  p\n",
      "19    chevrolet  c1500 suburban 2wd   5.3 2008   8   auto(l4)   r  14  20  r\n",
      "20    chevrolet  c1500 suburban 2wd   5.3 2008   8   auto(l4)   r  11  15  e\n",
      "21    chevrolet  c1500 suburban 2wd   5.3 2008   8   auto(l4)   r  14  20  r\n",
      "22    chevrolet  c1500 suburban 2wd   5.7 1999   8   auto(l4)   r  13  17  r\n",
      "23    chevrolet  c1500 suburban 2wd   6.0 2008   8   auto(l4)   r  12  17  r\n",
      "24    chevrolet            corvette   5.7 1999   8 manual(m6)   r  16  26  p\n",
      "25    chevrolet            corvette   5.7 1999   8   auto(l4)   r  15  23  p\n",
      "26    chevrolet            corvette   6.2 2008   8 manual(m6)   r  16  26  p\n",
      "27    chevrolet            corvette   6.2 2008   8   auto(s6)   r  15  25  p\n",
      "28    chevrolet            corvette   7.0 2008   8 manual(m6)   r  15  24  p\n",
      "29    chevrolet     k1500 tahoe 4wd   5.3 2008   8   auto(l4)   4  14  19  r\n",
      "30    chevrolet     k1500 tahoe 4wd   5.3 2008   8   auto(l4)   4  11  14  e\n",
      "31    chevrolet     k1500 tahoe 4wd   5.7 1999   8   auto(l4)   4  11  15  r\n",
      "32    chevrolet     k1500 tahoe 4wd   6.5 1999   8   auto(l4)   4  14  17  d\n",
      "33    chevrolet              malibu   2.4 1999   4   auto(l4)   f  19  27  r\n",
      "34    chevrolet              malibu   2.4 2008   4   auto(l4)   f  22  30  r\n",
      "35    chevrolet              malibu   3.1 1999   6   auto(l4)   f  18  26  r\n",
      "36    chevrolet              malibu   3.5 2008   6   auto(l4)   f  18  29  r\n",
      "37    chevrolet              malibu   3.6 2008   6   auto(s6)   f  17  26  r\n",
      "38        dodge         caravan 2wd   2.4 1999   4   auto(l3)   f  18  24  r\n",
      "39        dodge         caravan 2wd   3.0 1999   6   auto(l4)   f  17  24  r\n",
      "40        dodge         caravan 2wd   3.3 1999   6   auto(l4)   f  16  22  r\n",
      "41        dodge         caravan 2wd   3.3 1999   6   auto(l4)   f  16  22  r\n",
      "42        dodge         caravan 2wd   3.3 2008   6   auto(l4)   f  17  24  r\n",
      "43        dodge         caravan 2wd   3.3 2008   6   auto(l4)   f  17  24  r\n",
      "44        dodge         caravan 2wd   3.3 2008   6   auto(l4)   f  11  17  e\n",
      "45        dodge         caravan 2wd   3.8 1999   6   auto(l4)   f  15  22  r\n",
      "46        dodge         caravan 2wd   3.8 1999   6   auto(l4)   f  15  21  r\n",
      "47        dodge         caravan 2wd   3.8 2008   6   auto(l6)   f  16  23  r\n",
      "48        dodge         caravan 2wd   4.0 2008   6   auto(l6)   f  16  23  r\n",
      "49        dodge   dakota pickup 4wd   3.7 2008   6 manual(m6)   4  15  19  r\n",
      "50        dodge   dakota pickup 4wd   3.7 2008   6   auto(l4)   4  14  18  r\n",
      "51        dodge   dakota pickup 4wd   3.9 1999   6   auto(l4)   4  13  17  r\n",
      "52        dodge   dakota pickup 4wd   3.9 1999   6 manual(m5)   4  14  17  r\n",
      "53        dodge   dakota pickup 4wd   4.7 2008   8   auto(l5)   4  14  19  r\n",
      "54        dodge   dakota pickup 4wd   4.7 2008   8   auto(l5)   4  14  19  r\n",
      "55        dodge   dakota pickup 4wd   4.7 2008   8   auto(l5)   4   9  12  e\n",
      "56        dodge   dakota pickup 4wd   5.2 1999   8 manual(m5)   4  11  17  r\n",
      "57        dodge   dakota pickup 4wd   5.2 1999   8   auto(l4)   4  11  15  r\n",
      "58        dodge         durango 4wd   3.9 1999   6   auto(l4)   4  13  17  r\n",
      "59        dodge         durango 4wd   4.7 2008   8   auto(l5)   4  13  17  r\n",
      "60        dodge         durango 4wd   4.7 2008   8   auto(l5)   4   9  12  e\n",
      "61        dodge         durango 4wd   4.7 2008   8   auto(l5)   4  13  17  r\n",
      "62        dodge         durango 4wd   5.2 1999   8   auto(l4)   4  11  16  r\n",
      "63        dodge         durango 4wd   5.7 2008   8   auto(l5)   4  13  18  r\n",
      "64        dodge         durango 4wd   5.9 1999   8   auto(l4)   4  11  15  r\n",
      "65        dodge ram 1500 pickup 4wd   4.7 2008   8 manual(m6)   4  12  16  r\n",
      "66        dodge ram 1500 pickup 4wd   4.7 2008   8   auto(l5)   4   9  12  e\n",
      "67        dodge ram 1500 pickup 4wd   4.7 2008   8   auto(l5)   4  13  17  r\n",
      "68        dodge ram 1500 pickup 4wd   4.7 2008   8   auto(l5)   4  13  17  r\n",
      "69        dodge ram 1500 pickup 4wd   4.7 2008   8 manual(m6)   4  12  16  r\n",
      "70        dodge ram 1500 pickup 4wd   4.7 2008   8 manual(m6)   4   9  12  e\n",
      "71        dodge ram 1500 pickup 4wd   5.2 1999   8   auto(l4)   4  11  15  r\n",
      "72        dodge ram 1500 pickup 4wd   5.2 1999   8 manual(m5)   4  11  16  r\n",
      "73        dodge ram 1500 pickup 4wd   5.7 2008   8   auto(l5)   4  13  17  r\n",
      "74        dodge ram 1500 pickup 4wd   5.9 1999   8   auto(l4)   4  11  15  r\n",
      "75         ford      expedition 2wd   4.6 1999   8   auto(l4)   r  11  17  r\n",
      "76         ford      expedition 2wd   5.4 1999   8   auto(l4)   r  11  17  r\n",
      "77         ford      expedition 2wd   5.4 2008   8   auto(l6)   r  12  18  r\n",
      "78         ford        explorer 4wd   4.0 1999   6   auto(l5)   4  14  17  r\n",
      "79         ford        explorer 4wd   4.0 1999   6 manual(m5)   4  15  19  r\n",
      "80         ford        explorer 4wd   4.0 1999   6   auto(l5)   4  14  17  r\n",
      "81         ford        explorer 4wd   4.0 2008   6   auto(l5)   4  13  19  r\n",
      "82         ford        explorer 4wd   4.6 2008   8   auto(l6)   4  13  19  r\n",
      "83         ford        explorer 4wd   5.0 1999   8   auto(l4)   4  13  17  r\n",
      "84         ford     f150 pickup 4wd   4.2 1999   6   auto(l4)   4  14  17  r\n",
      "85         ford     f150 pickup 4wd   4.2 1999   6 manual(m5)   4  14  17  r\n",
      "86         ford     f150 pickup 4wd   4.6 1999   8 manual(m5)   4  13  16  r\n",
      "87         ford     f150 pickup 4wd   4.6 1999   8   auto(l4)   4  13  16  r\n",
      "88         ford     f150 pickup 4wd   4.6 2008   8   auto(l4)   4  13  17  r\n",
      "89         ford     f150 pickup 4wd   5.4 1999   8   auto(l4)   4  11  15  r\n",
      "90         ford     f150 pickup 4wd   5.4 2008   8   auto(l4)   4  13  17  r\n",
      "     class\n",
      "1  compact\n",
      "2  compact\n",
      "3  compact\n",
      "4  compact\n",
      "5  compact\n",
      "6  compact\n",
      "7  compact\n",
      "8  compact\n",
      "9  compact\n",
      "10 compact\n",
      "11 compact\n",
      "12 compact\n",
      "13 compact\n",
      "14 compact\n",
      "15 compact\n",
      "16 midsize\n",
      "17 midsize\n",
      "18 midsize\n",
      "19     suv\n",
      "20     suv\n",
      "21     suv\n",
      "22     suv\n",
      "23     suv\n",
      "24 2seater\n",
      "25 2seater\n",
      "26 2seater\n",
      "27 2seater\n",
      "28 2seater\n",
      "29     suv\n",
      "30     suv\n",
      "31     suv\n",
      "32     suv\n",
      "33 midsize\n",
      "34 midsize\n",
      "35 midsize\n",
      "36 midsize\n",
      "37 midsize\n",
      "38 minivan\n",
      "39 minivan\n",
      "40 minivan\n",
      "41 minivan\n",
      "42 minivan\n",
      "43 minivan\n",
      "44 minivan\n",
      "45 minivan\n",
      "46 minivan\n",
      "47 minivan\n",
      "48 minivan\n",
      "49  pickup\n",
      "50  pickup\n",
      "51  pickup\n",
      "52  pickup\n",
      "53  pickup\n",
      "54  pickup\n",
      "55  pickup\n",
      "56  pickup\n",
      "57  pickup\n",
      "58     suv\n",
      "59     suv\n",
      "60     suv\n",
      "61     suv\n",
      "62     suv\n",
      "63     suv\n",
      "64     suv\n",
      "65  pickup\n",
      "66  pickup\n",
      "67  pickup\n",
      "68  pickup\n",
      "69  pickup\n",
      "70  pickup\n",
      "71  pickup\n",
      "72  pickup\n",
      "73  pickup\n",
      "74  pickup\n",
      "75     suv\n",
      "76     suv\n",
      "77     suv\n",
      "78     suv\n",
      "79     suv\n",
      "80     suv\n",
      "81     suv\n",
      "82     suv\n",
      "83     suv\n",
      "84  pickup\n",
      "85  pickup\n",
      "86  pickup\n",
      "87  pickup\n",
      "88  pickup\n",
      "89  pickup\n",
      "90  pickup\n",
      " [ reached 'max' / getOption(\"max.print\") -- omitted 144 rows ]\n"
     ]
    }
   ],
   "source": [
    "# typeof(mpg)\n",
    "# str(mpg)\n",
    "class(mpg) <- c(\"data.frame\")\n",
    "mpg %>% print"
   ]
  },
  {
   "cell_type": "markdown",
   "metadata": {
    "slideshow": {
     "slide_type": "notes"
    }
   },
   "source": [
    "### Classes vs. types\n",
    "Classes and types are not the same. Class is an attribute that R checks in order to know how to call certain functions (e.g. `print`) when presented with an object. Changing the class will change the way that R handles the object:"
   ]
  },
  {
   "cell_type": "code",
   "execution_count": 9,
   "metadata": {
    "slideshow": {
     "slide_type": "notes"
    }
   },
   "outputs": [
    {
     "name": "stdout",
     "output_type": "stream",
     "text": [
      "# A tibble: 0 x 0\n"
     ]
    },
    {
     "data": {
      "text/plain": [
       "NULL"
      ]
     },
     "metadata": {},
     "output_type": "display_data"
    }
   ],
   "source": [
    "df <- tibble()\n",
    "df %>% print\n",
    "attributes(tibble)"
   ]
  },
  {
   "cell_type": "code",
   "execution_count": 23,
   "metadata": {
    "slideshow": {
     "slide_type": "slide"
    }
   },
   "outputs": [
    {
     "name": "stdout",
     "output_type": "stream",
     "text": [
      "function (x, df1, df2, ncp, log = FALSE) \n",
      "{\n",
      "    if (missing(ncp)) \n",
      "        .Call(C_df, x, df1, df2, log)\n",
      "    else .Call(C_dnf, x, df1, df2, ncp, log)\n",
      "}\n",
      "<bytecode: 0x7fdd72b64d78>\n",
      "<environment: namespace:stats>\n"
     ]
    }
   ],
   "source": [
    "# attr(df, \"class\") = NULL\n",
    "# attributes(df)\n",
    "print(df)"
   ]
  },
  {
   "cell_type": "markdown",
   "metadata": {
    "slideshow": {
     "slide_type": "slide"
    }
   },
   "source": [
    "## Iteration\n",
    "Iteration means, roughly, \"running the same piece of code repeatedly\". There are many ways to perform iteration in R. The one you have probably heard of is the *for loop*:\n",
    "```{r}\n",
    "for (<index> in <vector>) {\n",
    "    [do something for each value of <index>]\n",
    "}\n",
    "```"
   ]
  },
  {
   "cell_type": "markdown",
   "metadata": {
    "slideshow": {
     "slide_type": "slide"
    }
   },
   "source": [
    "For example, suppose we wanted to compute the median for each column of the following tibble:"
   ]
  },
  {
   "cell_type": "code",
   "execution_count": 111,
   "metadata": {},
   "outputs": [
    {
     "data": {
      "text/plain": [
       "   a          b           c           d          \n",
       "1  -0.6264538  1.51178117  0.91897737  1.35867955\n",
       "2   0.1836433  0.38984324  0.78213630 -0.10278773\n",
       "3  -0.8356286 -0.62124058  0.07456498  0.38767161\n",
       "4   1.5952808 -2.21469989 -1.98935170 -0.05380504\n",
       "5   0.3295078  1.12493092  0.61982575 -1.37705956\n",
       "6  -0.8204684 -0.04493361 -0.05612874 -0.41499456\n",
       "7   0.4874291 -0.01619026 -0.15579551 -0.39428995\n",
       "8   0.7383247  0.94383621 -1.47075238 -0.05931340\n",
       "9   0.5757814  0.82122120 -0.47815006  1.10002537\n",
       "10 -0.3053884  0.59390132  0.41794156  0.76317575"
      ]
     },
     "metadata": {},
     "output_type": "display_data"
    }
   ],
   "source": [
    "set.seed(1)\n",
    "df = tibble(\n",
    "  a = rnorm(10),\n",
    "  b = rnorm(10),\n",
    "  c = rnorm(10),\n",
    "  d = rnorm(10)\n",
    ")\n",
    "df"
   ]
  },
  {
   "cell_type": "markdown",
   "metadata": {
    "slideshow": {
     "slide_type": "slide"
    }
   },
   "source": [
    "One option is to repeatedly write out the call `median` for each column:"
   ]
  },
  {
   "cell_type": "code",
   "execution_count": 113,
   "metadata": {},
   "outputs": [
    {
     "data": {
      "text/plain": [
       "[1] 0.1322028"
      ]
     },
     "metadata": {},
     "output_type": "display_data"
    },
    {
     "data": {
      "text/plain": [
       "[1] 0.248845"
      ]
     },
     "metadata": {},
     "output_type": "display_data"
    },
    {
     "data": {
      "text/plain": [
       "[1] -0.1336732"
      ]
     },
     "metadata": {},
     "output_type": "display_data"
    },
    {
     "data": {
      "text/plain": [
       "[1] 0.1207302"
      ]
     },
     "metadata": {},
     "output_type": "display_data"
    }
   ],
   "source": [
    "mean(df$a)\n",
    "mean(df$b)\n",
    "mean(df$c)\n",
    "mean(df$d)"
   ]
  },
  {
   "cell_type": "markdown",
   "metadata": {
    "slideshow": {
     "slide_type": "slide"
    }
   },
   "source": [
    "But this involves too much repetition, and we argued last lecture that repetition is generally a bad idea when coding. Instead, we can use a for loop to \"loop over\" each column of `df` and grab the median:"
   ]
  },
  {
   "cell_type": "code",
   "execution_count": 120,
   "metadata": {},
   "outputs": [
    {
     "name": "stdout",
     "output_type": "stream",
     "text": [
      "[1] 1\n",
      "[1] 2\n",
      "[1] 3\n",
      "[1] 4\n"
     ]
    },
    {
     "data": {
      "text/plain": [
       "[1]  0.1207302 -0.1336732  0.2488450  0.1322028"
      ]
     },
     "metadata": {},
     "output_type": "display_data"
    }
   ],
   "source": [
    "\n",
    "\n",
    "for (column in df) {\n",
    "    means <- c(mean(column), means)\n",
    "    print(length(means))\n",
    "}\n",
    "means"
   ]
  },
  {
   "cell_type": "markdown",
   "metadata": {
    "slideshow": {
     "slide_type": "notes"
    }
   },
   "source": [
    "Again, this works because data frames are *lists*, and each element of the list is one column:"
   ]
  },
  {
   "cell_type": "code",
   "execution_count": 22,
   "metadata": {
    "slideshow": {
     "slide_type": "notes"
    }
   },
   "outputs": [
    {
     "name": "stdout",
     "output_type": "stream",
     "text": [
      "Classes ‘tbl_df’, ‘tbl’ and 'data.frame':\t10 obs. of  4 variables:\n",
      " $ a: num  -0.626 0.184 -0.836 1.595 0.33 ...\n",
      " $ b: num  1.512 0.39 -0.621 -2.215 1.125 ...\n",
      " $ c: num  0.919 0.7821 0.0746 -1.9894 0.6198 ...\n",
      " $ d: num  1.3587 -0.1028 0.3877 -0.0538 -1.3771 ...\n"
     ]
    }
   ],
   "source": [
    "str(df)"
   ]
  },
  {
   "cell_type": "markdown",
   "metadata": {
    "slideshow": {
     "slide_type": "notes"
    }
   },
   "source": [
    "The for loop should have three components:\n",
    "1. The *output*, in this case a vector with one entry per column of `df`.\n",
    "2. The *sequence* of values along which we will iterate. Here we are using `seq_along(df)`, which generates a sequence of numbers from one up to `ncol(df)`. (This relies on the fact that a `data.frame` is really a list with one entry per column of data.)\n",
    "3. The *body*, which is the piece of code that gets executed in each iteration of the loop. In the example above, the body first runs `output[[1]] = median(df[[1]])`, then `output[[2]] = median(df[[2]])`, etc., on up to `i=4`."
   ]
  },
  {
   "cell_type": "markdown",
   "metadata": {
    "slideshow": {
     "slide_type": "slide"
    }
   },
   "source": [
    "### Unknown output length\n",
    "In each of the examples above we \"pre-allocated\" the `output` vector before running the `for` loop. Sometimes you may not know in advance how much output will be generated. For example, the following code draws three random numbers between 0 and 100, and for each number appends that many randomly normal entries to `output`:"
   ]
  },
  {
   "cell_type": "code",
   "execution_count": 21,
   "metadata": {
    "slideshow": {
     "slide_type": "slide"
    }
   },
   "outputs": [
    {
     "name": "stdout",
     "output_type": "stream",
     "text": [
      " num(0) \n"
     ]
    },
    {
     "data": {
      "text/plain": [
       "[1]  0.256575548  0.491872279  0.009218122 -0.056559219"
      ]
     },
     "metadata": {},
     "output_type": "display_data"
    }
   ],
   "source": [
    "output = double()\n",
    "str(output)\n",
    "\n",
    "for (column in df) {\n",
    "  output = c(output, median(column))\n",
    "}\n",
    "\n",
    "output"
   ]
  },
  {
   "cell_type": "markdown",
   "metadata": {
    "slideshow": {
     "slide_type": "notes"
    }
   },
   "source": [
    "This code works perfectly well, but it turns out to be inefficient. The reason is that each time we append to `output` via the command `output = c(output, rnorm(n, means[[i]]))`, R ends up having to copy all of the data from the previous iterations. \n",
    "\n",
    "A more efficient option is to store the results of each iteration in a list, and then concatenate all the entries of the list together after the for loop terminates:"
   ]
  },
  {
   "cell_type": "code",
   "execution_count": 144,
   "metadata": {
    "slideshow": {
     "slide_type": "slide"
    }
   },
   "outputs": [
    {
     "name": "stdout",
     "output_type": "stream",
     "text": [
      "[1] \"single brackets\"\n"
     ]
    },
    {
     "name": "stderr",
     "output_type": "stream",
     "text": [
      "Warning message in mean.default(df[1]):\n",
      "“argument is not numeric or logical: returning NA”"
     ]
    },
    {
     "name": "stdout",
     "output_type": "stream",
     "text": [
      " num NA\n",
      "[1] \"double brackets\"\n"
     ]
    },
    {
     "data": {
      "text/plain": [
       "[1] 0.1322028"
      ]
     },
     "metadata": {},
     "output_type": "display_data"
    }
   ],
   "source": [
    "# out = vector(\"double\", length(df))\n",
    "# str(out)\n",
    "\n",
    "# for (i in seq_along(df)) {\n",
    "#     sub_df <- df[[i]]\n",
    "#     out[i] <- mean(col)\n",
    "# }\n",
    "\n",
    "print(\"single brackets\")\n",
    "mean(df[1]) %>% str\n",
    "print(\"double brackets\")\n",
    "df[[1]] %>% mean"
   ]
  },
  {
   "cell_type": "markdown",
   "metadata": {
    "slideshow": {
     "slide_type": "notes"
    }
   },
   "source": [
    "To convince you that this is actually more efficient, we will run a *benchmark* of the two methods. I will wrap the two approaches in functions called `f1` and `f2`, and then use the `microbenchmark` library to test which one runs faster."
   ]
  },
  {
   "cell_type": "code",
   "execution_count": 11,
   "metadata": {
    "slideshow": {
     "slide_type": "slide"
    }
   },
   "outputs": [],
   "source": [
    "f1 = function(n) { \n",
    "    means = 1:n\n",
    "    output = double()\n",
    "    for (i in seq_along(means)) {\n",
    "        n = sample(100, 1)\n",
    "        output = c(output, rnorm(n, means[[i]]))\n",
    "    }\n",
    "    output \n",
    "}\n",
    "\n",
    "f2 = function(n) { \n",
    "    means = 1:n\n",
    "    out = vector(\"list\", length(means))\n",
    "    for (i in seq_along(means)) {\n",
    "        n = sample(100, 1)\n",
    "        out[[i]] <- rnorm(n, means[[i]])\n",
    "    }\n",
    "    unlist(out)\n",
    "}"
   ]
  },
  {
   "cell_type": "code",
   "execution_count": 12,
   "metadata": {
    "slideshow": {
     "slide_type": "slide"
    }
   },
   "outputs": [
    {
     "name": "stdout",
     "output_type": "stream",
     "text": [
      "Unit: milliseconds\n",
      "     expr       min        lq      mean   median        uq       max neval\n",
      " f1(1000) 196.78856 211.26196 216.87437 215.2127 220.47047 280.67699   100\n",
      " f2(1000)  12.19852  12.92915  15.01602  13.9145  15.69689  28.88104   100\n"
     ]
    }
   ],
   "source": [
    "library(microbenchmark)\n",
    "microbenchmark(\n",
    "    f1(1000),\n",
    "    f2(1000)\n",
    ") %>% print"
   ]
  },
  {
   "cell_type": "markdown",
   "metadata": {
    "slideshow": {
     "slide_type": "slide"
    }
   },
   "source": [
    "## Down with `for` loops\n",
    "We don't use for loops that often in R because of vectorization. For example, \n",
    "```{r}\n",
    "# sum the numbers 1 to 100\n",
    "output <- 0\n",
    "v <- 1:100\n",
    "for (i in v) {\n",
    "    output <- output + i\n",
    "}\n",
    "```\n",
    "is exactly equivalent to\n",
    "```{r}\n",
    "output = sum(1:100)\n",
    "```\n",
    "The latter is both faster and more concise."
   ]
  },
  {
   "cell_type": "markdown",
   "metadata": {
    "slideshow": {
     "slide_type": "slide"
    }
   },
   "source": [
    "### Exercise\n",
    "Eliminate the for loops in each of the following commands by using functions that work with vectors."
   ]
  },
  {
   "cell_type": "markdown",
   "metadata": {
    "slideshow": {
     "slide_type": "slide"
    }
   },
   "source": [
    "#### Function 1\n",
    "```{r}\n",
    "# Function 1\n",
    "out <- \"\"\n",
    "for (x in letters) {\n",
    "  out <- stringr::str_c(out, x)\n",
    "}\n",
    "```"
   ]
  },
  {
   "cell_type": "code",
   "execution_count": 155,
   "metadata": {
    "slideshow": {
     "slide_type": "slide"
    }
   },
   "outputs": [
    {
     "data": {
      "text/plain": [
       "[1] \"hello world\""
      ]
     },
     "metadata": {},
     "output_type": "display_data"
    }
   ],
   "source": [
    "# Solution\n",
    "letters = c(\"h\", \"e\", \"l\", \"l\", \"o\", \" \", \"w\", \"o\", \"r\", \"l\", \"d\")\n",
    "\n",
    "str_c(letters, collapse=\"\")"
   ]
  },
  {
   "cell_type": "markdown",
   "metadata": {
    "slideshow": {
     "slide_type": "slide"
    }
   },
   "source": [
    "#### Function 2\n",
    "```{r}\n",
    "x <- sample(100)\n",
    "sd <- 0\n",
    "for (i in seq_along(x)) {\n",
    "  sd <- sd + (x[i] - mean(x)) ^ 2\n",
    "}\n",
    "sd <- sqrt(sd / (length(x) - 1))\n",
    "```"
   ]
  },
  {
   "cell_type": "code",
   "execution_count": 158,
   "metadata": {
    "slideshow": {
     "slide_type": "slide"
    }
   },
   "outputs": [
    {
     "data": {
      "text/plain": [
       "[1] 29.01149"
      ]
     },
     "metadata": {},
     "output_type": "display_data"
    },
    {
     "data": {
      "text/plain": [
       "[1] 29.01149"
      ]
     },
     "metadata": {},
     "output_type": "display_data"
    }
   ],
   "source": [
    "# Solution\n",
    "x <- sample(100)\n",
    "sd <- 0\n",
    "for (i in seq_along(x)) {\n",
    "  sd <- sd + (x[i] - mean(x)) ^ 2\n",
    "}\n",
    "sd <- sqrt(sd / (length(x) - 1))\n",
    "\n",
    "\n",
    "sd(x)"
   ]
  },
  {
   "cell_type": "markdown",
   "metadata": {
    "slideshow": {
     "slide_type": "slide"
    }
   },
   "source": [
    "#### Function 3\n",
    "```{r}\n",
    "x <- runif(100)\n",
    "out <- vector(\"numeric\", length(x))\n",
    "out[1] <- x[1]\n",
    "for (i in 2:length(x)) {\n",
    "  out[i] <- out[i - 1] + x[i]\n",
    "}\n",
    "```"
   ]
  },
  {
   "cell_type": "code",
   "execution_count": 161,
   "metadata": {
    "slideshow": {
     "slide_type": "slide"
    }
   },
   "outputs": [
    {
     "data": {
      "text/plain": [
       "[1]  1  3  6 10 15"
      ]
     },
     "metadata": {},
     "output_type": "display_data"
    },
    {
     "data": {
      "text/plain": [
       "[1]   1   2   6  24 120"
      ]
     },
     "metadata": {},
     "output_type": "display_data"
    }
   ],
   "source": [
    "# Solution\n",
    "x <- 1:5\n",
    "out <- vector(\"numeric\", length(x))\n",
    "out[1] <- x[1]\n",
    "for (i in 2:length(x)) {\n",
    "  out[i] <- out[i - 1] + x[i]\n",
    "}\n",
    "out\n",
    "\n",
    "cumprod(x)"
   ]
  },
  {
   "cell_type": "markdown",
   "metadata": {
    "slideshow": {
     "slide_type": "slide"
    }
   },
   "source": [
    "### While loops\n",
    "In some cases you don't even know how long is the sequence over which you are iterating. Here it is not possible to use a `for` loop; instead you must use a `while` loop:\n",
    "```{r}\n",
    "while (<condition>) {\n",
    "    <body>\n",
    "}\n",
    "```\n",
    "The `while` loop will continue running until `<condition>` returns `FALSE`."
   ]
  },
  {
   "cell_type": "markdown",
   "metadata": {
    "slideshow": {
     "slide_type": "slide"
    }
   },
   "source": [
    "Here's an example of how we would use a `while` loop. The following command counts the number of heads and tails encountered in tosses of a fair coin until the third head is encountered:"
   ]
  },
  {
   "cell_type": "code",
   "execution_count": 203,
   "metadata": {},
   "outputs": [
    {
     "data": {
      "image/png": "[encoded data removed]"
     },
     "metadata": {},
     "output_type": "display_data"
    }
   ],
   "source": [
    "hist(out)"
   ]
  },
  {
   "cell_type": "markdown",
   "metadata": {
    "slideshow": {
     "slide_type": "notes"
    }
   },
   "source": [
    "(Bonus question: what is the distribution of `n_head + n_tail`?)\n",
    "\n",
    "`while` loops are used mainly in random simulations. They don't come up a lot in data analysis. Still, it's useful to know about them."
   ]
  },
  {
   "cell_type": "markdown",
   "metadata": {
    "slideshow": {
     "slide_type": "slide"
    }
   },
   "source": [
    "## Functional programming\n",
    "R is a *functional programming language*, which means, loosely, that functions are treated just like any other data. In particular, they can be passed to other functions. As we will see, this means that most `for` loop type iterations can be replaced by cleaner, functional constructs."
   ]
  },
  {
   "cell_type": "markdown",
   "metadata": {
    "slideshow": {
     "slide_type": "slide"
    }
   },
   "source": [
    "### Example\n",
    "In the following series of examples, we'll see how the need to write extensible code naturally leads to ideas from functional programming (FP). Above we've seen several examples of functions that apply the `mean` or `median` function to each column of a tibble:"
   ]
  },
  {
   "cell_type": "code",
   "execution_count": 206,
   "metadata": {
    "slideshow": {
     "slide_type": "slide"
    }
   },
   "outputs": [
    {
     "data": {
      "text/plain": [
       "[1] -0.3747043"
      ]
     },
     "metadata": {},
     "output_type": "display_data"
    },
    {
     "data": {
      "text/plain": [
       "[1] 0.2830677"
      ]
     },
     "metadata": {},
     "output_type": "display_data"
    },
    {
     "data": {
      "text/plain": [
       "[1] -0.04397325"
      ]
     },
     "metadata": {},
     "output_type": "display_data"
    },
    {
     "data": {
      "text/plain": [
       "[1] -0.1418017"
      ]
     },
     "metadata": {},
     "output_type": "display_data"
    }
   ],
   "source": [
    "df = tibble(\n",
    "  a = rnorm(10),\n",
    "  b = rnorm(10),\n",
    "  c = rnorm(10),\n",
    "  d = rnorm(10)\n",
    ")\n",
    "median(df$a)\n",
    "median(df$b)\n",
    "median(df$c)\n",
    "median(df$d)"
   ]
  },
  {
   "cell_type": "markdown",
   "metadata": {
    "slideshow": {
     "slide_type": "slide"
    }
   },
   "source": [
    "As we have already used this code (or a close variant) on several occasions, it makes sense to extract it out to a function:"
   ]
  },
  {
   "cell_type": "code",
   "execution_count": 210,
   "metadata": {},
   "outputs": [
    {
     "data": {
      "text/plain": [
       "[1] -0.37470426  0.28306771 -0.04397325 -0.14180175"
      ]
     },
     "metadata": {},
     "output_type": "display_data"
    },
    {
     "data": {
      "text/plain": [
       "[1] -0.2433733  0.3428673 -0.0637145 -0.1306789"
      ]
     },
     "metadata": {},
     "output_type": "display_data"
    }
   ],
   "source": [
    "col_median = function(df) {\n",
    "  output = vector(\"double\", length(df))\n",
    "  for (i in seq_along(df)) {\n",
    "    output[i] = median(df[[i]])\n",
    "  }\n",
    "  output\n",
    "}\n",
    "\n",
    "col_mean = function(df) {\n",
    "  output = vector(\"double\", length(df))\n",
    "  for (i in seq_along(df)) {\n",
    "    output[i] = mean(df[[i]])\n",
    "  }\n",
    "  output\n",
    "}\n",
    "\n",
    "col_median(df)\n",
    "col_mean(df)"
   ]
  },
  {
   "cell_type": "markdown",
   "metadata": {
    "slideshow": {
     "slide_type": "notes"
    }
   },
   "source": [
    "The function `col_mean` could just as easily be used to compute the `median` or `rescale01` of each column. Indeed, we would only need to change a single function call in the body of the for loop:\n",
    "```{r}\n",
    "output[i] = mean(df[[i]])\n",
    "```\n",
    "So it makes sense to generalize `col_mean` to a new function that takes as parameters a data frame `df` as well as a function `f` to apply to each column:"
   ]
  },
  {
   "cell_type": "code",
   "execution_count": 216,
   "metadata": {
    "slideshow": {
     "slide_type": "slide"
    }
   },
   "outputs": [
    {
     "data": {
      "text/plain": [
       "[1] -0.37470426  0.28306771 -0.04397325 -0.14180175"
      ]
     },
     "metadata": {},
     "output_type": "display_data"
    }
   ],
   "source": [
    "df %>% col_summary(median)"
   ]
  },
  {
   "cell_type": "code",
   "execution_count": 217,
   "metadata": {
    "slideshow": {
     "slide_type": "slide"
    }
   },
   "outputs": [
    {
     "data": {
      "text/plain": [
       "[1] -0.37470426  0.28306771 -0.04397325 -0.14180175"
      ]
     },
     "metadata": {},
     "output_type": "display_data"
    },
    {
     "data": {
      "text/plain": [
       "[1] -0.2433733  0.3428673 -0.0637145 -0.1306789"
      ]
     },
     "metadata": {},
     "output_type": "display_data"
    }
   ],
   "source": [
    "df %>% col_summary(median)\n",
    "df %>% col_summary(mean)"
   ]
  },
  {
   "cell_type": "markdown",
   "metadata": {
    "slideshow": {
     "slide_type": "slide"
    }
   },
   "source": [
    "Notice how much more elegant and readable `df %>% col_summary(median)` is compared to\n",
    "```{r}\n",
    "output <- vector(\"double\", length(df))\n",
    "for (i in seq_along(df)) {\n",
    "  output[[i]] <- median(df[[i]])\n",
    "}\n",
    "output\n",
    "```\n",
    "If you understand why the former is preferable, you understand the Zen of Functional Programming!"
   ]
  },
  {
   "cell_type": "markdown",
   "metadata": {
    "slideshow": {
     "slide_type": "slide"
    }
   },
   "source": [
    "## `map` functions\n",
    "The pattern of looping over a sequence, doing something to each element and saving the results turns out to be extremely common in data analysis. It even has a name: \"map\"."
   ]
  },
  {
   "cell_type": "markdown",
   "metadata": {
    "slideshow": {
     "slide_type": "slide"
    }
   },
   "source": [
    "### Example\n",
    "How would we write `col_summary` using one of the `map` functions?"
   ]
  },
  {
   "cell_type": "code",
   "execution_count": 221,
   "metadata": {},
   "outputs": [
    {
     "data": {
      "text/plain": [
       "$a\n",
       "[1] 1.419102\n",
       "\n",
       "$b\n",
       "[1] 1.634342\n",
       "\n",
       "$c\n",
       "[1] 1.129936\n",
       "\n",
       "$d\n",
       "[1] 0.9802234\n"
      ]
     },
     "metadata": {},
     "output_type": "display_data"
    }
   ],
   "source": [
    "map(df, max)"
   ]
  },
  {
   "cell_type": "markdown",
   "metadata": {
    "slideshow": {
     "slide_type": "notes"
    }
   },
   "source": [
    "There is a set of functions in `tidyverse` designed to help you map over data as easily as possible:\n",
    "- `map()` makes a list.\n",
    "- `map_lgl()` makes a logical vector.\n",
    "- `map_int()` makes an integer vector.\n",
    "- `map_dbl()` makes a double vector.\n",
    "- `map_chr()` makes a character vector.\n",
    "\n",
    "In most cases we will be able to replace `for` loops with calls to these functions, leading to simpler and more readable code."
   ]
  },
  {
   "cell_type": "markdown",
   "metadata": {
    "slideshow": {
     "slide_type": "slide"
    }
   },
   "source": [
    "Compared to `col_summary`, the `map_` functions have a few advantages. One, we can forward additional arguments to the called function:"
   ]
  },
  {
   "cell_type": "code",
   "execution_count": 234,
   "metadata": {},
   "outputs": [
    {
     "ename": "ERROR",
     "evalue": "Error: Can't coerce element 1 from a double to a integer\n",
     "output_type": "error",
     "traceback": [
      "Error: Can't coerce element 1 from a double to a integer\nTraceback:\n",
      "1. map_int(df_na, mean, na.rm = T)"
     ]
    }
   ],
   "source": [
    "map_int(df_na, mean, na.rm = T) "
   ]
  },
  {
   "cell_type": "markdown",
   "metadata": {
    "slideshow": {
     "slide_type": "slide"
    }
   },
   "source": [
    "Two, names are preserved:"
   ]
  },
  {
   "cell_type": "code",
   "execution_count": 239,
   "metadata": {},
   "outputs": [
    {
     "data": {
      "text/plain": [
       "  a   b   c \n",
       "2.0 3.0 3.5 "
      ]
     },
     "metadata": {},
     "output_type": "display_data"
    }
   ],
   "source": [
    "x = list(a=1, b=2, c=c(2, 3))\n",
    "f <- function(x) mean(x + 1)\n",
    "map_dbl(x, f)"
   ]
  },
  {
   "cell_type": "markdown",
   "metadata": {
    "slideshow": {
     "slide_type": "slide"
    }
   },
   "source": [
    "Three, the `map_` functions allow for some handy shortcuts in addition to taking actual function values. If you pass a *formula* instead of a function, R will convert every instance of `.` to the current list element:"
   ]
  },
  {
   "cell_type": "code",
   "execution_count": 243,
   "metadata": {},
   "outputs": [
    {
     "data": {
      "text/plain": [
       "$a\n",
       " [1]  1.1544685 -0.2886532  2.4191023  2.3237006 -0.8049758  0.5159305\n",
       " [7]  0.6267882  1.1690859 -0.1729836  0.6238033\n",
       "\n",
       "$b\n",
       " [1] 1.7831276 1.9911713 1.2292845 1.3368509 0.3527680 0.5567933 2.1617518\n",
       " [8] 1.0650510 0.3175324 2.6343417\n",
       "\n",
       "$c\n",
       " [1]  0.41515076  2.12993600  1.58120104  1.37929307  0.68925912  1.88639000\n",
       " [7] -0.64186475  0.01143626  0.75599657  1.15605693\n",
       "\n",
       "$d\n",
       " [1]  1.1020520  0.7125418  0.7068051  1.4694771  0.3374115 -1.1903727\n",
       " [7]  1.0038547  1.8629428  1.9802234  0.7082752\n"
      ]
     },
     "metadata": {},
     "output_type": "display_data"
    },
    {
     "data": {
      "text/plain": [
       "$a\n",
       " [1]  1.1544685 -0.2886532  2.4191023  2.3237006 -0.8049758  0.5159305\n",
       " [7]  0.6267882  1.1690859 -0.1729836  0.6238033\n",
       "\n",
       "$b\n",
       " [1] 1.7831276 1.9911713 1.2292845 1.3368509 0.3527680 0.5567933 2.1617518\n",
       " [8] 1.0650510 0.3175324 2.6343417\n",
       "\n",
       "$c\n",
       " [1]  0.41515076  2.12993600  1.58120104  1.37929307  0.68925912  1.88639000\n",
       " [7] -0.64186475  0.01143626  0.75599657  1.15605693\n",
       "\n",
       "$d\n",
       " [1]  1.1020520  0.7125418  0.7068051  1.4694771  0.3374115 -1.1903727\n",
       " [7]  1.0038547  1.8629428  1.9802234  0.7082752\n"
      ]
     },
     "metadata": {},
     "output_type": "display_data"
    }
   ],
   "source": [
    "map(df, function(x) 1 + x)\n",
    "map(df, function(.) 1 + .)\n",
    "map(df, ~ 1 + .)"
   ]
  },
  {
   "cell_type": "markdown",
   "metadata": {
    "slideshow": {
     "slide_type": "slide"
    }
   },
   "source": [
    "If you supply a string to a map function, R will extract the attribute with that name from each list element:"
   ]
  },
  {
   "cell_type": "code",
   "execution_count": 47,
   "metadata": {},
   "outputs": [
    {
     "data": {
      "text/plain": [
       "$a\n",
       "[1] 1\n",
       "\n",
       "$b\n",
       "[1] 5\n",
       "\n",
       "$d\n",
       "[1] 8\n"
      ]
     },
     "metadata": {},
     "output_type": "display_data"
    }
   ],
   "source": [
    "list(a=list(a=1, b=2), b=list(a=5, b=3), d=list(a=8, b=4)) %>% map(\"a\")"
   ]
  },
  {
   "cell_type": "markdown",
   "metadata": {
    "slideshow": {
     "slide_type": "slide"
    }
   },
   "source": [
    "Similarly, an integer will extract the value at that index for each list element:"
   ]
  },
  {
   "cell_type": "code",
   "execution_count": 48,
   "metadata": {},
   "outputs": [
    {
     "data": {
      "text/plain": [
       "$a\n",
       "[1] 2\n",
       "\n",
       "$b\n",
       "[1] 3\n",
       "\n",
       "$d\n",
       "[1] 4\n"
      ]
     },
     "metadata": {},
     "output_type": "display_data"
    }
   ],
   "source": [
    "list(a=list(a=1, b=2), b=list(a=1, b=3), d=list(a=1, b=4)) %>% map(2)"
   ]
  },
  {
   "cell_type": "markdown",
   "metadata": {
    "slideshow": {
     "slide_type": "slide"
    }
   },
   "source": [
    "### map-like functions in base R\n",
    "Base R has the `apply` functions which also perform mapping. The `map_` functions in `tidyverse` have a better interface and should generally be preferred. However, because the `apply` functions are so common, we will briefly go over them here."
   ]
  },
  {
   "cell_type": "markdown",
   "metadata": {
    "slideshow": {
     "slide_type": "slide"
    }
   },
   "source": [
    "The `lapply()` function is identical to `map()`, but it does not allow for some of the convenience shortcuts that we reviewed above."
   ]
  },
  {
   "cell_type": "code",
   "execution_count": 248,
   "metadata": {},
   "outputs": [
    {
     "data": {
      "text/plain": [
       "$a\n",
       "[1] 2\n",
       "\n",
       "$b\n",
       "[1] 3\n",
       "\n",
       "$d\n",
       "[1] 4\n"
      ]
     },
     "metadata": {},
     "output_type": "display_data"
    }
   ],
   "source": [
    "lst = list(a=list(a=1, b=2), b=list(a=1, b=3), d=list(a=1, b=4))\n",
    "lapply(lst, function(x) x$b)"
   ]
  },
  {
   "cell_type": "markdown",
   "metadata": {
    "slideshow": {
     "slide_type": "slide"
    }
   },
   "source": [
    "`sapply` is a wrapper around `lapply` that applies some simplifications to the output. I avoid `sapply` because I can never remember what are its rules for simplifying. Consider this example from the book:"
   ]
  },
  {
   "cell_type": "code",
   "execution_count": 257,
   "metadata": {},
   "outputs": [
    {
     "data": {
      "text/plain": [
       "[[1]]\n",
       "[1] 0.91\n",
       "\n",
       "[[2]]\n",
       "[1] 0.90 0.94\n",
       "\n",
       "[[3]]\n",
       "numeric(0)\n"
      ]
     },
     "metadata": {},
     "output_type": "display_data"
    },
    {
     "data": {
      "text/plain": [
       "[[1]]\n",
       "[1] 0.99\n",
       "\n",
       "[[2]]\n",
       "[1] 0.93\n",
       "\n",
       "[[3]]\n",
       "[1] 0.87\n"
      ]
     },
     "metadata": {},
     "output_type": "display_data"
    }
   ],
   "source": [
    "x1 <- list(\n",
    "  c(0.27, 0.37, 0.57, 0.91, 0.20),\n",
    "  c(0.90, 0.94, 0.66, 0.63, 0.06), \n",
    "  c(0.21, 0.18, 0.69, 0.38, 0.77)\n",
    ")\n",
    "x2 <- list(\n",
    "  c(0.50, 0.72, 0.99, 0.38, 0.78), \n",
    "  c(0.93, 0.21 , 0.65, 0.13, 0.27), \n",
    "  c(0.39, 0.01, 0.38, 0.87, 0.34)\n",
    ")\n",
    "threshold <- function(x, cutoff = 0.8) x[x > cutoff]\n",
    "lapply(x1, threshold)\n",
    "lapply(x2, threshold)"
   ]
  },
  {
   "cell_type": "markdown",
   "metadata": {
    "slideshow": {
     "slide_type": "slide"
    }
   },
   "source": [
    "Can somebody explain to me why "
   ]
  },
  {
   "cell_type": "code",
   "execution_count": 259,
   "metadata": {},
   "outputs": [
    {
     "name": "stdout",
     "output_type": "stream",
     "text": [
      "List of 3\n",
      " $ : num 0.91\n",
      " $ : num [1:2] 0.9 0.94\n",
      " $ : num(0) \n"
     ]
    }
   ],
   "source": [
    "map(x1, threshold) %>% str()"
   ]
  },
  {
   "cell_type": "markdown",
   "metadata": {},
   "source": [
    "but "
   ]
  },
  {
   "cell_type": "code",
   "execution_count": 260,
   "metadata": {},
   "outputs": [
    {
     "name": "stdout",
     "output_type": "stream",
     "text": [
      "List of 3\n",
      " $ : num 0.99\n",
      " $ : num 0.93\n",
      " $ : num 0.87\n"
     ]
    }
   ],
   "source": [
    "map(x2, threshold) %>% str()"
   ]
  },
  {
   "cell_type": "markdown",
   "metadata": {},
   "source": [
    "??"
   ]
  }
 ],
 "metadata": {
  "celltoolbar": "Slideshow",
  "kernelspec": {
   "display_name": "R",
   "language": "R",
   "name": "ir"
  },
  "language_info": {
   "codemirror_mode": "r",
   "file_extension": ".r",
   "mimetype": "text/x-r-source",
   "name": "R",
   "pygments_lexer": "r",
   "version": "3.5.2"
  }
 },
 "nbformat": 4,
 "nbformat_minor": 2
}
