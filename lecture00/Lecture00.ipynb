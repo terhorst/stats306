{
 "cells": [
  {
   "cell_type": "code",
   "execution_count": 1,
   "metadata": {
    "slideshow": {
     "slide_type": "notes"
    }
   },
   "outputs": [],
   "source": [
    "# ignore warning message if cannot open file\n",
    "# used for formatting slides, not needed for notes\n",
    "try(source(\"../startup.R\"))\n",
    "options(jupyter.plot_mimetypes=\"image/png\")"
   ]
  },
  {
   "cell_type": "markdown",
   "metadata": {
    "hide_input": true,
    "slideshow": {
     "slide_type": "slide"
    }
   },
   "source": [
    "# STATS 306: Introduction to Statistical Computing"
   ]
  },
  {
   "cell_type": "markdown",
   "metadata": {
    "slideshow": {
     "slide_type": "slide"
    }
   },
   "source": [
    "# Administrative stuff\n",
    "\n",
    "| Person                  | Uniqname | Office Hours | Location      |\n",
    "|-------------------------|----------|--------------|---------------|\n",
    "| Prof. Jonathan Terhorst | jonth    | Tu 1-2:30p<br/>Th 3-4:30p | 269 West Hall |\n",
    "| Byoung Jang             | bwjang   |    TBD       |     SLC       |\n",
    "| Wayne Wang              | wayneyw  |    TBD       |     SLC       |\n",
    "| Enes Dilber             | enes     |    TBD       |     SLC       |\n",
    "\n"
   ]
  },
  {
   "cell_type": "markdown",
   "metadata": {
    "slideshow": {
     "slide_type": "slide"
    }
   },
   "source": [
    "## The book\n",
    "\n",
    "<img style=\"float:right; margin: 10px; width: 200px\" src=\"http://r4ds.had.co.nz/cover.png\"/>\n",
    "\n",
    "We will follow the book \"R for Data Science\" (R4DS) by Hadley Wickham and Garrett Grolemund. The electronic version is available [for free](http://r4ds.had.co.nz). There is no need to purchase the hardcopy version unless you enjoy spending money."
   ]
  },
  {
   "cell_type": "markdown",
   "metadata": {
    "slideshow": {
     "slide_type": "slide"
    }
   },
   "source": [
    "## What this course is about\n",
    "* [Data Visualization](#Data-Visualization)\n",
    "* [Data Transformation](#Data-Transformation)\n",
    "* [Exploratory Data Analysis](#Exploratory-Data-Analysis)\n",
    "* [Strings](#Strings)\n",
    "* [Dates and Times](#Dates-and-Times)\n",
    "* [Functions](#Functions) / abstraction\n",
    "* [Vectors](#Vectors)\n",
    "* [Iteration](#Iteration)\n",
    "* [Models](#Models)"
   ]
  },
  {
   "cell_type": "markdown",
   "metadata": {
    "slideshow": {
     "slide_type": "slide"
    }
   },
   "source": [
    "## What this course is *not* about\n",
    "This is not a traditional programming course. You will learn to program in R as a byproduct of learning how to visualize, clean, and model data. However we will *not* cover things like:\n",
    "- Algorithms\n",
    "- Data structures\n",
    "- OOP\n",
    "- etc.\n",
    "\n",
    "If you find that you enjoy programming and want to go further, these would be good topics to learn about in a future course."
   ]
  },
  {
   "cell_type": "markdown",
   "metadata": {
    "slideshow": {
     "slide_type": "notes"
    }
   },
   "source": [
    "# Goals for today's lecture\n",
    "- Learn how to get Jupyter / R running on your computer.\n",
    "- Use R to do perform a basic statistical analysis."
   ]
  },
  {
   "cell_type": "markdown",
   "metadata": {
    "slideshow": {
     "slide_type": "slide"
    }
   },
   "source": [
    "## Accessing an R programming enviroment\n",
    "Everything in this course will be done using [Jupyter notebooks](http://jupyter.org/) running the [R programming language](https://www.r-project.org/). Lecture notes will be distributed in Jupyter notebook format before lecture. You are encouraged to bring your laptop to lecture and follow along."
   ]
  },
  {
   "cell_type": "markdown",
   "metadata": {
    "slideshow": {
     "slide_type": "slide"
    }
   },
   "source": [
    "### Using JS3O\n",
    "The easiest way to get up and running in this environment is by surfing to [https://jupyter.stats306.org](https://jupyter.stats306.org).\n",
    "\n",
    "\n",
    "### RStudio\n",
    "Another popular option is [RStudio](http://rstudio.org). \n",
    "\n",
    "You are free to use whatever environment you please, but lectures and assignments will be done using Jupyter notebook."
   ]
  },
  {
   "cell_type": "markdown",
   "metadata": {
    "slideshow": {
     "slide_type": "slide"
    }
   },
   "source": [
    "# What is R\n",
    "R is a programming language developed by statisticians to perform statistical analysis. The \"traditional\" way to run R from the Unix command line is by typing the command `R`:\n",
    "\n",
    "    $ R\n",
    "    R version 3.5.2 (2018-12-20) -- \"Eggshell Igloo\"\n",
    "    Copyright (C) 2018 The R Foundation for Statistical Computing\n",
    "    Platform: x86_64-apple-darwin17.7.0 (64-bit)\n",
    "\n",
    "    R is free software and comes with ABSOLUTELY NO WARRANTY.\n",
    "    You are welcome to redistribute it under certain conditions.\n",
    "    Type 'license()' or 'licence()' for distribution details.\n",
    "\n",
    "      Natural language support but running in an English locale\n",
    "\n",
    "    R is a collaborative project with many contributors.\n",
    "    Type 'contributors()' for more information and\n",
    "    'citation()' on how to cite R or R packages in publications.\n",
    "\n",
    "    Type 'demo()' for some demos, 'help()' for on-line help, or\n",
    "    'help.start()' for an HTML browser interface to help.\n",
    "    Type 'q()' to quit R.\n",
    "\n",
    "    >"
   ]
  },
  {
   "cell_type": "markdown",
   "metadata": {
    "slideshow": {
     "slide_type": "slide"
    }
   },
   "source": [
    "We won't use the command line in this class. The Jupyter notebook which runs these slides is running an R \"kernel\" in the background. Typing commands into these cells is the same as if you had type typed them into the R interpreter:"
   ]
  },
  {
   "cell_type": "code",
   "execution_count": 2,
   "metadata": {
    "slideshow": {
     "slide_type": "slide"
    }
   },
   "outputs": [
    {
     "data": {
      "text/plain": [
       "[1] 2"
      ]
     },
     "metadata": {},
     "output_type": "display_data"
    }
   ],
   "source": [
    "1 + 1"
   ]
  },
  {
   "cell_type": "markdown",
   "metadata": {
    "slideshow": {
     "slide_type": "slide"
    }
   },
   "source": [
    "## Vectors\n",
    "The most basic element of statistics is a vector of numeric data. To create a vector in R, we use the following syntax:"
   ]
  },
  {
   "cell_type": "code",
   "execution_count": 17,
   "metadata": {},
   "outputs": [],
   "source": [
    "v <- c(1, 2, 3, 4, 5)"
   ]
  },
  {
   "cell_type": "markdown",
   "metadata": {},
   "source": [
    "This create a variable named `v` and stores in it the vector of numbers `(10.4, 5.6, 3.1, 6.4, 21.7)`. Some things to note:\n",
    "\n",
    "-  The `<-` (arrow) is an operator used to assign values to variables. (If you are used to programming in other languages, `=` also works.)\n",
    "-  The `c()` is a function that takes several values and creates a vector out of them."
   ]
  },
  {
   "cell_type": "markdown",
   "metadata": {
    "slideshow": {
     "slide_type": "slide"
    }
   },
   "source": [
    "Almost all operations in R are \"vectorized\", meaning that they can operate on vectors. If I want to multiply each element of `v` by the number 2, I simply type"
   ]
  },
  {
   "cell_type": "code",
   "execution_count": 18,
   "metadata": {},
   "outputs": [
    {
     "data": {
      "text/plain": [
       "[1]  2  4  6  8 10"
      ]
     },
     "metadata": {},
     "output_type": "display_data"
    }
   ],
   "source": [
    "v * 2"
   ]
  },
  {
   "cell_type": "markdown",
   "metadata": {
    "slideshow": {
     "slide_type": "slide"
    }
   },
   "source": [
    "If I want to add together all the numbers in `v`, I can use `sum()`:"
   ]
  },
  {
   "cell_type": "code",
   "execution_count": 19,
   "metadata": {},
   "outputs": [
    {
     "data": {
      "text/plain": [
       "[1] 15"
      ]
     },
     "metadata": {},
     "output_type": "display_data"
    }
   ],
   "source": [
    "sum(v)"
   ]
  },
  {
   "cell_type": "markdown",
   "metadata": {
    "slideshow": {
     "slide_type": "slide"
    }
   },
   "source": [
    "## Logical values\n",
    "In addition to representing numbers, it's quite common when programming to deal with *boolean* (true / false) values. In R these are represented by the special values `TRUE` and `FALSE`, commonly abbreviated `T` and `F`:"
   ]
  },
  {
   "cell_type": "code",
   "execution_count": 9,
   "metadata": {},
   "outputs": [
    {
     "data": {
      "text/plain": [
       "[1]  TRUE FALSE  TRUE  TRUE FALSE"
      ]
     },
     "metadata": {},
     "output_type": "display_data"
    }
   ],
   "source": [
    "u <- c(T, F, TRUE, TRUE, FALSE)\n",
    "u"
   ]
  },
  {
   "cell_type": "markdown",
   "metadata": {
    "slideshow": {
     "slide_type": "slide"
    }
   },
   "source": [
    "One way we can get logical values is asking whether numerical values are larger or smaller than some number:"
   ]
  },
  {
   "cell_type": "code",
   "execution_count": 12,
   "metadata": {},
   "outputs": [
    {
     "data": {
      "text/plain": [
       "[1] FALSE FALSE FALSE FALSE  TRUE"
      ]
     },
     "metadata": {},
     "output_type": "display_data"
    }
   ],
   "source": [
    "v > 15"
   ]
  },
  {
   "cell_type": "markdown",
   "metadata": {
    "slideshow": {
     "slide_type": "slide"
    }
   },
   "source": [
    "## Missing values\n",
    "In statistics missing data is common. A unique feature of R that sets it apart from other languages is a native ability to handle missing data via the special value `NA`:"
   ]
  },
  {
   "cell_type": "code",
   "execution_count": 13,
   "metadata": {},
   "outputs": [
    {
     "data": {
      "text/plain": [
       "[1] NA"
      ]
     },
     "metadata": {},
     "output_type": "display_data"
    }
   ],
   "source": [
    "NA"
   ]
  },
  {
   "cell_type": "markdown",
   "metadata": {
    "slideshow": {
     "slide_type": "slide"
    }
   },
   "source": [
    "Think of `NA` as saying that you don't know the value of something. Is `NA` greater than 5? I don't know, because I don't know what the original value was:"
   ]
  },
  {
   "cell_type": "code",
   "execution_count": 14,
   "metadata": {},
   "outputs": [
    {
     "data": {
      "text/plain": [
       "[1] NA"
      ]
     },
     "metadata": {},
     "output_type": "display_data"
    },
    {
     "data": {
      "text/plain": [
       "[1] NA"
      ]
     },
     "metadata": {},
     "output_type": "display_data"
    }
   ],
   "source": [
    "NA > 5  # I don't know\n",
    "NA > NA  # I definitely don't know"
   ]
  },
  {
   "cell_type": "markdown",
   "metadata": {
    "slideshow": {
     "slide_type": "slide"
    }
   },
   "source": [
    "## Functions\n",
    "Above we saw that typing `c(1,2,3,4,5)` creates a vector with the numbers 1-5. `c()` is an example of a *function*. The general form of a function in R (and most other programming languages) is:\n",
    "\n",
    "    <function name>(<function arguments>)\n",
    "    \n",
    "In the above example, the function is named `c`, and the arguments were `1, 2, 3, 4, 5`. Another example of a function is `print`, which prints its arguments to the screen:"
   ]
  },
  {
   "cell_type": "code",
   "execution_count": 21,
   "metadata": {},
   "outputs": [
    {
     "name": "stdout",
     "output_type": "stream",
     "text": [
      "[1] \"I am a function named print\"\n"
     ]
    }
   ],
   "source": [
    "print(\"I am a function named print\")"
   ]
  },
  {
   "cell_type": "markdown",
   "metadata": {
    "slideshow": {
     "slide_type": "slide"
    }
   },
   "source": [
    "## Data Frames\n",
    "\n",
    "Our main goal in R is to work with data, and one of the most fundamental objects in R is the *data frame*. Think of a data frame as a container for a bunch of vectors of data:\n",
    "\n",
    "![dataframe](https://garrettgman.github.io/images/tidy-2.png)"
   ]
  },
  {
   "cell_type": "code",
   "execution_count": 27,
   "metadata": {
    "slideshow": {
     "slide_type": "slide"
    }
   },
   "outputs": [
    {
     "name": "stdout",
     "output_type": "stream",
     "text": [
      "# A tibble: 4,060 x 3\n",
      "   country      year population\n",
      "   <chr>       <int>      <int>\n",
      " 1 Afghanistan  1995   17586073\n",
      " 2 Afghanistan  1996   18415307\n",
      " 3 Afghanistan  1997   19021226\n",
      " 4 Afghanistan  1998   19496836\n",
      " 5 Afghanistan  1999   19987071\n",
      " 6 Afghanistan  2000   20595360\n",
      " 7 Afghanistan  2001   21347782\n",
      " 8 Afghanistan  2002   22202806\n",
      " 9 Afghanistan  2003   23116142\n",
      "10 Afghanistan  2004   24018682\n",
      "# … with 4,050 more rows\n"
     ]
    }
   ],
   "source": [
    "library(tidyverse)\n",
    "print(population)"
   ]
  },
  {
   "cell_type": "markdown",
   "metadata": {
    "slideshow": {
     "slide_type": "slide"
    }
   },
   "source": [
    "To extract a vector (column) of data from a data frame, we use the `$` operator:"
   ]
  },
  {
   "cell_type": "code",
   "execution_count": 30,
   "metadata": {},
   "outputs": [
    {
     "name": "stdout",
     "output_type": "stream",
     "text": [
      "   [1] \"Afghanistan\"                       \"Afghanistan\"                      \n",
      "   [3] \"Afghanistan\"                       \"Afghanistan\"                      \n",
      "   [5] \"Afghanistan\"                       \"Afghanistan\"                      \n",
      "   [7] \"Afghanistan\"                       \"Afghanistan\"                      \n",
      "   [9] \"Afghanistan\"                       \"Afghanistan\"                      \n",
      "  [11] \"Afghanistan\"                       \"Afghanistan\"                      \n",
      "  [13] \"Afghanistan\"                       \"Afghanistan\"                      \n",
      "  [15] \"Afghanistan\"                       \"Afghanistan\"                      \n",
      "  [17] \"Afghanistan\"                       \"Afghanistan\"                      \n",
      "  [19] \"Afghanistan\"                       \"Albania\"                          \n",
      "  [21] \"Albania\"                           \"Albania\"                          \n",
      "  [23] \"Albania\"                           \"Albania\"                          \n",
      "  [25] \"Albania\"                           \"Albania\"                          \n",
      "  [27] \"Albania\"                           \"Albania\"                          \n",
      "  [29] \"Albania\"                           \"Albania\"                          \n",
      "  [31] \"Albania\"                           \"Albania\"                          \n",
      "  [33] \"Albania\"                           \"Albania\"                          \n",
      "  [35] \"Albania\"                           \"Albania\"                          \n",
      "  [37] \"Albania\"                           \"Albania\"                          \n",
      "  [39] \"Algeria\"                           \"Algeria\"                          \n",
      "  [41] \"Algeria\"                           \"Algeria\"                          \n",
      "  [43] \"Algeria\"                           \"Algeria\"                          \n",
      "  [45] \"Algeria\"                           \"Algeria\"                          \n",
      "  [47] \"Algeria\"                           \"Algeria\"                          \n",
      "  [49] \"Algeria\"                           \"Algeria\"                          \n",
      "  [51] \"Algeria\"                           \"Algeria\"                          \n",
      "  [53] \"Algeria\"                           \"Algeria\"                          \n",
      "  [55] \"Algeria\"                           \"Algeria\"                          \n",
      "  [57] \"Algeria\"                           \"American Samoa\"                   \n",
      "  [59] \"American Samoa\"                    \"American Samoa\"                   \n",
      "  [61] \"American Samoa\"                    \"American Samoa\"                   \n",
      "  [63] \"American Samoa\"                    \"American Samoa\"                   \n",
      "  [65] \"American Samoa\"                    \"American Samoa\"                   \n",
      "  [67] \"American Samoa\"                    \"American Samoa\"                   \n",
      "  [69] \"American Samoa\"                    \"American Samoa\"                   \n",
      "  [71] \"American Samoa\"                    \"American Samoa\"                   \n",
      "  [73] \"American Samoa\"                    \"American Samoa\"                   \n",
      "  [75] \"American Samoa\"                    \"American Samoa\"                   \n",
      "  [77] \"Andorra\"                           \"Andorra\"                          \n",
      "  [79] \"Andorra\"                           \"Andorra\"                          \n",
      "  [81] \"Andorra\"                           \"Andorra\"                          \n",
      "  [83] \"Andorra\"                           \"Andorra\"                          \n",
      "  [85] \"Andorra\"                           \"Andorra\"                          \n",
      "  [87] \"Andorra\"                           \"Andorra\"                          \n",
      "  [89] \"Andorra\"                           \"Andorra\"                          \n",
      "  [91] \"Andorra\"                           \"Andorra\"                          \n",
      "  [93] \"Andorra\"                           \"Andorra\"                          \n",
      "  [95] \"Andorra\"                           \"Angola\"                           \n",
      "  [97] \"Angola\"                            \"Angola\"                           \n",
      "  [99] \"Angola\"                            \"Angola\"                           \n",
      " [101] \"Angola\"                            \"Angola\"                           \n",
      " [103] \"Angola\"                            \"Angola\"                           \n",
      " [105] \"Angola\"                            \"Angola\"                           \n",
      " [107] \"Angola\"                            \"Angola\"                           \n",
      " [109] \"Angola\"                            \"Angola\"                           \n",
      " [111] \"Angola\"                            \"Angola\"                           \n",
      " [113] \"Angola\"                            \"Angola\"                           \n",
      " [115] \"Anguilla\"                          \"Anguilla\"                         \n",
      " [117] \"Anguilla\"                          \"Anguilla\"                         \n",
      " [119] \"Anguilla\"                          \"Anguilla\"                         \n",
      " [121] \"Anguilla\"                          \"Anguilla\"                         \n",
      " [123] \"Anguilla\"                          \"Anguilla\"                         \n",
      " [125] \"Anguilla\"                          \"Anguilla\"                         \n",
      " [127] \"Anguilla\"                          \"Anguilla\"                         \n",
      " [129] \"Anguilla\"                          \"Anguilla\"                         \n",
      " [131] \"Anguilla\"                          \"Anguilla\"                         \n",
      " [133] \"Anguilla\"                          \"Antigua and Barbuda\"              \n",
      " [135] \"Antigua and Barbuda\"               \"Antigua and Barbuda\"              \n",
      " [137] \"Antigua and Barbuda\"               \"Antigua and Barbuda\"              \n",
      " [139] \"Antigua and Barbuda\"               \"Antigua and Barbuda\"              \n",
      " [141] \"Antigua and Barbuda\"               \"Antigua and Barbuda\"              \n",
      " [143] \"Antigua and Barbuda\"               \"Antigua and Barbuda\"              \n",
      " [145] \"Antigua and Barbuda\"               \"Antigua and Barbuda\"              \n",
      " [147] \"Antigua and Barbuda\"               \"Antigua and Barbuda\"              \n",
      " [149] \"Antigua and Barbuda\"               \"Antigua and Barbuda\"              \n",
      " [151] \"Antigua and Barbuda\"               \"Antigua and Barbuda\"              \n",
      " [153] \"Argentina\"                         \"Argentina\"                        \n",
      " [155] \"Argentina\"                         \"Argentina\"                        \n",
      " [157] \"Argentina\"                         \"Argentina\"                        \n",
      " [159] \"Argentina\"                         \"Argentina\"                        \n",
      " [161] \"Argentina\"                         \"Argentina\"                        \n",
      " [163] \"Argentina\"                         \"Argentina\"                        \n",
      " [165] \"Argentina\"                         \"Argentina\"                        \n",
      " [167] \"Argentina\"                         \"Argentina\"                        \n",
      " [169] \"Argentina\"                         \"Argentina\"                        \n",
      " [171] \"Argentina\"                         \"Armenia\"                          \n",
      " [173] \"Armenia\"                           \"Armenia\"                          \n",
      " [175] \"Armenia\"                           \"Armenia\"                          \n",
      " [177] \"Armenia\"                           \"Armenia\"                          \n",
      " [179] \"Armenia\"                           \"Armenia\"                          \n",
      " [181] \"Armenia\"                           \"Armenia\"                          \n",
      " [183] \"Armenia\"                           \"Armenia\"                          \n",
      " [185] \"Armenia\"                           \"Armenia\"                          \n",
      " [187] \"Armenia\"                           \"Armenia\"                          \n",
      " [189] \"Armenia\"                           \"Armenia\"                          \n",
      " [191] \"Aruba\"                             \"Aruba\"                            \n",
      " [193] \"Aruba\"                             \"Aruba\"                            \n",
      " [195] \"Aruba\"                             \"Aruba\"                            \n",
      " [197] \"Aruba\"                             \"Aruba\"                            \n",
      " [199] \"Aruba\"                             \"Aruba\"                            \n",
      " [201] \"Aruba\"                             \"Aruba\"                            \n",
      " [203] \"Aruba\"                             \"Aruba\"                            \n",
      " [205] \"Aruba\"                             \"Aruba\"                            \n",
      " [207] \"Aruba\"                             \"Aruba\"                            \n",
      " [209] \"Aruba\"                             \"Australia\"                        \n",
      " [211] \"Australia\"                         \"Australia\"                        \n",
      " [213] \"Australia\"                         \"Australia\"                        \n",
      " [215] \"Australia\"                         \"Australia\"                        \n",
      " [217] \"Australia\"                         \"Australia\"                        \n",
      " [219] \"Australia\"                         \"Australia\"                        \n",
      " [221] \"Australia\"                         \"Australia\"                        \n",
      " [223] \"Australia\"                         \"Australia\"                        \n",
      " [225] \"Australia\"                         \"Australia\"                        \n",
      " [227] \"Australia\"                         \"Australia\"                        \n",
      " [229] \"Austria\"                           \"Austria\"                          \n",
      " [231] \"Austria\"                           \"Austria\"                          \n",
      " [233] \"Austria\"                           \"Austria\"                          \n",
      " [235] \"Austria\"                           \"Austria\"                          \n",
      " [237] \"Austria\"                           \"Austria\"                          \n",
      " [239] \"Austria\"                           \"Austria\"                          \n",
      " [241] \"Austria\"                           \"Austria\"                          \n",
      " [243] \"Austria\"                           \"Austria\"                          \n",
      " [245] \"Austria\"                           \"Austria\"                          \n",
      " [247] \"Austria\"                           \"Azerbaijan\"                       \n",
      " [249] \"Azerbaijan\"                        \"Azerbaijan\"                       \n",
      " [251] \"Azerbaijan\"                        \"Azerbaijan\"                       \n",
      " [253] \"Azerbaijan\"                        \"Azerbaijan\"                       \n",
      " [255] \"Azerbaijan\"                        \"Azerbaijan\"                       \n",
      " [257] \"Azerbaijan\"                        \"Azerbaijan\"                       \n",
      " [259] \"Azerbaijan\"                        \"Azerbaijan\"                       \n",
      " [261] \"Azerbaijan\"                        \"Azerbaijan\"                       \n",
      " [263] \"Azerbaijan\"                        \"Azerbaijan\"                       \n",
      " [265] \"Azerbaijan\"                        \"Azerbaijan\"                       \n",
      " [267] \"Bahamas\"                           \"Bahamas\"                          \n",
      " [269] \"Bahamas\"                           \"Bahamas\"                          \n",
      " [271] \"Bahamas\"                           \"Bahamas\"                          \n",
      " [273] \"Bahamas\"                           \"Bahamas\"                          \n",
      " [275] \"Bahamas\"                           \"Bahamas\"                          \n",
      " [277] \"Bahamas\"                           \"Bahamas\"                          \n",
      " [279] \"Bahamas\"                           \"Bahamas\"                          \n",
      " [281] \"Bahamas\"                           \"Bahamas\"                          \n",
      " [283] \"Bahamas\"                           \"Bahamas\"                          \n",
      " [285] \"Bahamas\"                           \"Bahrain\"                          \n",
      " [287] \"Bahrain\"                           \"Bahrain\"                          \n",
      " [289] \"Bahrain\"                           \"Bahrain\"                          \n",
      " [291] \"Bahrain\"                           \"Bahrain\"                          \n",
      " [293] \"Bahrain\"                           \"Bahrain\"                          \n",
      " [295] \"Bahrain\"                           \"Bahrain\"                          \n",
      " [297] \"Bahrain\"                           \"Bahrain\"                          \n",
      " [299] \"Bahrain\"                           \"Bahrain\"                          \n",
      " [301] \"Bahrain\"                           \"Bahrain\"                          \n",
      " [303] \"Bahrain\"                           \"Bahrain\"                          \n",
      " [305] \"Bangladesh\"                        \"Bangladesh\"                       \n",
      " [307] \"Bangladesh\"                        \"Bangladesh\"                       \n",
      " [309] \"Bangladesh\"                        \"Bangladesh\"                       \n",
      " [311] \"Bangladesh\"                        \"Bangladesh\"                       \n",
      " [313] \"Bangladesh\"                        \"Bangladesh\"                       \n",
      " [315] \"Bangladesh\"                        \"Bangladesh\"                       \n",
      " [317] \"Bangladesh\"                        \"Bangladesh\"                       \n",
      " [319] \"Bangladesh\"                        \"Bangladesh\"                       \n",
      " [321] \"Bangladesh\"                        \"Bangladesh\"                       \n",
      " [323] \"Bangladesh\"                        \"Barbados\"                         \n",
      " [325] \"Barbados\"                          \"Barbados\"                         \n",
      " [327] \"Barbados\"                          \"Barbados\"                         \n",
      " [329] \"Barbados\"                          \"Barbados\"                         \n",
      " [331] \"Barbados\"                          \"Barbados\"                         \n",
      " [333] \"Barbados\"                          \"Barbados\"                         \n",
      " [335] \"Barbados\"                          \"Barbados\"                         \n",
      " [337] \"Barbados\"                          \"Barbados\"                         \n",
      " [339] \"Barbados\"                          \"Barbados\"                         \n",
      " [341] \"Barbados\"                          \"Barbados\"                         \n",
      " [343] \"Belarus\"                           \"Belarus\"                          \n",
      " [345] \"Belarus\"                           \"Belarus\"                          \n",
      " [347] \"Belarus\"                           \"Belarus\"                          \n",
      " [349] \"Belarus\"                           \"Belarus\"                          \n",
      " [351] \"Belarus\"                           \"Belarus\"                          \n",
      " [353] \"Belarus\"                           \"Belarus\"                          \n",
      " [355] \"Belarus\"                           \"Belarus\"                          \n",
      " [357] \"Belarus\"                           \"Belarus\"                          \n",
      " [359] \"Belarus\"                           \"Belarus\"                          \n",
      " [361] \"Belarus\"                           \"Belgium\"                          \n",
      " [363] \"Belgium\"                           \"Belgium\"                          \n",
      " [365] \"Belgium\"                           \"Belgium\"                          \n",
      " [367] \"Belgium\"                           \"Belgium\"                          \n",
      " [369] \"Belgium\"                           \"Belgium\"                          \n",
      " [371] \"Belgium\"                           \"Belgium\"                          \n",
      " [373] \"Belgium\"                           \"Belgium\"                          \n",
      " [375] \"Belgium\"                           \"Belgium\"                          \n",
      " [377] \"Belgium\"                           \"Belgium\"                          \n",
      " [379] \"Belgium\"                           \"Belgium\"                          \n",
      " [381] \"Belize\"                            \"Belize\"                           \n",
      " [383] \"Belize\"                            \"Belize\"                           \n",
      " [385] \"Belize\"                            \"Belize\"                           \n",
      " [387] \"Belize\"                            \"Belize\"                           \n",
      " [389] \"Belize\"                            \"Belize\"                           \n",
      " [391] \"Belize\"                            \"Belize\"                           \n",
      " [393] \"Belize\"                            \"Belize\"                           \n",
      " [395] \"Belize\"                            \"Belize\"                           \n",
      " [397] \"Belize\"                            \"Belize\"                           \n",
      " [399] \"Belize\"                            \"Benin\"                            \n",
      " [401] \"Benin\"                             \"Benin\"                            \n",
      " [403] \"Benin\"                             \"Benin\"                            \n",
      " [405] \"Benin\"                             \"Benin\"                            \n",
      " [407] \"Benin\"                             \"Benin\"                            \n",
      " [409] \"Benin\"                             \"Benin\"                            \n",
      " [411] \"Benin\"                             \"Benin\"                            \n",
      " [413] \"Benin\"                             \"Benin\"                            \n",
      " [415] \"Benin\"                             \"Benin\"                            \n",
      " [417] \"Benin\"                             \"Benin\"                            \n",
      " [419] \"Bermuda\"                           \"Bermuda\"                          \n",
      " [421] \"Bermuda\"                           \"Bermuda\"                          \n",
      " [423] \"Bermuda\"                           \"Bermuda\"                          \n",
      " [425] \"Bermuda\"                           \"Bermuda\"                          \n",
      " [427] \"Bermuda\"                           \"Bermuda\"                          \n",
      " [429] \"Bermuda\"                           \"Bermuda\"                          \n",
      " [431] \"Bermuda\"                           \"Bermuda\"                          \n",
      " [433] \"Bermuda\"                           \"Bermuda\"                          \n",
      " [435] \"Bermuda\"                           \"Bermuda\"                          \n",
      " [437] \"Bermuda\"                           \"Bhutan\"                           \n",
      " [439] \"Bhutan\"                            \"Bhutan\"                           \n",
      " [441] \"Bhutan\"                            \"Bhutan\"                           \n",
      " [443] \"Bhutan\"                            \"Bhutan\"                           \n",
      " [445] \"Bhutan\"                            \"Bhutan\"                           \n",
      " [447] \"Bhutan\"                            \"Bhutan\"                           \n",
      " [449] \"Bhutan\"                            \"Bhutan\"                           \n",
      " [451] \"Bhutan\"                            \"Bhutan\"                           \n",
      " [453] \"Bhutan\"                            \"Bhutan\"                           \n",
      " [455] \"Bhutan\"                            \"Bhutan\"                           \n",
      " [457] \"Bolivia (Plurinational State of)\"  \"Bolivia (Plurinational State of)\" \n",
      " [459] \"Bolivia (Plurinational State of)\"  \"Bolivia (Plurinational State of)\" \n",
      " [461] \"Bolivia (Plurinational State of)\"  \"Bolivia (Plurinational State of)\" \n",
      " [463] \"Bolivia (Plurinational State of)\"  \"Bolivia (Plurinational State of)\" \n",
      " [465] \"Bolivia (Plurinational State of)\"  \"Bolivia (Plurinational State of)\" \n",
      " [467] \"Bolivia (Plurinational State of)\"  \"Bolivia (Plurinational State of)\" \n",
      " [469] \"Bolivia (Plurinational State of)\"  \"Bolivia (Plurinational State of)\" \n",
      " [471] \"Bolivia (Plurinational State of)\"  \"Bolivia (Plurinational State of)\" \n",
      " [473] \"Bolivia (Plurinational State of)\"  \"Bolivia (Plurinational State of)\" \n",
      " [475] \"Bolivia (Plurinational State of)\"  \"Bonaire, Saint Eustatius and Saba\"\n",
      " [477] \"Bonaire, Saint Eustatius and Saba\" \"Bonaire, Saint Eustatius and Saba\"\n",
      " [479] \"Bonaire, Saint Eustatius and Saba\" \"Bosnia and Herzegovina\"           \n",
      " [481] \"Bosnia and Herzegovina\"            \"Bosnia and Herzegovina\"           \n",
      " [483] \"Bosnia and Herzegovina\"            \"Bosnia and Herzegovina\"           \n",
      " [485] \"Bosnia and Herzegovina\"            \"Bosnia and Herzegovina\"           \n",
      " [487] \"Bosnia and Herzegovina\"            \"Bosnia and Herzegovina\"           \n",
      " [489] \"Bosnia and Herzegovina\"            \"Bosnia and Herzegovina\"           \n",
      " [491] \"Bosnia and Herzegovina\"            \"Bosnia and Herzegovina\"           \n",
      " [493] \"Bosnia and Herzegovina\"            \"Bosnia and Herzegovina\"           \n",
      " [495] \"Bosnia and Herzegovina\"            \"Bosnia and Herzegovina\"           \n",
      " [497] \"Bosnia and Herzegovina\"            \"Bosnia and Herzegovina\"           \n",
      " [499] \"Botswana\"                          \"Botswana\"                         \n",
      " [501] \"Botswana\"                          \"Botswana\"                         \n",
      " [503] \"Botswana\"                          \"Botswana\"                         \n",
      " [505] \"Botswana\"                          \"Botswana\"                         \n",
      " [507] \"Botswana\"                          \"Botswana\"                         \n",
      " [509] \"Botswana\"                          \"Botswana\"                         \n",
      " [511] \"Botswana\"                          \"Botswana\"                         \n",
      " [513] \"Botswana\"                          \"Botswana\"                         \n",
      " [515] \"Botswana\"                          \"Botswana\"                         \n",
      " [517] \"Botswana\"                          \"Brazil\"                           \n",
      " [519] \"Brazil\"                            \"Brazil\"                           \n",
      " [521] \"Brazil\"                            \"Brazil\"                           \n",
      " [523] \"Brazil\"                            \"Brazil\"                           \n",
      " [525] \"Brazil\"                            \"Brazil\"                           \n",
      " [527] \"Brazil\"                            \"Brazil\"                           \n",
      " [529] \"Brazil\"                            \"Brazil\"                           \n",
      " [531] \"Brazil\"                            \"Brazil\"                           \n",
      " [533] \"Brazil\"                            \"Brazil\"                           \n",
      " [535] \"Brazil\"                            \"Brazil\"                           \n",
      " [537] \"British Virgin Islands\"            \"British Virgin Islands\"           \n",
      " [539] \"British Virgin Islands\"            \"British Virgin Islands\"           \n",
      " [541] \"British Virgin Islands\"            \"British Virgin Islands\"           \n",
      " [543] \"British Virgin Islands\"            \"British Virgin Islands\"           \n",
      " [545] \"British Virgin Islands\"            \"British Virgin Islands\"           \n",
      " [547] \"British Virgin Islands\"            \"British Virgin Islands\"           \n",
      " [549] \"British Virgin Islands\"            \"British Virgin Islands\"           \n",
      " [551] \"British Virgin Islands\"            \"British Virgin Islands\"           \n",
      " [553] \"British Virgin Islands\"            \"British Virgin Islands\"           \n",
      " [555] \"British Virgin Islands\"            \"Brunei Darussalam\"                \n",
      " [557] \"Brunei Darussalam\"                 \"Brunei Darussalam\"                \n",
      " [559] \"Brunei Darussalam\"                 \"Brunei Darussalam\"                \n",
      " [561] \"Brunei Darussalam\"                 \"Brunei Darussalam\"                \n",
      " [563] \"Brunei Darussalam\"                 \"Brunei Darussalam\"                \n",
      " [565] \"Brunei Darussalam\"                 \"Brunei Darussalam\"                \n",
      " [567] \"Brunei Darussalam\"                 \"Brunei Darussalam\"                \n",
      " [569] \"Brunei Darussalam\"                 \"Brunei Darussalam\"                \n",
      " [571] \"Brunei Darussalam\"                 \"Brunei Darussalam\"                \n",
      " [573] \"Brunei Darussalam\"                 \"Brunei Darussalam\"                \n",
      " [575] \"Bulgaria\"                          \"Bulgaria\"                         \n",
      " [577] \"Bulgaria\"                          \"Bulgaria\"                         \n",
      " [579] \"Bulgaria\"                          \"Bulgaria\"                         \n",
      " [581] \"Bulgaria\"                          \"Bulgaria\"                         \n",
      " [583] \"Bulgaria\"                          \"Bulgaria\"                         \n",
      " [585] \"Bulgaria\"                          \"Bulgaria\"                         \n",
      " [587] \"Bulgaria\"                          \"Bulgaria\"                         \n",
      " [589] \"Bulgaria\"                          \"Bulgaria\"                         \n",
      " [591] \"Bulgaria\"                          \"Bulgaria\"                         \n",
      " [593] \"Bulgaria\"                          \"Burkina Faso\"                     \n",
      " [595] \"Burkina Faso\"                      \"Burkina Faso\"                     \n",
      " [597] \"Burkina Faso\"                      \"Burkina Faso\"                     \n",
      " [599] \"Burkina Faso\"                      \"Burkina Faso\"                     \n",
      " [601] \"Burkina Faso\"                      \"Burkina Faso\"                     \n",
      " [603] \"Burkina Faso\"                      \"Burkina Faso\"                     \n",
      " [605] \"Burkina Faso\"                      \"Burkina Faso\"                     \n",
      " [607] \"Burkina Faso\"                      \"Burkina Faso\"                     \n",
      " [609] \"Burkina Faso\"                      \"Burkina Faso\"                     \n",
      " [611] \"Burkina Faso\"                      \"Burkina Faso\"                     \n",
      " [613] \"Burundi\"                           \"Burundi\"                          \n",
      " [615] \"Burundi\"                           \"Burundi\"                          \n",
      " [617] \"Burundi\"                           \"Burundi\"                          \n",
      " [619] \"Burundi\"                           \"Burundi\"                          \n",
      " [621] \"Burundi\"                           \"Burundi\"                          \n",
      " [623] \"Burundi\"                           \"Burundi\"                          \n",
      " [625] \"Burundi\"                           \"Burundi\"                          \n",
      " [627] \"Burundi\"                           \"Burundi\"                          \n",
      " [629] \"Burundi\"                           \"Burundi\"                          \n",
      " [631] \"Burundi\"                           \"Cabo Verde\"                       \n",
      " [633] \"Cabo Verde\"                        \"Cabo Verde\"                       \n",
      " [635] \"Cabo Verde\"                        \"Cabo Verde\"                       \n",
      " [637] \"Cabo Verde\"                        \"Cabo Verde\"                       \n",
      " [639] \"Cabo Verde\"                        \"Cabo Verde\"                       \n",
      " [641] \"Cabo Verde\"                        \"Cabo Verde\"                       \n",
      " [643] \"Cabo Verde\"                        \"Cabo Verde\"                       \n",
      " [645] \"Cabo Verde\"                        \"Cabo Verde\"                       \n",
      " [647] \"Cabo Verde\"                        \"Cabo Verde\"                       \n",
      " [649] \"Cabo Verde\"                        \"Cabo Verde\"                       \n",
      " [651] \"Cambodia\"                          \"Cambodia\"                         \n",
      " [653] \"Cambodia\"                          \"Cambodia\"                         \n",
      " [655] \"Cambodia\"                          \"Cambodia\"                         \n",
      " [657] \"Cambodia\"                          \"Cambodia\"                         \n",
      " [659] \"Cambodia\"                          \"Cambodia\"                         \n",
      " [661] \"Cambodia\"                          \"Cambodia\"                         \n",
      " [663] \"Cambodia\"                          \"Cambodia\"                         \n",
      " [665] \"Cambodia\"                          \"Cambodia\"                         \n",
      " [667] \"Cambodia\"                          \"Cambodia\"                         \n",
      " [669] \"Cambodia\"                          \"Cameroon\"                         \n",
      " [671] \"Cameroon\"                          \"Cameroon\"                         \n",
      " [673] \"Cameroon\"                          \"Cameroon\"                         \n",
      " [675] \"Cameroon\"                          \"Cameroon\"                         \n",
      " [677] \"Cameroon\"                          \"Cameroon\"                         \n",
      " [679] \"Cameroon\"                          \"Cameroon\"                         \n",
      " [681] \"Cameroon\"                          \"Cameroon\"                         \n",
      " [683] \"Cameroon\"                          \"Cameroon\"                         \n",
      " [685] \"Cameroon\"                          \"Cameroon\"                         \n",
      " [687] \"Cameroon\"                          \"Cameroon\"                         \n",
      " [689] \"Canada\"                            \"Canada\"                           \n",
      " [691] \"Canada\"                            \"Canada\"                           \n",
      " [693] \"Canada\"                            \"Canada\"                           \n",
      " [695] \"Canada\"                            \"Canada\"                           \n",
      " [697] \"Canada\"                            \"Canada\"                           \n",
      " [699] \"Canada\"                            \"Canada\"                           \n",
      " [701] \"Canada\"                            \"Canada\"                           \n",
      " [703] \"Canada\"                            \"Canada\"                           \n",
      " [705] \"Canada\"                            \"Canada\"                           \n",
      " [707] \"Canada\"                            \"Cayman Islands\"                   \n",
      " [709] \"Cayman Islands\"                    \"Cayman Islands\"                   \n",
      " [711] \"Cayman Islands\"                    \"Cayman Islands\"                   \n",
      " [713] \"Cayman Islands\"                    \"Cayman Islands\"                   \n",
      " [715] \"Cayman Islands\"                    \"Cayman Islands\"                   \n",
      " [717] \"Cayman Islands\"                    \"Cayman Islands\"                   \n",
      " [719] \"Cayman Islands\"                    \"Cayman Islands\"                   \n",
      " [721] \"Cayman Islands\"                    \"Cayman Islands\"                   \n",
      " [723] \"Cayman Islands\"                    \"Cayman Islands\"                   \n",
      " [725] \"Cayman Islands\"                    \"Cayman Islands\"                   \n",
      " [727] \"Central African Republic\"          \"Central African Republic\"         \n",
      " [729] \"Central African Republic\"          \"Central African Republic\"         \n",
      " [731] \"Central African Republic\"          \"Central African Republic\"         \n",
      " [733] \"Central African Republic\"          \"Central African Republic\"         \n",
      " [735] \"Central African Republic\"          \"Central African Republic\"         \n",
      " [737] \"Central African Republic\"          \"Central African Republic\"         \n",
      " [739] \"Central African Republic\"          \"Central African Republic\"         \n",
      " [741] \"Central African Republic\"          \"Central African Republic\"         \n",
      " [743] \"Central African Republic\"          \"Central African Republic\"         \n",
      " [745] \"Central African Republic\"          \"Chad\"                             \n",
      " [747] \"Chad\"                              \"Chad\"                             \n",
      " [749] \"Chad\"                              \"Chad\"                             \n",
      " [751] \"Chad\"                              \"Chad\"                             \n",
      " [753] \"Chad\"                              \"Chad\"                             \n",
      " [755] \"Chad\"                              \"Chad\"                             \n",
      " [757] \"Chad\"                              \"Chad\"                             \n",
      " [759] \"Chad\"                              \"Chad\"                             \n",
      " [761] \"Chad\"                              \"Chad\"                             \n",
      " [763] \"Chad\"                              \"Chad\"                             \n",
      " [765] \"Chile\"                             \"Chile\"                            \n",
      " [767] \"Chile\"                             \"Chile\"                            \n",
      " [769] \"Chile\"                             \"Chile\"                            \n",
      " [771] \"Chile\"                             \"Chile\"                            \n",
      " [773] \"Chile\"                             \"Chile\"                            \n",
      " [775] \"Chile\"                             \"Chile\"                            \n",
      " [777] \"Chile\"                             \"Chile\"                            \n",
      " [779] \"Chile\"                             \"Chile\"                            \n",
      " [781] \"Chile\"                             \"Chile\"                            \n",
      " [783] \"Chile\"                             \"China\"                            \n",
      " [785] \"China\"                             \"China\"                            \n",
      " [787] \"China\"                             \"China\"                            \n",
      " [789] \"China\"                             \"China\"                            \n",
      " [791] \"China\"                             \"China\"                            \n",
      " [793] \"China\"                             \"China\"                            \n",
      " [795] \"China\"                             \"China\"                            \n",
      " [797] \"China\"                             \"China\"                            \n",
      " [799] \"China\"                             \"China\"                            \n",
      " [801] \"China\"                             \"China\"                            \n",
      " [803] \"China, Hong Kong SAR\"              \"China, Hong Kong SAR\"             \n",
      " [805] \"China, Hong Kong SAR\"              \"China, Hong Kong SAR\"             \n",
      " [807] \"China, Hong Kong SAR\"              \"China, Hong Kong SAR\"             \n",
      " [809] \"China, Hong Kong SAR\"              \"China, Hong Kong SAR\"             \n",
      " [811] \"China, Hong Kong SAR\"              \"China, Hong Kong SAR\"             \n",
      " [813] \"China, Hong Kong SAR\"              \"China, Hong Kong SAR\"             \n",
      " [815] \"China, Hong Kong SAR\"              \"China, Hong Kong SAR\"             \n",
      " [817] \"China, Hong Kong SAR\"              \"China, Hong Kong SAR\"             \n",
      " [819] \"China, Hong Kong SAR\"              \"China, Hong Kong SAR\"             \n",
      " [821] \"China, Hong Kong SAR\"              \"China, Macao SAR\"                 \n",
      " [823] \"China, Macao SAR\"                  \"China, Macao SAR\"                 \n",
      " [825] \"China, Macao SAR\"                  \"China, Macao SAR\"                 \n",
      " [827] \"China, Macao SAR\"                  \"China, Macao SAR\"                 \n",
      " [829] \"China, Macao SAR\"                  \"China, Macao SAR\"                 \n",
      " [831] \"China, Macao SAR\"                  \"China, Macao SAR\"                 \n",
      " [833] \"China, Macao SAR\"                  \"China, Macao SAR\"                 \n",
      " [835] \"China, Macao SAR\"                  \"China, Macao SAR\"                 \n",
      " [837] \"China, Macao SAR\"                  \"China, Macao SAR\"                 \n",
      " [839] \"China, Macao SAR\"                  \"China, Macao SAR\"                 \n",
      " [841] \"Colombia\"                          \"Colombia\"                         \n",
      " [843] \"Colombia\"                          \"Colombia\"                         \n",
      " [845] \"Colombia\"                          \"Colombia\"                         \n",
      " [847] \"Colombia\"                          \"Colombia\"                         \n",
      " [849] \"Colombia\"                          \"Colombia\"                         \n",
      " [851] \"Colombia\"                          \"Colombia\"                         \n",
      " [853] \"Colombia\"                          \"Colombia\"                         \n",
      " [855] \"Colombia\"                          \"Colombia\"                         \n",
      " [857] \"Colombia\"                          \"Colombia\"                         \n",
      " [859] \"Colombia\"                          \"Comoros\"                          \n",
      " [861] \"Comoros\"                           \"Comoros\"                          \n",
      " [863] \"Comoros\"                           \"Comoros\"                          \n",
      " [865] \"Comoros\"                           \"Comoros\"                          \n",
      " [867] \"Comoros\"                           \"Comoros\"                          \n",
      " [869] \"Comoros\"                           \"Comoros\"                          \n",
      " [871] \"Comoros\"                           \"Comoros\"                          \n",
      " [873] \"Comoros\"                           \"Comoros\"                          \n",
      " [875] \"Comoros\"                           \"Comoros\"                          \n",
      " [877] \"Comoros\"                           \"Comoros\"                          \n",
      " [879] \"Congo\"                             \"Congo\"                            \n",
      " [881] \"Congo\"                             \"Congo\"                            \n",
      " [883] \"Congo\"                             \"Congo\"                            \n",
      " [885] \"Congo\"                             \"Congo\"                            \n",
      " [887] \"Congo\"                             \"Congo\"                            \n",
      " [889] \"Congo\"                             \"Congo\"                            \n",
      " [891] \"Congo\"                             \"Congo\"                            \n",
      " [893] \"Congo\"                             \"Congo\"                            \n",
      " [895] \"Congo\"                             \"Congo\"                            \n",
      " [897] \"Congo\"                             \"Cook Islands\"                     \n",
      " [899] \"Cook Islands\"                      \"Cook Islands\"                     \n",
      " [901] \"Cook Islands\"                      \"Cook Islands\"                     \n",
      " [903] \"Cook Islands\"                      \"Cook Islands\"                     \n",
      " [905] \"Cook Islands\"                      \"Cook Islands\"                     \n",
      " [907] \"Cook Islands\"                      \"Cook Islands\"                     \n",
      " [909] \"Cook Islands\"                      \"Cook Islands\"                     \n",
      " [911] \"Cook Islands\"                      \"Cook Islands\"                     \n",
      " [913] \"Cook Islands\"                      \"Cook Islands\"                     \n",
      " [915] \"Cook Islands\"                      \"Cook Islands\"                     \n",
      " [917] \"Costa Rica\"                        \"Costa Rica\"                       \n",
      " [919] \"Costa Rica\"                        \"Costa Rica\"                       \n",
      " [921] \"Costa Rica\"                        \"Costa Rica\"                       \n",
      " [923] \"Costa Rica\"                        \"Costa Rica\"                       \n",
      " [925] \"Costa Rica\"                        \"Costa Rica\"                       \n",
      " [927] \"Costa Rica\"                        \"Costa Rica\"                       \n",
      " [929] \"Costa Rica\"                        \"Costa Rica\"                       \n",
      " [931] \"Costa Rica\"                        \"Costa Rica\"                       \n",
      " [933] \"Costa Rica\"                        \"Costa Rica\"                       \n",
      " [935] \"Costa Rica\"                        \"Côte d'Ivoire\"                    \n",
      " [937] \"Côte d'Ivoire\"                     \"Côte d'Ivoire\"                    \n",
      " [939] \"Côte d'Ivoire\"                     \"Côte d'Ivoire\"                    \n",
      " [941] \"Côte d'Ivoire\"                     \"Côte d'Ivoire\"                    \n",
      " [943] \"Côte d'Ivoire\"                     \"Côte d'Ivoire\"                    \n",
      " [945] \"Côte d'Ivoire\"                     \"Côte d'Ivoire\"                    \n",
      " [947] \"Côte d'Ivoire\"                     \"Côte d'Ivoire\"                    \n",
      " [949] \"Côte d'Ivoire\"                     \"Côte d'Ivoire\"                    \n",
      " [951] \"Côte d'Ivoire\"                     \"Côte d'Ivoire\"                    \n",
      " [953] \"Côte d'Ivoire\"                     \"Côte d'Ivoire\"                    \n",
      " [955] \"Croatia\"                           \"Croatia\"                          \n",
      " [957] \"Croatia\"                           \"Croatia\"                          \n",
      " [959] \"Croatia\"                           \"Croatia\"                          \n",
      " [961] \"Croatia\"                           \"Croatia\"                          \n",
      " [963] \"Croatia\"                           \"Croatia\"                          \n",
      " [965] \"Croatia\"                           \"Croatia\"                          \n",
      " [967] \"Croatia\"                           \"Croatia\"                          \n",
      " [969] \"Croatia\"                           \"Croatia\"                          \n",
      " [971] \"Croatia\"                           \"Croatia\"                          \n",
      " [973] \"Croatia\"                           \"Cuba\"                             \n",
      " [975] \"Cuba\"                              \"Cuba\"                             \n",
      " [977] \"Cuba\"                              \"Cuba\"                             \n",
      " [979] \"Cuba\"                              \"Cuba\"                             \n",
      " [981] \"Cuba\"                              \"Cuba\"                             \n",
      " [983] \"Cuba\"                              \"Cuba\"                             \n",
      " [985] \"Cuba\"                              \"Cuba\"                             \n",
      " [987] \"Cuba\"                              \"Cuba\"                             \n",
      " [989] \"Cuba\"                              \"Cuba\"                             \n",
      " [991] \"Cuba\"                              \"Cuba\"                             \n",
      " [993] \"Curaçao\"                           \"Curaçao\"                          \n",
      " [995] \"Curaçao\"                           \"Curaçao\"                          \n",
      " [997] \"Cyprus\"                            \"Cyprus\"                           \n",
      " [999] \"Cyprus\"                            \"Cyprus\"                           \n",
      " [ reached getOption(\"max.print\") -- omitted 3060 entries ]\n"
     ]
    }
   ],
   "source": [
    "print(population$country)"
   ]
  },
  {
   "cell_type": "markdown",
   "metadata": {
    "slideshow": {
     "slide_type": "slide"
    }
   },
   "source": [
    "## Loading a data frame\n",
    "To load a data frame from a file we use the `load()` function. In the same folder as this lecture there is a file called `flint.RData`. "
   ]
  },
  {
   "cell_type": "code",
   "execution_count": 32,
   "metadata": {},
   "outputs": [],
   "source": [
    "load(\"flint.RData\")"
   ]
  },
  {
   "cell_type": "markdown",
   "metadata": {
    "slideshow": {
     "slide_type": "slide"
    }
   },
   "source": [
    "This has loaded a data frame into a variable called `flint` containing data from the Flint water crisis:"
   ]
  },
  {
   "cell_type": "code",
   "execution_count": 38,
   "metadata": {},
   "outputs": [
    {
     "name": "stdout",
     "output_type": "stream",
     "text": [
      "# A tibble: 23,184 x 10\n",
      "   `Sample Number` `Date Submitted`    `Analysis (Lead… `Lead (ppb)`\n",
      "   <chr>           <dttm>              <chr>                   <dbl>\n",
      " 1 LF84899         2015-09-25 11:07:30 Lead                        0\n",
      " 2 LF85330         2015-09-29 14:35:09 Lead                        0\n",
      " 3 LF85604         2015-09-30 13:06:52 Lead                        0\n",
      " 4 LF85613         2015-09-30 13:07:02 Lead                        0\n",
      " 5 LF85796         2015-10-01 11:10:35 Lead                        0\n",
      " 6 LF85797         2015-10-01 11:10:36 Lead                        0\n",
      " 7 LF85799         2015-10-01 11:10:38 Lead                        0\n",
      " 8 LF85802         2015-10-01 11:10:41 Lead                        0\n",
      " 9 LF85862         2015-10-01 12:46:38 Lead                        0\n",
      "10 LF85931         2015-10-02 09:54:53 Lead                        0\n",
      "# … with 23,174 more rows, and 6 more variables: `Analysis (Copper)` <chr>,\n",
      "#   `Copper (ppb)` <dbl>, `Street #` <chr>, `Street Name` <chr>, City <chr>,\n",
      "#   `Zip Code` <chr>\n"
     ]
    }
   ],
   "source": [
    "print(flint)"
   ]
  },
  {
   "cell_type": "markdown",
   "metadata": {
    "slideshow": {
     "slide_type": "slide"
    }
   },
   "source": [
    "Let's do some basic analysis of the Flint water crisis using this data. \n",
    "\n",
    "What are some interesting questions we could ask about this data set?"
   ]
  }
 ],
 "metadata": {
  "celltoolbar": "Slideshow",
  "kernelspec": {
   "display_name": "R",
   "language": "R",
   "name": "ir"
  },
  "language_info": {
   "codemirror_mode": "r",
   "file_extension": ".r",
   "mimetype": "text/x-r-source",
   "name": "R",
   "pygments_lexer": "r",
   "version": "3.5.2"
  }
 },
 "nbformat": 4,
 "nbformat_minor": 1
}
