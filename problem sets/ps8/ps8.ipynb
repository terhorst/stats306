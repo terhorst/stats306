{
 "cells": [
  {
   "cell_type": "markdown",
   "metadata": {},
   "source": [
    "# Read these instructions completely in order to receive full credit\n",
    "\n",
    "- Before you submit the problem set, make sure everything runs as expected. Go to the menu bar at the top of Jupyter Notebook and click `Kernel > Restart & Run All`. Your code should run from top to bottom with no errors. Failure to do this will result in loss of points.\n",
    "\n",
    "- You should not use `install.packages()` anywhere. You may assume that we have already installed all the packages needed to run your code.\n",
    "\n",
    "- Make sure you fill in any place that says `YOUR CODE HERE` or \"YOUR ANSWER HERE\" and delete the `stop()` functions. The `stop()` functions produce an error and are there to remind you of cells that need an answer.\n",
    "\n",
    "- If you are working in a group, make sure you and your collaborators have been added to a group on Canvas as described at the beginning of lecture 2.\n",
    "- As a backup, *also* fill in your uniqid as well as those of your collaborators below:"
   ]
  },
  {
   "cell_type": "markdown",
   "metadata": {},
   "source": [
    "Your uniqid: `<replace with your uniqid>`\n",
    "\n",
    "Uniqids of your collaborator(s): `<replace with their uniqids>`"
   ]
  },
  {
   "cell_type": "markdown",
   "metadata": {},
   "source": [
    "- **Carefully proofread the PDF that you upload to Canvas. PDFs that have missing or truncated code cannot be graded and will not receive credit.**"
   ]
  },
  {
   "cell_type": "markdown",
   "metadata": {},
   "source": [
    "---"
   ]
  },
  {
   "cell_type": "code",
   "execution_count": null,
   "metadata": {
    "deletable": false,
    "editable": false,
    "nbgrader": {
     "checksum": "10f545a89d2b4cfe26d0e8d73ef749e1",
     "grade": false,
     "grade_id": "cell-892bf1ae756bcb37",
     "locked": true,
     "schema_version": 1,
     "solution": false
    }
   },
   "outputs": [],
   "source": [
    "library(tidyverse)\n",
    "library(modelr)\n",
    "source(\"rod.R\")"
   ]
  },
  {
   "cell_type": "markdown",
   "metadata": {
    "deletable": false,
    "editable": false,
    "nbgrader": {
     "checksum": "83f58543a1f444d28700b647b406863e",
     "grade": false,
     "grade_id": "cell-f73c39701a1d2ed0",
     "locked": true,
     "schema_version": 1,
     "solution": false
    }
   },
   "source": [
    "# STATS 306\n",
    "## Problem Set 8\n",
    "Each problem is worth one point, for a total of 10."
   ]
  },
  {
   "cell_type": "markdown",
   "metadata": {
    "deletable": false,
    "editable": false,
    "nbgrader": {
     "checksum": "58291011940143da48a95edd4fb8319a",
     "grade": false,
     "grade_id": "cell-8a2e07e86f10fb73",
     "locked": true,
     "schema_version": 1,
     "solution": false
    }
   },
   "source": [
    "## Part I: Simulation\n",
    "In Exercises 1-5, you will write code to simulate certain experiments. The solutions to these exercises are examples of the [Monte Carlo method](https://en.wikipedia.org/wiki/Monte_Carlo_method). Numerical answers should be accurate to the nearest hundredth."
   ]
  },
  {
   "cell_type": "markdown",
   "metadata": {
    "deletable": false,
    "editable": false,
    "nbgrader": {
     "checksum": "cd1ebe24e60657151fda7c3e9129d061",
     "grade": false,
     "grade_id": "cell-94ac4e014767480e",
     "locked": true,
     "schema_version": 1,
     "solution": false
    }
   },
   "source": [
    "### Playing card experiment\n",
    "\n",
    "Suppose you are given two standard decks of playing cards (52 cards each, total of 104 cards) and you do the following experiment: \n",
    "1.  Shuffle both decks thoroughly, so that they are randomly ordered.\n",
    "2.  Draw the top card off of each deck.\n",
    "3.  If the two cards exactly match (same suit and rank), award yourself one point; otherwise award yourself no points.\n",
    "4.  Repeat steps two and three for the remaining 51 pairs of cards.\n",
    "Let $X$ be your total score at the end of the experiment.\n",
    "\n",
    "By writing code to simulate this experiment, answer problems 1-3:"
   ]
  },
  {
   "cell_type": "markdown",
   "metadata": {
    "deletable": false,
    "editable": false,
    "nbgrader": {
     "checksum": "b41ecadb6621602739a7b09798d59d9a",
     "grade": false,
     "grade_id": "cell-7a89102c744f738f",
     "locked": true,
     "schema_version": 1,
     "solution": false
    }
   },
   "source": [
    "#### Problem 1\n",
    "What the expected value of $X$, i.e. what is $\\mathbb{E}X$?"
   ]
  },
  {
   "cell_type": "code",
   "execution_count": null,
   "metadata": {
    "deletable": false,
    "nbgrader": {
     "checksum": "adf1d4491297d0b6495f0182405bae42",
     "grade": true,
     "grade_id": "cell-dec6fd269c3c69fc",
     "locked": false,
     "points": 0,
     "schema_version": 1,
     "solution": true
    }
   },
   "outputs": [],
   "source": [
    "# YOUR CODE HERE\n",
    "stop()"
   ]
  },
  {
   "cell_type": "markdown",
   "metadata": {
    "deletable": false,
    "editable": false,
    "nbgrader": {
     "checksum": "a416677b0f09b79f75705075597eb531",
     "grade": false,
     "grade_id": "cell-b34ded43588d46db",
     "locked": true,
     "schema_version": 1,
     "solution": false
    }
   },
   "source": [
    "#### Problem 2\n",
    "What is the probability that $X$ is equal to zero? I.e., what is $\\mathbb{P}(X=0)$? (*Hint*: the probability that $X=0$ equals the expected value of a random variable which equals one when $X=0$ and zero otherwise.)"
   ]
  },
  {
   "cell_type": "code",
   "execution_count": null,
   "metadata": {
    "deletable": false,
    "nbgrader": {
     "checksum": "b922e97918b5ea742a3202ee13567f0e",
     "grade": true,
     "grade_id": "cell-a64a4b9b483aabb5",
     "locked": false,
     "points": 0,
     "schema_version": 1,
     "solution": true
    }
   },
   "outputs": [],
   "source": [
    "# YOUR CODE HERE\n",
    "stop()"
   ]
  },
  {
   "cell_type": "markdown",
   "metadata": {
    "deletable": false,
    "editable": false,
    "nbgrader": {
     "checksum": "aa7519eb6ae9b4f01cf7ee0952dd1517",
     "grade": false,
     "grade_id": "cell-f82876820245f0f1",
     "locked": true,
     "schema_version": 1,
     "solution": false
    }
   },
   "source": [
    "#### Problem 3\n",
    "Can you give an exact answer for problem 2? (Hint: consider $1/\\mathbb{P}(X=0)$)."
   ]
  },
  {
   "cell_type": "code",
   "execution_count": null,
   "metadata": {
    "deletable": false,
    "nbgrader": {
     "checksum": "a31f1986ed9fa33ee1ae4f8fad3b3b45",
     "grade": true,
     "grade_id": "cell-2b4e6acceeae750d",
     "locked": false,
     "points": 0,
     "schema_version": 1,
     "solution": true
    }
   },
   "outputs": [],
   "source": [
    "# YOUR CODE HERE\n",
    "stop()"
   ]
  },
  {
   "cell_type": "markdown",
   "metadata": {
    "deletable": false,
    "editable": false,
    "nbgrader": {
     "checksum": "6a8da6e22c9705dd2d7790050a40430c",
     "grade": false,
     "grade_id": "cell-3e1a9f9b62326182",
     "locked": true,
     "schema_version": 1,
     "solution": false
    }
   },
   "source": [
    "#### Problem 4\n",
    "Suppose I repeat the following experiment a large number of times: sample a point $(x,y)$ uniformly at random from $[-1,1]\\times[-1,1]$. Let $Z=1$ if the distance from $(x,y)$ to the origin is less than one. What is $\\mathbb{E}Z$, the expected value of $Z$? Can you give an exact expression?"
   ]
  },
  {
   "cell_type": "code",
   "execution_count": null,
   "metadata": {
    "deletable": false,
    "nbgrader": {
     "checksum": "ff216eca3d993f474129d038da3c7201",
     "grade": true,
     "grade_id": "cell-9e6d730e76d4355a",
     "locked": false,
     "points": 0,
     "schema_version": 1,
     "solution": true
    }
   },
   "outputs": [],
   "source": [
    "# YOUR CODE HERE\n",
    "stop()"
   ]
  },
  {
   "cell_type": "markdown",
   "metadata": {
    "deletable": false,
    "editable": false,
    "nbgrader": {
     "checksum": "d51f589ce1bda93bbd964046bdb6dfe2",
     "grade": false,
     "grade_id": "cell-e3c6092f3e8ca1c7",
     "locked": true,
     "schema_version": 1,
     "solution": false
    }
   },
   "source": [
    "#### Problem 5\n",
    "Suppose I repeat the following experiment a large number of times: I draw two parallel lines 1 inch apart on the floor. Then, I drop a 1-inch long rod on the floor so that its center falls somewhere between the two lines.\n",
    "\n",
    "What is the probability that the rod intersects one of the two lines?\n",
    "\n",
    "The function `run_rod_experiment()` can be run repeatedly to illustrate how the game is played:"
   ]
  },
  {
   "cell_type": "code",
   "execution_count": null,
   "metadata": {
    "deletable": false,
    "editable": false,
    "nbgrader": {
     "checksum": "ee54949fbd8e6d6e97e32ee7141e9d9c",
     "grade": false,
     "grade_id": "cell-b0d10de42699590c",
     "locked": true,
     "schema_version": 1,
     "solution": false
    }
   },
   "outputs": [],
   "source": [
    "run_rod_experiment()"
   ]
  },
  {
   "cell_type": "code",
   "execution_count": null,
   "metadata": {
    "deletable": false,
    "nbgrader": {
     "checksum": "48530866eeda8635d184387a3bb77f97",
     "grade": true,
     "grade_id": "cell-b403953aa7147a53",
     "locked": false,
     "points": 0,
     "schema_version": 1,
     "solution": true
    }
   },
   "outputs": [],
   "source": [
    "# YOUR CODE HERE\n",
    "stop()"
   ]
  },
  {
   "cell_type": "markdown",
   "metadata": {
    "deletable": false,
    "editable": false,
    "nbgrader": {
     "checksum": "a81db7ec2c578a6aa46edd0b3ab32497",
     "grade": false,
     "grade_id": "cell-168246daeb9807fc",
     "locked": true,
     "schema_version": 1,
     "solution": false
    }
   },
   "source": [
    "## Part II: Regression"
   ]
  },
  {
   "cell_type": "markdown",
   "metadata": {
    "deletable": false,
    "editable": false,
    "nbgrader": {
     "checksum": "95f830d26e8f517f4deef8d57da5f6aa",
     "grade": false,
     "grade_id": "cell-f2c1df32d49224a6",
     "locked": true,
     "schema_version": 1,
     "solution": false
    }
   },
   "source": [
    "#### Problem 6\n",
    "Consider the following regression:"
   ]
  },
  {
   "cell_type": "code",
   "execution_count": null,
   "metadata": {
    "deletable": false,
    "editable": false,
    "nbgrader": {
     "checksum": "49a4d310390bd5a064b899625ab78ebe",
     "grade": false,
     "grade_id": "cell-064a0ab5a5cd8379",
     "locked": true,
     "schema_version": 1,
     "solution": false
    }
   },
   "outputs": [],
   "source": [
    "lm(log(price) ~ log(carat), diamonds) %>% summary"
   ]
  },
  {
   "cell_type": "markdown",
   "metadata": {
    "deletable": false,
    "editable": false,
    "nbgrader": {
     "checksum": "323dff0e9ed3b7547a4f417049c901fb",
     "grade": false,
     "grade_id": "cell-1932c5e0d96db248",
     "locked": true,
     "schema_version": 1,
     "solution": false
    }
   },
   "source": [
    "The high $R^2$ and small $p$-values indicate that $\\log(\\text{price})$ and $\\log(\\text{carat})$ are approximately linearly related. (We also plotted this relationship in lecture.)\n",
    "\n",
    "What does this regression say about the relationship between __`price`__ (not `log(price)`) and __`carat`__ (not `log(carat)`)?"
   ]
  },
  {
   "cell_type": "markdown",
   "metadata": {
    "deletable": false,
    "nbgrader": {
     "checksum": "5e23ba89c5b24e1ffb03a7bfc070557f",
     "grade": true,
     "grade_id": "cell-0ad01704f1f557d6",
     "locked": false,
     "points": 2,
     "schema_version": 1,
     "solution": true
    }
   },
   "source": [
    "YOUR ANSWER HERE"
   ]
  },
  {
   "cell_type": "markdown",
   "metadata": {
    "deletable": false,
    "editable": false,
    "nbgrader": {
     "checksum": "30a87d61f6397f00cf0547b3572eb8fc",
     "grade": false,
     "grade_id": "cell-598b995b3a3696a2",
     "locked": true,
     "schema_version": 1,
     "solution": false
    }
   },
   "source": [
    "#### Problem 7\n",
    "Consider the following regression:"
   ]
  },
  {
   "cell_type": "code",
   "execution_count": null,
   "metadata": {
    "deletable": false,
    "editable": false,
    "nbgrader": {
     "checksum": "48c78506c71b7bbc39ab4c8e5cddb07b",
     "grade": false,
     "grade_id": "cell-1891cbb81460efd8",
     "locked": true,
     "schema_version": 1,
     "solution": false
    }
   },
   "outputs": [],
   "source": [
    "lm(price ~ poly(carat, 2), diamonds) %>% summary"
   ]
  },
  {
   "cell_type": "markdown",
   "metadata": {
    "deletable": false,
    "editable": false,
    "nbgrader": {
     "checksum": "f9a6484511129eee3ae3356742654f28",
     "grade": false,
     "grade_id": "cell-c00e987092bbe6c8",
     "locked": true,
     "schema_version": 1,
     "solution": false
    }
   },
   "source": [
    "According to this regression, what is the relationship between `price` and `carat`? What effect does increasing `carat` have on price? Compared to the model in problem 6, do you think that this is this a better or worse model for predicting the price of a diamond based on its weight?"
   ]
  },
  {
   "cell_type": "markdown",
   "metadata": {
    "deletable": false,
    "editable": false,
    "nbgrader": {
     "checksum": "3614a3325419c626ea2b6853a166b9b4",
     "grade": false,
     "grade_id": "cell-8a4fcd25e82f68a0",
     "locked": true,
     "schema_version": 1,
     "solution": false
    }
   },
   "source": [
    "#### Problem 8\n",
    "\n",
    "Pearson's correlation coefficient, denoted $\\rho$, measures the strength of a linear relationship between two variables $x$ and $y$. It's implemented using the `cor()` function in R:"
   ]
  },
  {
   "cell_type": "code",
   "execution_count": null,
   "metadata": {
    "deletable": false,
    "editable": false,
    "nbgrader": {
     "checksum": "15796946b7dbe5be432c923ad02d7f16",
     "grade": false,
     "grade_id": "cell-30374ebf8d61de64",
     "locked": true,
     "schema_version": 1,
     "solution": false
    }
   },
   "outputs": [],
   "source": [
    "set.seed(1)\n",
    "x = rnorm(100, sd=.1)\n",
    "y = 3 + 2 * x + rnorm(100, sd = 1)\n",
    "cor(x, y)"
   ]
  },
  {
   "cell_type": "markdown",
   "metadata": {
    "deletable": false,
    "editable": false,
    "nbgrader": {
     "checksum": "a5bad260367981c24457dd2d334d1d5e",
     "grade": false,
     "grade_id": "cell-66d306d6b06dbb31",
     "locked": true,
     "schema_version": 1,
     "solution": false
    }
   },
   "source": [
    "To test whether a linear relationship exists between two variables, we can use the function `cor.test()` to test the null hypothesis $H_0: \\rho=0$:"
   ]
  },
  {
   "cell_type": "code",
   "execution_count": null,
   "metadata": {
    "deletable": false,
    "editable": false,
    "nbgrader": {
     "checksum": "997f03bbb1caab565843ef0c2abeee03",
     "grade": false,
     "grade_id": "cell-556264c837ba576f",
     "locked": true,
     "schema_version": 1,
     "solution": false
    }
   },
   "outputs": [],
   "source": [
    "cor.test(x, y)"
   ]
  },
  {
   "cell_type": "markdown",
   "metadata": {
    "deletable": false,
    "editable": false,
    "nbgrader": {
     "checksum": "accc31822853c6f2630c0fd22847a5c5",
     "grade": false,
     "grade_id": "cell-96ec4249c290c1ce",
     "locked": true,
     "schema_version": 1,
     "solution": false
    }
   },
   "source": [
    "Consider how you might test whether the correlation between $x$ and $y$ is zero using the linear model. By running an appropriate regression, show that you get *the exact same* $p$-value as that obtained by `cor.test()`. How can we infer the correlation coefficient $\\rho=0.183$ from the regression result?"
   ]
  },
  {
   "cell_type": "code",
   "execution_count": null,
   "metadata": {
    "deletable": false,
    "nbgrader": {
     "checksum": "173fcc6da22dfe37a48f87a13d785c1f",
     "grade": true,
     "grade_id": "cell-614d08251e323a57",
     "locked": false,
     "points": 0,
     "schema_version": 1,
     "solution": true
    }
   },
   "outputs": [],
   "source": [
    "# YOUR CODE HERE\n",
    "stop()"
   ]
  },
  {
   "cell_type": "markdown",
   "metadata": {
    "deletable": false,
    "editable": false,
    "nbgrader": {
     "checksum": "e1ee087401faffad43e76bfe124acf85",
     "grade": false,
     "grade_id": "cell-5343bbadaeba625b",
     "locked": true,
     "schema_version": 1,
     "solution": false
    }
   },
   "source": [
    "#### Problem 9\n",
    "A noted criticism of Pearson's correlation is that it only measures the strength of a *linear* correlation between two random variables. Consider the variables $x$ and $y$ defined in the file `spearman.csv`:"
   ]
  },
  {
   "cell_type": "code",
   "execution_count": null,
   "metadata": {
    "deletable": false,
    "editable": false,
    "nbgrader": {
     "checksum": "bc1904e17ae0fb4b9a82122887ef0003",
     "grade": false,
     "grade_id": "cell-df5f6966bdb2985e",
     "locked": true,
     "schema_version": 1,
     "solution": false
    }
   },
   "outputs": [],
   "source": [
    "sp <- read_csv(\"spearman.csv\") %>% print"
   ]
  },
  {
   "cell_type": "markdown",
   "metadata": {
    "deletable": false,
    "editable": false,
    "nbgrader": {
     "checksum": "ac38ab9f89d47222bcc8555eebeadef7",
     "grade": false,
     "grade_id": "cell-33ba4033c69711c3",
     "locked": true,
     "schema_version": 1,
     "solution": false
    }
   },
   "source": [
    "Are $x$ and $y$ correlated according to Pearson's test? Are they related at all? Support your answer with an appropriate visual or statistical argument."
   ]
  },
  {
   "cell_type": "markdown",
   "metadata": {
    "deletable": false,
    "nbgrader": {
     "checksum": "7e62590ccb03c15700e6f63c45985f43",
     "grade": true,
     "grade_id": "cell-cd5c97ea66b3aed0",
     "locked": false,
     "points": 0,
     "schema_version": 1,
     "solution": true
    }
   },
   "source": [
    "YOUR ANSWER HERE"
   ]
  },
  {
   "cell_type": "code",
   "execution_count": null,
   "metadata": {
    "deletable": false,
    "nbgrader": {
     "checksum": "2e31f68c4d45e2c22872981f9ee54a2b",
     "grade": true,
     "grade_id": "cell-fc4663b01bcef603",
     "locked": false,
     "points": 0,
     "schema_version": 1,
     "solution": true
    }
   },
   "outputs": [],
   "source": [
    "# YOUR CODE HERE\n",
    "stop()"
   ]
  },
  {
   "cell_type": "markdown",
   "metadata": {
    "deletable": false,
    "editable": false,
    "nbgrader": {
     "checksum": "800f9b08df03a6f43507b0cca69428a1",
     "grade": false,
     "grade_id": "cell-0e523ead8c6e3ee3",
     "locked": true,
     "schema_version": 1,
     "solution": false
    }
   },
   "source": [
    "Recall that the `rank()` function maps a vector to a vector of integers denoting the numerical rank of each entry of the vector:"
   ]
  },
  {
   "cell_type": "code",
   "execution_count": null,
   "metadata": {
    "deletable": false,
    "editable": false,
    "nbgrader": {
     "checksum": "551643be0ad7955f33450baa3c9ef7a3",
     "grade": false,
     "grade_id": "cell-3a72abe598e1d7a0",
     "locked": true,
     "schema_version": 1,
     "solution": false
    }
   },
   "outputs": [],
   "source": [
    "rank(c(2,6,9,10,8))"
   ]
  },
  {
   "cell_type": "markdown",
   "metadata": {
    "deletable": false,
    "editable": false,
    "nbgrader": {
     "checksum": "127225660c60fa8303bb5126834e13e7",
     "grade": false,
     "grade_id": "cell-c7f6b3dee75be6af",
     "locked": true,
     "schema_version": 1,
     "solution": false
    }
   },
   "source": [
    "To address potential shortcomings in Pearson's test, *Spearman's rank correlation test* looks for correlations between the *ranks* of two vectors $x$ and $y$. This will do a better job of picking out a non-linear relationship between $x$ and $y$, so long as that relationship is [monotonic](https://en.wikipedia.org/wiki/Monotonic_function). Verify this visualizing the relationship of `rank(x)` and `rank(y)`."
   ]
  },
  {
   "cell_type": "code",
   "execution_count": null,
   "metadata": {
    "deletable": false,
    "nbgrader": {
     "checksum": "3bf6646df617856bb1529cac12839a07",
     "grade": true,
     "grade_id": "cell-703b841606ec609c",
     "locked": false,
     "points": 0,
     "schema_version": 1,
     "solution": true
    }
   },
   "outputs": [],
   "source": [
    "# YOUR CODE HERE\n",
    "stop()"
   ]
  },
  {
   "cell_type": "markdown",
   "metadata": {
    "deletable": false,
    "editable": false,
    "nbgrader": {
     "checksum": "7cc9e61512cc28b320689e9de4414def",
     "grade": false,
     "grade_id": "cell-62f7756b85d3e29e",
     "locked": true,
     "schema_version": 1,
     "solution": false
    }
   },
   "source": [
    "Spearman's test is implemented using the `cor.test(..., method=\"spearman\")` command.\n",
    "\n",
    "Show that regressing the rank of `y` on the rank of `x` gives you you the *exact same* $p$-values and estimates for $\\rho$ as Spearman't test."
   ]
  },
  {
   "cell_type": "code",
   "execution_count": null,
   "metadata": {
    "deletable": false,
    "nbgrader": {
     "checksum": "cbe56ecea58edf7b9be2a0b268d00495",
     "grade": true,
     "grade_id": "cell-7c2681f67d5e97c7",
     "locked": false,
     "points": 0,
     "schema_version": 1,
     "solution": true
    }
   },
   "outputs": [],
   "source": [
    "# YOUR CODE HERE\n",
    "stop()"
   ]
  },
  {
   "cell_type": "markdown",
   "metadata": {
    "deletable": false,
    "editable": false,
    "nbgrader": {
     "checksum": "fe52e2a2d3520a9aafc94db216da9e29",
     "grade": false,
     "grade_id": "cell-79fbe388eff1e416",
     "locked": true,
     "schema_version": 1,
     "solution": false
    }
   },
   "source": [
    "Spearman's test is an example of a [non-parametric](https://en.wikipedia.org/wiki/Nonparametric_statistics) test: it does not make any assumptions about the distribution of the data. We will see other examples of non-parametric tests below."
   ]
  },
  {
   "cell_type": "markdown",
   "metadata": {
    "deletable": false,
    "editable": false,
    "nbgrader": {
     "checksum": "64a2e558684cd58c522093a0025163b0",
     "grade": false,
     "grade_id": "cell-50d2b3d695df7c8c",
     "locked": true,
     "schema_version": 1,
     "solution": false
    }
   },
   "source": [
    "#### Problem 10\n",
    "##### The $t$-test\n",
    "The one-sample $t$-test is used to test the null hypothesis that the mean of a random variable is zero. It's implemented in R using the `t.test()` command:"
   ]
  },
  {
   "cell_type": "code",
   "execution_count": null,
   "metadata": {
    "deletable": false,
    "editable": false,
    "nbgrader": {
     "checksum": "0f0865ce16426972f49acf14fbc1c125",
     "grade": false,
     "grade_id": "cell-567e578d7fa9d650",
     "locked": true,
     "schema_version": 1,
     "solution": false
    }
   },
   "outputs": [],
   "source": [
    "x <- rnorm(100, mean=.1)\n",
    "t.test(x)"
   ]
  },
  {
   "cell_type": "markdown",
   "metadata": {
    "deletable": false,
    "editable": false,
    "nbgrader": {
     "checksum": "583ef870714334c39fc017e639fb1c69",
     "grade": false,
     "grade_id": "cell-5b7c91dc23771f91",
     "locked": true,
     "schema_version": 1,
     "solution": false
    }
   },
   "source": [
    "By running an appropriate regression, show that the linear model produces *the exact same* $t$ statistic, confidence intervals, and $p$-values as the $t$-test."
   ]
  },
  {
   "cell_type": "code",
   "execution_count": null,
   "metadata": {
    "deletable": false,
    "nbgrader": {
     "checksum": "c4ff07215e48d304bfdc5ea74afb84db",
     "grade": true,
     "grade_id": "cell-f54825f6e6acf9a3",
     "locked": false,
     "points": 0,
     "schema_version": 1,
     "solution": true
    }
   },
   "outputs": [],
   "source": [
    "# YOUR CODE HERE\n",
    "stop()"
   ]
  }
 ],
 "metadata": {
  "kernelspec": {
   "display_name": "R",
   "language": "R",
   "name": "ir"
  },
  "language_info": {
   "codemirror_mode": "r",
   "file_extension": ".r",
   "mimetype": "text/x-r-source",
   "name": "R",
   "pygments_lexer": "r",
   "version": "3.5.2"
  }
 },
 "nbformat": 4,
 "nbformat_minor": 2
}
