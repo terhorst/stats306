{
 "cells": [
  {
   "cell_type": "code",
   "execution_count": 2,
   "metadata": {
    "nbgrader": {
     "grade": false,
     "grade_id": "cell-892bf1ae756bcb37",
     "locked": true,
     "schema_version": 1,
     "solution": false
    },
    "scrolled": true
   },
   "outputs": [
    {
     "name": "stderr",
     "output_type": "stream",
     "text": [
      "── Attaching packages ─────────────────────────────────────── tidyverse 1.2.1 ──\n",
      "✔ ggplot2 3.2.1     ✔ purrr   0.3.2\n",
      "✔ tibble  2.1.3     ✔ dplyr   0.8.3\n",
      "✔ tidyr   0.8.3     ✔ stringr 1.4.0\n",
      "✔ readr   1.3.0     ✔ forcats 0.3.0\n",
      "── Conflicts ────────────────────────────────────────── tidyverse_conflicts() ──\n",
      "✖ dplyr::filter()  masks stats::filter()\n",
      "✖ purrr::flatten() masks jsonlite::flatten()\n",
      "✖ dplyr::lag()     masks stats::lag()\n"
     ]
    }
   ],
   "source": [
    "library(tidyverse)\n",
    "library(modelr)\n",
    "source(\"rod.R\")"
   ]
  },
  {
   "cell_type": "markdown",
   "metadata": {
    "nbgrader": {
     "grade": false,
     "grade_id": "cell-f73c39701a1d2ed0",
     "locked": true,
     "schema_version": 1,
     "solution": false
    }
   },
   "source": [
    "# STATS 306\n",
    "## Problem Set 8\n",
    "Each problem is worth one point, for a total of 10."
   ]
  },
  {
   "cell_type": "markdown",
   "metadata": {
    "nbgrader": {
     "grade": false,
     "grade_id": "cell-8a2e07e86f10fb73",
     "locked": true,
     "schema_version": 1,
     "solution": false
    }
   },
   "source": [
    "## Part I: Simulation\n",
    "In Exercises 1-5, you will write code to simulate certain experiments. The solutions to these exercises are examples of the [Monte Carlo method](https://en.wikipedia.org/wiki/Monte_Carlo_method)."
   ]
  },
  {
   "cell_type": "markdown",
   "metadata": {
    "nbgrader": {
     "grade": false,
     "grade_id": "cell-94ac4e014767480e",
     "locked": true,
     "schema_version": 1,
     "solution": false
    }
   },
   "source": [
    "### Playing card experiment\n",
    "\n",
    "Suppose you are given two standard decks of playing cards (52 cards each, total of 104 cards) and you do the following experiment: \n",
    "1.  Shuffle both decks thoroughly, so that they are randomly ordered.\n",
    "2.  Draw the top card off of each deck.\n",
    "3.  If the two cards exactly match (same suit and rank), award yourself one point; otherwise award yourself no points.\n",
    "4.  Repeat steps two and three for the remaining 51 pairs of cards.\n",
    "Let $X$ be your total score at the end of the experiment.\n",
    "\n",
    "By writing code to simulate this experiment, answer problems 1-3:"
   ]
  },
  {
   "cell_type": "markdown",
   "metadata": {
    "nbgrader": {
     "grade": false,
     "grade_id": "cell-7a89102c744f738f",
     "locked": true,
     "schema_version": 1,
     "solution": false
    }
   },
   "source": [
    "#### Problem 1\n",
    "To the nearest hundredth, what the expected value of $X$, i.e. what is $\\mathbb{E}X$?"
   ]
  },
  {
   "cell_type": "code",
   "execution_count": 99,
   "metadata": {
    "nbgrader": {
     "grade": true,
     "grade_id": "cell-dec6fd269c3c69fc",
     "locked": false,
     "points": 0,
     "schema_version": 1,
     "solution": true
    }
   },
   "outputs": [
    {
     "data": {
      "text/plain": [
       "[1] 0.9967649 1.0047611"
      ]
     },
     "metadata": {},
     "output_type": "display_data"
    }
   ],
   "source": [
    "### BEGIN SOLUTION\n",
    "# deck <- as.vector(outer(c(2:10, \"J\", \"Q\", \"K\", \"A\"), c(\"♠\", \"♥\", \"♦\", \"♣\"), str_c, sep=\"\"))\n",
    "set.seed(1)\n",
    "play_game <- function(.) sum(sample(52) == 1:52)  # count fixed points of a random permutation.\n",
    "n <- 1000000\n",
    "X <- map_int(1:n, play_game) \n",
    "mu <- mean(X)\n",
    "sigma <- sd(X) / sqrt(n)\n",
    "c(mu - 4 * sigma, mu + 4 * sigma)\n",
    "# with 1 million trials, the mean is 1.0016 with a standard error of .001. \n",
    "# Hence, with overwhelmingly high probability, the sample mean is in the range \n",
    "# [1.0016 - 3 * .001, 1.0016 + 3 * .001] = [0.9967649, 1.0047611], so we can conclude \n",
    "# that E(X) = 1.00.\n",
    "### END SOLUTION"
   ]
  },
  {
   "cell_type": "markdown",
   "metadata": {
    "nbgrader": {
     "grade": false,
     "grade_id": "cell-b34ded43588d46db",
     "locked": true,
     "schema_version": 1,
     "solution": false
    }
   },
   "source": [
    "#### Problem 2\n",
    "To the nearest hundredth, what is the probability that $X$ is equal to zero? I.e., what is $\\mathbb{P}(X=0)$? (*Hint*: the probability that $X=0$ equals the expected value of a random variable which equals one when $X=0$ and zero otherwise.)"
   ]
  },
  {
   "cell_type": "code",
   "execution_count": 60,
   "metadata": {
    "nbgrader": {
     "grade": true,
     "grade_id": "cell-a64a4b9b483aabb5",
     "locked": false,
     "points": 0,
     "schema_version": 1,
     "solution": true
    }
   },
   "outputs": [
    {
     "data": {
      "text/plain": [
       "[1] 0.3662358 0.3700942"
      ]
     },
     "metadata": {},
     "output_type": "display_data"
    }
   ],
   "source": [
    "### BEGIN SOLUTION\n",
    "# deck <- as.vector(outer(c(2:10, \"J\", \"Q\", \"K\", \"A\"), c(\"♠\", \"♥\", \"♦\", \"♣\"), str_c, sep=\"\"))\n",
    "X0 = X == 0\n",
    "mu_0 <- mean(X0)\n",
    "sigma_0 <- sd(X0) / sqrt(n)\n",
    "c(mu_0 - 4 * sigma_0, mu_0 + 4 * sigma_0)\n",
    "# 0.37\n",
    "### END SOLUTION"
   ]
  },
  {
   "cell_type": "markdown",
   "metadata": {
    "nbgrader": {
     "grade": false,
     "grade_id": "cell-f82876820245f0f1",
     "locked": true,
     "schema_version": 1,
     "solution": false
    }
   },
   "source": [
    "#### Problem 3\n",
    "Can you give an exact answer for problem 2? (Hint: consider $1/\\mathbb{P}(X=0)$)."
   ]
  },
  {
   "cell_type": "code",
   "execution_count": 93,
   "metadata": {
    "nbgrader": {
     "grade": true,
     "grade_id": "cell-2b4e6acceeae750d",
     "locked": false,
     "points": 0,
     "schema_version": 1,
     "solution": true
    }
   },
   "outputs": [
    {
     "data": {
      "text/plain": [
       "[1] 2.721874"
      ]
     },
     "metadata": {},
     "output_type": "display_data"
    }
   ],
   "source": [
    "### BEGIN SOLUTION\n",
    "# 1 / mu_0 = 2.722207. This looks pretty close to $e = 2.718282$. \n",
    "# If we simulate more, we find that indeed, P(X=0) is very close to 1/e. \n",
    "# (Mathematically, it would converge to 1/e if we let the deck size tend to infinity.)\n",
    "# \n",
    "1 / mean(map_int(1:1000000, play_game) == 0)\n",
    "### END SOLUTION"
   ]
  },
  {
   "cell_type": "markdown",
   "metadata": {
    "nbgrader": {
     "grade": false,
     "grade_id": "cell-3e1a9f9b62326182",
     "locked": true,
     "schema_version": 1,
     "solution": false
    }
   },
   "source": [
    "#### Problem 4\n",
    "Suppose I repeat the following experiment a large number of times: sample a point $(x,y)$ uniformly at random from $[-1,1]\\times[-1,1]$. Let $Z=1$ if the distance from $(x,y)$ to the origin is less than one. What is $\\mathbb{E}Z$, the expected value of $Z$? Can you give an exact expression?"
   ]
  },
  {
   "cell_type": "code",
   "execution_count": 87,
   "metadata": {
    "nbgrader": {
     "grade": true,
     "grade_id": "cell-9e6d730e76d4355a",
     "locked": false,
     "points": 0,
     "schema_version": 1,
     "solution": true
    }
   },
   "outputs": [
    {
     "data": {
      "text/plain": [
       "[1] 0.786015"
      ]
     },
     "metadata": {},
     "output_type": "display_data"
    },
    {
     "data": {
      "text/plain": [
       "[1] 0.7853982"
      ]
     },
     "metadata": {},
     "output_type": "display_data"
    }
   ],
   "source": [
    "### BEGIN SOLUTION\n",
    "x = runif(n = 1000000)\n",
    "y = runif(n = 1000000)\n",
    "Z = sqrt(x^2 + y^2) <= 1\n",
    "mean(Z)\n",
    "# this is simply the ratio of the area of a unit circle to the area of the box.\n",
    "# in other words, pi / 4\n",
    "pi / 4\n",
    "### END SOLUTION"
   ]
  },
  {
   "cell_type": "markdown",
   "metadata": {
    "nbgrader": {
     "grade": false,
     "grade_id": "cell-e3c6092f3e8ca1c7",
     "locked": true,
     "schema_version": 1,
     "solution": false
    }
   },
   "source": [
    "#### Problem 5\n",
    "Suppose I repeat the following experiment a large number of times: I draw two parallel lines 1 inch apart on the floor. Then, I drop a 1-inch long rod on the floor so that its center falls somewhere between the two lines.\n",
    "\n",
    "What is the probability that the rod intersects one of the two lines?\n",
    "\n",
    "The function `run_rod_experiment()` can be run repeatedly to illustrate how the game is played:"
   ]
  },
  {
   "cell_type": "code",
   "execution_count": 5,
   "metadata": {
    "nbgrader": {
     "grade": false,
     "grade_id": "cell-b0d10de42699590c",
     "locked": true,
     "schema_version": 1,
     "solution": false
    }
   },
   "outputs": [
    {
     "data": {
      "image/png": "[encoded data removed]"
     },
     "metadata": {},
     "output_type": "display_data"
    }
   ],
   "source": [
    "run_rod_experiment()"
   ]
  },
  {
   "cell_type": "code",
   "execution_count": 120,
   "metadata": {
    "nbgrader": {
     "grade": true,
     "grade_id": "cell-b403953aa7147a53",
     "locked": false,
     "points": 0,
     "schema_version": 1,
     "solution": true
    }
   },
   "outputs": [],
   "source": [
    "### BEGIN SOLUTION\n",
    "\n",
    "### END SOLUTION"
   ]
  },
  {
   "cell_type": "markdown",
   "metadata": {
    "nbgrader": {
     "grade": false,
     "grade_id": "cell-168246daeb9807fc",
     "locked": true,
     "schema_version": 1,
     "solution": false
    }
   },
   "source": [
    "## Part II: Regression"
   ]
  },
  {
   "cell_type": "markdown",
   "metadata": {
    "nbgrader": {
     "grade": false,
     "grade_id": "cell-f2c1df32d49224a6",
     "locked": true,
     "schema_version": 1,
     "solution": false
    }
   },
   "source": [
    "#### Problem 6\n",
    "Consider the following regression:"
   ]
  },
  {
   "cell_type": "code",
   "execution_count": 123,
   "metadata": {
    "nbgrader": {
     "grade": false,
     "grade_id": "cell-064a0ab5a5cd8379",
     "locked": true,
     "schema_version": 1,
     "solution": false
    }
   },
   "outputs": [
    {
     "data": {
      "text/plain": [
       "\n",
       "Call:\n",
       "lm(formula = log(price) ~ log(carat), data = diamonds)\n",
       "\n",
       "Residuals:\n",
       "     Min       1Q   Median       3Q      Max \n",
       "-1.50833 -0.16951 -0.00591  0.16637  1.33793 \n",
       "\n",
       "Coefficients:\n",
       "            Estimate Std. Error t value Pr(>|t|)    \n",
       "(Intercept) 8.448661   0.001365  6190.9   <2e-16 ***\n",
       "log(carat)  1.675817   0.001934   866.6   <2e-16 ***\n",
       "---\n",
       "Signif. codes:  0 ‘***’ 0.001 ‘**’ 0.01 ‘*’ 0.05 ‘.’ 0.1 ‘ ’ 1\n",
       "\n",
       "Residual standard error: 0.2627 on 53938 degrees of freedom\n",
       "Multiple R-squared:  0.933,\tAdjusted R-squared:  0.933 \n",
       "F-statistic: 7.51e+05 on 1 and 53938 DF,  p-value: < 2.2e-16\n"
      ]
     },
     "metadata": {},
     "output_type": "display_data"
    }
   ],
   "source": [
    "lm(log(price) ~ log(carat), diamonds) %>% summary"
   ]
  },
  {
   "cell_type": "markdown",
   "metadata": {
    "nbgrader": {
     "grade": false,
     "grade_id": "cell-1932c5e0d96db248",
     "locked": true,
     "schema_version": 1,
     "solution": false
    }
   },
   "source": [
    "The high $R^2$ and small $p$-values indicate that $\\log(\\text{price})$ and $\\log(\\text{carat})$ are approximately linearly related. (We also plotted this relationship in lecture.)\n",
    "\n",
    "What does this regression say about the relationship between __`price`__ (not `log(price)`) and __`carat`__ (not `log(carat)`)?"
   ]
  },
  {
   "cell_type": "markdown",
   "metadata": {
    "nbgrader": {
     "grade": true,
     "grade_id": "cell-0ad01704f1f557d6",
     "locked": false,
     "points": 2,
     "schema_version": 1,
     "solution": true
    }
   },
   "source": [
    "### BEGIN SOLUTION\n",
    "$\\text{price} = e^{a_0}\\exp({a_1\\text{carat}}).$ An increase of one carat increases price by a multiplicative factor of $e^{1.68} = 5.4$.\n",
    "### END SOLUTION"
   ]
  },
  {
   "cell_type": "markdown",
   "metadata": {
    "nbgrader": {
     "grade": false,
     "grade_id": "cell-598b995b3a3696a2",
     "locked": true,
     "schema_version": 1,
     "solution": false
    }
   },
   "source": [
    "#### Problem 7\n",
    "Consider the following regression:"
   ]
  },
  {
   "cell_type": "code",
   "execution_count": 126,
   "metadata": {
    "nbgrader": {
     "grade": false,
     "grade_id": "cell-1891cbb81460efd8",
     "locked": true,
     "schema_version": 1,
     "solution": false
    }
   },
   "outputs": [
    {
     "data": {
      "text/plain": [
       "\n",
       "Call:\n",
       "lm(formula = price ~ poly(carat, 2), data = diamonds)\n",
       "\n",
       "Residuals:\n",
       "     Min       1Q   Median       3Q      Max \n",
       "-26350.0   -724.2    -35.9    445.8  12881.1 \n",
       "\n",
       "Coefficients:\n",
       "                 Estimate Std. Error t value Pr(>|t|)    \n",
       "(Intercept)     3.933e+03  6.631e+00   593.1   <2e-16 ***\n",
       "poly(carat, 2)1 8.539e+05  1.540e+03   554.4   <2e-16 ***\n",
       "poly(carat, 2)2 3.757e+04  1.540e+03    24.4   <2e-16 ***\n",
       "---\n",
       "Signif. codes:  0 ‘***’ 0.001 ‘**’ 0.01 ‘*’ 0.05 ‘.’ 0.1 ‘ ’ 1\n",
       "\n",
       "Residual standard error: 1540 on 53937 degrees of freedom\n",
       "Multiple R-squared:  0.851,\tAdjusted R-squared:  0.851 \n",
       "F-statistic: 1.54e+05 on 2 and 53937 DF,  p-value: < 2.2e-16\n"
      ]
     },
     "metadata": {},
     "output_type": "display_data"
    }
   ],
   "source": [
    "lm(price ~ poly(carat, 2), diamonds) %>% summary"
   ]
  },
  {
   "cell_type": "markdown",
   "metadata": {
    "nbgrader": {
     "grade": false,
     "grade_id": "cell-c00e987092bbe6c8",
     "locked": true,
     "schema_version": 1,
     "solution": false
    }
   },
   "source": [
    "According to this regression, what is the relationship between `price` and `carat`? What effect does increasing `carat` have on price? Compared to the model in problem 6, do you think that this is this a better or worse model for predicting the price of a diamond based on its weight?"
   ]
  },
  {
   "cell_type": "markdown",
   "metadata": {
    "nbgrader": {
     "grade": false,
     "grade_id": "cell-8a4fcd25e82f68a0",
     "locked": true,
     "schema_version": 1,
     "solution": false
    }
   },
   "source": [
    "#### Problem 8\n",
    "\n",
    "Pearson's correlation coefficient, denoted $\\rho$, measures the strength of a linear relationship between two variables $x$ and $y$. It's implemented using the `cor()` function in R:"
   ]
  },
  {
   "cell_type": "code",
   "execution_count": 8,
   "metadata": {
    "nbgrader": {
     "grade": false,
     "grade_id": "cell-30374ebf8d61de64",
     "locked": true,
     "schema_version": 1,
     "solution": false
    }
   },
   "outputs": [
    {
     "data": {
      "text/html": [
       "0.183381506888591"
      ],
      "text/latex": [
       "0.183381506888591"
      ],
      "text/markdown": [
       "0.183381506888591"
      ],
      "text/plain": [
       "[1] 0.1833815"
      ]
     },
     "metadata": {},
     "output_type": "display_data"
    }
   ],
   "source": [
    "set.seed(1)\n",
    "x = rnorm(100, sd=.1)\n",
    "y = 3 + 2 * x + rnorm(100, sd = 1)\n",
    "cor(x, y)"
   ]
  },
  {
   "cell_type": "markdown",
   "metadata": {
    "nbgrader": {
     "grade": false,
     "grade_id": "cell-66d306d6b06dbb31",
     "locked": true,
     "schema_version": 1,
     "solution": false
    }
   },
   "source": [
    "To test whether a linear relationship exists between two variables, we can use the function `cor.test()` to test the null hypothesis $H_0: \\rho=0$:"
   ]
  },
  {
   "cell_type": "code",
   "execution_count": 9,
   "metadata": {
    "nbgrader": {
     "grade": false,
     "grade_id": "cell-556264c837ba576f",
     "locked": true,
     "schema_version": 1,
     "solution": false
    }
   },
   "outputs": [
    {
     "data": {
      "text/plain": [
       "\n",
       "\tPearson's product-moment correlation\n",
       "\n",
       "data:  x and y\n",
       "t = 1.8467, df = 98, p-value = 0.06781\n",
       "alternative hypothesis: true correlation is not equal to 0\n",
       "95 percent confidence interval:\n",
       " -0.01352373  0.36659507\n",
       "sample estimates:\n",
       "      cor \n",
       "0.1833815 \n"
      ]
     },
     "metadata": {},
     "output_type": "display_data"
    }
   ],
   "source": [
    "cor.test(x, y)"
   ]
  },
  {
   "cell_type": "markdown",
   "metadata": {
    "nbgrader": {
     "grade": false,
     "grade_id": "cell-96ec4249c290c1ce",
     "locked": true,
     "schema_version": 1,
     "solution": false
    }
   },
   "source": [
    "Consider how you might test whether the correlation between $x$ and $y$ is zero using the linear model. By running an appropriate regression, show that you get *the exact same* $p$-value as that obtained by `cor.test()`. How can we infer the correlation coefficient $\\rho=0.183$ from the regression result?"
   ]
  },
  {
   "cell_type": "code",
   "execution_count": 10,
   "metadata": {
    "nbgrader": {
     "grade": true,
     "grade_id": "cell-614d08251e323a57",
     "locked": false,
     "points": 0,
     "schema_version": 1,
     "solution": true
    }
   },
   "outputs": [
    {
     "name": "stdout",
     "output_type": "stream",
     "text": [
      "\n",
      "Call:\n",
      "lm(formula = y ~ x)\n",
      "\n",
      "Residuals:\n",
      "    Min      1Q  Median      3Q     Max \n",
      "-1.8768 -0.6138 -0.1395  0.5394  2.3462 \n",
      "\n",
      "Coefficients:\n",
      "            Estimate Std. Error t value Pr(>|t|)    \n",
      "(Intercept)  2.96231    0.09699  30.543   <2e-16 ***\n",
      "x            1.98940    1.07727   1.847   0.0678 .  \n",
      "---\n",
      "Signif. codes:  0 ‘***’ 0.001 ‘**’ 0.01 ‘*’ 0.05 ‘.’ 0.1 ‘ ’ 1\n",
      "\n",
      "Residual standard error: 0.9628 on 98 degrees of freedom\n",
      "Multiple R-squared:  0.03363,\tAdjusted R-squared:  0.02377 \n",
      "F-statistic:  3.41 on 1 and 98 DF,  p-value: 0.06781\n",
      "\n"
     ]
    },
    {
     "data": {
      "text/html": [
       "<table>\n",
       "<caption>A matrix: 2 × 4 of type dbl</caption>\n",
       "<thead>\n",
       "\t<tr><th></th><th scope=col>Estimate</th><th scope=col>Std. Error</th><th scope=col>t value</th><th scope=col>Pr(&gt;|t|)</th></tr>\n",
       "</thead>\n",
       "<tbody>\n",
       "\t<tr><th scope=row>(Intercept)</th><td>2.962307</td><td>0.09698729</td><td>30.543252</td><td>7.065184e-52</td></tr>\n",
       "\t<tr><th scope=row>x</th><td>1.989396</td><td>1.07727031</td><td> 1.846701</td><td>6.780814e-02</td></tr>\n",
       "</tbody>\n",
       "</table>\n"
      ],
      "text/latex": [
       "A matrix: 2 × 4 of type dbl\n",
       "\\begin{tabular}{r|llll}\n",
       "  & Estimate & Std. Error & t value & Pr(>\\textbar{}t\\textbar{})\\\\\n",
       "\\hline\n",
       "\t(Intercept) & 2.962307 & 0.09698729 & 30.543252 & 7.065184e-52\\\\\n",
       "\tx & 1.989396 & 1.07727031 &  1.846701 & 6.780814e-02\\\\\n",
       "\\end{tabular}\n"
      ],
      "text/markdown": [
       "\n",
       "A matrix: 2 × 4 of type dbl\n",
       "\n",
       "| <!--/--> | Estimate | Std. Error | t value | Pr(&gt;|t|) |\n",
       "|---|---|---|---|---|\n",
       "| (Intercept) | 2.962307 | 0.09698729 | 30.543252 | 7.065184e-52 |\n",
       "| x | 1.989396 | 1.07727031 |  1.846701 | 6.780814e-02 |\n",
       "\n"
      ],
      "text/plain": [
       "            Estimate Std. Error t value   Pr(>|t|)    \n",
       "(Intercept) 2.962307 0.09698729 30.543252 7.065184e-52\n",
       "x           1.989396 1.07727031  1.846701 6.780814e-02"
      ]
     },
     "metadata": {},
     "output_type": "display_data"
    },
    {
     "data": {
      "text/html": [
       "0.183381506888591"
      ],
      "text/latex": [
       "0.183381506888591"
      ],
      "text/markdown": [
       "0.183381506888591"
      ],
      "text/plain": [
       "[1] 0.1833815"
      ]
     },
     "metadata": {},
     "output_type": "display_data"
    }
   ],
   "source": [
    "### BEGIN SOLUTION\n",
    "s <- lm(y ~ x) %>% summary %>% print\n",
    "coef(s)\n",
    "s$r.squared %>% sqrt\n",
    "### END SOLUTION"
   ]
  },
  {
   "cell_type": "markdown",
   "metadata": {
    "nbgrader": {
     "grade": false,
     "grade_id": "cell-5343bbadaeba625b",
     "locked": true,
     "schema_version": 1,
     "solution": false
    }
   },
   "source": [
    "#### Problem 9\n",
    "\n",
    "A noted criticism of Pearson's correlation is that it only measures the strength of a *linear* correlation between two random variables. Consider the variables $x$ and $y$ defined in the file `spearman.csv`:"
   ]
  },
  {
   "cell_type": "code",
   "execution_count": 6,
   "metadata": {
    "nbgrader": {
     "grade": false,
     "grade_id": "cell-df5f6966bdb2985e",
     "locked": true,
     "schema_version": 1,
     "solution": false
    }
   },
   "outputs": [
    {
     "name": "stderr",
     "output_type": "stream",
     "text": [
      "Parsed with column specification:\n",
      "cols(\n",
      "  x = col_double(),\n",
      "  y = col_double()\n",
      ")\n"
     ]
    },
    {
     "name": "stdout",
     "output_type": "stream",
     "text": [
      "# A tibble: 101 x 2\n",
      "        x       y\n",
      "    <dbl>   <dbl>\n",
      " 1 0.689   0.594 \n",
      " 2 0.468   0.119 \n",
      " 3 0.808   0.580 \n",
      " 4 0.0934  0.100 \n",
      " 5 0.238   0.0981\n",
      " 6 0.0467 -0.0138\n",
      " 7 0.655   0.412 \n",
      " 8 0.171   0.118 \n",
      " 9 0.591   0.251 \n",
      "10 0.508   0.512 \n",
      "# … with 91 more rows\n"
     ]
    }
   ],
   "source": [
    "sp <- read_csv(\"spearman.csv\") %>% print"
   ]
  },
  {
   "cell_type": "markdown",
   "metadata": {
    "nbgrader": {
     "grade": false,
     "grade_id": "cell-33ba4033c69711c3",
     "locked": true,
     "schema_version": 1,
     "solution": false
    }
   },
   "source": [
    "Are $x$ and $y$ correlated according to Pearson's test? Are they related at all? Support your answer with an appropriate visual or statistical argument."
   ]
  },
  {
   "cell_type": "markdown",
   "metadata": {
    "nbgrader": {
     "grade": true,
     "grade_id": "cell-cd5c97ea66b3aed0",
     "locked": false,
     "points": 0,
     "schema_version": 1,
     "solution": true
    }
   },
   "source": [
    "### BEGIN SOLUTION\n",
    "The Pearson test is insignificant, but if you plot the data you'll see that the result is driven by a single outlier. If you drop the outlier, you get a significant result. Note also that the remaining data seem to lie on a curve. They are related, but not necessarily linearly related.\n",
    "### END SOLUTION"
   ]
  },
  {
   "cell_type": "code",
   "execution_count": 7,
   "metadata": {
    "nbgrader": {
     "grade": true,
     "grade_id": "cell-fc4663b01bcef603",
     "locked": false,
     "points": 0,
     "schema_version": 1,
     "solution": true
    }
   },
   "outputs": [
    {
     "data": {
      "text/plain": [
       "\n",
       "\tPearson's product-moment correlation\n",
       "\n",
       "data:  sp$x and sp$y\n",
       "t = 0.16219, df = 99, p-value = 0.8715\n",
       "alternative hypothesis: true correlation is not equal to 0\n",
       "95 percent confidence interval:\n",
       " -0.1797128  0.2110658\n",
       "sample estimates:\n",
       "       cor \n",
       "0.01629891 \n"
      ]
     },
     "metadata": {},
     "output_type": "display_data"
    },
    {
     "data": {
      "text/plain": [
       "\n",
       "\tPearson's product-moment correlation\n",
       "\n",
       "data:  sp$x[!outlier] and sp$y[!outlier]\n",
       "t = 21.195, df = 98, p-value < 2.2e-16\n",
       "alternative hypothesis: true correlation is not equal to 0\n",
       "95 percent confidence interval:\n",
       " 0.8632539 0.9359054\n",
       "sample estimates:\n",
       "      cor \n",
       "0.9060443 \n"
      ]
     },
     "metadata": {},
     "output_type": "display_data"
    },
    {
     "data": {
      "image/png": "[encoded data removed]"
     },
     "metadata": {},
     "output_type": "display_data"
    }
   ],
   "source": [
    "### BEGIN SOLUTION\n",
    "cor.test(sp$x, sp$y)\n",
    "qplot(sp$x, sp$y)\n",
    "outlier = sp$y > 2\n",
    "cor.test(sp$x[!outlier], sp$y[!outlier])\n",
    "### END SOLUTION"
   ]
  },
  {
   "cell_type": "markdown",
   "metadata": {
    "nbgrader": {
     "grade": false,
     "grade_id": "cell-0e523ead8c6e3ee3",
     "locked": true,
     "schema_version": 1,
     "solution": false
    }
   },
   "source": [
    "#### Problem 9\n",
    "Recall that the `rank()` function maps a vector to a vector of integers denoting the numerical rank of each entry of the vector:"
   ]
  },
  {
   "cell_type": "code",
   "execution_count": 19,
   "metadata": {
    "nbgrader": {
     "grade": false,
     "grade_id": "cell-3a72abe598e1d7a0",
     "locked": true,
     "schema_version": 1,
     "solution": false
    }
   },
   "outputs": [
    {
     "data": {
      "text/html": [
       "<ol class=list-inline>\n",
       "\t<li>1</li>\n",
       "\t<li>2</li>\n",
       "\t<li>4</li>\n",
       "\t<li>5</li>\n",
       "\t<li>3</li>\n",
       "</ol>\n"
      ],
      "text/latex": [
       "\\begin{enumerate*}\n",
       "\\item 1\n",
       "\\item 2\n",
       "\\item 4\n",
       "\\item 5\n",
       "\\item 3\n",
       "\\end{enumerate*}\n"
      ],
      "text/markdown": [
       "1. 1\n",
       "2. 2\n",
       "3. 4\n",
       "4. 5\n",
       "5. 3\n",
       "\n",
       "\n"
      ],
      "text/plain": [
       "[1] 1 2 4 5 3"
      ]
     },
     "metadata": {},
     "output_type": "display_data"
    }
   ],
   "source": [
    "rank(c(2,6,9,10,8))"
   ]
  },
  {
   "cell_type": "markdown",
   "metadata": {
    "nbgrader": {
     "grade": false,
     "grade_id": "cell-c7f6b3dee75be6af",
     "locked": true,
     "schema_version": 1,
     "solution": false
    }
   },
   "source": [
    "To address potential shortcomings in Pearson's test, *Spearman's rank correlation test* looks for correlations between the *ranks* of two vectors $x$ and $y$. This will do a better job of picking out a non-linear relationship between $x$ and $y$, so long as that relationship is [monotonic](https://en.wikipedia.org/wiki/Monotonic_function). Verify this visualizing the relationship of `rank(x)` and `rank(y)`."
   ]
  },
  {
   "cell_type": "code",
   "execution_count": 20,
   "metadata": {
    "nbgrader": {
     "grade": true,
     "grade_id": "cell-703b841606ec609c",
     "locked": false,
     "points": 0,
     "schema_version": 1,
     "solution": true
    }
   },
   "outputs": [
    {
     "data": {
      "image/png": "[encoded data removed]",
      "text/plain": [
       "plot without title"
      ]
     },
     "metadata": {},
     "output_type": "display_data"
    }
   ],
   "source": [
    "### BEGIN SOLUTION\n",
    "ggplot(sp, aes(rank(x), rank(y))) + geom_point() + geom_smooth(method=\"lm\")\n",
    "### END SOLUTION"
   ]
  },
  {
   "cell_type": "markdown",
   "metadata": {
    "nbgrader": {
     "grade": false,
     "grade_id": "cell-62f7756b85d3e29e",
     "locked": true,
     "schema_version": 1,
     "solution": false
    }
   },
   "source": [
    "Spearman's test is implemented using the `cor.test(..., method=\"spearman\")` command.\n",
    "\n",
    "Show that regressing the rank of `y` on the rank of `x` gives you you the *exact same* $p$-values and estimates for $\\rho$ as Spearman't test."
   ]
  },
  {
   "cell_type": "code",
   "execution_count": 21,
   "metadata": {
    "nbgrader": {
     "grade": true,
     "grade_id": "cell-7c2681f67d5e97c7",
     "locked": false,
     "points": 0,
     "schema_version": 1,
     "solution": true
    }
   },
   "outputs": [
    {
     "data": {
      "text/plain": [
       "\n",
       "\tSpearman's rank correlation rho\n",
       "\n",
       "data:  sp$y and sp$x\n",
       "S = 22534, p-value < 2.2e-16\n",
       "alternative hypothesis: true rho is not equal to 0\n",
       "sample estimates:\n",
       "      rho \n",
       "0.8687595 \n"
      ]
     },
     "metadata": {},
     "output_type": "display_data"
    },
    {
     "data": {
      "text/plain": [
       "\n",
       "Call:\n",
       "lm(formula = rank(y) ~ rank(x), data = sp)\n",
       "\n",
       "Residuals:\n",
       "    Min      1Q  Median      3Q     Max \n",
       "-30.050  -7.775   0.706   5.462  93.438 \n",
       "\n",
       "Coefficients:\n",
       "            Estimate Std. Error t value Pr(>|t|)    \n",
       "(Intercept)  6.69327    2.92392   2.289   0.0242 *  \n",
       "rank(x)      0.86876    0.04977  17.454   <2e-16 ***\n",
       "---\n",
       "Signif. codes:  0 ‘***’ 0.001 ‘**’ 0.01 ‘*’ 0.05 ‘.’ 0.1 ‘ ’ 1\n",
       "\n",
       "Residual standard error: 14.58 on 99 degrees of freedom\n",
       "Multiple R-squared:  0.7547,\tAdjusted R-squared:  0.7523 \n",
       "F-statistic: 304.7 on 1 and 99 DF,  p-value: < 2.2e-16\n"
      ]
     },
     "metadata": {},
     "output_type": "display_data"
    }
   ],
   "source": [
    "### BEGIN SOLUTION\n",
    "cor.test(sp$y, sp$x, method=\"spearman\")\n",
    "lm(rank(y) ~ rank(x), data=sp) %>% summary\n",
    "### END SOLUTION"
   ]
  },
  {
   "cell_type": "markdown",
   "metadata": {
    "nbgrader": {
     "grade": false,
     "grade_id": "cell-79fbe388eff1e416",
     "locked": true,
     "schema_version": 1,
     "solution": false
    }
   },
   "source": [
    "Spearman's test is an example of a [non-parametric](https://en.wikipedia.org/wiki/Nonparametric_statistics) test: it does not make any assumptions about the distribution of the data. We will see other examples of non-parametric tests below."
   ]
  },
  {
   "cell_type": "markdown",
   "metadata": {
    "nbgrader": {
     "grade": false,
     "grade_id": "cell-50d2b3d695df7c8c",
     "locked": true,
     "schema_version": 1,
     "solution": false
    }
   },
   "source": [
    "#### Problem 10\n",
    "##### The $t$-test\n",
    "The one-sample $t$-test is used to test the null hypothesis that the mean of a random variable is zero. It's implemented in R using the `t.test()` command:"
   ]
  },
  {
   "cell_type": "code",
   "execution_count": 27,
   "metadata": {
    "nbgrader": {
     "grade": false,
     "grade_id": "cell-567e578d7fa9d650",
     "locked": true,
     "schema_version": 1,
     "solution": false
    }
   },
   "outputs": [
    {
     "data": {
      "text/plain": [
       "\n",
       "\tOne Sample t-test\n",
       "\n",
       "data:  x\n",
       "t = 2.3256, df = 99, p-value = 0.02208\n",
       "alternative hypothesis: true mean is not equal to 0\n",
       "95 percent confidence interval:\n",
       " 0.03066513 0.38710961\n",
       "sample estimates:\n",
       "mean of x \n",
       "0.2088874 \n"
      ]
     },
     "metadata": {},
     "output_type": "display_data"
    }
   ],
   "source": [
    "x <- rnorm(100, mean=.1)\n",
    "t.test(x)"
   ]
  },
  {
   "cell_type": "markdown",
   "metadata": {
    "nbgrader": {
     "grade": false,
     "grade_id": "cell-5b7c91dc23771f91",
     "locked": true,
     "schema_version": 1,
     "solution": false
    }
   },
   "source": [
    "By running an appropriate regression, show that the linear model produces *the exact same* $t$ statistic, confidence intervals, and $p$-values as the $t$-test."
   ]
  },
  {
   "cell_type": "code",
   "execution_count": 32,
   "metadata": {
    "nbgrader": {
     "grade": true,
     "grade_id": "cell-f54825f6e6acf9a3",
     "locked": false,
     "points": 0,
     "schema_version": 1,
     "solution": true
    }
   },
   "outputs": [
    {
     "name": "stdout",
     "output_type": "stream",
     "text": [
      "\n",
      "Call:\n",
      "lm(formula = x ~ 1)\n",
      "\n",
      "Residuals:\n",
      "     Min       1Q   Median       3Q      Max \n",
      "-2.32359 -0.60313  0.00502  0.58266  2.29273 \n",
      "\n",
      "Coefficients:\n",
      "            Estimate Std. Error t value Pr(>|t|)  \n",
      "(Intercept)  0.20889    0.08982   2.326   0.0221 *\n",
      "---\n",
      "Signif. codes:  0 ‘***’ 0.001 ‘**’ 0.01 ‘*’ 0.05 ‘.’ 0.1 ‘ ’ 1\n",
      "\n",
      "Residual standard error: 0.8982 on 99 degrees of freedom\n",
      "\n",
      "                 2.5 %    97.5 %\n",
      "(Intercept) 0.03066513 0.3871096\n"
     ]
    }
   ],
   "source": [
    "### BEGIN SOLUTION\n",
    "lm(x ~ 1) %>% {\n",
    "    print(summary(.))\n",
    "    print(confint(.))\n",
    "}\n",
    "### END SOLUTION"
   ]
  },
  {
   "cell_type": "code",
   "execution_count": null,
   "metadata": {},
   "outputs": [],
   "source": []
  }
 ],
 "metadata": {
  "kernelspec": {
   "display_name": "R",
   "language": "R",
   "name": "ir"
  },
  "language_info": {
   "codemirror_mode": "r",
   "file_extension": ".r",
   "mimetype": "text/x-r-source",
   "name": "R",
   "pygments_lexer": "r",
   "version": "3.5.2"
  }
 },
 "nbformat": 4,
 "nbformat_minor": 2
}
