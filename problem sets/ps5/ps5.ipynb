{
 "cells": [
  {
   "cell_type": "markdown",
   "metadata": {},
   "source": [
    "# Read these instructions completely in order to receive full credit\n",
    "\n",
    "- Before you submit the problem set, make sure everything runs as expected. Go to the menu bar at the top of Jupyter Notebook and click `Kernel > Restart & Run All`. Your code should run from top to bottom with no errors. Failure to do this will result in loss of points.\n",
    "\n",
    "- You should not use `install.packages()` anywhere. You may assume that we have already installed all the packages needed to run your code.\n",
    "\n",
    "- Make sure you fill in any place that says `YOUR CODE HERE` or \"YOUR ANSWER HERE\" and delete the `stop()` functions. The `stop()` functions produce an error and are there to remind you of cells that need an answer.\n",
    "\n",
    "- If you are working in a group, make sure you and your collaborators have been added to a group on Canvas as described at the beginning of lecture 2.\n",
    "- As a backup, *also* fill in your uniqid as well as those of your collaborators below:"
   ]
  },
  {
   "cell_type": "markdown",
   "metadata": {},
   "source": [
    "Your uniqid: `<replace with your uniqid>`\n",
    "\n",
    "Uniqids of your collaborator(s): `<replace with their uniqids>`"
   ]
  },
  {
   "cell_type": "markdown",
   "metadata": {},
   "source": [
    "- **Carefully proofread the PDF that you upload to Canvas. PDFs that have missing or truncated code cannot be graded and will not receive credit.**"
   ]
  },
  {
   "cell_type": "markdown",
   "metadata": {},
   "source": [
    "---"
   ]
  },
  {
   "cell_type": "code",
   "execution_count": null,
   "metadata": {
    "deletable": false,
    "editable": false,
    "nbgrader": {
     "cell_type": "code",
     "checksum": "c1e2d12a813f9a79dbac7698028b093c",
     "grade": false,
     "grade_id": "cell-d1761bfdb43c7ec3",
     "locked": true,
     "schema_version": 3,
     "solution": false
    }
   },
   "outputs": [],
   "source": [
    "library(tidyverse)\n",
    "library(stringr)\n",
    "options(jupyter.rich_display=T)\n",
    "library(harrypotter)\n",
    "library(tidytext)\n",
    "options(repr.plot.width=4, repr.plot.height=3)"
   ]
  },
  {
   "cell_type": "markdown",
   "metadata": {
    "deletable": false,
    "editable": false,
    "nbgrader": {
     "cell_type": "markdown",
     "checksum": "13f9649493f6a8de5103ada2ebf2a828",
     "grade": false,
     "grade_id": "cell-a2b64305f95add5c",
     "locked": true,
     "schema_version": 3,
     "solution": false
    }
   },
   "source": [
    "# STATS 306\n",
    "## Problem Set 5: Text Analysis\n",
    "This problem set is shorter than usual because of the midterm. It contains five problems, each worth one point each."
   ]
  },
  {
   "cell_type": "markdown",
   "metadata": {
    "deletable": false,
    "editable": false,
    "nbgrader": {
     "cell_type": "markdown",
     "checksum": "70dd6f4ecdb007571f5187524de5caf1",
     "grade": false,
     "grade_id": "cell-8bdb77bfd4a5e318",
     "locked": true,
     "schema_version": 3,
     "solution": false,
     "task": false
    }
   },
   "source": [
    "### Sentiment Analysis\n",
    "In problems 1-2 we will perform *sentiment analysis* of the Harry Potter books. The file `afinn.RData` contains a sentiment score for a large number of words in the English language:"
   ]
  },
  {
   "cell_type": "code",
   "execution_count": null,
   "metadata": {
    "deletable": false,
    "editable": false,
    "nbgrader": {
     "cell_type": "code",
     "checksum": "f6e42008f38ebf4fc421cc0b6f24101e",
     "grade": false,
     "grade_id": "cell-a0b1b3db5aa2f68d",
     "locked": true,
     "schema_version": 3,
     "solution": false,
     "task": false
    }
   },
   "outputs": [],
   "source": [
    "load(\"afinn.RData\")\n",
    "print(afinn)"
   ]
  },
  {
   "cell_type": "markdown",
   "metadata": {
    "deletable": false,
    "editable": false,
    "nbgrader": {
     "cell_type": "markdown",
     "checksum": "a34184c8cb96cedfcac9ed6e74999863",
     "grade": false,
     "grade_id": "cell-fd453d3925b1ec23",
     "locked": true,
     "schema_version": 3,
     "solution": false,
     "task": false
    }
   },
   "source": [
    "Negatively connoted words receive low scores, while positively connoted words receive high scores:"
   ]
  },
  {
   "cell_type": "code",
   "execution_count": null,
   "metadata": {
    "deletable": false,
    "editable": false,
    "nbgrader": {
     "cell_type": "code",
     "checksum": "ccd300b5dabd1943c85b9d2ecea3fce6",
     "grade": false,
     "grade_id": "cell-727f2c40cd76f830",
     "locked": true,
     "schema_version": 3,
     "solution": false,
     "task": false
    }
   },
   "outputs": [],
   "source": [
    "filter(afinn, word %in% c(\"death\", \"hurrah\"))"
   ]
  },
  {
   "cell_type": "markdown",
   "metadata": {
    "deletable": false,
    "editable": false,
    "nbgrader": {
     "cell_type": "markdown",
     "checksum": "de48d402a398c27a775234cbf0ff5f59",
     "grade": false,
     "grade_id": "cell-469649b5851fe552",
     "locked": true,
     "schema_version": 3,
     "solution": false,
     "task": false
    }
   },
   "source": [
    "By joining this table to other tables containing text data and summarizing, we can generate scores of how positive or negative the text is."
   ]
  },
  {
   "cell_type": "markdown",
   "metadata": {
    "deletable": false,
    "editable": false,
    "nbgrader": {
     "cell_type": "markdown",
     "checksum": "bbfbb770593e93d6d0c9d538f09d8018",
     "grade": false,
     "grade_id": "cell-2be6421ceea97f78",
     "locked": true,
     "schema_version": 3,
     "solution": false,
     "task": false
    }
   },
   "source": [
    "#### Problem 1\n",
    "The `tidytext::unnest_tokens()` function can be used to break a chunk of text into \"tokens\" (words, sentences, etc.) It works as follows. Consider the following tibble, which contains all 17 chapters of the first book in the Harry Potter series:"
   ]
  },
  {
   "cell_type": "code",
   "execution_count": null,
   "metadata": {
    "deletable": false,
    "editable": false,
    "nbgrader": {
     "cell_type": "code",
     "checksum": "0db2c2c3221745a495a85a55df79e279",
     "grade": false,
     "grade_id": "cell-5720923eadb15f71",
     "locked": true,
     "schema_version": 3,
     "solution": false,
     "task": false
    }
   },
   "outputs": [],
   "source": [
    "phil_tbl <- tibble(chapter=seq_along(philosophers_stone), \n",
    "                   text=philosophers_stone) %>% print"
   ]
  },
  {
   "cell_type": "markdown",
   "metadata": {
    "deletable": false,
    "editable": false,
    "nbgrader": {
     "cell_type": "markdown",
     "checksum": "a9e7a7348a7f9f5738c8b78e11c777a6",
     "grade": false,
     "grade_id": "cell-6458005323726b6c",
     "locked": true,
     "schema_version": 3,
     "solution": false,
     "task": false
    }
   },
   "source": [
    "To perform sentiment analysis, we need to break each chapter into words so that we can join it to the `afinn` table. This is what `unnest_tokens()` does:"
   ]
  },
  {
   "cell_type": "code",
   "execution_count": null,
   "metadata": {
    "deletable": false,
    "editable": false,
    "nbgrader": {
     "cell_type": "code",
     "checksum": "90854172104e630302891716baf08a1f",
     "grade": false,
     "grade_id": "cell-d9a1412ce1c67af4",
     "locked": true,
     "schema_version": 3,
     "solution": false,
     "task": false
    }
   },
   "outputs": [],
   "source": [
    "phil_tok <- unnest_tokens(phil_tbl, input=text, output=word) %>% print"
   ]
  },
  {
   "attachments": {
    "image.png": {
     "image/png": "[encoded data removed]"
    }
   },
   "cell_type": "markdown",
   "metadata": {
    "deletable": false,
    "editable": false,
    "nbgrader": {
     "cell_type": "markdown",
     "checksum": "f27cf80d61181acd1a6a2615b0a37e08",
     "grade": false,
     "grade_id": "cell-f434554a9cb77230",
     "locked": true,
     "schema_version": 3,
     "solution": false,
     "task": false
    }
   },
   "source": [
    "Using this table and `afinn`, we can assign sentiment scores to various portions of text. For example:\n",
    "\n",
    "![image.png](attachment:image.png)"
   ]
  },
  {
   "cell_type": "markdown",
   "metadata": {
    "deletable": false,
    "editable": false,
    "nbgrader": {
     "cell_type": "markdown",
     "checksum": "60693d47d463366027098ce8fcf8e2b4",
     "grade": false,
     "grade_id": "cell-764bdd8bbd4ec469",
     "locked": true,
     "schema_version": 3,
     "solution": false,
     "task": false
    }
   },
   "source": [
    "#### Problem 1\n",
    "Some people say that the Harry Potter books became darker (more negative) over time. Use sentiment analysis to investigate this, and report your conclusion here. (Hint: A list of all the Harry Potter books can be obtained by looking at the help page for the `harrypotter` package.)"
   ]
  },
  {
   "cell_type": "code",
   "execution_count": null,
   "metadata": {
    "deletable": false,
    "nbgrader": {
     "cell_type": "code",
     "checksum": "6975aa77cfa5c44c30e77874926aca1b",
     "grade": true,
     "grade_id": "cell-456e0f9282dcf3e0",
     "locked": false,
     "points": 0,
     "schema_version": 3,
     "solution": true,
     "task": false
    }
   },
   "outputs": [],
   "source": [
    "# YOUR CODE HERE\n",
    "stop()"
   ]
  },
  {
   "cell_type": "markdown",
   "metadata": {
    "deletable": false,
    "nbgrader": {
     "cell_type": "markdown",
     "checksum": "e6ee822b6ce33cfd07508ba18fc4d510",
     "grade": true,
     "grade_id": "cell-5a523c491220f78d",
     "locked": false,
     "points": 0,
     "schema_version": 3,
     "solution": true,
     "task": false
    }
   },
   "source": [
    "YOUR ANSWER HERE"
   ]
  },
  {
   "cell_type": "markdown",
   "metadata": {
    "deletable": false,
    "editable": false,
    "nbgrader": {
     "cell_type": "markdown",
     "checksum": "08ff2ae4d4061f3e4663bd67e80f9241",
     "grade": false,
     "grade_id": "cell-0b846c7349b1ca76",
     "locked": true,
     "schema_version": 3,
     "solution": false,
     "task": false
    }
   },
   "source": [
    "#### Problem 2\n",
    "\n",
    "According to the sentiment scores, what is the most negative/positive chapter in any of the Harry Potter books? \n",
    "\n",
    "Of the sentences that contain three or more scored words, what is the happiest (most positive)?"
   ]
  },
  {
   "cell_type": "code",
   "execution_count": null,
   "metadata": {
    "deletable": false,
    "nbgrader": {
     "cell_type": "code",
     "checksum": "624c28ac9e4822da505342f96741bd92",
     "grade": true,
     "grade_id": "cell-d133bf2bdbc6ae66",
     "locked": false,
     "points": 0,
     "schema_version": 3,
     "solution": true,
     "task": false
    }
   },
   "outputs": [],
   "source": [
    "# YOUR CODE HERE\n",
    "stop()"
   ]
  },
  {
   "cell_type": "markdown",
   "metadata": {
    "deletable": false,
    "editable": false,
    "nbgrader": {
     "cell_type": "markdown",
     "checksum": "4eb7b04cc78d5b1d018e7be28be9724c",
     "grade": false,
     "grade_id": "cell-718c986a9bef0aca",
     "locked": true,
     "schema_version": 3,
     "solution": false
    }
   },
   "source": [
    "### Reddit dataset\n",
    "The file `reddit_xmas_2017.RData` contains 100,000 comments posted to Reddit on Christmas Day, 2017."
   ]
  },
  {
   "cell_type": "code",
   "execution_count": null,
   "metadata": {
    "deletable": false,
    "editable": false,
    "nbgrader": {
     "cell_type": "code",
     "checksum": "7ec34324a7611755ee8ad76dc145369b",
     "grade": false,
     "grade_id": "cell-1fa7cd0e5989af42",
     "locked": true,
     "schema_version": 3,
     "solution": false
    }
   },
   "outputs": [],
   "source": [
    "load('reddit_xmas_2017.RData')\n",
    "reddit %>% print"
   ]
  },
  {
   "cell_type": "markdown",
   "metadata": {
    "deletable": false,
    "editable": false,
    "nbgrader": {
     "cell_type": "markdown",
     "checksum": "1f2648a45efa4cb1dde2e18576269ffc",
     "grade": false,
     "grade_id": "cell-849387f1fbc6d3aa",
     "locked": true,
     "schema_version": 3,
     "solution": false
    }
   },
   "source": [
    "Problems 3-5 ask you questions about this data set. Unless specified otherwise, all matches are case insensitive.\n",
    "\n",
    "(*Disclaimer*: I filtered out objectionable comments as best I could, but you may find more if you dig around this data for long enough.)"
   ]
  },
  {
   "cell_type": "markdown",
   "metadata": {
    "deletable": false,
    "editable": false,
    "nbgrader": {
     "cell_type": "markdown",
     "checksum": "a388626dc3f678690f2956ddf003ab1a",
     "grade": false,
     "grade_id": "cell-d055c5ffc0dc61ba",
     "locked": true,
     "schema_version": 3,
     "solution": false
    }
   },
   "source": [
    "#### Problem 3\n",
    "Comment 174 wishes everyone a happy holidays:"
   ]
  },
  {
   "cell_type": "code",
   "execution_count": null,
   "metadata": {
    "deletable": false,
    "editable": false,
    "nbgrader": {
     "cell_type": "code",
     "checksum": "485f215b7f1d86f4b0f49cf4b0b0974e",
     "grade": false,
     "grade_id": "cell-f56b4f43b6f4cafa",
     "locked": true,
     "schema_version": 3,
     "solution": false,
     "task": false
    }
   },
   "outputs": [],
   "source": [
    "reddit %>% slice(174)"
   ]
  },
  {
   "cell_type": "markdown",
   "metadata": {
    "deletable": false,
    "editable": false,
    "nbgrader": {
     "cell_type": "markdown",
     "checksum": "e3cf88c91e62e77636a396998fe552ac",
     "grade": false,
     "grade_id": "cell-ce3d459d5d49dde1",
     "locked": true,
     "schema_version": 3,
     "solution": false
    }
   },
   "source": [
    "What are other people wishing? Count the first occurrence of the string \"Happy `<word>`\" or \"Merry `<word>`\" in the comment body, if any, count the matches. \n",
    "\n",
    "To keep things interesting, do *not* include phrases matching `(happy|merry) (to|with|for|about|and|that|if|i|you|when)`. \n",
    "\n",
    "Print a table containing the top 20 matches; a few of the rows are:\n",
    "\n",
    "<table>\n",
    "<thead>\n",
    "    <tr><th scope=\"col\">greeting</th><th scope=\"col\">n</th></tr>\n",
    "    <tr><th scope=\"col\">&lt;chr&gt;</th><th scope=\"col\">&lt;int&gt;</th></tr>\n",
    "</thead>\n",
    "<tbody>\n",
    "    <tr><td>merry christmas</td><td>2040</td></tr>\n",
    "    <tr><td>happy holidays </td><td> &mdash;</td></tr>\n",
    "    <tr><td>&mdash;        </td><td> &mdash;</td></tr>\n",
    "    <tr><td>&mdash;        </td><td> &mdash;</td></tr>\n",
    "    <tr><td>&mdash;        </td><td> &mdash;</td></tr>\n",
    "    <tr><td>&mdash;        </td><td> &mdash;</td></tr>\n",
    "    <tr><td>&mdash;        </td><td> &mdash;</td></tr>\n",
    "    <tr><td>&mdash;        </td><td> &mdash;</td></tr>\n",
    "    <tr><td>&mdash;        </td><td>   7</td></tr>\n",
    "    <tr><td>happy cakeday  </td><td>   6</td></tr>\n",
    "</tbody>\n",
    "</table>\n",
    "\n",
    "Your numbers may vary slightly depending on how you performed the match."
   ]
  },
  {
   "cell_type": "code",
   "execution_count": null,
   "metadata": {
    "deletable": false,
    "nbgrader": {
     "cell_type": "code",
     "checksum": "07c9d2e0b3bdaa6888e7216f0cbfa4e2",
     "grade": true,
     "grade_id": "problem7",
     "locked": false,
     "points": 0,
     "schema_version": 3,
     "solution": true,
     "task": false
    }
   },
   "outputs": [],
   "source": [
    "# YOUR CODE HERE\n",
    "stop()"
   ]
  },
  {
   "attachments": {
    "image.png": {
     "image/png": "[encoded data removed]"
    }
   },
   "cell_type": "markdown",
   "metadata": {
    "deletable": false,
    "editable": false,
    "nbgrader": {
     "cell_type": "markdown",
     "checksum": "3dd69c852ac71cb98f37c4f24b24849d",
     "grade": false,
     "grade_id": "cell-0868e4922137bd0e",
     "locked": true,
     "schema_version": 3,
     "solution": false
    }
   },
   "source": [
    "#### Problem 4\n",
    "The number of hourly mentions of the word `christmas`or `xmas` is:\n",
    "![image.png](attachment:image.png)\n",
    "\n",
    "Make a similar plot for hourly mentions of any word which contains \"snow\" or \"flakes\"."
   ]
  },
  {
   "cell_type": "code",
   "execution_count": null,
   "metadata": {
    "deletable": false,
    "nbgrader": {
     "cell_type": "code",
     "checksum": "70f5e51000504ce5f2d5953c6bed1ca6",
     "grade": true,
     "grade_id": "cell-2eb072f24d1e2cad",
     "locked": false,
     "points": 2,
     "schema_version": 3,
     "solution": true
    }
   },
   "outputs": [],
   "source": [
    "# YOUR CODE HERE\n",
    "stop()"
   ]
  },
  {
   "cell_type": "markdown",
   "metadata": {
    "deletable": false,
    "editable": false,
    "nbgrader": {
     "cell_type": "markdown",
     "checksum": "abad7c2db29a904aa82940615de64195",
     "grade": false,
     "grade_id": "cell-20558470b3ffcd4b",
     "locked": true,
     "schema_version": 3,
     "solution": false
    }
   },
   "source": [
    "#### Problem 5\n",
    "The most common word in the comments is \"the\", which occurs 81,104 times."
   ]
  },
  {
   "cell_type": "code",
   "execution_count": null,
   "metadata": {
    "deletable": false,
    "editable": false,
    "nbgrader": {
     "cell_type": "code",
     "checksum": "3320d6e345bcf1bd0b4e8506f093fd75",
     "grade": false,
     "grade_id": "cell-038ba13df5005cbe",
     "locked": true,
     "schema_version": 3,
     "solution": false
    }
   },
   "outputs": [],
   "source": [
    "reddit %>% mutate(c=str_count(str_to_lower(body), '\\\\bthe\\\\b')) %>% summarize(sum(c))"
   ]
  },
  {
   "cell_type": "markdown",
   "metadata": {
    "deletable": false,
    "editable": false,
    "nbgrader": {
     "cell_type": "markdown",
     "checksum": "3001bd13f86e0e3b807c59a26f4b27ea",
     "grade": false,
     "grade_id": "cell-b5cf9187093adffe",
     "locked": true,
     "schema_version": 3,
     "solution": false
    }
   },
   "source": [
    "The word `christmas` occurs 4265 times:"
   ]
  },
  {
   "cell_type": "code",
   "execution_count": null,
   "metadata": {
    "deletable": false,
    "editable": false,
    "nbgrader": {
     "cell_type": "code",
     "checksum": "0bb5196398ae2eadc85827a8f4909e11",
     "grade": false,
     "grade_id": "cell-599b50837d7553b6",
     "locked": true,
     "schema_version": 3,
     "solution": false
    }
   },
   "outputs": [],
   "source": [
    "xmas_re <- regex('\\\\bchristmas\\\\b', ignore_case = T)\n",
    "reddit %>% mutate(c=str_count(body, xmas_re)) %>% summarize(sum(c))"
   ]
  },
  {
   "cell_type": "markdown",
   "metadata": {
    "deletable": false,
    "editable": false,
    "nbgrader": {
     "cell_type": "markdown",
     "checksum": "800bad7268b550079d46e30a25842cbd",
     "grade": false,
     "grade_id": "cell-7674a04533f8934b",
     "locked": true,
     "schema_version": 3,
     "solution": false
    }
   },
   "source": [
    "What is the next most common word after Christmas, and how many times does it appear?"
   ]
  },
  {
   "cell_type": "code",
   "execution_count": null,
   "metadata": {
    "deletable": false,
    "nbgrader": {
     "cell_type": "code",
     "checksum": "56aaaf52cb1f8b1910af2b03969f783e",
     "grade": true,
     "grade_id": "problem9",
     "locked": false,
     "points": 0,
     "schema_version": 3,
     "solution": true,
     "task": false
    }
   },
   "outputs": [],
   "source": [
    "# YOUR CODE HERE\n",
    "stop()"
   ]
  }
 ],
 "metadata": {
  "kernelspec": {
   "display_name": "R",
   "language": "R",
   "name": "ir"
  },
  "language_info": {
   "codemirror_mode": "r",
   "file_extension": ".r",
   "mimetype": "text/x-r-source",
   "name": "R",
   "pygments_lexer": "r",
   "version": "3.6.1"
  }
 },
 "nbformat": 4,
 "nbformat_minor": 2
}
