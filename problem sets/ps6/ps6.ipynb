{
 "cells": [
  {
   "cell_type": "markdown",
   "metadata": {},
   "source": [
    "# Read these instructions completely in order to receive full credit\n",
    "\n",
    "- Before you submit the problem set, make sure everything runs as expected. Go to the menu bar at the top of Jupyter Notebook and click `Kernel > Restart & Run All`. Your code should run from top to bottom with no errors. Failure to do this will result in loss of points.\n",
    "\n",
    "- You should not use `install.packages()` anywhere. You may assume that we have already installed all the packages needed to run your code.\n",
    "\n",
    "- Make sure you fill in any place that says `YOUR CODE HERE` or \"YOUR ANSWER HERE\" and delete the `stop()` functions. The `stop()` functions produce an error and are there to remind you of cells that need an answer.\n",
    "\n",
    "- If you are working in a group, make sure you and your collaborators have been added to a group on Canvas as described at the beginning of lecture 2.\n",
    "- As a backup, *also* fill in your uniqid as well as those of your collaborators below:"
   ]
  },
  {
   "cell_type": "markdown",
   "metadata": {},
   "source": [
    "Your uniqid: `<replace with your uniqid>`\n",
    "\n",
    "Uniqids of your collaborator(s): `<replace with their uniqids>`"
   ]
  },
  {
   "cell_type": "markdown",
   "metadata": {},
   "source": [
    "- **Carefully proofread the PDF that you upload to Canvas. PDFs that have missing or truncated code cannot be graded and will not receive credit.**"
   ]
  },
  {
   "cell_type": "markdown",
   "metadata": {},
   "source": [
    "---"
   ]
  },
  {
   "cell_type": "code",
   "execution_count": null,
   "metadata": {
    "deletable": false,
    "editable": false,
    "nbgrader": {
     "cell_type": "code",
     "checksum": "8e5f712805723597c84b6c02b887c915",
     "grade": false,
     "grade_id": "cell-d1761bfdb43c7ec3",
     "locked": true,
     "schema_version": 3,
     "solution": false
    }
   },
   "outputs": [],
   "source": [
    "library(tidyverse)\n",
    "library(stringr)\n",
    "library(lubridate)\n",
    "options(repr.plot.width=4, repr.plot.height=3)"
   ]
  },
  {
   "cell_type": "markdown",
   "metadata": {
    "deletable": false,
    "editable": false,
    "nbgrader": {
     "cell_type": "markdown",
     "checksum": "ba89feda11cce768f847068053bebdce",
     "grade": false,
     "grade_id": "cell-193dcce7ad6d5a10",
     "locked": true,
     "schema_version": 3,
     "solution": false
    }
   },
   "source": [
    "# STATS 306\n",
    "## Problem Set 6: Analyzing Twitter data\n",
    "Each problem is worth one point, for a total of ten."
   ]
  },
  {
   "cell_type": "markdown",
   "metadata": {
    "deletable": false,
    "editable": false,
    "nbgrader": {
     "cell_type": "markdown",
     "checksum": "6e98c0ec95857a05cc2b605475bcff1b",
     "grade": false,
     "grade_id": "cell-cae0490557e460e4",
     "locked": true,
     "schema_version": 3,
     "solution": false
    }
   },
   "source": [
    "The file `tweets.txt.gz` contains tweets from June, 2016. The file is in a special format. The first few lines are:"
   ]
  },
  {
   "cell_type": "code",
   "execution_count": null,
   "metadata": {
    "deletable": false,
    "editable": false,
    "nbgrader": {
     "cell_type": "code",
     "checksum": "e81930b3beddb19b711655100237fcbe",
     "grade": false,
     "grade_id": "cell-60ca01f0e29815bf",
     "locked": true,
     "schema_version": 3,
     "solution": false
    }
   },
   "outputs": [],
   "source": [
    "readLines(\"tweets.txt.gz\", n = 11) %>% writeLines"
   ]
  },
  {
   "cell_type": "markdown",
   "metadata": {
    "deletable": false,
    "editable": false,
    "nbgrader": {
     "cell_type": "markdown",
     "checksum": "c2c02af971a4e3ef472c81a0e64aa047",
     "grade": false,
     "grade_id": "cell-996e7451fe14b195",
     "locked": true,
     "schema_version": 3,
     "solution": false
    }
   },
   "source": [
    "Each datum consists of a triple of lines marked `T`, `U` and `W` containing the time of the tweet, the user, and the message itself, respectively. Each triple is separated by an empty line."
   ]
  },
  {
   "cell_type": "markdown",
   "metadata": {
    "deletable": false,
    "editable": false,
    "nbgrader": {
     "cell_type": "markdown",
     "checksum": "da24ad152a17970e1a00d0ccada7123e",
     "grade": false,
     "grade_id": "cell-df84e125274b8c5a",
     "locked": true,
     "schema_version": 3,
     "solution": false
    }
   },
   "source": [
    "#### Problem 1\n",
    "Read `tweets.txt.gz` in and store it as an R data frame/tibble called `tweets1`. It should have a single character column and 1.4m rows:\n",
    "```{r}\n",
    "# A tibble: 1,483,985 x 1\n",
    "   X1                                   \n",
    "   <chr>                                \n",
    " 1 \"T\\t2009-06-11 00:00:03\"             \n",
    " 2 \"U\\thttp://twitter.com/imdb\"         \n",
    " 3 \"W\\tNo Post Title\"                   \n",
    " 4 <NA>                                 \n",
    " 5 \"T\\t2009-06-11 16:37:14\"             \n",
    " 6 \"U\\thttp://twitter.com/ncruralhealth\"\n",
    " 7 \"W\\tNo Post Title\"                   \n",
    " 8 <NA>                                 \n",
    " 9 \"T\\t2009-06-11 16:56:23\"             \n",
    "10 \"U\\thttp://twitter.com/boydjones\"    \n",
    "# ... with 1,483,975 more rows\n",
    "```\n",
    "(*Note*: The `.gz` file extension indicates that this file is compressed to save space. You can load the table using the usual `tidyverse` table loading commands, as if it were a regular text file.)"
   ]
  },
  {
   "cell_type": "code",
   "execution_count": null,
   "metadata": {
    "deletable": false,
    "nbgrader": {
     "cell_type": "code",
     "checksum": "40ff9f0c59b8c6e8307a99f001cd8175",
     "grade": true,
     "grade_id": "problem1",
     "locked": false,
     "points": 1,
     "schema_version": 3,
     "solution": true,
     "task": false
    }
   },
   "outputs": [],
   "source": [
    "# YOUR CODE HERE\n",
    "stop()"
   ]
  },
  {
   "cell_type": "markdown",
   "metadata": {
    "deletable": false,
    "editable": false,
    "nbgrader": {
     "cell_type": "markdown",
     "checksum": "98bac61ef54b288f8f01e30ce311c0cd",
     "grade": false,
     "grade_id": "cell-bbb554d494c84d68",
     "locked": true,
     "schema_version": 3,
     "solution": false
    }
   },
   "source": [
    "#### Problem 2\n",
    "Next, convert `tweets1` so that it has three columns reflecting the three variables present in this data set. Store the resulting table in a variable called `tweets2`. The first rows of `tweets2` will now look like:\n",
    "```\n",
    "# A tibble: 3 x 3\n",
    "  T                   U                                W                       \n",
    "  <chr>               <chr>                            <chr>                   \n",
    "1 2009-06-11 00:00:03 http://twitter.com/imdb          No Post Title           \n",
    "2 2009-06-11 16:37:14 http://twitter.com/ncruralhealth No Post Title           \n",
    "3 2009-06-11 16:56:23 http://twitter.com/boydjones     \"listening to \\\"Big Liz…\n",
    "```\n",
    "(*Hint*: If you are having trouble getting this working on the full data set, try subsetting the table to a small number of rows in order to debug your code.)"
   ]
  },
  {
   "cell_type": "code",
   "execution_count": null,
   "metadata": {
    "deletable": false,
    "nbgrader": {
     "cell_type": "code",
     "checksum": "58c8553f7e0e9a8318967df840d55ab0",
     "grade": true,
     "grade_id": "problem2",
     "locked": false,
     "points": 1,
     "schema_version": 3,
     "solution": true,
     "task": false
    }
   },
   "outputs": [],
   "source": [
    "# YOUR CODE HERE\n",
    "stop()"
   ]
  },
  {
   "cell_type": "markdown",
   "metadata": {
    "deletable": false,
    "editable": false,
    "nbgrader": {
     "cell_type": "markdown",
     "checksum": "ec99e9c17e0eb85ab054d684fbcd3798",
     "grade": false,
     "grade_id": "cell-50fa2e3c0e07a8b3",
     "locked": true,
     "schema_version": 3,
     "solution": false
    }
   },
   "source": [
    "#### Problem 3\n",
    "Convert the `T` column to a properly formatted `datetime` object and give it (and the rest of the columns) an appropriate name. Also, strip off the leading `http://twitter.com/` from each user. Store the resulting table as `tweets3`. It will look like:\n",
    "```\n",
    "# A tibble: 370,997 x 3\n",
    "   time                user          tweet                                     \n",
    "   <dttm>              <chr>         <chr>                                     \n",
    " 1 2009-06-11 00:00:03 imdb          No Post Title                             \n",
    " 2 2009-06-11 16:37:14 ncruralhealth No Post Title                             \n",
    " 3 2009-06-11 16:56:23 boydjones     \"listening to \\\"Big Lizard - The Dead Mil…\n",
    " 4 2009-06-11 16:56:59 cameron987    @beatrizchavez A dork? NO way... you are.…\n",
    " 5 2009-06-11 16:57:03 selenato      @okaaaa 本当ね！2週間楽しみがありすぎわ、まじで…本当きどうさんへの愛がこ…\n",
    " 6 2009-06-11 16:57:30 nbeasley10    Just got a chance to buy All-Star tickets…\n",
    " 7 2009-06-11 16:57:31 littlewing333 @kidhum and if an act has pull and they d…\n",
    " 8 2009-06-11 16:57:33 lolcute       mebbe U fetch http://tinyurl.com/nz4fbr   \n",
    " 9 2009-06-11 16:57:36 fr0st22       I have broken 1,000 twitter updates. Paaa…\n",
    "10 2009-06-11 16:57:59 mavellsyrup   Food timmeeee :'D                         \n",
    "# ... with 370,987 more rows\n",
    "```"
   ]
  },
  {
   "cell_type": "code",
   "execution_count": null,
   "metadata": {
    "deletable": false,
    "nbgrader": {
     "cell_type": "code",
     "checksum": "a7a35665924ac6e8ea248dd43170080a",
     "grade": false,
     "grade_id": "problem3",
     "locked": false,
     "schema_version": 3,
     "solution": true
    }
   },
   "outputs": [],
   "source": [
    "# YOUR CODE HERE\n",
    "stop()"
   ]
  },
  {
   "cell_type": "markdown",
   "metadata": {
    "deletable": false,
    "editable": false,
    "nbgrader": {
     "cell_type": "markdown",
     "checksum": "05f5cc2092b1aa1c82c204c541dbf966",
     "grade": false,
     "grade_id": "cell-000d1945c67135ff",
     "locked": true,
     "schema_version": 3,
     "solution": false
    }
   },
   "source": [
    "#### Problem 4\n",
    "Plot the total number of tweets for each hour of each day in `tweets3`."
   ]
  },
  {
   "cell_type": "code",
   "execution_count": null,
   "metadata": {
    "deletable": false,
    "nbgrader": {
     "cell_type": "code",
     "checksum": "e4f1e8af0689572abeb96c39c6a76891",
     "grade": true,
     "grade_id": "cell-9f51ddcb173b8b1c",
     "locked": false,
     "points": 1,
     "schema_version": 3,
     "solution": true
    }
   },
   "outputs": [],
   "source": [
    "# YOUR CODE HERE\n",
    "stop()"
   ]
  },
  {
   "cell_type": "markdown",
   "metadata": {
    "deletable": false,
    "editable": false,
    "nbgrader": {
     "cell_type": "markdown",
     "checksum": "fa9382cb9252acce419b3a23167bcc8b",
     "grade": false,
     "grade_id": "cell-ff326a34e0195145",
     "locked": true,
     "schema_version": 3,
     "solution": false,
     "task": false
    }
   },
   "source": [
    "#### Problem 5\n",
    "For what hour of what day was there the largest volume of tweets? Can you give an explanation for what caused this spike?"
   ]
  },
  {
   "cell_type": "code",
   "execution_count": null,
   "metadata": {
    "deletable": false,
    "nbgrader": {
     "cell_type": "code",
     "checksum": "c83a073174182f2c1ccfb6ce93a65afd",
     "grade": true,
     "grade_id": "cell-ea16282947166380",
     "locked": false,
     "points": 0,
     "schema_version": 3,
     "solution": true,
     "task": false
    }
   },
   "outputs": [],
   "source": [
    "# YOUR CODE HERE\n",
    "stop()"
   ]
  },
  {
   "cell_type": "markdown",
   "metadata": {
    "deletable": false,
    "editable": false,
    "nbgrader": {
     "cell_type": "markdown",
     "checksum": "7ac25da0938aca811f506b50eff5c91c",
     "grade": false,
     "grade_id": "cell-427797fc8d51f777",
     "locked": true,
     "schema_version": 3,
     "solution": false,
     "task": false
    }
   },
   "source": [
    "#### Problem 6\n",
    "The most active user in this snapshot of Twitter data is the user `delicious50`, who tweeted 113 times. Make a plot of the distribution of the number of times each user tweeted. Can you say anything about the form of this distribution?"
   ]
  },
  {
   "cell_type": "code",
   "execution_count": null,
   "metadata": {
    "deletable": false,
    "nbgrader": {
     "cell_type": "code",
     "checksum": "91e4bf66a93371405509d5d8f243ea08",
     "grade": true,
     "grade_id": "cell-d62f70da62a35158",
     "locked": false,
     "points": 1,
     "schema_version": 3,
     "solution": true,
     "task": false
    }
   },
   "outputs": [],
   "source": [
    "# YOUR CODE HERE\n",
    "stop()"
   ]
  },
  {
   "cell_type": "markdown",
   "metadata": {
    "deletable": false,
    "editable": false,
    "nbgrader": {
     "cell_type": "markdown",
     "checksum": "518f9459c45cb2ff97304e22e5a93959",
     "grade": false,
     "grade_id": "cell-a3ba499f059b6ca4",
     "locked": true,
     "schema_version": 3,
     "solution": false
    }
   },
   "source": [
    "#### Problem 7\n",
    "On Twitter, a user can \"mention\" someone by inserting their username, prepended with an `@`, into a Tweet. \n",
    "\n",
    "For example, the fourth tweet in this dataset, user `cameron987` @mentions user `beatrizchavez`:\n",
    "\n",
    "<table>\n",
    "<caption>A tibble: 1 × 3</caption>\n",
    "<thead>\n",
    "\t<tr><th scope=\"col\">time</th><th scope=\"col\">user</th><th scope=\"col\">tweet</th></tr>\n",
    "\t<tr><th scope=\"col\">&lt;dttm&gt;</th><th scope=\"col\">&lt;chr&gt;</th><th scope=\"col\">&lt;chr&gt;</th></tr>\n",
    "</thead>\n",
    "<tbody>\n",
    "\t<tr><td>2009-06-11 16:56:59</td><td>cameron987</td><td>@beatrizchavez A dork? NO way... you are. I just have no shame... I #squarespace want #squarespace that #squarespace iPhone #squarespace.</td></tr>\n",
    "</tbody>\n",
    "</table>\n",
    "     \n",
    "Count the number of times that each user is mentioned in this data set, and plot the distribution of this number. Can you say anything more about this distribution?"
   ]
  },
  {
   "cell_type": "code",
   "execution_count": null,
   "metadata": {
    "deletable": false,
    "nbgrader": {
     "cell_type": "code",
     "checksum": "60518f2718855023b6057086907e4886",
     "grade": true,
     "grade_id": "cell-b135e8e39d81923f",
     "locked": false,
     "points": 1,
     "schema_version": 3,
     "solution": true,
     "task": false
    }
   },
   "outputs": [],
   "source": [
    "# YOUR CODE HERE\n",
    "stop()"
   ]
  },
  {
   "cell_type": "markdown",
   "metadata": {
    "deletable": false,
    "editable": false,
    "nbgrader": {
     "cell_type": "markdown",
     "checksum": "f7c8eea89332ef915fa2a5d7a086e7bc",
     "grade": false,
     "grade_id": "cell-4d4498c8a3b659f7",
     "locked": true,
     "schema_version": 3,
     "solution": false,
     "task": false
    }
   },
   "source": [
    "#### Problem 8\n",
    "\n",
    "If we look at tweets by the users `westlifebunny` and `janine_j9`, we see that each has @mentioned the other:\n",
    "\n",
    "<table>\n",
    "<caption>A tibble: 3 × 3</caption>\n",
    "<thead>\n",
    "\t<tr><th scope=\"col\">time</th><th scope=\"col\">user</th><th scope=\"col\">tweet</th></tr>\n",
    "\t<tr><th scope=\"col\">&lt;dttm&gt;</th><th scope=\"col\">&lt;chr&gt;</th><th scope=\"col\">&lt;chr&gt;</th></tr>\n",
    "</thead>\n",
    "<tbody>\n",
    "\t<tr><td>2009-06-11 17:55:26</td><td>westlifebunny</td><td>@janine_j9 Actually I'm already there, lol!                                                                                                </td></tr>\n",
    "\t<tr><td>2009-06-23 15:15:00</td><td>janine_j9    </td><td>RT @westlifebunny: NBC News - Hold Back My Heart (Michael Johns) My take on the album over at my MSNBC Newsvine column! http://bit.ly/i8UB3</td></tr>\n",
    "</tbody>\n",
    "</table>\n",
    "\n",
    "We could say that `westlifebunny` and `janine_j9` form a pair. How many other pairs of users exist in this dataset who have mutually mentioned each other? (Do not include pairs where the user @mentions themself.)"
   ]
  },
  {
   "cell_type": "code",
   "execution_count": null,
   "metadata": {
    "deletable": false,
    "nbgrader": {
     "cell_type": "code",
     "checksum": "3ec9b2dc12598ea090871b37143398a5",
     "grade": true,
     "grade_id": "cell-9f8fd75a6aa87a12",
     "locked": false,
     "points": 1,
     "schema_version": 3,
     "solution": true,
     "task": false
    }
   },
   "outputs": [],
   "source": [
    "# YOUR CODE HERE\n",
    "stop()"
   ]
  },
  {
   "cell_type": "markdown",
   "metadata": {
    "deletable": false,
    "editable": false,
    "nbgrader": {
     "cell_type": "markdown",
     "checksum": "e16f91174f92ff26c229d49bbb502691",
     "grade": false,
     "grade_id": "cell-dc31a9da0bf4d37e",
     "locked": true,
     "schema_version": 3,
     "solution": false,
     "task": false
    }
   },
   "source": [
    "#### Problem 9\n",
    "In problem 7, we might guess that the user `cameron987` is male, while `beatrizchavez` is female. (This is only a guess!)\n",
    " \n",
    "In an earlier problem set, we used the `babynames` package to study naming trends in baby names over time. Because this table contains information on sex, we can use it to infer the sex of various Twitter handles.\n",
    "\n",
    "Use the `babynames` table to assign a gender to each Twitter handle. Specifically, assign to each Twitter handle the gender of the name in `babynames` which immediately precedes it in lexicographic (sort) order. (If not such name exists, drop the handle.) \n",
    "\n",
    "If a name is used for both males and females, select the more popular of the two genders. \n",
    "\n",
    "For example, if we sorted all of the names in `babynames` and then inserted the handle `cameron987` into this sorted list, we would find that it got inserted between the names \"cameron\" and \"camerone\". Since the name Cameron is used as both a male and female name in `babynames`, but there are ten times as many boys named Cameron in babynames as girls, we would assign a sex of `male` to `cameron987`.\n",
    "\n",
    "What fraction of male vs. female twitter users do you see when assigning genders in this way?"
   ]
  },
  {
   "cell_type": "code",
   "execution_count": null,
   "metadata": {
    "deletable": false,
    "nbgrader": {
     "cell_type": "code",
     "checksum": "ff20bba0c02e034d35be1c9c8230ff9a",
     "grade": true,
     "grade_id": "cell-7aaf530cd1303027",
     "locked": false,
     "points": 0,
     "schema_version": 3,
     "solution": true,
     "task": false
    }
   },
   "outputs": [],
   "source": [
    "# YOUR CODE HERE\n",
    "stop()"
   ]
  },
  {
   "cell_type": "markdown",
   "metadata": {
    "deletable": false,
    "editable": false,
    "nbgrader": {
     "cell_type": "markdown",
     "checksum": "c3370206421a797573655277e92a3775",
     "grade": false,
     "grade_id": "cell-6f2e2255bf1b03b4",
     "locked": true,
     "schema_version": 3,
     "solution": false,
     "task": false
    }
   },
   "source": [
    "#### Problem 10\n",
    "Use your results from problems 8 and 9 to investigate the following question: are male Twitter users more likely to @mention female Twitter users than the other way around?"
   ]
  },
  {
   "cell_type": "code",
   "execution_count": null,
   "metadata": {
    "deletable": false,
    "nbgrader": {
     "cell_type": "code",
     "checksum": "12a1b5cdb510f40bb312dc45c450ba15",
     "grade": true,
     "grade_id": "cell-28f0667e6fb18da6",
     "locked": false,
     "points": 0,
     "schema_version": 3,
     "solution": true,
     "task": false
    }
   },
   "outputs": [],
   "source": [
    "# YOUR CODE HERE\n",
    "stop()"
   ]
  }
 ],
 "metadata": {
  "kernelspec": {
   "display_name": "R",
   "language": "R",
   "name": "ir"
  },
  "language_info": {
   "codemirror_mode": "r",
   "file_extension": ".r",
   "mimetype": "text/x-r-source",
   "name": "R",
   "pygments_lexer": "r",
   "version": "3.6.1"
  }
 },
 "nbformat": 4,
 "nbformat_minor": 2
}
