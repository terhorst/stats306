{
 "cells": [
  {
   "cell_type": "markdown",
   "metadata": {},
   "source": [
    "# Read these instructions completely in order to receive full credit\n",
    "\n",
    "- Before you submit the problem set, make sure everything runs as expected. Go to the menu bar at the top of Jupyter Notebook and click `Kernel > Restart & Run All`. Your code should run from top to bottom with no errors. Failure to do this will result in loss of points.\n",
    "\n",
    "- You should not use `install.packages()` anywhere. You may assume that we have already installed all the packages needed to run your code.\n",
    "\n",
    "- Make sure you fill in any place that says `YOUR CODE HERE` or \"YOUR ANSWER HERE\" and delete the `stop()` functions. The `stop()` functions produce an error and are there to remind you of cells that need an answer.\n",
    "\n",
    "- If you are working in a group, make sure you and your collaborators have been added to a group on Canvas as described at the beginning of lecture 2.\n",
    "- As a backup, *also* fill in your uniqid as well as those of your collaborators below:"
   ]
  },
  {
   "cell_type": "markdown",
   "metadata": {},
   "source": [
    "Your uniqid: `<replace with your uniqid>`\n",
    "\n",
    "Uniqids of your collaborator(s): `<replace with their uniqids>`"
   ]
  },
  {
   "cell_type": "markdown",
   "metadata": {},
   "source": [
    "- **Carefully proofread the PDF that you upload to Canvas. PDFs that have missing or truncated code cannot be graded and will not receive credit.**"
   ]
  },
  {
   "cell_type": "markdown",
   "metadata": {},
   "source": [
    "---"
   ]
  },
  {
   "cell_type": "code",
   "execution_count": null,
   "metadata": {
    "deletable": false,
    "editable": false,
    "nbgrader": {
     "checksum": "17709fc7089674b5853376aa931d3dac",
     "grade": false,
     "grade_id": "cell-0db47e46f3f3b906",
     "locked": true,
     "schema_version": 1,
     "solution": false
    }
   },
   "outputs": [],
   "source": [
    "library(tidyverse)\n",
    "library(nycflights13)\n",
    "load('cfb.RData')"
   ]
  },
  {
   "cell_type": "markdown",
   "metadata": {
    "deletable": false,
    "editable": false,
    "nbgrader": {
     "checksum": "d6181d8d709c893aeff9ece4664a6a67",
     "grade": false,
     "grade_id": "cell-64b4d6326575c98f",
     "locked": true,
     "schema_version": 1,
     "solution": false
    }
   },
   "source": [
    "# STATS 306\n",
    "## Problem Set 4: Reshape & Join\n",
    "Each question is worth one point, for a total of 10."
   ]
  },
  {
   "cell_type": "markdown",
   "metadata": {
    "deletable": false,
    "editable": false,
    "nbgrader": {
     "checksum": "cd74a2f34d74ea50d30b756503ab1f2b",
     "grade": false,
     "grade_id": "cell-8f19680a4df323f6",
     "locked": true,
     "schema_version": 1,
     "solution": false
    }
   },
   "source": [
    "Problems 1-4 look at a dataset called `UCBAdmissions`. This contains graduate school admissions data from 1973 for six departments at UC Berkeley:"
   ]
  },
  {
   "cell_type": "code",
   "execution_count": 2,
   "metadata": {
    "deletable": false,
    "editable": false,
    "nbgrader": {
     "checksum": "f859a5d68539761488b1df4a18b71322",
     "grade": false,
     "grade_id": "cell-b0c4e3f76e4e3c28",
     "locked": true,
     "schema_version": 1,
     "solution": false
    }
   },
   "outputs": [
    {
     "name": "stdout",
     "output_type": "stream",
     "text": [
      "# A tibble: 24 x 4\n",
      "   Admit    Gender Dept      n\n",
      "   <chr>    <chr>  <chr> <dbl>\n",
      " 1 Admitted Male   A       512\n",
      " 2 Rejected Male   A       313\n",
      " 3 Admitted Female A        89\n",
      " 4 Rejected Female A        19\n",
      " 5 Admitted Male   B       353\n",
      " 6 Rejected Male   B       207\n",
      " 7 Admitted Female B        17\n",
      " 8 Rejected Female B         8\n",
      " 9 Admitted Male   C       120\n",
      "10 Rejected Male   C       205\n",
      "# … with 14 more rows\n"
     ]
    }
   ],
   "source": [
    "data(UCBAdmissions)\n",
    "ucb <- tbl_df(UCBAdmissions) %>% print"
   ]
  },
  {
   "cell_type": "markdown",
   "metadata": {
    "deletable": false,
    "editable": false,
    "nbgrader": {
     "checksum": "e2552f310343e89bcbc3f71b761ae4e1",
     "grade": false,
     "grade_id": "cell-87cba8e8d750cc97",
     "locked": true,
     "schema_version": 1,
     "solution": false
    }
   },
   "source": [
    "(For privacy reasons the names of the departments have been changed to `A`, `B`, ... , `F`.)"
   ]
  },
  {
   "cell_type": "markdown",
   "metadata": {
    "deletable": false,
    "editable": false,
    "nbgrader": {
     "checksum": "f6228c440ffe66c4298411d7c05dec2b",
     "grade": false,
     "grade_id": "cell-b77855b64eeeba94",
     "locked": true,
     "schema_version": 1,
     "solution": false
    }
   },
   "source": [
    "#### Problem 1\n",
    "Using the tool(s) we learned for summarizing and manipulating tidy data, create a summary table from `ucb` which shows the acceptance rate by gender. Your table should have four columns: `Gender`, `Admitted`, `Rejected`, and `Proportion Admitted`."
   ]
  },
  {
   "cell_type": "markdown",
   "metadata": {
    "deletable": false,
    "editable": false,
    "nbgrader": {
     "checksum": "7b54a344ef9d1b4fb5dfd2a808a8295a",
     "grade": false,
     "grade_id": "cell-65e2e78d3caf4239",
     "locked": true,
     "schema_version": 1,
     "solution": false
    }
   },
   "source": [
    "<table>\n",
    "<thead><tr><th scope=\"col\">Gender</th><th scope=\"col\">Admitted</th><th scope=\"col\">Rejected</th><th scope=\"col\">Proportion Admitted</th></tr></thead>\n",
    "<tbody>\n",
    "\t<tr><td>Female   </td><td> 557     </td><td>&dash;     </td><td>&dash;</td></tr>\n",
    "\t<tr><td>Male     </td><td> &dash;     </td><td>&dash;     </td><td>0.4451877</td></tr>\n",
    "</tbody>\n",
    "</table>"
   ]
  },
  {
   "cell_type": "markdown",
   "metadata": {
    "deletable": false,
    "editable": false,
    "nbgrader": {
     "checksum": "f34e40c115c7deda46e49d640e05369f",
     "grade": false,
     "grade_id": "cell-2a25890b512d22b1",
     "locked": true,
     "schema_version": 1,
     "solution": false
    }
   },
   "source": [
    "(A few entries have been provided for you; your job is to write code that will produce the complete table with no blanks.)"
   ]
  },
  {
   "cell_type": "code",
   "execution_count": null,
   "metadata": {
    "deletable": false,
    "nbgrader": {
     "checksum": "40ff9f0c59b8c6e8307a99f001cd8175",
     "grade": true,
     "grade_id": "problem1",
     "locked": false,
     "points": 1,
     "schema_version": 1,
     "solution": true
    }
   },
   "outputs": [],
   "source": [
    "# YOUR CODE HERE\n",
    "stop()"
   ]
  },
  {
   "cell_type": "markdown",
   "metadata": {
    "deletable": false,
    "editable": false,
    "nbgrader": {
     "checksum": "1caa46d817673c59ae17f6f01df8de93",
     "grade": false,
     "grade_id": "cell-75f771c5301f461f",
     "locked": true,
     "schema_version": 1,
     "solution": false
    }
   },
   "source": [
    "#### Problem 2\n",
    "In STATS 250 you [learned](https://www.youtube.com/watch?v=6gfMhsWmnwk) how to test for differences in proportions between two populations. Apply this to Problem 1. Was the overall proportion of men admitted statistically different from that of women? Perform an appropriate test and interpret your findings. What do these result suggest about admissions practices at UC Berkeley in the early 1970s?"
   ]
  },
  {
   "cell_type": "markdown",
   "metadata": {
    "deletable": false,
    "nbgrader": {
     "checksum": "a87a18030954a6ec67fcf557e657b4bc",
     "grade": true,
     "grade_id": "cell-fde0f762d6badb20",
     "locked": false,
     "points": 1,
     "schema_version": 1,
     "solution": true
    }
   },
   "source": [
    "YOUR ANSWER HERE"
   ]
  },
  {
   "cell_type": "markdown",
   "metadata": {
    "deletable": false,
    "editable": false,
    "nbgrader": {
     "checksum": "df663eed90663423ec8904bcb8710310",
     "grade": false,
     "grade_id": "cell-07515221ed1f2c60",
     "locked": true,
     "schema_version": 1,
     "solution": false
    }
   },
   "source": [
    "#### Problem 3\n",
    "Reproduce the table from Problem 1, but now stratify by department. \n",
    "Compute the male and female acceptance proportion for each department separately.\n",
    "Your resulting table should look like:"
   ]
  },
  {
   "cell_type": "markdown",
   "metadata": {
    "deletable": false,
    "editable": false,
    "nbgrader": {
     "checksum": "2d0d1ceef1b524e9e123e7374ccd63c2",
     "grade": false,
     "grade_id": "cell-9efe9c3df54d99a3",
     "locked": true,
     "schema_version": 1,
     "solution": false
    }
   },
   "source": [
    "\n",
    "<table>\n",
    "<thead><tr><th scope=\"col\">Dept</th><th scope=\"col\">Female_Admitted</th><th scope=\"col\">Female_Rejected</th><th scope=\"col\">Male_Admitted</th><th scope=\"col\">Male_Rejected</th><th scope=\"col\">Male Proportion Admitted</th><th scope=\"col\">Female Proportion Admitted</th></tr></thead>\n",
    "<tbody>\n",
    "\t<tr><td>A         </td><td> 89      </td><td> &dash;       </td><td>&dash;       </td><td>&dash;       </td><td>&dash;</td><td>&dash;</td></tr>\n",
    "\t<tr><td>B         </td><td> &dash;       </td><td>  &dash;       </td><td>353</td><td>&dash;       </td><td>&dash;</td><td>&dash;</td></tr>\n",
    "\t<tr><td>C         </td><td> &dash;       </td><td>  391\t     </td><td>&dash;</td><td>&dash;       </td><td>&dash;</td><td>&dash;</td></tr>\n",
    "\t<tr><td>D         </td><td> &dash;       </td><td>  &dash;       </td><td>&dash;</td><td>&dash;       </td><td>0.33093525\t</td><td>&dash;</td></tr>\n",
    "\t<tr><td>E         </td><td> &dash;       </td><td>  &dash;       </td><td>&dash;</td><td>138       </td><td>&dash;</td><td>&dash;</td></tr>\n",
    " \t<tr><td>F         </td><td> &dash;       </td><td>  &dash;       </td><td>&dash;</td><td>&dash;       </td><td>&dash;</td><td>0.07038123</td></tr>\n",
    "\n",
    "</tbody>\n",
    "</table>"
   ]
  },
  {
   "cell_type": "markdown",
   "metadata": {
    "deletable": false,
    "editable": false,
    "nbgrader": {
     "checksum": "35d88e8c0e649ab910b5a7ef6f9efcf7",
     "grade": false,
     "grade_id": "cell-e78ce330ce7ddef2",
     "locked": true,
     "schema_version": 1,
     "solution": false
    }
   },
   "source": [
    "(Again, a few table entries have been provided to help you check your work, and it is your job to provide code that computes the entire table automatically.)"
   ]
  },
  {
   "cell_type": "code",
   "execution_count": null,
   "metadata": {
    "deletable": false,
    "nbgrader": {
     "checksum": "eee0d90396f04d48c335e1942715e8fb",
     "grade": true,
     "grade_id": "problem3",
     "locked": false,
     "points": 1,
     "schema_version": 1,
     "solution": true
    }
   },
   "outputs": [],
   "source": [
    "# YOUR CODE HERE\n",
    "stop()"
   ]
  },
  {
   "cell_type": "markdown",
   "metadata": {
    "deletable": false,
    "editable": false,
    "nbgrader": {
     "checksum": "269267c0feb118afba3b0a2ca763bc22",
     "grade": false,
     "grade_id": "cell-0d99feee732b4273",
     "locked": true,
     "schema_version": 1,
     "solution": false
    }
   },
   "source": [
    "#### Problem 4\n",
    "Do the department-level findings in Problem 3 agree or disagree with what you concluded in Problem 2? Explain your reasoning."
   ]
  },
  {
   "cell_type": "markdown",
   "metadata": {
    "deletable": false,
    "nbgrader": {
     "checksum": "729b26371b3928039397de861a972615",
     "grade": true,
     "grade_id": "cell-ba1496ddc8091043",
     "locked": false,
     "points": 1,
     "schema_version": 1,
     "solution": true
    }
   },
   "source": [
    "\n",
    "YOUR ANSWER HERE"
   ]
  },
  {
   "cell_type": "markdown",
   "metadata": {
    "deletable": false,
    "editable": false,
    "nbgrader": {
     "checksum": "94053192700ea882033096426072a43c",
     "grade": false,
     "grade_id": "cell-fa34e3a7e493698e",
     "locked": true,
     "schema_version": 1,
     "solution": false
    }
   },
   "source": [
    "#### Problem 5\n",
    "The city gas mileage for the Audi A4, averaged across all model options offered each year, was\n",
    "\n",
    "<table>\n",
    "<thead><tr><th scope=\"col\">manufacturer</th><th scope=\"col\">model</th><th scope=\"col\">year</th><th scope=\"col\">avg_cty</th><th scope=\"col\">n</th></tr></thead>\n",
    "<tbody>\n",
    "\t<tr><td>audi    </td><td>a4      </td><td>1999    </td><td>18.25000</td><td>4       </td></tr>\n",
    "\t<tr><td>audi    </td><td>a4      </td><td>2008    </td><td>19.66667</td><td>3       </td></tr>\n",
    "</tbody>\n",
    "</table>\n",
    "\n",
    "Thus, city gas mileage for the Audi A4 improved from 1999 to 2008. On the other hand, for the Dodge Caravan 2wd, gas mileage worsened:\n",
    "\n",
    "<table>\n",
    "<thead><tr><th scope=\"col\">manufacturer</th><th scope=\"col\">model</th><th scope=\"col\">year</th><th scope=\"col\">avg_cty</th><th scope=\"col\">n</th></tr></thead>\n",
    "<tbody>\n",
    "\t<tr><td>dodge      </td><td>caravan 2wd</td><td>1999       </td><td>16.2       </td><td>5          </td></tr>\n",
    "\t<tr><td>dodge      </td><td>caravan 2wd</td><td>2008       </td><td>15.0       </td><td>4          </td></tr>\n",
    "</tbody>\n",
    "</table>\n",
    "\n",
    "Defining `delta` to be the difference in average city gas mileage for each model between 1999 and 2008, reproduce the following table:\n",
    "<table>\n",
    "<thead><tr><th scope=\"col\">manufacturer</th><th scope=\"col\">model</th><th scope=\"col\">delta</th></tr></thead>\n",
    "<tbody>\n",
    "\t<tr><td>volkswagen            </td><td>gti                   </td><td> 2.5000000            </td></tr>\n",
    "\t<tr><td>hyundai               </td><td>sonata                </td><td> 2.3333333            </td></tr>\n",
    "    <tr><td>&#8942;</td><td>&#8942;</td><td>&#8942;</td></tr>\n",
    "\t<tr><td>nissan                </td><td>pathfinder 4wd        </td><td>-1.5000000            </td></tr>\n",
    "\t<tr><td>volkswagen            </td><td>new beetle            </td><td>-6.0000000            </td></tr>\n",
    "</tbody>\n",
    "</table>\n",
    "\n",
    "Be sure to properly correct for the presence of duplicated rows in your analysis."
   ]
  },
  {
   "cell_type": "code",
   "execution_count": null,
   "metadata": {
    "deletable": false,
    "nbgrader": {
     "checksum": "4d42421eb1fccd7baa071de2c3a24e4d",
     "grade": true,
     "grade_id": "problem5",
     "locked": false,
     "points": 1,
     "schema_version": 1,
     "solution": true
    }
   },
   "outputs": [],
   "source": [
    "# YOUR CODE HERE\n",
    "stop()"
   ]
  },
  {
   "cell_type": "markdown",
   "metadata": {
    "deletable": false,
    "editable": false,
    "nbgrader": {
     "checksum": "64f9154eaead7fc2646c16828816df89",
     "grade": false,
     "grade_id": "cell-b14438a9cbb8b4a0",
     "locked": true,
     "schema_version": 1,
     "solution": false
    }
   },
   "source": [
    "Fleet-wide gas mileage got worse from 1999-2008:"
   ]
  },
  {
   "cell_type": "code",
   "execution_count": 3,
   "metadata": {},
   "outputs": [
    {
     "data": {
      "text/plain": [
       "  year mean(cty) mean(hwy)\n",
       "1 1999 17.01709  23.42735 \n",
       "2 2008 16.70085  23.45299 "
      ]
     },
     "metadata": {},
     "output_type": "display_data"
    }
   ],
   "source": [
    "mpg %>% group_by(year) %>% summarize(mean(cty), mean(hwy))"
   ]
  },
  {
   "cell_type": "markdown",
   "metadata": {},
   "source": [
    "Is this pattern repeated if you look at the `delta` for individual models? What is driving the decline?"
   ]
  },
  {
   "cell_type": "markdown",
   "metadata": {
    "deletable": false,
    "nbgrader": {
     "checksum": "4329e644ce07b358ff6986b486329b36",
     "grade": true,
     "grade_id": "cell-855aa0e402c23ee8",
     "locked": false,
     "points": 1,
     "schema_version": 1,
     "solution": true
    }
   },
   "source": [
    "YOUR ANSWER HERE"
   ]
  },
  {
   "cell_type": "markdown",
   "metadata": {
    "deletable": false,
    "editable": false,
    "nbgrader": {
     "checksum": "d56bf32b7affa2a40cbb566bd7eeca97",
     "grade": false,
     "grade_id": "cell-68d026780244bbe3",
     "locked": true,
     "schema_version": 1,
     "solution": false
    }
   },
   "source": [
    "#### Problem 6\n",
    "Recall from the end of lecture 7 that the file `cfb.RData` contains information on NCAA college football games.\n",
    "The column `cfb$winning_h_a_n` tells whether the winning team was playing at <strong>H</strong>ome, <strong>A</strong>way, or <strong>N</strong>either. \n",
    "\n",
    "Define the home team's *margin* to be the difference between home team's score and the away team's score. For example, the first game in CFB was played between FIU and North Texas, at FIU, and FIU won 41-16. Therefore the home team's margin was 25 points for this game:"
   ]
  },
  {
   "cell_type": "code",
   "execution_count": 4,
   "metadata": {
    "deletable": false,
    "editable": false,
    "nbgrader": {
     "checksum": "2e8866e949fb661ca28175cce35b4ed9",
     "grade": false,
     "grade_id": "cell-211b829d15583599",
     "locked": true,
     "schema_version": 1,
     "solution": false
    }
   },
   "outputs": [
    {
     "data": {
      "text/plain": [
       "  winning losing      winning_h_a_n winning_points losing_points\n",
       "1 FIU     North Texas H             41             16           "
      ]
     },
     "metadata": {},
     "output_type": "display_data"
    }
   ],
   "source": [
    "cfb %>% slice(1) %>% select(winning, losing, winning_h_a_n, winning_points, losing_points)"
   ]
  },
  {
   "cell_type": "markdown",
   "metadata": {
    "deletable": false,
    "editable": false,
    "nbgrader": {
     "checksum": "4fa3f0ae00b7205d20a72dc939c636ff",
     "grade": false,
     "grade_id": "cell-c647010d21614f1a",
     "locked": true,
     "schema_version": 1,
     "solution": false
    }
   },
   "source": [
    "Add a column to `cfb` called `home_margin` which contains the home team's margin for each game. (Omit any games that do not have a home team.) The first few entries of `cfb` are"
   ]
  },
  {
   "cell_type": "code",
   "execution_count": 5,
   "metadata": {
    "deletable": false,
    "editable": false,
    "nbgrader": {
     "checksum": "8465dbb2a41d2f2fa29edf810bfc33eb",
     "grade": false,
     "grade_id": "cell-1d63b6440ef40aa3",
     "locked": true,
     "schema_version": 1,
     "solution": false
    }
   },
   "outputs": [
    {
     "data": {
      "text/plain": [
       "  winning           losing      winning_h_a_n winning_points losing_points\n",
       "1 FIU               North Texas H             41             16           \n",
       "2 Wisconsin         UNLV        H             51             17           \n",
       "3 Mississippi State Memphis     A             59             14           \n",
       "4 Syracuse          Wake Forest H             36             29           \n",
       "5 Bowling Green     Idaho       A             32             15           "
      ]
     },
     "metadata": {},
     "output_type": "display_data"
    }
   ],
   "source": [
    "cfb %>% select(winning, losing, winning_h_a_n, winning_points, losing_points) %>% slice(1:5)"
   ]
  },
  {
   "cell_type": "markdown",
   "metadata": {
    "deletable": false,
    "editable": false,
    "nbgrader": {
     "checksum": "a6e5382df367e70203036704effe5196",
     "grade": false,
     "grade_id": "cell-8a560a15f20ed045",
     "locked": true,
     "schema_version": 1,
     "solution": false
    }
   },
   "source": [
    "and therefore the first few entries of `home_margin` should be `25, 34, -45, 7, -17, ...`"
   ]
  },
  {
   "cell_type": "code",
   "execution_count": null,
   "metadata": {
    "deletable": false,
    "nbgrader": {
     "checksum": "629ecfc3d579f4947fc66757c019d32e",
     "grade": true,
     "grade_id": "problem6",
     "locked": false,
     "points": 1,
     "schema_version": 1,
     "solution": true
    }
   },
   "outputs": [],
   "source": [
    "# YOUR CODE HERE\n",
    "stop()"
   ]
  },
  {
   "cell_type": "markdown",
   "metadata": {
    "deletable": false,
    "editable": false,
    "nbgrader": {
     "checksum": "68039d5e2969833ecd075306948f374f",
     "grade": false,
     "grade_id": "cell-b990b07aa176e9f5",
     "locked": true,
     "schema_version": 1,
     "solution": false
    }
   },
   "source": [
    "#### Problem 7\n",
    "\n",
    "The \"home field advantage\" refers to the idea that a team tends to do better when playing at home. Do your findings in problem 6 support the existence of a home field advantage? Justify your conclusion."
   ]
  },
  {
   "attachments": {},
   "cell_type": "markdown",
   "metadata": {
    "deletable": false,
    "nbgrader": {
     "checksum": "8b7c8d70a98d3e750134b23fd28b9527",
     "grade": true,
     "grade_id": "cell-9de762faa549e307",
     "locked": false,
     "points": 1,
     "schema_version": 1,
     "solution": true
    }
   },
   "source": [
    "YOUR ANSWER HERE"
   ]
  },
  {
   "cell_type": "markdown",
   "metadata": {
    "deletable": false,
    "editable": false,
    "nbgrader": {
     "checksum": "b5eff9ee30057f182ca3fe03d4185f70",
     "grade": false,
     "grade_id": "cell-90df09f2dcb73bd9",
     "locked": true,
     "schema_version": 1,
     "solution": false
    }
   },
   "source": [
    "#### Problem 8\n",
    "In the `flights` table, how many flights each month were bound for tropical destinations? \n",
    "<table>\n",
    "<thead><tr><th scope=\"col\">month</th><th scope=\"col\">n_tropical</th></tr></thead>\n",
    "<tbody>\n",
    "\t<tr><td> 1</td><td>62</td></tr>\n",
    "\t<tr><td> 2</td><td>56</td></tr>\n",
    "    <tr><td>&#8942;</td><td>&#8942;</td></tr>\n",
    "\t<tr><td>11</td><td>55</td></tr>\n",
    "\t<tr><td>12</td><td>59</td></tr>\n",
    "</tbody>\n",
    "</table>\n",
    "\n",
    "(A destination is tropical if it is in the tropics.)"
   ]
  },
  {
   "cell_type": "code",
   "execution_count": null,
   "metadata": {
    "deletable": false,
    "nbgrader": {
     "checksum": "afa1391001d1a7acb30f4cede87badbb",
     "grade": true,
     "grade_id": "problem8",
     "locked": false,
     "points": 1,
     "schema_version": 1,
     "solution": true
    }
   },
   "outputs": [],
   "source": [
    "# YOUR CODE HERE\n",
    "stop()"
   ]
  },
  {
   "cell_type": "markdown",
   "metadata": {
    "deletable": false,
    "editable": false,
    "nbgrader": {
     "grade": false,
     "grade_id": "cell-5eed57d7ab672f3a",
     "locked": true,
     "schema_version": 1,
     "solution": false
    }
   },
   "source": [
    "#### ✓👉 Problem 9\n",
    "Add a column `euclid_dist` to each flight which indicates the Euclidean distance between each origin and destination airport's latitude and longitude:\n",
    "\n",
    "```\n",
    "> flights_euclid %>% select(origin, dest, distance, euclid_dist, air_time)\n",
    "# A tibble: 336,776 x 5\n",
    "   origin dest  distance euclid_dist air_time\n",
    "   <chr>  <chr>    <dbl>       <dbl>    <dbl>\n",
    " 1 EWR    IAH       1400       23.7       227\n",
    " 2 LGA    IAH       1416       24.0       227\n",
    " 3 JFK    MIA       1089       16.2       160\n",
    " 4 JFK    BQN       1576       NA         183\n",
    " 5 LGA    ATL        762       12.7       116\n",
    " 6 EWR    ORD        719       13.8       150\n",
    " 7 EWR    FLL       1065       15.8       158\n",
    " 8 LGA    IAD        229        4.02       53\n",
    " 9 JFK    MCO        944       14.3       140\n",
    "10 LGA    ORD        733       14.1       138\n",
    "# ... with 336,766 more rows\n",
    "```"
   ]
  },
  {
   "cell_type": "code",
   "execution_count": null,
   "metadata": {
    "deletable": false,
    "nbgrader": {
     "checksum": "3870dcc9d686f1a61e8d2d040684cffb",
     "grade": true,
     "grade_id": "problem9",
     "locked": false,
     "points": 1,
     "schema_version": 1,
     "solution": true
    }
   },
   "outputs": [],
   "source": [
    "# YOUR CODE HERE\n",
    "stop()"
   ]
  },
  {
   "cell_type": "markdown",
   "metadata": {
    "deletable": false,
    "editable": false,
    "nbgrader": {
     "checksum": "82cd1a37dca45d5027abd3dd4ed57608",
     "grade": false,
     "grade_id": "cell-a465480a7de3bfde",
     "locked": true,
     "schema_version": 1,
     "solution": false
    }
   },
   "source": [
    "Which column, `distance` or `euclid_dist`, better predicts `air_time` and why?"
   ]
  },
  {
   "cell_type": "markdown",
   "metadata": {
    "deletable": false,
    "nbgrader": {
     "checksum": "84825cb2667893db41ae69b8299fb820",
     "grade": true,
     "grade_id": "cell-073e06f74c402968",
     "locked": false,
     "points": 1,
     "schema_version": 1,
     "solution": true
    }
   },
   "source": [
    "YOUR ANSWER HERE"
   ]
  },
  {
   "cell_type": "markdown",
   "metadata": {
    "deletable": false,
    "editable": false,
    "nbgrader": {
     "checksum": "72b39ce71ba75949d1cf4cc191a2b12b",
     "grade": false,
     "grade_id": "cell-ba26bd441d588ed9",
     "locked": true,
     "schema_version": 1,
     "solution": false
    }
   },
   "source": [
    "#### Problem 10\n",
    "This week in Ann Arbor we experienced the \"fall plunge\": the high on Monday was 87; the high on Wednesday was 67, and the forecasted high for the ten days after that (and probably the rest of the year) does not exceed 60 degrees Fahrenheit.\n",
    "\n",
    "The file `a2_temps.RData` contains daily maximum temperature data recorded at UofM since 1891:"
   ]
  },
  {
   "cell_type": "code",
   "execution_count": 6,
   "metadata": {
    "deletable": false,
    "editable": false,
    "nbgrader": {
     "checksum": "984ad6732e04a09a0a7f262ea2091f65",
     "grade": false,
     "grade_id": "cell-982d56bc545325c2",
     "locked": true,
     "schema_version": 1,
     "solution": false
    }
   },
   "outputs": [
    {
     "name": "stdout",
     "output_type": "stream",
     "text": [
      "# A tibble: 1,526 x 35\n",
      "   id     year month element VALUE1 VALUE2 VALUE3 VALUE4 VALUE5 VALUE6 VALUE7\n",
      "   <chr> <int> <int> <chr>    <int>  <int>  <int>  <int>  <int>  <int>  <int>\n",
      " 1 USC0…  1891    10 TMAX       206    267    261    228    139    144    106\n",
      " 2 USC0…  1891    11 TMAX        78     28     44     50     78     83    122\n",
      " 3 USC0…  1891    12 TMAX        22     44     94    122     83     17     -6\n",
      " 4 USC0…  1892     1 TMAX       117     94    -67    -33    -22    -39    -61\n",
      " 5 USC0…  1892     2 TMAX        61     39     22     11    -17     11     78\n",
      " 6 USC0…  1892     3 TMAX       -22    -17     56     22     11     39     72\n",
      " 7 USC0…  1892     4 TMAX       178    194    172    217    206    122    178\n",
      " 8 USC0…  1892     5 TMAX       206    206    239    183    117    161     89\n",
      " 9 USC0…  1892     6 TMAX       256    250    161    233    233    261    233\n",
      "10 USC0…  1892     7 TMAX       217    183    189    206    228    250    250\n",
      "# … with 1,516 more rows, and 24 more variables: VALUE8 <int>, VALUE9 <int>,\n",
      "#   VALUE10 <int>, VALUE11 <int>, VALUE12 <int>, VALUE13 <int>, VALUE14 <int>,\n",
      "#   VALUE15 <int>, VALUE16 <int>, VALUE17 <int>, VALUE18 <int>, VALUE19 <int>,\n",
      "#   VALUE20 <int>, VALUE21 <int>, VALUE22 <int>, VALUE23 <int>, VALUE24 <int>,\n",
      "#   VALUE25 <int>, VALUE26 <int>, VALUE27 <int>, VALUE28 <int>, VALUE29 <int>,\n",
      "#   VALUE30 <int>, VALUE31 <int>\n"
     ]
    }
   ],
   "source": [
    "load(\"a2_temps.RData\")\n",
    "print(a2.temps)"
   ]
  },
  {
   "cell_type": "markdown",
   "metadata": {
    "deletable": false,
    "editable": false,
    "nbgrader": {
     "checksum": "2378f813a30982b049ac8d64f2b6a1c1",
     "grade": false,
     "grade_id": "cell-af635bd18becd6c0",
     "locked": true,
     "schema_version": 1,
     "solution": false
    }
   },
   "source": [
    "Each row is one month of data, and has columns `VALUE1`, `VALUE2`, ..., `VALUE31` containing the daily recorded high temperature (in tenths of a degree celsius) for each day of the month. (Hence, some columns will have missing values depending on the month.)"
   ]
  },
  {
   "attachments": {
    "image.png": {
     "image/png": "[encoded data removed]"
    }
   },
   "cell_type": "markdown",
   "metadata": {
    "deletable": false,
    "editable": false,
    "nbgrader": {
     "checksum": "03082799fe5e1102d11c6451081967a0",
     "grade": false,
     "grade_id": "cell-92b42d3792b12ea0",
     "locked": true,
     "schema_version": 1,
     "solution": false
    }
   },
   "source": [
    "Last fall we also had a plunge:\n",
    "![image.png](attachment:image.png)"
   ]
  },
  {
   "cell_type": "markdown",
   "metadata": {
    "deletable": false,
    "editable": false,
    "nbgrader": {
     "checksum": "62b12055949942b67bf92cc88a6dd14a",
     "grade": false,
     "grade_id": "cell-c694421136ede6a3",
     "locked": true,
     "schema_version": 1,
     "solution": false
    }
   },
   "source": [
    "How common is the plunge in Ann Arbor? Does it happen every year? Has the timing of the plunge changed over time? Justify your answer with appropriate plots, tables, and/or discussion."
   ]
  },
  {
   "cell_type": "code",
   "execution_count": null,
   "metadata": {
    "deletable": false,
    "nbgrader": {
     "checksum": "b70b4429cc5af07e734418990d234b57",
     "grade": true,
     "grade_id": "cell-f3922c11031ec47e",
     "locked": false,
     "points": 1,
     "schema_version": 1,
     "solution": true
    }
   },
   "outputs": [],
   "source": [
    "# YOUR CODE HERE\n",
    "stop()"
   ]
  },
  {
   "cell_type": "markdown",
   "metadata": {},
   "source": [
    "Your discussion here"
   ]
  }
 ],
 "metadata": {
  "kernelspec": {
   "display_name": "R",
   "language": "R",
   "name": "ir"
  },
  "language_info": {
   "codemirror_mode": "r",
   "file_extension": ".r",
   "mimetype": "text/x-r-source",
   "name": "R",
   "pygments_lexer": "r",
   "version": "3.5.2"
  },
  "stats306": {
   "ps": 5,
   "version": 1
  }
 },
 "nbformat": 4,
 "nbformat_minor": 2
}
