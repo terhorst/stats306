{
 "cells": [
  {
   "cell_type": "markdown",
   "metadata": {},
   "source": [
    "# Read these instructions completely in order to receive full credit\n",
    "\n",
    "- Before you submit the problem set, make sure everything runs as expected. Go to the menu bar at the top of Jupyter Notebook and click `Kernel > Restart & Run All`. Your code should run from top to bottom with no errors. Failure to do this will result in loss of points.\n",
    "\n",
    "- You should not use `install.packages()` anywhere. You may assume that we have already installed all the packages needed to run your code.\n",
    "\n",
    "- Make sure you fill in any place that says `YOUR CODE HERE` or \"YOUR ANSWER HERE\" and delete the `stop()` functions. The `stop()` functions produce an error and are there to remind you of cells that need an answer.\n",
    "\n",
    "- If you are working in a group, make sure you and your collaborators have been added to a group on Canvas as described at the beginning of lecture 2.\n",
    "- As a backup, *also* fill in your uniqid as well as those of your collaborators below:"
   ]
  },
  {
   "cell_type": "markdown",
   "metadata": {},
   "source": [
    "Your uniqid: `<replace with your uniqid>`\n",
    "\n",
    "Uniqids of your collaborator(s): `<replace with their uniqids>`"
   ]
  },
  {
   "cell_type": "markdown",
   "metadata": {},
   "source": [
    "- **Carefully proofread the PDF that you upload to Canvas. PDFs that have missing or truncated code cannot be graded and will not receive credit.**"
   ]
  },
  {
   "cell_type": "markdown",
   "metadata": {},
   "source": [
    "---"
   ]
  },
  {
   "cell_type": "code",
   "execution_count": null,
   "metadata": {
    "deletable": false,
    "editable": false,
    "nbgrader": {
     "cell_type": "code",
     "checksum": "a09f74e27609579bd954f12d0ad2206e",
     "grade": false,
     "grade_id": "cell-d1761bfdb43c7ec3",
     "locked": true,
     "schema_version": 3,
     "solution": false
    }
   },
   "outputs": [],
   "source": [
    "library(tidyverse)\n",
    "library(stringr)\n",
    "library(lubridate)"
   ]
  },
  {
   "cell_type": "markdown",
   "metadata": {
    "deletable": false,
    "editable": false,
    "nbgrader": {
     "cell_type": "markdown",
     "checksum": "9b393f99b268b7bb2792338a77659788",
     "grade": false,
     "grade_id": "cell-193dcce7ad6d5a10",
     "locked": true,
     "schema_version": 3,
     "solution": false
    }
   },
   "source": [
    "# STATS 306\n",
    "## Problem Set 7: Functions\n",
    "\n",
    "Each problem is worth one point, for a total of ten."
   ]
  },
  {
   "cell_type": "markdown",
   "metadata": {
    "deletable": false,
    "editable": false,
    "nbgrader": {
     "cell_type": "markdown",
     "checksum": "d43bdd8b72cb6bf6ce872720a8e8ea09",
     "grade": false,
     "grade_id": "cell-37fb95c8db0c1655",
     "locked": true,
     "schema_version": 3,
     "solution": false,
     "task": false
    }
   },
   "source": [
    "The *Monty Hall Problem* is a famous statistical paradox modeled after the TV game show [Let's Make a Deal](https://www.youtube.com/watch?v=hQpbsD5IueA). The problem goes as follows:\n",
    "    \n",
    "    You are a contestant on a game show, and are shown three doors. Behind one of the doors is a new car, and behind the other two doors are Ohio State hoodies. Your goal (obviously) is to pick the door with the new car. You pick a door, say number 1, and the host, who knows what's behind the doors, opens another door, say No. 3, which is shown to have a hoodie. He then says to you, \"Do you want to pick door No. 2?\" Is it to your advantage to switch your choice?\n",
    "    \n",
    "The correct answer is to switch, always. This caused something of an uproar when it was first noted by a newspaper columnist in the early 1990s.\n",
    "\n",
    "You will demonstrate that this answer is correct by writing code that simulates the Monty Hall problem."
   ]
  },
  {
   "cell_type": "markdown",
   "metadata": {
    "deletable": false,
    "editable": false,
    "nbgrader": {
     "cell_type": "markdown",
     "checksum": "31db01b3221f8285502a570cb0d99207",
     "grade": false,
     "grade_id": "cell-5e8a1da9cd69a6b1",
     "locked": true,
     "schema_version": 3,
     "solution": false,
     "task": false
    }
   },
   "source": [
    "#### Problem 1\n",
    "Write a function `place_car()` which randomly places the car behind door 1-3. (In other words, `place_car()` returns a uniformly distributed random integer between 1 and 3.) This models how the producers set up the show before taping."
   ]
  },
  {
   "cell_type": "code",
   "execution_count": null,
   "metadata": {
    "deletable": false,
    "nbgrader": {
     "cell_type": "code",
     "checksum": "dac34b23ebc64cb5f723988aa2c129da",
     "grade": true,
     "grade_id": "cell-efb24b36c6f840eb",
     "locked": false,
     "points": 0,
     "schema_version": 3,
     "solution": true,
     "task": false
    }
   },
   "outputs": [],
   "source": [
    "# YOUR CODE HERE\n",
    "stop()"
   ]
  },
  {
   "cell_type": "markdown",
   "metadata": {
    "deletable": false,
    "editable": false,
    "nbgrader": {
     "cell_type": "markdown",
     "checksum": "3c5d50801637db915d244aa00285396f",
     "grade": false,
     "grade_id": "cell-f8425b9854ae99c4",
     "locked": true,
     "schema_version": 3,
     "solution": false,
     "task": false
    }
   },
   "source": [
    "#### Problem 2\n",
    "Write a function `pick_door()` which selects a door 1-3, according to whatever strategy you like. This models how the contestant initially picks a door."
   ]
  },
  {
   "cell_type": "code",
   "execution_count": null,
   "metadata": {
    "deletable": false,
    "nbgrader": {
     "cell_type": "code",
     "checksum": "21f222393889632c7268384c02f0f704",
     "grade": true,
     "grade_id": "cell-f4ff7ba0184c71d9",
     "locked": false,
     "points": 0,
     "schema_version": 3,
     "solution": true,
     "task": false
    }
   },
   "outputs": [],
   "source": [
    "# YOUR CODE HERE\n",
    "stop()"
   ]
  },
  {
   "cell_type": "markdown",
   "metadata": {
    "deletable": false,
    "editable": false,
    "nbgrader": {
     "cell_type": "markdown",
     "checksum": "b25e489f7702bf82741695774ed4e7d4",
     "grade": false,
     "grade_id": "cell-5eff1ddf5c777f73",
     "locked": true,
     "schema_version": 3,
     "solution": false,
     "task": false
    }
   },
   "source": [
    "#### Problem 3\n",
    "Write a function `reveal_other_door(car_door, chosen_door)` which, given the door hiding the car, as well as the contestant's chosen door (both pieces of information which are known to Monty), names one of the other doors which does not contain the car. For example, if the car is hiding behind door one, and the contestant chooses door two, then `reveal_other_door(1, 2)` would have to return `3`."
   ]
  },
  {
   "cell_type": "code",
   "execution_count": null,
   "metadata": {
    "deletable": false,
    "nbgrader": {
     "cell_type": "code",
     "checksum": "b9700b69cee835a5e8f7113e674dbb99",
     "grade": true,
     "grade_id": "cell-a02c88e9c0ef4481",
     "locked": false,
     "points": 0,
     "schema_version": 3,
     "solution": true,
     "task": false
    }
   },
   "outputs": [],
   "source": [
    "# YOUR CODE HERE\n",
    "stop()"
   ]
  },
  {
   "cell_type": "markdown",
   "metadata": {
    "deletable": false,
    "editable": false,
    "nbgrader": {
     "cell_type": "markdown",
     "checksum": "efbb3e09f5f373e6a58db28e14380c73",
     "grade": false,
     "grade_id": "cell-c36c5d47db0678a5",
     "locked": true,
     "schema_version": 3,
     "solution": false,
     "task": false
    }
   },
   "source": [
    "#### Problem 4\n",
    "Write a function `chooses_to_switch(first_choice, revealed_door)` which returns `TRUE` if the contestant decides to switch her choice after Monty has revealed the contents of one door. For example, `chooses_to_switch(1, 2)` should return `TRUE` if the contestant decides to switch after choosing door one and being shown the contents of door two."
   ]
  },
  {
   "cell_type": "code",
   "execution_count": null,
   "metadata": {
    "deletable": false,
    "nbgrader": {
     "cell_type": "code",
     "checksum": "07dc6739bc22a1c517ad716a98541d59",
     "grade": true,
     "grade_id": "cell-a23cc3b39cfddb02",
     "locked": false,
     "points": 0,
     "schema_version": 3,
     "solution": true,
     "task": false
    }
   },
   "outputs": [],
   "source": [
    "# YOUR CODE HERE\n",
    "stop()"
   ]
  },
  {
   "cell_type": "markdown",
   "metadata": {
    "deletable": false,
    "editable": false,
    "nbgrader": {
     "cell_type": "markdown",
     "checksum": "7109c650d11b0d9260fb5f78729e00d3",
     "grade": false,
     "grade_id": "cell-67df237e59e1667b",
     "locked": true,
     "schema_version": 3,
     "solution": false,
     "task": false
    }
   },
   "source": [
    "#### Problem 5\n",
    "Finally, write a function `simulate_game()` which uses the functions you defined in the preceding exercises to simulate the entire process: \n",
    "- first the car is placed behind a randomly chosen door using `place_car()`, then \n",
    "- the contestant chooses a door according to `pick_door()`, \n",
    "- then Monty reveals the contents of another door by calling `reveal_other_door()`; and finally,\n",
    "- the contestant decides whether or not to switch by calling `switches()`.\n",
    "\n",
    "By experimenting various choices for `chooses_to_switch()` and repeatedly running `simulate_game()`, show that it is always better to switch when offered the choice. How much better is it?"
   ]
  },
  {
   "cell_type": "code",
   "execution_count": null,
   "metadata": {
    "deletable": false,
    "nbgrader": {
     "cell_type": "code",
     "checksum": "beb66b2916d875b74e7ef0f497793da7",
     "grade": true,
     "grade_id": "cell-3ce9c6fd5750189f",
     "locked": false,
     "points": 0,
     "schema_version": 3,
     "solution": true,
     "task": false
    }
   },
   "outputs": [],
   "source": [
    "# YOUR CODE HERE\n",
    "stop()"
   ]
  },
  {
   "cell_type": "markdown",
   "metadata": {
    "deletable": false,
    "editable": false,
    "nbgrader": {
     "cell_type": "markdown",
     "checksum": "55d0233f2a7e17635d4d894efba26b12",
     "grade": false,
     "grade_id": "cell-e1d2c1d95995b234",
     "locked": true,
     "schema_version": 3,
     "solution": false
    }
   },
   "source": [
    "#### Problem 6\n",
    "Thanksgiving occurs on the fourth Thursday in November. Write a function `thanksgiving_day(year)` which, given a year, returns the date of Thanksgiving for that year:\n",
    "\n",
    "    > thanksgiving_day(2019)\n",
    "    2019-11-28\n",
    "    > thanksgiving_day(2018)\n",
    "    2018-11-22\n",
    "    > thanksgiving_day(3000)\n",
    "    3000-11-27"
   ]
  },
  {
   "cell_type": "code",
   "execution_count": null,
   "metadata": {
    "deletable": false,
    "nbgrader": {
     "cell_type": "code",
     "checksum": "4846cf75f57d5eabc7c1c89972ca0d11",
     "grade": false,
     "grade_id": "problem5",
     "locked": false,
     "schema_version": 3,
     "solution": true
    }
   },
   "outputs": [],
   "source": [
    "library(lubridate)\n",
    "thanksgiving_day <- function(year) {\n",
    "    # YOUR CODE HERE\n",
    "    stop()\n",
    "}"
   ]
  },
  {
   "cell_type": "markdown",
   "metadata": {
    "deletable": false,
    "editable": false,
    "nbgrader": {
     "cell_type": "markdown",
     "checksum": "d1c1efa30cb72e58becec210be016a4f",
     "grade": false,
     "grade_id": "cell-978628dab17c58e2",
     "locked": true,
     "schema_version": 3,
     "solution": false
    }
   },
   "source": [
    "#### Problem 7\n",
    "A *recursive* function is a function that calls itself. For example, the following recursive function computes the $k$th factorial number, $$k! := \\prod_{i=1}^k i,\\quad k \\ge 0.$$"
   ]
  },
  {
   "cell_type": "code",
   "execution_count": null,
   "metadata": {
    "deletable": false,
    "editable": false,
    "nbgrader": {
     "cell_type": "code",
     "checksum": "95c74bbe50ca9bb5a5d9d2e8dda3c952",
     "grade": false,
     "grade_id": "cell-13093053036566c6",
     "locked": true,
     "schema_version": 3,
     "solution": false
    }
   },
   "outputs": [],
   "source": [
    "factorial = function(k) {\n",
    "    if (k <= 0) {\n",
    "        return(1)\n",
    "    }\n",
    "    k * factorial(k - 1)\n",
    "}\n",
    "factorial(5)"
   ]
  },
  {
   "cell_type": "markdown",
   "metadata": {
    "deletable": false,
    "editable": false,
    "nbgrader": {
     "cell_type": "markdown",
     "checksum": "77b532f292d3b0af825a2b33fbd805f0",
     "grade": false,
     "grade_id": "cell-8ccc246305bff42e",
     "locked": true,
     "schema_version": 3,
     "solution": false
    }
   },
   "source": [
    "Write a recursive function `fib(k)` that computes $F_k$, the $k$th Fibonacci number. (The Fibonacci sequence is defined by the recurrence $F_{k+2} = F_{k+1} + F_{k}$ for $k\\ge 2$, with $F_1 = F_2 = 1$.)"
   ]
  },
  {
   "cell_type": "code",
   "execution_count": null,
   "metadata": {
    "deletable": false,
    "nbgrader": {
     "cell_type": "code",
     "checksum": "e3856b958ce552e5401ae17634174290",
     "grade": false,
     "grade_id": "problem6",
     "locked": false,
     "schema_version": 3,
     "solution": true
    }
   },
   "outputs": [],
   "source": [
    "fib = function(k) {\n",
    "    # YOUR CODE HERE\n",
    "    stop()\n",
    "}"
   ]
  },
  {
   "cell_type": "markdown",
   "metadata": {
    "deletable": false,
    "editable": false,
    "nbgrader": {
     "cell_type": "markdown",
     "checksum": "cffc2083ab7000c13cefd2519111262d",
     "grade": false,
     "grade_id": "cell-427aefc2db90655f",
     "locked": true,
     "schema_version": 3,
     "solution": false
    }
   },
   "source": [
    "#### Problem 8\n",
    "In Calculus II you learned / are learning that $$\\int_0^1 f(x)\\,\\mathrm{d} x = \\lim_{n\\to\\infty} \\frac{1}{n} \\sum_{i=1}^n f(i/n).$$ The summation on the right-hand side is called a *Riemann sum*. Setting $n$ to a large (but finite) number gives an algorithm for numerically computing the definite integral on the left-hand side.\n",
    "\n",
    "Write a function `int01(f)` that takes a single argument `f`, itself a function, and uses this formula to approximate the integral of `f` over the interval $[0,1]$. (Choose $n=1000$ subdivisions in order to compute the sum.)"
   ]
  },
  {
   "cell_type": "code",
   "execution_count": null,
   "metadata": {
    "deletable": false,
    "nbgrader": {
     "cell_type": "code",
     "checksum": "5a01338f7e725f5efe3cafb3b0259334",
     "grade": false,
     "grade_id": "problem7",
     "locked": false,
     "schema_version": 3,
     "solution": true
    }
   },
   "outputs": [],
   "source": [
    "int01 = function(f) {\n",
    "    # YOUR CODE HERE\n",
    "    stop()\n",
    "}"
   ]
  },
  {
   "cell_type": "markdown",
   "metadata": {
    "deletable": false,
    "editable": false,
    "nbgrader": {
     "cell_type": "markdown",
     "checksum": "c997e0609ed505c085b50807a40c157a",
     "grade": false,
     "grade_id": "cell-6494c58db3a89c41",
     "locked": true,
     "schema_version": 3,
     "solution": false
    }
   },
   "source": [
    "#### Problem 9\n",
    "You may have noticed that `int01` is fairly inaccurate. For example, while $\\int_0^1 x^2\\,\\mathrm{d}x = 1/3$, we see that \n",
    "```{r}\n",
    "> int01(function(x) x^2)\n",
    "[1] 0.3338335\n",
    "```\n",
    "is only correct to three decimal places. This is because `int01` does not take the shape of the function `f` into account. To obtain more accuracy, we can use [Simpson's rule](https://en.wikipedia.org/wiki/Simpson%27s_rule):\n",
    "$$\\int_0^1 f(x)\\,\\mathrm{d}x \\approx \\frac{1}{6n} \\sum_{i=1}^n f\\left(\\frac{i-1}{n}\\right) + 4f\\left(\\frac{i - 1/2}{n}\\right)\n",
    "+ f\\left(\\frac{i}{n}\\right),$$ for large $n$.\n",
    "\n",
    "Implement Simpson's rule (again using $n=1000$) in a function called `simps01(f)`, and use it to define a function `rel_acc(f, truth)` which compares the relative accuracy of the Simpson's rule against `int01`. The function should take two arguments, the function to be integrated `f` and $$\\texttt{truth} = \\int_0^1 f(x)\\,\\mathrm{d}x,$$\n",
    "the true value of the integral. It should return the relative accuracy, defined as $$\\texttt{relacc(f, truth)} = \\frac{|\\texttt{simps01(f)} - \\texttt{truth}|}{|\\texttt{int01(f)}-\\texttt{truth}|}.$$ (Hence, small values of `rel_acc` indicate that Simpson's rule is more accurate.)"
   ]
  },
  {
   "cell_type": "code",
   "execution_count": null,
   "metadata": {
    "deletable": false,
    "nbgrader": {
     "cell_type": "code",
     "checksum": "eb0791c0329e88665f56bcefa4601534",
     "grade": false,
     "grade_id": "problem8",
     "locked": false,
     "schema_version": 3,
     "solution": true
    }
   },
   "outputs": [],
   "source": [
    "simps01 = function(f) {\n",
    "    # YOUR CODE HERE\n",
    "    stop()\n",
    "}\n",
    "\n",
    "rel_acc = function(f, truth) {\n",
    "    # YOUR CODE HERE\n",
    "    stop()\n",
    "}"
   ]
  },
  {
   "cell_type": "markdown",
   "metadata": {
    "deletable": false,
    "editable": false,
    "nbgrader": {
     "cell_type": "markdown",
     "checksum": "6b45143e566cd26884bd812bbd46e9dd",
     "grade": false,
     "grade_id": "cell-96a65b594fbd8f09",
     "locked": true,
     "schema_version": 3,
     "solution": false,
     "task": false
    }
   },
   "source": [
    "#### Problem 10\n",
    "It's 2019 for a few more weeks. How many prime numbers are less than or equal to 2019? Solve this by creating a function `is_prime(x)` which returns `TRUE` if `x` is prime and `FALSE` otherwise. This function can easily be fed into `map` in order to obtain the answer:"
   ]
  },
  {
   "cell_type": "code",
   "execution_count": null,
   "metadata": {
    "deletable": false,
    "nbgrader": {
     "cell_type": "code",
     "checksum": "8b07269d7395f1a568caa0ef70a5824f",
     "grade": true,
     "grade_id": "cell-d9e19402ceee98fe",
     "locked": false,
     "points": 0,
     "schema_version": 3,
     "solution": true,
     "task": false
    }
   },
   "outputs": [],
   "source": [
    "is_prime <- function(x) {\n",
    "    # YOUR CODE HERE\n",
    "    stop()\n",
    "}\n",
    "\n",
    "map_lgl(2:2019, is_prime) %>% sum"
   ]
  }
 ],
 "metadata": {
  "kernelspec": {
   "display_name": "R",
   "language": "R",
   "name": "ir"
  },
  "language_info": {
   "codemirror_mode": "r",
   "file_extension": ".r",
   "mimetype": "text/x-r-source",
   "name": "R",
   "pygments_lexer": "r",
   "version": "3.6.1"
  }
 },
 "nbformat": 4,
 "nbformat_minor": 2
}
